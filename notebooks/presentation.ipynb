{
 "cells": [
  {
   "cell_type": "code",
   "execution_count": 1,
   "metadata": {
    "slideshow": {
     "slide_type": "skip"
    }
   },
   "outputs": [],
   "source": [
    "from IPython import display\n",
    "import binascii\n",
    "import os\n",
    "\n",
    "def hide_code_in_slideshow():\n",
    "    uid = binascii.hexlify(os.urandom(8)).decode()    \n",
    "    html = \"\"\"<div id=\"%s\"></div>\n",
    "    <script type=\"text/javascript\">\n",
    "        $(function(){\n",
    "            var p = $(\"#%s\");\n",
    "            if (p.length==0) return;\n",
    "            while (!p.hasClass(\"cell\")) {\n",
    "                p=p.parent();\n",
    "                if (p.prop(\"tagName\") ==\"body\") return;\n",
    "            }\n",
    "            var cell = p;\n",
    "            cell.find(\".input\").addClass(\"hide-in-slideshow\")\n",
    "        });\n",
    "    </script>\"\"\" % (uid, uid)\n",
    "    display.display_html(html, raw=True)"
   ]
  },
  {
   "cell_type": "code",
   "execution_count": 2,
   "metadata": {
    "slideshow": {
     "slide_type": "skip"
    }
   },
   "outputs": [
    {
     "data": {
      "text/html": [
       "<style>\n",
       " .container.slides .celltoolbar, .container.slides .hide-in-slideshow {\n",
       "    display: None ! important;\n",
       "}\n",
       "</style>\n"
      ],
      "text/plain": [
       "<IPython.core.display.HTML object>"
      ]
     },
     "metadata": {},
     "output_type": "display_data"
    }
   ],
   "source": [
    "%%html\n",
    "<style>\n",
    " .container.slides .celltoolbar, .container.slides .hide-in-slideshow {\n",
    "    display: None ! important;\n",
    "}\n",
    "</style>"
   ]
  },
  {
   "cell_type": "markdown",
   "metadata": {
    "slideshow": {
     "slide_type": "slide"
    }
   },
   "source": [
    "# Real or Not? NLP with Disaster Tweets\n",
    "Christopher Akiki, Karl-Heinz Fiebig, Julian Duwe\n",
    "\n",
    "Supervized by Christian Kahmann"
   ]
  },
  {
   "cell_type": "markdown",
   "metadata": {
    "slideshow": {
     "slide_type": "slide"
    }
   },
   "source": [
    "## Overview\n",
    "\n",
    "* Introduction: Task and Data\n",
    "* Frameworks: cookiecutter hierarchy + docker + makefile + jupyter + tensorflow + scikitlearn + others\n",
    "* Exploratory Data Analysis\n",
    "* Preprocessing and Basic Approaches\n",
    "* Metafeatures - KH\n",
    "* Representation Learning / Topic Modeling / Sentiment Analysis - Chris\n",
    "* Outlook: Ensemble Learning (Stacking) etc."
   ]
  },
  {
   "cell_type": "markdown",
   "metadata": {
    "slideshow": {
     "slide_type": "slide"
    }
   },
   "source": [
    "* We used bla\n",
    "\n",
    "* We won all of Kaggle\n",
    "![](https://upload.wikimedia.org/wikipedia/commons/7/7c/Kaggle_logo.png)"
   ]
  },
  {
   "cell_type": "markdown",
   "metadata": {
    "slideshow": {
     "slide_type": "slide"
    }
   },
   "source": [
    "# PreProcessing and Basic Approaches"
   ]
  },
  {
   "cell_type": "markdown",
   "metadata": {
    "slideshow": {
     "slide_type": "slide"
    }
   },
   "source": [
    "## starting Point kaggle-Tutorial\n",
    "\n",
    "* uses CountVectorizer\n",
    "    * Tf score\n",
    "    * has inbuilt preprocessing steps    \n",
    "    \n",
    "    \n",
    "## How to improve?"
   ]
  },
  {
   "cell_type": "markdown",
   "metadata": {
    "slideshow": {
     "slide_type": "slide"
    }
   },
   "source": [
    " * more and individual Preprocessing\n",
    "     * removing Stopwords\n",
    "     * ignoring least and most frequent words\n",
    "     * limiting Vocabulary\n",
    " \n",
    "     * implementing additional Features for Lemmatizing\n",
    "     \n",
    " * different Classifiers"
   ]
  },
  {
   "cell_type": "markdown",
   "metadata": {
    "slideshow": {
     "slide_type": "slide"
    }
   },
   "source": [
    "| method | submission score |\n",
    "| :- | --- |\n",
    "|Tutorial| 0.79160 |\n",
    "|Tf score with linear SVM, removing Stopwords and Lemmatize | 0.78761 |\n",
    "|Tf score with Naive Bayes| 0.79344 |\n",
    "|Tf score with Naive Byes, removing Stopwords and Lemmatize| 0.78853 |\n",
    "|Tfidf score with Naive Bayes | 0.78577 |\n",
    "|Tfidf score with Naive Bayes, removing Stopwords and Lemmatize| 0.79037\n",
    "|Tfidf score with Linear SVC | 0.77045 |\n",
    "|Tfidf score with Linear SVC, removing Stopwords and Lemmatize | 0.79068 |"
   ]
  },
  {
   "cell_type": "markdown",
   "metadata": {
    "slideshow": {
     "slide_type": "slide"
    }
   },
   "source": [
    "   * In general there is no real improvement to the score of the tutorial\n",
    "\n",
    "\n",
    "   * the more preprocessing, the more discrepancy of Train and TestData \n",
    "\n",
    "        --> Model is too strong\n",
    " \n",
    "### need for other solutions or approaches"
   ]
  },
  {
   "cell_type": "markdown",
   "metadata": {
    "slideshow": {
     "slide_type": "slide"
    }
   },
   "source": [
    "# Meta-Level Features\n",
    "* Tweet Statistics\n",
    "* Linguistic Tags\n",
    "* Named Entities\n",
    "* Acronyms & Emojis\n",
    "* Word Emphasis & Punctuation\n",
    "* Sentiment Scores\n",
    "\n",
    "Detailed descriptions & Code at:\n",
    "https://nbviewer.jupyter.org/github/cakiki/disaster-tweets/blob/main/notebooks/meta_feature_exploration.ipynb"
   ]
  },
  {
   "cell_type": "code",
   "execution_count": 3,
   "metadata": {
    "slideshow": {
     "slide_type": "skip"
    }
   },
   "outputs": [
    {
     "name": "stdout",
     "output_type": "stream",
     "text": [
      "Collecting textblob\n",
      "  Downloading textblob-0.15.3-py2.py3-none-any.whl (636 kB)\n",
      "\u001b[K     |████████████████████████████████| 636 kB 1.1 MB/s eta 0:00:01\n",
      "\u001b[?25hCollecting vaderSentiment\n",
      "  Downloading vaderSentiment-3.3.2-py2.py3-none-any.whl (125 kB)\n",
      "\u001b[K     |████████████████████████████████| 125 kB 1.0 MB/s eta 0:00:01\n",
      "\u001b[?25hCollecting afinn\n",
      "  Downloading afinn-0.1.tar.gz (52 kB)\n",
      "\u001b[K     |████████████████████████████████| 52 kB 75 kB/s  eta 0:00:01\n",
      "\u001b[?25hCollecting nltk>=3.1\n",
      "  Downloading nltk-3.5.zip (1.4 MB)\n",
      "\u001b[K     |████████████████████████████████| 1.4 MB 1.2 MB/s eta 0:00:01\n",
      "\u001b[?25hRequirement already satisfied: requests in /opt/conda/lib/python3.8/site-packages (from vaderSentiment) (2.24.0)\n",
      "Requirement already satisfied: click in /opt/conda/lib/python3.8/site-packages (from nltk>=3.1->textblob) (7.1.2)\n",
      "Requirement already satisfied: joblib in /opt/conda/lib/python3.8/site-packages (from nltk>=3.1->textblob) (0.17.0)\n",
      "Collecting regex\n",
      "  Downloading regex-2020.11.13-cp38-cp38-manylinux2014_x86_64.whl (738 kB)\n",
      "\u001b[K     |████████████████████████████████| 738 kB 1.8 MB/s eta 0:00:01\n",
      "\u001b[?25hRequirement already satisfied: tqdm in /opt/conda/lib/python3.8/site-packages (from nltk>=3.1->textblob) (4.51.0)\n",
      "Requirement already satisfied: urllib3!=1.25.0,!=1.25.1,<1.26,>=1.21.1 in /opt/conda/lib/python3.8/site-packages (from requests->vaderSentiment) (1.25.11)\n",
      "Requirement already satisfied: chardet<4,>=3.0.2 in /opt/conda/lib/python3.8/site-packages (from requests->vaderSentiment) (3.0.4)\n",
      "Requirement already satisfied: idna<3,>=2.5 in /opt/conda/lib/python3.8/site-packages (from requests->vaderSentiment) (2.10)\n",
      "Requirement already satisfied: certifi>=2017.4.17 in /opt/conda/lib/python3.8/site-packages (from requests->vaderSentiment) (2020.12.5)\n",
      "Building wheels for collected packages: afinn, nltk\n",
      "  Building wheel for afinn (setup.py) ... \u001b[?25ldone\n",
      "\u001b[?25h  Created wheel for afinn: filename=afinn-0.1-py3-none-any.whl size=53450 sha256=f6e6cc2878e7b230015611a3c8b6e563b89e29964f3cacd1708a309af4d61099\n",
      "  Stored in directory: /home/jovyan/.cache/pip/wheels/f6/6f/c3/b305c5107a17618f2938a067d5ffcbb556909d82398762089e\n",
      "  Building wheel for nltk (setup.py) ... \u001b[?25ldone\n",
      "\u001b[?25h  Created wheel for nltk: filename=nltk-3.5-py3-none-any.whl size=1434674 sha256=4596c0608f452b002d0f479e849fdd78e0f5af560c449357a0b7f5b72ee718eb\n",
      "  Stored in directory: /home/jovyan/.cache/pip/wheels/ff/d5/7b/f1fb4e1e1603b2f01c2424dd60fbcc50c12ef918bafc44b155\n",
      "Successfully built afinn nltk\n",
      "Installing collected packages: regex, nltk, textblob, vaderSentiment, afinn\n",
      "Successfully installed afinn-0.1 nltk-3.5 regex-2020.11.13 textblob-0.15.3 vaderSentiment-3.3.2\n",
      "Loading training data from ../data/external/kaggle/train.csv...\n",
      "-> Done\n",
      "Converting tweets to spacy docs...\n",
      "-> Done.\n"
     ]
    }
   ],
   "source": [
    "# Run some preprocessing used throughout the rest of the sections\n",
    "\n",
    "!pip install textblob vaderSentiment afinn\n",
    "\n",
    "import pandas as pd\n",
    "import numpy as np\n",
    "import spacy\n",
    "import matplotlib.pyplot as plt\n",
    "from sklearn import preprocessing, feature_extraction, feature_selection\n",
    "from features import meta_features_spacy as mf\n",
    "\n",
    "# The training data file\n",
    "train_data_file = '../data/external/kaggle/train.csv'\n",
    "# Load data and perform some sanity checks\n",
    "print('Loading training data from {}...'.format(train_data_file))\n",
    "df = pd.read_csv(train_data_file)\n",
    "X = df[['keyword', 'location', 'text']].values\n",
    "y = df['target'].values\n",
    "print('-> Done')\n",
    "\n",
    "# Perform basic preprocessing of the data and convert to a spacy featuer set\n",
    "sp = spacy.load('en_core_web_sm')\n",
    "def preproc(x):\n",
    "    txt = \" \".join([str(x[i]) for i in range(0, 3) if str(x[i]) != \"nan\"])\n",
    "    return sp(txt)\n",
    "print(\"Converting tweets to spacy docs...\")\n",
    "X_sp = np.array([preproc(x) for x in X], dtype=object)\n",
    "print(\"-> Done.\")\n",
    "\n",
    "# Define some functions that will be used throughout the slides\n",
    "# Bar plot function to visualise the tag distributions\n",
    "def plot_count_vec_bars(X_sp, transformer, title, exclude=[]):  \n",
    "    transformer.fit(X_sp)\n",
    "    labels = transformer.get_feature_names()\n",
    "    \n",
    "    # Compute counts\n",
    "    count = transformer.transform(X_sp).toarray()\n",
    "    # Remove blacklisted tags from column\n",
    "    for exc_tag in exclude:\n",
    "        del_idx = labels.index(exc_tag.lower())\n",
    "        labels = np.delete(labels, del_idx)\n",
    "        count = np.delete(count, del_idx, 1)\n",
    "        \n",
    "    # Compute support: how many of the tweets have non zero rows out of all tweets\n",
    "    support = np.sum(np.sum(count, axis=1) > 0) / float(len(y))\n",
    "\n",
    "    # Split counts into classes\n",
    "    count_c0 = count[y==0]\n",
    "    count_c1 = count[y==1]\n",
    "    s0 = count_c0.sum(axis=0)\n",
    "    s1 = count_c1.sum(axis=0)\n",
    "\n",
    "    # Sort by class 0 counts\n",
    "    sorted_idx = np.argsort(s0)[::-1]\n",
    "    s0 = s0[sorted_idx]\n",
    "    s1 = s1[sorted_idx]\n",
    "    labels = np.array(labels)[sorted_idx]\n",
    "\n",
    "    plt.title('{} (Support: {}%)'.format(title, round(support*100, 1)))\n",
    "    plt.bar(np.arange(len(labels)), s0/float(s0.sum()), fc=(0, 0, 1, 0.5), label=\"Class 0\")\n",
    "    plt.bar(np.arange(len(labels)), s1/float(s1.sum()), fc=(1, 0, 0, 0.5), label=\"Class 1\")\n",
    "    plt.xticks(np.arange(len(labels)), labels, rotation=90)\n",
    "    plt.legend()\n",
    "    plt.xlabel(\"Tag\")"
   ]
  },
  {
   "cell_type": "markdown",
   "metadata": {
    "slideshow": {
     "slide_type": "subslide"
    }
   },
   "source": [
    "## Features based on Tweet Statistics"
   ]
  },
  {
   "cell_type": "code",
   "execution_count": 4,
   "metadata": {
    "slideshow": {
     "slide_type": "fragment"
    }
   },
   "outputs": [
    {
     "data": {
      "text/html": [
       "<div id=\"77dabb2495aa0658\"></div>\n",
       "    <script type=\"text/javascript\">\n",
       "        $(function(){\n",
       "            var p = $(\"#77dabb2495aa0658\");\n",
       "            if (p.length==0) return;\n",
       "            while (!p.hasClass(\"cell\")) {\n",
       "                p=p.parent();\n",
       "                if (p.prop(\"tagName\") ==\"body\") return;\n",
       "            }\n",
       "            var cell = p;\n",
       "            cell.find(\".input\").addClass(\"hide-in-slideshow\")\n",
       "        });\n",
       "    </script>"
      ]
     },
     "metadata": {},
     "output_type": "display_data"
    },
    {
     "data": {
      "image/png": "[encoded data removed]",
      "text/plain": [
       "<Figure size 1008x288 with 1 Axes>"
      ]
     },
     "metadata": {
      "needs_background": "light"
     },
     "output_type": "display_data"
    }
   ],
   "source": [
    "hide_code_in_slideshow()\n",
    "\n",
    "# Plot link counters\n",
    "trans = mf.LinkCounter()\n",
    "counts_c0 = trans.transform(X_sp[y==0]).flatten()\n",
    "counts_c1 = trans.transform(X_sp[y==1]).flatten()\n",
    "# Plot a histogram of the number of tweets over link counts per tweet\n",
    "plt.figure(figsize=(14, 4))\n",
    "# Plot historgram for class 0\n",
    "plt.title('Histogram of number of links per tweet')\n",
    "bins = range(0, max(counts_c0)+1)\n",
    "n, _, _ = plt.hist(counts_c0, bins, density=True, facecolor='b', label='class 0', alpha=0.5)\n",
    "n, _, _ = plt.hist(counts_c1, bins, density=True, facecolor='r', label='class 1', alpha=0.5)\n",
    "plt.xlabel('number of links in a tweet')\n",
    "plt.ylabel('density of tweets')\n",
    "plt.grid(True)\n",
    "# Show final plots\n",
    "plt.legend()\n",
    "plt.tight_layout()\n",
    "plt.show()\n"
   ]
  },
  {
   "cell_type": "code",
   "execution_count": 5,
   "metadata": {
    "slideshow": {
     "slide_type": "fragment"
    }
   },
   "outputs": [
    {
     "data": {
      "text/html": [
       "<div id=\"a3031d15de22f943\"></div>\n",
       "    <script type=\"text/javascript\">\n",
       "        $(function(){\n",
       "            var p = $(\"#a3031d15de22f943\");\n",
       "            if (p.length==0) return;\n",
       "            while (!p.hasClass(\"cell\")) {\n",
       "                p=p.parent();\n",
       "                if (p.prop(\"tagName\") ==\"body\") return;\n",
       "            }\n",
       "            var cell = p;\n",
       "            cell.find(\".input\").addClass(\"hide-in-slideshow\")\n",
       "        });\n",
       "    </script>"
      ]
     },
     "metadata": {},
     "output_type": "display_data"
    },
    {
     "data": {
      "image/png": "[encoded data removed]",
      "text/plain": [
       "<Figure size 1008x288 with 1 Axes>"
      ]
     },
     "metadata": {
      "needs_background": "light"
     },
     "output_type": "display_data"
    }
   ],
   "source": [
    "hide_code_in_slideshow()\n",
    "\n",
    "# Count number of links in each tweet\n",
    "trans = mf.TextLength()\n",
    "counts_c0 = trans.transform(X_sp[y==0]).flatten()\n",
    "counts_c1 = trans.transform(X_sp[y==1]).flatten()\n",
    "\n",
    "# Plot a histogram of the number of tweets over link counts per tweet\n",
    "plt.figure(figsize=(14, 4))\n",
    "# Plot historgram for class 0\n",
    "plt.title('Histogram of tweet length')\n",
    "bins = range(0, max(counts_c0)+1)\n",
    "n, _, _ = plt.hist(counts_c0, bins, density=True, facecolor='b', label='class 0', alpha=0.5)\n",
    "n, _, _ = plt.hist(counts_c1, bins, density=True, facecolor='r', label='class 1', alpha=0.5)\n",
    "plt.xlabel('tweet length')\n",
    "plt.ylabel('density of tweets')\n",
    "plt.grid(True)\n",
    "# Show final plots\n",
    "plt.legend()\n",
    "plt.tight_layout()\n",
    "plt.show()"
   ]
  },
  {
   "cell_type": "markdown",
   "metadata": {
    "slideshow": {
     "slide_type": "subslide"
    }
   },
   "source": [
    "## Features based on Linguistic Tags"
   ]
  },
  {
   "cell_type": "code",
   "execution_count": 6,
   "metadata": {
    "slideshow": {
     "slide_type": "fragment"
    }
   },
   "outputs": [
    {
     "data": {
      "text/html": [
       "<div id=\"5fe5313979ea6db7\"></div>\n",
       "    <script type=\"text/javascript\">\n",
       "        $(function(){\n",
       "            var p = $(\"#5fe5313979ea6db7\");\n",
       "            if (p.length==0) return;\n",
       "            while (!p.hasClass(\"cell\")) {\n",
       "                p=p.parent();\n",
       "                if (p.prop(\"tagName\") ==\"body\") return;\n",
       "            }\n",
       "            var cell = p;\n",
       "            cell.find(\".input\").addClass(\"hide-in-slideshow\")\n",
       "        });\n",
       "    </script>"
      ]
     },
     "metadata": {},
     "output_type": "display_data"
    },
    {
     "data": {
      "image/png": "[encoded data removed]",
      "text/plain": [
       "<Figure size 1008x288 with 1 Axes>"
      ]
     },
     "metadata": {
      "needs_background": "light"
     },
     "output_type": "display_data"
    }
   ],
   "source": [
    "hide_code_in_slideshow()\n",
    "plt.figure(figsize=(14, 4))\n",
    "plot_count_vec_bars(X_sp, mf.PosTagCountVectorizer('penn_treebank'), 'Penn Treebank POS Tag Distribution')\n",
    "plt.tight_layout()"
   ]
  },
  {
   "cell_type": "code",
   "execution_count": 7,
   "metadata": {
    "scrolled": true,
    "slideshow": {
     "slide_type": "fragment"
    }
   },
   "outputs": [
    {
     "data": {
      "text/html": [
       "<div id=\"52d8ee971052a3d4\"></div>\n",
       "    <script type=\"text/javascript\">\n",
       "        $(function(){\n",
       "            var p = $(\"#52d8ee971052a3d4\");\n",
       "            if (p.length==0) return;\n",
       "            while (!p.hasClass(\"cell\")) {\n",
       "                p=p.parent();\n",
       "                if (p.prop(\"tagName\") ==\"body\") return;\n",
       "            }\n",
       "            var cell = p;\n",
       "            cell.find(\".input\").addClass(\"hide-in-slideshow\")\n",
       "        });\n",
       "    </script>"
      ]
     },
     "metadata": {},
     "output_type": "display_data"
    },
    {
     "data": {
      "image/png": "[encoded data removed]",
      "text/plain": [
       "<Figure size 1008x288 with 1 Axes>"
      ]
     },
     "metadata": {
      "needs_background": "light"
     },
     "output_type": "display_data"
    }
   ],
   "source": [
    "hide_code_in_slideshow()\n",
    "plt.figure(figsize=(14, 4))\n",
    "plot_count_vec_bars(X_sp, mf.DependencyTagCountVectorizer(), 'Syntactic Dependency Tag Distribution')\n",
    "plt.tight_layout()"
   ]
  },
  {
   "cell_type": "markdown",
   "metadata": {
    "slideshow": {
     "slide_type": "subslide"
    }
   },
   "source": [
    "## Acronyms & Emojis"
   ]
  },
  {
   "cell_type": "code",
   "execution_count": 8,
   "metadata": {
    "slideshow": {
     "slide_type": "fragment"
    }
   },
   "outputs": [
    {
     "data": {
      "text/html": [
       "<div id=\"b28f25ba9fb0b7ca\"></div>\n",
       "    <script type=\"text/javascript\">\n",
       "        $(function(){\n",
       "            var p = $(\"#b28f25ba9fb0b7ca\");\n",
       "            if (p.length==0) return;\n",
       "            while (!p.hasClass(\"cell\")) {\n",
       "                p=p.parent();\n",
       "                if (p.prop(\"tagName\") ==\"body\") return;\n",
       "            }\n",
       "            var cell = p;\n",
       "            cell.find(\".input\").addClass(\"hide-in-slideshow\")\n",
       "        });\n",
       "    </script>"
      ]
     },
     "metadata": {},
     "output_type": "display_data"
    },
    {
     "data": {
      "image/png": "[encoded data removed]",
      "text/plain": [
       "<Figure size 1008x288 with 1 Axes>"
      ]
     },
     "metadata": {
      "needs_background": "light"
     },
     "output_type": "display_data"
    }
   ],
   "source": [
    "hide_code_in_slideshow()\n",
    "\n",
    "acro_vectorizer = mf.AcronymCountVectorizer()\n",
    "plt.figure(figsize=(14, 4))\n",
    "plot_count_vec_bars(X_sp, acro_vectorizer, 'Acronym Distribution', exclude=['NO_ACRONYM'])\n",
    "plt.tight_layout()"
   ]
  },
  {
   "cell_type": "code",
   "execution_count": 9,
   "metadata": {
    "scrolled": true,
    "slideshow": {
     "slide_type": "fragment"
    }
   },
   "outputs": [
    {
     "data": {
      "text/html": [
       "<div id=\"28e6bcc3a12a9ba7\"></div>\n",
       "    <script type=\"text/javascript\">\n",
       "        $(function(){\n",
       "            var p = $(\"#28e6bcc3a12a9ba7\");\n",
       "            if (p.length==0) return;\n",
       "            while (!p.hasClass(\"cell\")) {\n",
       "                p=p.parent();\n",
       "                if (p.prop(\"tagName\") ==\"body\") return;\n",
       "            }\n",
       "            var cell = p;\n",
       "            cell.find(\".input\").addClass(\"hide-in-slideshow\")\n",
       "        });\n",
       "    </script>"
      ]
     },
     "metadata": {},
     "output_type": "display_data"
    },
    {
     "data": {
      "image/png": "[encoded data removed]",
      "text/plain": [
       "<Figure size 1008x288 with 1 Axes>"
      ]
     },
     "metadata": {
      "needs_background": "light"
     },
     "output_type": "display_data"
    }
   ],
   "source": [
    "hide_code_in_slideshow()\n",
    "\n",
    "emoji_vectorizer = mf.EmojiCountVectorizer()\n",
    "plt.figure(figsize=(14, 4))\n",
    "plot_count_vec_bars(X_sp, emoji_vectorizer, 'Emoticon Distribution', exclude=['NO_EMOTICON'])\n",
    "plt.tight_layout()"
   ]
  },
  {
   "cell_type": "markdown",
   "metadata": {
    "slideshow": {
     "slide_type": "subslide"
    }
   },
   "source": [
    "## Why are there \"Happy\" tags?\n",
    "Some Tweets labaled to be \"about disasters\" which contain happy, cheecky and laughing tags:\n",
    "* **[CHEEKY]** @KlaraJoelsson Well I have seen it now! That's a bummer. We've had this heat wave tho... 43'c!! I'd prefer the rain... :P\n",
    "* **[HAPPY]** @Ashayo @MsMiggi Hi Ashayo! I believe there will be VODs on YouTube after the presentation but there is nothing like seeing it live :)\n",
    "* **[HAPPY]** @Raishimi33 :) well I think that sounds like a fine plan where little derailment is possible so I applaud you :)\n",
    "* **[LOL]** @itss_selenaluna like a beautiful ass tragedy lol\n",
    "* **[LOL]** @lucysforsale funny cause my dumb ass was the young one to get n trouble the most lol\n"
   ]
  },
  {
   "cell_type": "markdown",
   "metadata": {
    "slideshow": {
     "slide_type": "subslide"
    }
   },
   "source": [
    "## How do missclassified Tweets look like?\n",
    "\n",
    "that horrible sinking feeling when you've been at home on your phone for a while and you realise its been on 3G this whole time\n",
    "**[Predicted: 0; True: 1]**\n",
    "\n",
    "Keep shape your shoes ??#Amazon #foot #adjust #shape #shoe Mini Shoe Tree Stretcher Shaper Width Extender Adjustable\n",
    "**[Predicted: 0; True: 1]**\n",
    "\n",
    "@FoxNewsInsider All Obama is doing is giving a false time schedule on Iran testing there first bomb Bomb = Nuclear Suicide Vest\n",
    "**[Predicted: 1; True: 0]**\n",
    "\n",
    "I feel like a tornado http://t.co/iZJK6kpWiZ\n",
    "**[Predicted: 0; True: 1]**\n",
    "\n",
    "Ready to get annihilated for the BUCS game\n",
    "**[Predicted: 0; True: 1]**"
   ]
  },
  {
   "cell_type": "markdown",
   "metadata": {
    "slideshow": {
     "slide_type": "subslide"
    }
   },
   "source": [
    "## Sentiment Features (Polarity)"
   ]
  },
  {
   "cell_type": "code",
   "execution_count": 10,
   "metadata": {
    "slideshow": {
     "slide_type": "skip"
    }
   },
   "outputs": [],
   "source": [
    "# Compute textblob scores\n",
    "transformer = mf.TextBlobSentimentVectorizer()\n",
    "X_trans = transformer.fit_transform(X_sp)\n",
    "pol_c0_tb = X_trans[y==0, 0]\n",
    "pol_c1_tb = X_trans[y==1, 0]\n",
    "subj_c0_tb = X_trans[y==0, 1]\n",
    "subj_c1_tb = X_trans[y==1, 1]\n",
    "\n",
    "# Compute Vader scores\n",
    "transformer = mf.VaderSentimentVectorizer()\n",
    "X_trans = transformer.fit_transform(X_sp)\n",
    "pol_c0_vader = X_trans[y==0, 0]\n",
    "pol_c1_vader = X_trans[y==1, 0]\n",
    "subj_c0_vader = X_trans[y==0, 3]\n",
    "subj_c1_vader = X_trans[y==1, 3]\n",
    "\n",
    "# Compute Afinn scores\n",
    "transformer = mf.AfinnSentimentVectorizer()\n",
    "X_trans = transformer.fit_transform(X_sp)\n",
    "pol_c0_afinn = X_trans[y==0, 0]\n",
    "pol_c1_afinn = X_trans[y==1, 0]\n"
   ]
  },
  {
   "cell_type": "code",
   "execution_count": 11,
   "metadata": {
    "scrolled": true,
    "slideshow": {
     "slide_type": "fragment"
    }
   },
   "outputs": [
    {
     "data": {
      "text/html": [
       "<div id=\"ff4273d55f268e54\"></div>\n",
       "    <script type=\"text/javascript\">\n",
       "        $(function(){\n",
       "            var p = $(\"#ff4273d55f268e54\");\n",
       "            if (p.length==0) return;\n",
       "            while (!p.hasClass(\"cell\")) {\n",
       "                p=p.parent();\n",
       "                if (p.prop(\"tagName\") ==\"body\") return;\n",
       "            }\n",
       "            var cell = p;\n",
       "            cell.find(\".input\").addClass(\"hide-in-slideshow\")\n",
       "        });\n",
       "    </script>"
      ]
     },
     "metadata": {},
     "output_type": "display_data"
    },
    {
     "data": {
      "image/png": "[encoded data removed]",
      "text/plain": [
       "<Figure size 1296x144 with 2 Axes>"
      ]
     },
     "metadata": {
      "needs_background": "light"
     },
     "output_type": "display_data"
    }
   ],
   "source": [
    "hide_code_in_slideshow()\n",
    "plt.figure(figsize=(18, 2))\n",
    "\n",
    "# Plot histograms of polarities\n",
    "plt.subplot2grid((1, 2), (0, 0))\n",
    "bins = np.arange(-1.1, 1.1, 0.05)\n",
    "# TextBlob histogram\n",
    "plt.title('Histogram of TextBlob polarity')\n",
    "n, _, _ = plt.hist(pol_c0_tb, bins, density=True, facecolor='b', label='class 0', alpha=0.5)\n",
    "n, _, _ = plt.hist(pol_c1_tb, bins, density=True, facecolor='r', label='class 1', alpha=0.5)\n",
    "plt.xlabel('polarity score')\n",
    "plt.ylabel('density of tweets')\n",
    "plt.grid(True)\n",
    "plt.legend()\n",
    "plt.tight_layout()\n",
    "\n",
    "plt.subplot2grid((1, 2), (0, 1))\n",
    "plt.title('Histogram of TextBlob polarity')\n",
    "n, _, _ = plt.hist(pol_c0_tb, bins, density=True, facecolor='b', label='class 0', alpha=0.5)\n",
    "n, _, _ = plt.hist(pol_c1_tb, bins, density=True, facecolor='r', label='class 1', alpha=0.5)\n",
    "plt.xlabel('polarity score')\n",
    "plt.ylabel('density of tweets')\n",
    "plt.ylim([0, 1.4])\n",
    "plt.grid(True)\n",
    "plt.legend()\n",
    "plt.tight_layout()\n",
    "\n",
    "plt.show()"
   ]
  },
  {
   "cell_type": "code",
   "execution_count": 12,
   "metadata": {
    "scrolled": true,
    "slideshow": {
     "slide_type": "fragment"
    }
   },
   "outputs": [
    {
     "data": {
      "text/html": [
       "<div id=\"d9337c52f5f6ac0a\"></div>\n",
       "    <script type=\"text/javascript\">\n",
       "        $(function(){\n",
       "            var p = $(\"#d9337c52f5f6ac0a\");\n",
       "            if (p.length==0) return;\n",
       "            while (!p.hasClass(\"cell\")) {\n",
       "                p=p.parent();\n",
       "                if (p.prop(\"tagName\") ==\"body\") return;\n",
       "            }\n",
       "            var cell = p;\n",
       "            cell.find(\".input\").addClass(\"hide-in-slideshow\")\n",
       "        });\n",
       "    </script>"
      ]
     },
     "metadata": {},
     "output_type": "display_data"
    },
    {
     "data": {
      "image/png": "[encoded data removed]",
      "text/plain": [
       "<Figure size 1296x144 with 2 Axes>"
      ]
     },
     "metadata": {
      "needs_background": "light"
     },
     "output_type": "display_data"
    }
   ],
   "source": [
    "hide_code_in_slideshow()\n",
    "plt.figure(figsize=(18, 2))\n",
    "\n",
    "# Vader histogram\n",
    "plt.subplot2grid((1, 2), (0, 0))\n",
    "bins = np.arange(-1.1, 1.1, 0.05)\n",
    "plt.title('Histogram of VADER sentiment \"compound\"')\n",
    "n, _, _ = plt.hist(pol_c0_vader, bins, density=True, facecolor='b', label='class 0', alpha=0.5)\n",
    "n, _, _ = plt.hist(pol_c1_vader, bins, density=True, facecolor='r', label='class 1', alpha=0.5)\n",
    "plt.xlabel('polarity score')\n",
    "plt.ylabel('density of tweets')\n",
    "plt.grid(True)\n",
    "plt.legend()\n",
    "plt.tight_layout()\n",
    "\n",
    "plt.subplot2grid((1, 2), (0, 1))\n",
    "bins = np.arange(-1.1, 1.1, 0.05)\n",
    "plt.title('Histogram of VADER sentiment \"compound\"')\n",
    "n, _, _ = plt.hist(pol_c0_vader, bins, density=True, facecolor='b', label='class 0', alpha=0.5)\n",
    "n, _, _ = plt.hist(pol_c1_vader, bins, density=True, facecolor='r', label='class 1', alpha=0.5)\n",
    "plt.xlabel('polarity score')\n",
    "plt.ylabel('density of tweets')\n",
    "plt.ylim([0, 1.4])\n",
    "plt.grid(True)\n",
    "plt.legend()\n",
    "plt.tight_layout()\n",
    "\n",
    "plt.show()"
   ]
  },
  {
   "cell_type": "code",
   "execution_count": 13,
   "metadata": {
    "scrolled": false,
    "slideshow": {
     "slide_type": "fragment"
    }
   },
   "outputs": [
    {
     "data": {
      "text/html": [
       "<div id=\"42d13c94302f0a1c\"></div>\n",
       "    <script type=\"text/javascript\">\n",
       "        $(function(){\n",
       "            var p = $(\"#42d13c94302f0a1c\");\n",
       "            if (p.length==0) return;\n",
       "            while (!p.hasClass(\"cell\")) {\n",
       "                p=p.parent();\n",
       "                if (p.prop(\"tagName\") ==\"body\") return;\n",
       "            }\n",
       "            var cell = p;\n",
       "            cell.find(\".input\").addClass(\"hide-in-slideshow\")\n",
       "        });\n",
       "    </script>"
      ]
     },
     "metadata": {},
     "output_type": "display_data"
    },
    {
     "data": {
      "image/png": "[encoded data removed]",
      "text/plain": [
       "<Figure size 1296x144 with 2 Axes>"
      ]
     },
     "metadata": {
      "needs_background": "light"
     },
     "output_type": "display_data"
    }
   ],
   "source": [
    "hide_code_in_slideshow()\n",
    "plt.figure(figsize=(18, 2))\n",
    "\n",
    "# Afinn histogram\n",
    "plt.subplot2grid((1, 2), (0, 0))\n",
    "bins = np.arange(-15, 15, 1)\n",
    "plt.title('Histogram of Afinn polarity')\n",
    "n, _, _ = plt.hist(pol_c0_afinn, bins, density=True, facecolor='b', label='class 0', alpha=0.5)\n",
    "n, _, _ = plt.hist(pol_c1_afinn, bins, density=True, facecolor='r', label='class 1', alpha=0.5)\n",
    "plt.xlabel('polarity score')\n",
    "plt.ylabel('density of tweets')\n",
    "#plt.ylim([0, 1.5])\n",
    "plt.grid(True)\n",
    "plt.legend()\n",
    "plt.tight_layout()\n",
    "\n",
    "\n",
    "plt.subplot2grid((1, 2), (0, 1))\n",
    "bins = np.arange(-15, 15, 1)\n",
    "plt.title('Histogram of Afinn polarity')\n",
    "n, _, _ = plt.hist(pol_c0_afinn, bins, density=True, facecolor='b', label='class 0', alpha=0.5)\n",
    "n, _, _ = plt.hist(pol_c1_afinn, bins, density=True, facecolor='r', label='class 1', alpha=0.5)\n",
    "plt.xlabel('polarity score')\n",
    "plt.ylabel('density of tweets')\n",
    "plt.ylim([0, 0.14])\n",
    "plt.grid(True)\n",
    "plt.legend()\n",
    "plt.tight_layout()\n",
    "\n",
    "plt.show()"
   ]
  },
  {
   "cell_type": "markdown",
   "metadata": {
    "slideshow": {
     "slide_type": "subslide"
    }
   },
   "source": [
    "## Sentiment Features (Subjectivity)"
   ]
  },
  {
   "cell_type": "code",
   "execution_count": 14,
   "metadata": {
    "slideshow": {
     "slide_type": "fragment"
    }
   },
   "outputs": [
    {
     "data": {
      "text/html": [
       "<div id=\"e5c1223d4c677315\"></div>\n",
       "    <script type=\"text/javascript\">\n",
       "        $(function(){\n",
       "            var p = $(\"#e5c1223d4c677315\");\n",
       "            if (p.length==0) return;\n",
       "            while (!p.hasClass(\"cell\")) {\n",
       "                p=p.parent();\n",
       "                if (p.prop(\"tagName\") ==\"body\") return;\n",
       "            }\n",
       "            var cell = p;\n",
       "            cell.find(\".input\").addClass(\"hide-in-slideshow\")\n",
       "        });\n",
       "    </script>"
      ]
     },
     "metadata": {},
     "output_type": "display_data"
    },
    {
     "data": {
      "image/png": "[encoded data removed]",
      "text/plain": [
       "<Figure size 1296x288 with 2 Axes>"
      ]
     },
     "metadata": {
      "needs_background": "light"
     },
     "output_type": "display_data"
    }
   ],
   "source": [
    "hide_code_in_slideshow()\n",
    "plt.figure(figsize=(18, 4))\n",
    "\n",
    "# Plot histograms of polarities\n",
    "plt.subplot2grid((1, 2), (0, 0))\n",
    "bins = np.arange(-0.1, 1.1, 0.025) \n",
    "# TextBlob histogram\n",
    "plt.title('Histogram of TextBlob subjectivity')\n",
    "n, _, _ = plt.hist(subj_c0_tb, bins, density=True, facecolor='b', label='class 0', alpha=0.5)\n",
    "n, _, _ = plt.hist(subj_c1_tb, bins, density=True, facecolor='r', label='class 1', alpha=0.5)\n",
    "plt.xlabel('subjectivity score')\n",
    "plt.ylabel('density of tweets')\n",
    "plt.grid(True)\n",
    "plt.legend()\n",
    "plt.tight_layout()\n",
    "\n",
    "plt.subplot2grid((1, 2), (0, 1))\n",
    "plt.title('Histogram of TextBlob subjectivity')\n",
    "n, _, _ = plt.hist(subj_c0_tb, bins, density=True, facecolor='b', label='class 0', alpha=0.5)\n",
    "n, _, _ = plt.hist(subj_c1_tb, bins, density=True, facecolor='r', label='class 1', alpha=0.5)\n",
    "plt.xlabel('subjectivity score')\n",
    "plt.ylabel('density of tweets')\n",
    "plt.ylim([0, 3])\n",
    "plt.grid(True)\n",
    "plt.legend()\n",
    "plt.tight_layout()\n",
    "\n",
    "plt.show()"
   ]
  },
  {
   "cell_type": "code",
   "execution_count": 15,
   "metadata": {
    "slideshow": {
     "slide_type": "fragment"
    }
   },
   "outputs": [
    {
     "data": {
      "text/html": [
       "<div id=\"aac0ea03127f082e\"></div>\n",
       "    <script type=\"text/javascript\">\n",
       "        $(function(){\n",
       "            var p = $(\"#aac0ea03127f082e\");\n",
       "            if (p.length==0) return;\n",
       "            while (!p.hasClass(\"cell\")) {\n",
       "                p=p.parent();\n",
       "                if (p.prop(\"tagName\") ==\"body\") return;\n",
       "            }\n",
       "            var cell = p;\n",
       "            cell.find(\".input\").addClass(\"hide-in-slideshow\")\n",
       "        });\n",
       "    </script>"
      ]
     },
     "metadata": {},
     "output_type": "display_data"
    },
    {
     "data": {
      "image/png": "[encoded data removed]",
      "text/plain": [
       "<Figure size 1296x288 with 2 Axes>"
      ]
     },
     "metadata": {
      "needs_background": "light"
     },
     "output_type": "display_data"
    }
   ],
   "source": [
    "hide_code_in_slideshow()\n",
    "plt.figure(figsize=(18, 4))\n",
    "\n",
    "# Plot histograms of polarities\n",
    "plt.subplot2grid((1, 2), (0, 0))\n",
    "bins = np.arange(-0.1, 1.1, 0.025)\n",
    "# TextBlob histogram\n",
    "plt.title('Histogram of VADER subjectivity')\n",
    "n, _, _ = plt.hist(subj_c0_vader, bins, density=True, facecolor='b', label='class 0', alpha=0.5)\n",
    "n, _, _ = plt.hist(subj_c1_vader, bins, density=True, facecolor='r', label='class 1', alpha=0.5)\n",
    "plt.xlabel('subjectivity score')\n",
    "plt.ylabel('density of tweets')\n",
    "plt.grid(True)\n",
    "plt.legend()\n",
    "plt.tight_layout()\n",
    "\n",
    "plt.subplot2grid((1, 2), (0, 1))\n",
    "plt.title('Histogram of VADER subjectivity')\n",
    "n, _, _ = plt.hist(subj_c0_vader, bins, density=True, facecolor='b', label='class 0', alpha=0.5)\n",
    "n, _, _ = plt.hist(subj_c1_vader, bins, density=True, facecolor='r', label='class 1', alpha=0.5)\n",
    "plt.xlabel('subjectivity score')\n",
    "plt.ylabel('density of tweets')\n",
    "plt.ylim([0, 2.5])\n",
    "plt.grid(True)\n",
    "plt.legend()\n",
    "plt.tight_layout()\n",
    "\n",
    "plt.show()"
   ]
  },
  {
   "cell_type": "markdown",
   "metadata": {
    "slideshow": {
     "slide_type": "slide"
    }
   },
   "source": [
    "# Meta-Level Features: Summary"
   ]
  },
  {
   "cell_type": "code",
   "execution_count": 16,
   "metadata": {
    "slideshow": {
     "slide_type": "skip"
    }
   },
   "outputs": [
    {
     "name": "stdout",
     "output_type": "stream",
     "text": [
      "Collecting tabulate\n",
      "  Downloading tabulate-0.8.7-py3-none-any.whl (24 kB)\n",
      "Installing collected packages: tabulate\n",
      "Successfully installed tabulate-0.8.7\n"
     ]
    },
    {
     "ename": "FileNotFoundError",
     "evalue": "[Errno 2] No such file or directory: '../reports/data/meta_features_individual.pck'",
     "output_type": "error",
     "traceback": [
      "\u001b[0;31m---------------------------------------------------------------------------\u001b[0m",
      "\u001b[0;31mFileNotFoundError\u001b[0m                         Traceback (most recent call last)",
      "\u001b[0;32m<ipython-input-16-180ec93919a3>\u001b[0m in \u001b[0;36m<module>\u001b[0;34m\u001b[0m\n\u001b[1;32m      7\u001b[0m \u001b[0;34m\u001b[0m\u001b[0m\n\u001b[1;32m      8\u001b[0m \u001b[0;31m# Load individual feature performance metrics\u001b[0m\u001b[0;34m\u001b[0m\u001b[0;34m\u001b[0m\u001b[0;34m\u001b[0m\u001b[0m\n\u001b[0;32m----> 9\u001b[0;31m \u001b[0;32mwith\u001b[0m \u001b[0mopen\u001b[0m\u001b[0;34m(\u001b[0m\u001b[0;34m'../reports/data/meta_features_individual.pck'\u001b[0m\u001b[0;34m,\u001b[0m \u001b[0;34m'rb'\u001b[0m\u001b[0;34m)\u001b[0m \u001b[0;32mas\u001b[0m \u001b[0mf\u001b[0m\u001b[0;34m:\u001b[0m\u001b[0;34m\u001b[0m\u001b[0;34m\u001b[0m\u001b[0m\n\u001b[0m\u001b[1;32m     10\u001b[0m     \u001b[0meval_individual\u001b[0m \u001b[0;34m=\u001b[0m \u001b[0mpickle\u001b[0m\u001b[0;34m.\u001b[0m\u001b[0mload\u001b[0m\u001b[0;34m(\u001b[0m\u001b[0mf\u001b[0m\u001b[0;34m)\u001b[0m\u001b[0;34m\u001b[0m\u001b[0;34m\u001b[0m\u001b[0m\n\u001b[1;32m     11\u001b[0m \u001b[0;34m\u001b[0m\u001b[0m\n",
      "\u001b[0;31mFileNotFoundError\u001b[0m: [Errno 2] No such file or directory: '../reports/data/meta_features_individual.pck'"
     ]
    }
   ],
   "source": [
    "!pip install tabulate\n",
    "\n",
    "import pickle\n",
    "from IPython.display import HTML\n",
    "import tabulate\n",
    "from sklearn import metrics\n",
    "\n",
    "# Load individual feature performance metrics\n",
    "with open('../reports/data/meta_features_individual.pck', 'rb') as f:\n",
    "    eval_individual = pickle.load(f)\n",
    "\n",
    "# Load union-features performance metrics\n",
    "with open('../reports/data/meta_features_union.pck', 'rb') as f:\n",
    "    eval_union = pickle.load(f)\n",
    "    \n",
    "# Compute chance performance metrics\n",
    "y_pred_chance = np.random.randint(0, 2, size=len(y))\n",
    "f1_chance = metrics.f1_score(y, y_pred_chance)\n",
    "prec_chance = metrics.precision_score(y, y_pred_chance)\n",
    "recall_chance = metrics.recall_score(y, y_pred_chance)\n",
    "accuracy_chance = metrics.recall_score(y, y_pred_chance)\n"
   ]
  },
  {
   "cell_type": "code",
   "execution_count": null,
   "metadata": {
    "slideshow": {
     "slide_type": "fragment"
    }
   },
   "outputs": [],
   "source": [
    "hide_code_in_slideshow()\n",
    "\n",
    "# Print table with performance delta to a chance classifier\n",
    "table_header = [\"Feature\", \"f1\", \"precision\", \"recall\", \"accuracy\", \"# features\"]\n",
    "table_data = [\n",
    "    ['Chance', round(f1_chance, 2), round(prec_chance, 2), round(recall_chance, 2), 0]\n",
    "]\n",
    "\n",
    "# Add labels sorted by f1 score\n",
    "for label, p in sorted(eval_individual.items(), key=lambda item: item[1]['F1'], reverse=True):\n",
    "    table_data.append([\n",
    "        label,\n",
    "        '{} (Δ {}%)'.format(round((p['F1']), 2), round((p['F1']-f1_chance)*100, 2)),\n",
    "        '{} (Δ {}%)'.format(round((p['Precision']), 2), round((p['Precision']-prec_chance)*100, 2)),\n",
    "        '{} (Δ {}%)'.format(round((p['Recall']), 2), round((p['Recall']-recall_chance)*100, 2)),\n",
    "        '{} (Δ {}%)'.format(round((p['Accuracy']), 2), round((p['Accuracy']-recall_chance)*100, 2)),\n",
    "        len(eval_individual[label]['features'])\n",
    "    ])\n",
    "display.display(HTML(tabulate.tabulate(table_data, headers=table_header, tablefmt='html')))"
   ]
  },
  {
   "cell_type": "code",
   "execution_count": null,
   "metadata": {
    "slideshow": {
     "slide_type": "fragment"
    }
   },
   "outputs": [],
   "source": [
    "hide_code_in_slideshow()\n",
    "\n",
    "# Print table with performance delta to a chance classifier\n",
    "table_header = [\"Feature\", \"f1\", \"precision\", \"recall\", \"accuracy\", \"# features\"]\n",
    "table_data = []\n",
    "# Setup table data\n",
    "for label, p in eval_union.items():\n",
    "    table_data.append([\n",
    "        label,\n",
    "        '{}%'.format(round(p['F1']*100, 2)),\n",
    "        '{}%'.format(round(p['Precision']*100, 2)),\n",
    "        '{}%'.format(round(p['Recall']*100, 2)),\n",
    "        '{}%'.format(round(p['Accuracy']*100, 2)),\n",
    "        len(p['features'])\n",
    "    ])\n",
    "display.display(HTML(tabulate.tabulate(table_data, headers=table_header, tablefmt='html')))"
   ]
  },
  {
   "cell_type": "code",
   "execution_count": null,
   "metadata": {},
   "outputs": [],
   "source": []
  },
  {
   "cell_type": "code",
   "execution_count": null,
   "metadata": {},
   "outputs": [],
   "source": []
  },
  {
   "cell_type": "code",
   "execution_count": null,
   "metadata": {},
   "outputs": [],
   "source": []
  },
  {
   "cell_type": "code",
   "execution_count": null,
   "metadata": {},
   "outputs": [],
   "source": []
  },
  {
   "cell_type": "code",
   "execution_count": null,
   "metadata": {},
   "outputs": [],
   "source": []
  }
 ],
 "metadata": {
  "celltoolbar": "Slideshow",
  "kernelspec": {
   "display_name": "Python 3",
   "language": "python",
   "name": "python3"
  },
  "language_info": {
   "codemirror_mode": {
    "name": "ipython",
    "version": 3
   },
   "file_extension": ".py",
   "mimetype": "text/x-python",
   "name": "python",
   "nbconvert_exporter": "python",
   "pygments_lexer": "ipython3",
   "version": "3.8.6"
  }
 },
 "nbformat": 4,
 "nbformat_minor": 4
}
