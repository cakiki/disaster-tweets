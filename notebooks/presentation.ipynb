{
 "cells": [
  {
   "cell_type": "code",
   "execution_count": 10,
   "metadata": {
    "slideshow": {
     "slide_type": "skip"
    }
   },
   "outputs": [],
   "source": [
    "from IPython import display\n",
    "import binascii\n",
    "import os\n",
    "\n",
    "def hide_code_in_slideshow():\n",
    "    uid = binascii.hexlify(os.urandom(8)).decode()    \n",
    "    html = \"\"\"<div id=\"%s\"></div>\n",
    "    <script type=\"text/javascript\">\n",
    "        $(function(){\n",
    "            var p = $(\"#%s\");\n",
    "            if (p.length==0) return;\n",
    "            while (!p.hasClass(\"cell\")) {\n",
    "                p=p.parent();\n",
    "                if (p.prop(\"tagName\") ==\"body\") return;\n",
    "            }\n",
    "            var cell = p;\n",
    "            cell.find(\".input\").addClass(\"hide-in-slideshow\")\n",
    "        });\n",
    "    </script>\"\"\" % (uid, uid)\n",
    "    display.display_html(html, raw=True)"
   ]
  },
  {
   "cell_type": "code",
   "execution_count": 11,
   "metadata": {
    "slideshow": {
     "slide_type": "skip"
    }
   },
   "outputs": [
    {
     "data": {
      "text/html": [
       "<style>\n",
       " .container.slides .celltoolbar, .container.slides .hide-in-slideshow {\n",
       "    display: None ! important;\n",
       "}\n",
       "</style>\n"
      ],
      "text/plain": [
       "<IPython.core.display.HTML object>"
      ]
     },
     "metadata": {},
     "output_type": "display_data"
    }
   ],
   "source": [
    "%%html\n",
    "<style>\n",
    " .container.slides .celltoolbar, .container.slides .hide-in-slideshow {\n",
    "    display: None ! important;\n",
    "}\n",
    "</style>"
   ]
  },
  {
   "cell_type": "markdown",
   "metadata": {
    "slideshow": {
     "slide_type": "slide"
    }
   },
   "source": [
    "# Real or Not? NLP with Disaster Tweets\n",
    "Christopher Akiki, Karl-Heinz Fiebig, Julian Duwe\n",
    "\n",
    "Supervized by Christian Kahmann"
   ]
  },
  {
   "cell_type": "markdown",
   "metadata": {
    "slideshow": {
     "slide_type": "slide"
    }
   },
   "source": [
    "## Overview\n",
    "\n",
    "* Introduction: Task and Data\n",
    "\n",
    "* Frameworks: cookiecutter hierarchy + docker + makefile + jupyter + tensorflow + scikitlearn + others\n",
    "\n",
    "* Exploratory Data Analysis\n",
    "\n",
    "* Preprocessing: BoW etc. - Julian\n",
    "\n",
    "* Metafeatures - KH\n",
    "\n",
    "* Representation Learning / Topic Modeling / Sentiment Analysis - Chris\n",
    "\n",
    "* Outlook: Ensemble Learning (Stacking) etc."
   ]
  },
  {
   "cell_type": "markdown",
   "metadata": {
    "slideshow": {
     "slide_type": "slide"
    }
   },
   "source": [
    "* We used bla\n",
    "\n",
    "* We won all of Kaggle\n",
    "![](https://upload.wikimedia.org/wikipedia/commons/7/7c/Kaggle_logo.png)"
   ]
  },
  {
   "cell_type": "markdown",
   "metadata": {
    "slideshow": {
     "slide_type": "slide"
    }
   },
   "source": [
    "# Meta-Level Features\n",
    "* Tweet Statisitcs\n",
    "* Lingustic Tags\n",
    "* Named Entities\n",
    "* Acronyms & Emojis\n",
    "* Word Emphasis & Punctuation\n",
    "* Sentiment Scores"
   ]
  },
  {
   "cell_type": "code",
   "execution_count": 27,
   "metadata": {
    "slideshow": {
     "slide_type": "skip"
    }
   },
   "outputs": [
    {
     "name": "stdout",
     "output_type": "stream",
     "text": [
      "Requirement already satisfied: textblob in /opt/conda/lib/python3.8/site-packages (0.15.3)\n",
      "Requirement already satisfied: vaderSentiment in /opt/conda/lib/python3.8/site-packages (3.3.2)\n",
      "Requirement already satisfied: afinn in /opt/conda/lib/python3.8/site-packages (0.1)\n",
      "Requirement already satisfied: nltk>=3.1 in /opt/conda/lib/python3.8/site-packages (from textblob) (3.5)\n",
      "Requirement already satisfied: tqdm in /opt/conda/lib/python3.8/site-packages (from nltk>=3.1->textblob) (4.56.0)\n",
      "Requirement already satisfied: click in /opt/conda/lib/python3.8/site-packages (from nltk>=3.1->textblob) (7.1.2)\n",
      "Requirement already satisfied: joblib in /opt/conda/lib/python3.8/site-packages (from nltk>=3.1->textblob) (1.0.0)\n",
      "Requirement already satisfied: regex in /opt/conda/lib/python3.8/site-packages (from nltk>=3.1->textblob) (2020.11.13)\n",
      "Requirement already satisfied: requests in /opt/conda/lib/python3.8/site-packages (from vaderSentiment) (2.25.1)\n",
      "Requirement already satisfied: chardet<5,>=3.0.2 in /opt/conda/lib/python3.8/site-packages (from requests->vaderSentiment) (4.0.0)\n",
      "Requirement already satisfied: idna<3,>=2.5 in /opt/conda/lib/python3.8/site-packages (from requests->vaderSentiment) (2.10)\n",
      "Requirement already satisfied: urllib3<1.27,>=1.21.1 in /opt/conda/lib/python3.8/site-packages (from requests->vaderSentiment) (1.26.2)\n",
      "Requirement already satisfied: certifi>=2017.4.17 in /opt/conda/lib/python3.8/site-packages (from requests->vaderSentiment) (2020.12.5)\n",
      "Loading training data from ../data/external/kaggle/train.csv...\n",
      "-> Done\n",
      "Converting tweets to spacy docs...\n",
      "-> Done.\n"
     ]
    }
   ],
   "source": [
    "# Run some preprocessing used throughout the rest of the sections\n",
    "\n",
    "!pip install textblob vaderSentiment afinn\n",
    "\n",
    "import pandas as pd\n",
    "import numpy as np\n",
    "import spacy\n",
    "import matplotlib.pyplot as plt\n",
    "from sklearn import preprocessing, feature_extraction, feature_selection\n",
    "from features import meta_features_spacy as mf\n",
    "\n",
    "# The training data file\n",
    "train_data_file = '../data/external/kaggle/train.csv'\n",
    "# Load data and perform some sanity checks\n",
    "print('Loading training data from {}...'.format(train_data_file))\n",
    "df = pd.read_csv(train_data_file)\n",
    "X = df[['keyword', 'location', 'text']].values\n",
    "y = df['target'].values\n",
    "print('-> Done')\n",
    "\n",
    "# Perform basic preprocessing of the data and convert to a spacy featuer set\n",
    "sp = spacy.load('en_core_web_sm')\n",
    "def preproc(x):\n",
    "    txt = \" \".join([str(x[i]) for i in range(0, 3) if str(x[i]) != \"nan\"])\n",
    "    return sp(txt)\n",
    "print(\"Converting tweets to spacy docs...\")\n",
    "X_sp = np.array([preproc(x) for x in X], dtype=object)\n",
    "print(\"-> Done.\")\n",
    "\n",
    "# Define some functions that will be used throughout the slides\n",
    "# Bar plot function to visualise the tag distributions\n",
    "def plot_count_vec_bars(X_sp, transformer, title, exclude=[]):  \n",
    "    transformer.fit(X_sp)\n",
    "    labels = transformer.get_feature_names()\n",
    "    \n",
    "    # Compute counts\n",
    "    count = transformer.transform(X_sp).toarray()\n",
    "    # Remove blacklisted tags from column\n",
    "    for exc_tag in exclude:\n",
    "        del_idx = labels.index(exc_tag.lower())\n",
    "        labels = np.delete(labels, del_idx)\n",
    "        count = np.delete(count, del_idx, 1)\n",
    "        \n",
    "    # Compute support: how many of the tweets have non zero rows out of all tweets\n",
    "    support = np.sum(np.sum(count, axis=1) > 0) / float(len(y))\n",
    "\n",
    "    # Split counts into classes\n",
    "    count_c0 = count[y==0]\n",
    "    count_c1 = count[y==1]\n",
    "    s0 = count_c0.sum(axis=0)\n",
    "    s1 = count_c1.sum(axis=0)\n",
    "\n",
    "    # Sort by class 0 counts\n",
    "    sorted_idx = np.argsort(s0)[::-1]\n",
    "    s0 = s0[sorted_idx]\n",
    "    s1 = s1[sorted_idx]\n",
    "    labels = np.array(labels)[sorted_idx]\n",
    "\n",
    "    plt.title('{} (Support: {}%)'.format(title, round(support*100, 1)))\n",
    "    plt.bar(np.arange(len(labels)), s0/float(s0.sum()), fc=(0, 0, 1, 0.5), label=\"Class 0\")\n",
    "    plt.bar(np.arange(len(labels)), s1/float(s1.sum()), fc=(1, 0, 0, 0.5), label=\"Class 1\")\n",
    "    plt.xticks(np.arange(len(labels)), labels, rotation=90)\n",
    "    plt.legend()\n",
    "    plt.xlabel(\"Tag\")"
   ]
  },
  {
   "cell_type": "markdown",
   "metadata": {
    "slideshow": {
     "slide_type": "subslide"
    }
   },
   "source": [
    "## Features based on Tweet Statistics"
   ]
  },
  {
   "cell_type": "code",
   "execution_count": 15,
   "metadata": {
    "slideshow": {
     "slide_type": "fragment"
    }
   },
   "outputs": [
    {
     "data": {
      "text/html": [
       "<div id=\"bc978bb158733b90\"></div>\n",
       "    <script type=\"text/javascript\">\n",
       "        $(function(){\n",
       "            var p = $(\"#bc978bb158733b90\");\n",
       "            if (p.length==0) return;\n",
       "            while (!p.hasClass(\"cell\")) {\n",
       "                p=p.parent();\n",
       "                if (p.prop(\"tagName\") ==\"body\") return;\n",
       "            }\n",
       "            var cell = p;\n",
       "            cell.find(\".input\").addClass(\"hide-in-slideshow\")\n",
       "        });\n",
       "    </script>"
      ]
     },
     "metadata": {},
     "output_type": "display_data"
    },
    {
     "data": {
      "image/png": "[encoded data removed]",
      "text/plain": [
       "<Figure size 1008x288 with 1 Axes>"
      ]
     },
     "metadata": {
      "needs_background": "light"
     },
     "output_type": "display_data"
    }
   ],
   "source": [
    "hide_code_in_slideshow()\n",
    "\n",
    "# Plot link counters\n",
    "trans = mf.LinkCounter()\n",
    "counts_c0 = trans.transform(X_sp[y==0]).flatten()\n",
    "counts_c1 = trans.transform(X_sp[y==1]).flatten()\n",
    "# Plot a histogram of the number of tweets over link counts per tweet\n",
    "plt.figure(figsize=(14, 4))\n",
    "# Plot historgram for class 0\n",
    "plt.title('Histogram of number of links per tweet')\n",
    "bins = range(0, max(counts_c0)+1)\n",
    "n, _, _ = plt.hist(counts_c0, bins, density=True, facecolor='b', label='class 0', alpha=0.5)\n",
    "n, _, _ = plt.hist(counts_c1, bins, density=True, facecolor='r', label='class 0', alpha=0.5)\n",
    "plt.xlabel('number of links in a tweet')\n",
    "plt.ylabel('density of tweets')\n",
    "plt.grid(True)\n",
    "# Show final plots\n",
    "plt.legend()\n",
    "plt.tight_layout()\n",
    "plt.show()\n"
   ]
  },
  {
   "cell_type": "code",
   "execution_count": 17,
   "metadata": {
    "slideshow": {
     "slide_type": "fragment"
    }
   },
   "outputs": [
    {
     "data": {
      "text/html": [
       "<div id=\"afe345b80830ac50\"></div>\n",
       "    <script type=\"text/javascript\">\n",
       "        $(function(){\n",
       "            var p = $(\"#afe345b80830ac50\");\n",
       "            if (p.length==0) return;\n",
       "            while (!p.hasClass(\"cell\")) {\n",
       "                p=p.parent();\n",
       "                if (p.prop(\"tagName\") ==\"body\") return;\n",
       "            }\n",
       "            var cell = p;\n",
       "            cell.find(\".input\").addClass(\"hide-in-slideshow\")\n",
       "        });\n",
       "    </script>"
      ]
     },
     "metadata": {},
     "output_type": "display_data"
    },
    {
     "data": {
      "image/png": "[encoded data removed]",
      "text/plain": [
       "<Figure size 1008x288 with 1 Axes>"
      ]
     },
     "metadata": {
      "needs_background": "light"
     },
     "output_type": "display_data"
    }
   ],
   "source": [
    "hide_code_in_slideshow()\n",
    "\n",
    "# Count number of links in each tweet\n",
    "trans = mf.TextLength()\n",
    "counts_c0 = trans.transform(X_sp[y==0]).flatten()\n",
    "counts_c1 = trans.transform(X_sp[y==1]).flatten()\n",
    "\n",
    "# Plot a histogram of the number of tweets over link counts per tweet\n",
    "plt.figure(figsize=(14, 4))\n",
    "# Plot historgram for class 0\n",
    "plt.title('Histogram of tweet length')\n",
    "bins = range(0, max(counts_c0)+1)\n",
    "n, _, _ = plt.hist(counts_c0, bins, density=True, facecolor='b', label='class 0', alpha=0.5)\n",
    "n, _, _ = plt.hist(counts_c1, bins, density=True, facecolor='r', label='class 1', alpha=0.5)\n",
    "plt.xlabel('tweet length')\n",
    "plt.ylabel('density of tweets')\n",
    "plt.grid(True)\n",
    "# Show final plots\n",
    "plt.legend()\n",
    "plt.tight_layout()\n",
    "plt.show()"
   ]
  },
  {
   "cell_type": "markdown",
   "metadata": {
    "slideshow": {
     "slide_type": "subslide"
    }
   },
   "source": [
    "## Features based on Linguistic Tags"
   ]
  },
  {
   "cell_type": "code",
   "execution_count": 30,
   "metadata": {
    "slideshow": {
     "slide_type": "fragment"
    }
   },
   "outputs": [
    {
     "data": {
      "text/html": [
       "<div id=\"46a1409e548f24fe\"></div>\n",
       "    <script type=\"text/javascript\">\n",
       "        $(function(){\n",
       "            var p = $(\"#46a1409e548f24fe\");\n",
       "            if (p.length==0) return;\n",
       "            while (!p.hasClass(\"cell\")) {\n",
       "                p=p.parent();\n",
       "                if (p.prop(\"tagName\") ==\"body\") return;\n",
       "            }\n",
       "            var cell = p;\n",
       "            cell.find(\".input\").addClass(\"hide-in-slideshow\")\n",
       "        });\n",
       "    </script>"
      ]
     },
     "metadata": {},
     "output_type": "display_data"
    },
    {
     "data": {
      "image/png": "[encoded data removed]",
      "text/plain": [
       "<Figure size 1008x288 with 1 Axes>"
      ]
     },
     "metadata": {
      "needs_background": "light"
     },
     "output_type": "display_data"
    }
   ],
   "source": [
    "hide_code_in_slideshow()\n",
    "plt.figure(figsize=(14, 4))\n",
    "plot_count_vec_bars(X_sp, mf.PosTagCountVectorizer('penn_treebank'), 'Penn Treebank POS Tag Distribution')\n",
    "plt.tight_layout()"
   ]
  },
  {
   "cell_type": "code",
   "execution_count": 32,
   "metadata": {
    "slideshow": {
     "slide_type": "fragment"
    }
   },
   "outputs": [
    {
     "data": {
      "text/html": [
       "<div id=\"62cb60f0256f3e6d\"></div>\n",
       "    <script type=\"text/javascript\">\n",
       "        $(function(){\n",
       "            var p = $(\"#62cb60f0256f3e6d\");\n",
       "            if (p.length==0) return;\n",
       "            while (!p.hasClass(\"cell\")) {\n",
       "                p=p.parent();\n",
       "                if (p.prop(\"tagName\") ==\"body\") return;\n",
       "            }\n",
       "            var cell = p;\n",
       "            cell.find(\".input\").addClass(\"hide-in-slideshow\")\n",
       "        });\n",
       "    </script>"
      ]
     },
     "metadata": {},
     "output_type": "display_data"
    },
    {
     "data": {
      "image/png": "[encoded data removed]",
      "text/plain": [
       "<Figure size 1008x288 with 1 Axes>"
      ]
     },
     "metadata": {
      "needs_background": "light"
     },
     "output_type": "display_data"
    }
   ],
   "source": [
    "hide_code_in_slideshow()\n",
    "plt.figure(figsize=(14, 4))\n",
    "plot_count_vec_bars(X_sp, mf.DependencyTagCountVectorizer(), 'Syntactic Dependency Tag Distribution')\n",
    "plt.tight_layout()"
   ]
  },
  {
   "cell_type": "code",
   "execution_count": 6,
   "metadata": {
    "slideshow": {
     "slide_type": "skip"
    }
   },
   "outputs": [],
   "source": [
    "a = \"This won't be shown\""
   ]
  },
  {
   "cell_type": "code",
   "execution_count": 7,
   "metadata": {
    "slideshow": {
     "slide_type": "slide"
    }
   },
   "outputs": [
    {
     "data": {
      "text/plain": [
       "False"
      ]
     },
     "execution_count": 7,
     "metadata": {},
     "output_type": "execute_result"
    }
   ],
   "source": [
    "\"Abd\".isnumeric()"
   ]
  },
  {
   "cell_type": "markdown",
   "metadata": {
    "slideshow": {
     "slide_type": "notes"
    }
   },
   "source": [
    "Blablabla"
   ]
  },
  {
   "cell_type": "code",
   "execution_count": 8,
   "metadata": {
    "slideshow": {
     "slide_type": "slide"
    }
   },
   "outputs": [
    {
     "data": {
      "text/plain": [
       "2"
      ]
     },
     "execution_count": 8,
     "metadata": {},
     "output_type": "execute_result"
    }
   ],
   "source": [
    "1+1"
   ]
  },
  {
   "cell_type": "code",
   "execution_count": null,
   "metadata": {},
   "outputs": [],
   "source": []
  }
 ],
 "metadata": {
  "celltoolbar": "Slideshow",
  "kernelspec": {
   "display_name": "Python 3",
   "language": "python",
   "name": "python3"
  },
  "language_info": {
   "codemirror_mode": {
    "name": "ipython",
    "version": 3
   },
   "file_extension": ".py",
   "mimetype": "text/x-python",
   "name": "python",
   "nbconvert_exporter": "python",
   "pygments_lexer": "ipython3",
   "version": "3.8.6"
  }
 },
 "nbformat": 4,
 "nbformat_minor": 4
}
