{
 "cells": [
  {
   "cell_type": "code",
   "execution_count": 1,
   "id": "pleased-camera",
   "metadata": {},
   "outputs": [
    {
     "data": {
      "text/html": [
       "<style>.container { width:95% !important; }</style>"
      ],
      "text/plain": [
       "<IPython.core.display.HTML object>"
      ]
     },
     "metadata": {},
     "output_type": "display_data"
    }
   ],
   "source": [
    "from IPython.core.display import display, HTML, Image\n",
    "display(HTML(\"<style>.container { width:95% !important; }</style>\"))"
   ]
  },
  {
   "cell_type": "code",
   "execution_count": 4,
   "id": "closed-leather",
   "metadata": {},
   "outputs": [],
   "source": [
    "from collections import Counter\n",
    "from itertools import chain\n",
    "import pandas as pd\n",
    "import numpy as np\n",
    "import nltk\n",
    "from ipywidgets import Output\n",
    "from nltk.tokenize import RegexpTokenizer, TweetTokenizer\n",
    "from nltk.stem.wordnet import WordNetLemmatizer\n",
    "from gensim.models import LdaModel\n",
    "from gensim.models import Phrases\n",
    "from itertools import chain\n",
    "from gensim.corpora import Dictionary\n",
    "import matplotlib.pyplot as plt\n",
    "import seaborn as sns\n",
    "from nltk.corpus import stopwords\n",
    "import networkx as nx\n",
    "from snapy import MinHash, LSH"
   ]
  },
  {
   "cell_type": "code",
   "execution_count": 3,
   "id": "experimental-parallel",
   "metadata": {},
   "outputs": [
    {
     "name": "stdout",
     "output_type": "stream",
     "text": [
      "Collecting snapy\n",
      "  Downloading snapy-1.0.2-py3-none-any.whl (9.9 kB)\n",
      "Collecting mmh3\n",
      "  Downloading mmh3-3.0.0-cp38-cp38-manylinux2010_x86_64.whl (50 kB)\n",
      "\u001b[K     |████████████████████████████████| 50 kB 1.4 MB/s eta 0:00:01\n",
      "\u001b[?25hRequirement already satisfied: numpy in /opt/conda/lib/python3.8/site-packages (from snapy) (1.19.5)\n",
      "Installing collected packages: snapy, mmh3\n",
      "Successfully installed mmh3-3.0.0 snapy-1.0.2\n"
     ]
    }
   ],
   "source": [
    "!pip install snapy mmh3"
   ]
  },
  {
   "cell_type": "code",
   "execution_count": 5,
   "id": "capital-flower",
   "metadata": {},
   "outputs": [],
   "source": [
    "train = pd.read_csv('../data/external/kaggle/train.csv')\n",
    "test = pd.read_csv('../data/external/kaggle/test.csv')\n",
    "X = train['text'].values\n",
    "y = pd.read_csv('../data/external/kaggle/train.csv')['target'].values\n",
    "tokenizer = TweetTokenizer()"
   ]
  },
  {
   "cell_type": "code",
   "execution_count": 6,
   "id": "animal-motorcycle",
   "metadata": {
    "scrolled": false
   },
   "outputs": [
    {
     "name": "stdout",
     "output_type": "stream",
     "text": [
      "CPU times: user 2min, sys: 145 ms, total: 2min 1s\n",
      "Wall time: 2min 1s\n"
     ]
    }
   ],
   "source": [
    "%%time\n",
    "# content_exploded = [' '.join(list(item)) for item in content]\n",
    "content = X.tolist()\n",
    "labels = list(range(len(content)))\n",
    "seed = 42\n",
    "minhash = MinHash(content, n_gram=3, permutations=250, hash_bits=64, seed=seed)\n",
    "lsh = LSH(minhash, labels, no_of_bands=50)\n",
    "adjacency_list = lsh.adjacency_list(min_jaccard=0.8)\n",
    "adjacency_list = {k:v for k,v in adjacency_list.items() if v}\n",
    "# for k,v in adjacency_list.items():\n",
    "#     print(f'{content[k]} is probably similar to: {[content[item] for item in v]}')"
   ]
  },
  {
   "cell_type": "code",
   "execution_count": 11,
   "id": "suffering-father",
   "metadata": {},
   "outputs": [
    {
     "data": {
      "text/plain": [
       "{40: [48],\n",
       " 48: [40],\n",
       " 106: [115],\n",
       " 115: [106],\n",
       " 118: [119],\n",
       " 119: [118],\n",
       " 147: [164],\n",
       " 164: [147],\n",
       " 346: [364, 370, 372],\n",
       " 347: [351, 378],\n",
       " 350: [371, 373],\n",
       " 351: [347, 378],\n",
       " 364: [346, 370],\n",
       " 370: [346, 364, 372],\n",
       " 371: [350, 373],\n",
       " 372: [346, 370],\n",
       " 373: [371, 350],\n",
       " 378: [347, 351],\n",
       " 610: [624, 630, 634],\n",
       " 624: [610, 630, 634],\n",
       " 630: [610, 624, 634],\n",
       " 634: [610, 624, 630],\n",
       " 1134: [1156],\n",
       " 1156: [1134],\n",
       " 1172: [1623],\n",
       " 1197: [1331],\n",
       " 1199: [1343],\n",
       " 1201: [1356],\n",
       " 1202: [1335],\n",
       " 1204: [1332],\n",
       " 1213: [1360],\n",
       " 1214: [1365],\n",
       " 1221: [1349],\n",
       " 1222: [1345],\n",
       " 1242: [1251],\n",
       " 1251: [1242],\n",
       " 1331: [1197],\n",
       " 1332: [1204],\n",
       " 1335: [1202],\n",
       " 1343: [1199],\n",
       " 1345: [1222],\n",
       " 1349: [1221],\n",
       " 1356: [1201],\n",
       " 1360: [1213],\n",
       " 1365: [1214],\n",
       " 1623: [1172],\n",
       " 1703: [7611],\n",
       " 1704: [1725],\n",
       " 1725: [1704],\n",
       " 1771: [4601],\n",
       " 2345: [2352],\n",
       " 2352: [2345],\n",
       " 2439: [2441, 2449, 2454, 2477],\n",
       " 2441: [2439, 2449, 2454, 2477],\n",
       " 2449: [2439, 2441, 2454, 2477],\n",
       " 2450: [2452, 2456],\n",
       " 2452: [2450, 2456],\n",
       " 2454: [2439, 2441, 2449, 2477],\n",
       " 2456: [2450, 2452],\n",
       " 2477: [2439, 2441, 2449, 2454],\n",
       " 2494: [2498],\n",
       " 2498: [2494],\n",
       " 2646: [2666, 2679],\n",
       " 2651: [2655, 2674],\n",
       " 2655: [2651, 2674],\n",
       " 2666: [2646, 2679],\n",
       " 2674: [2651, 2655],\n",
       " 2679: [2646, 2666],\n",
       " 2719: [7034],\n",
       " 2736: [7026],\n",
       " 2799: [5073],\n",
       " 2816: [2841],\n",
       " 2822: [2828],\n",
       " 2828: [2822],\n",
       " 2830: [2831, 2832, 2833],\n",
       " 2831: [2830, 2832, 2833],\n",
       " 2832: [2830, 2831, 2833],\n",
       " 2833: [2830, 2831, 2832],\n",
       " 2841: [2816],\n",
       " 2850: [3374],\n",
       " 3046: [7135],\n",
       " 3163: [3382],\n",
       " 3240: [3243, 3248, 3251, 3261, 3266],\n",
       " 3243: [3240, 3248, 3251, 3261, 3266],\n",
       " 3248: [3240, 3243, 3251, 3261, 3266],\n",
       " 3251: [3240, 3243, 3248, 3261, 3266],\n",
       " 3261: [3240, 3243, 3248, 3251, 3266],\n",
       " 3266: [3240, 3243, 3248, 3251, 3261],\n",
       " 3329: [3390],\n",
       " 3340: [7604],\n",
       " 3374: [2850],\n",
       " 3382: [3163],\n",
       " 3388: [7600],\n",
       " 3390: [3329],\n",
       " 3449: [3461],\n",
       " 3461: [3449],\n",
       " 3578: [3589, 3591, 3597, 3600, 3603, 3604, 3610, 3613, 3614],\n",
       " 3589: [3578, 3591, 3597, 3600, 3603, 3604, 3610, 3613, 3614],\n",
       " 3591: [3578, 3589, 3597, 3600, 3603, 3604, 3610, 3613, 3614],\n",
       " 3597: [3578, 3589, 3591, 3600, 3603, 3604, 3610, 3613, 3614],\n",
       " 3600: [3578, 3589, 3591, 3597, 3603, 3604, 3610, 3613, 3614],\n",
       " 3603: [3578, 3589, 3591, 3597, 3600, 3604, 3610, 3613, 3614],\n",
       " 3604: [3578, 3589, 3591, 3597, 3600, 3603, 3610, 3613, 3614],\n",
       " 3610: [3578, 3589, 3591, 3597, 3600, 3603, 3604, 3613, 3614],\n",
       " 3613: [3578, 3589, 3591, 3597, 3600, 3603, 3604, 3610, 3614],\n",
       " 3614: [3578, 3589, 3591, 3597, 3600, 3603, 3604, 3610, 3613],\n",
       " 3790: [3795],\n",
       " 3795: [3790],\n",
       " 3985: [4013, 4019],\n",
       " 4013: [3985, 4019],\n",
       " 4019: [3985, 4013],\n",
       " 4023: [4038],\n",
       " 4038: [4023],\n",
       " 4221: [4239, 4244],\n",
       " 4232: [4235],\n",
       " 4235: [4232],\n",
       " 4239: [4221, 4244],\n",
       " 4244: [4221, 4239],\n",
       " 4284: [4286, 4292, 4304, 4309, 4318],\n",
       " 4285: [4294, 4305, 4308, 4313],\n",
       " 4286: [4284, 4292, 4304, 4309, 4318],\n",
       " 4288: [4291, 4303],\n",
       " 4290: [4299, 4312],\n",
       " 4291: [4288, 4303],\n",
       " 4292: [4284, 4286, 4304, 4309, 4318],\n",
       " 4293: [4310],\n",
       " 4294: [4285, 4305, 4308, 4313],\n",
       " 4299: [4290, 4312],\n",
       " 4303: [4288, 4291],\n",
       " 4304: [4284, 4286, 4292, 4309, 4318],\n",
       " 4305: [4285, 4294, 4308, 4313],\n",
       " 4306: [4320],\n",
       " 4308: [4285, 4294, 4305, 4313],\n",
       " 4309: [4284, 4286, 4292, 4304, 4318],\n",
       " 4310: [4293],\n",
       " 4312: [4290, 4299],\n",
       " 4313: [4285, 4294, 4305, 4308],\n",
       " 4318: [4284, 4286, 4292, 4304, 4309],\n",
       " 4320: [4306],\n",
       " 4341: [4351],\n",
       " 4351: [4341],\n",
       " 4379: [4381],\n",
       " 4381: [4379],\n",
       " 4597: [4605, 4618],\n",
       " 4601: [1771],\n",
       " 4605: [4597, 4618],\n",
       " 4618: [4597, 4605],\n",
       " 4623: [4631],\n",
       " 4631: [4623],\n",
       " 4827: [4834],\n",
       " 4834: [4827],\n",
       " 5066: [5072, 5078],\n",
       " 5072: [5066, 5078],\n",
       " 5073: [2799],\n",
       " 5078: [5066, 5072],\n",
       " 5281: [5292],\n",
       " 5292: [5281],\n",
       " 5574: [5576],\n",
       " 5576: [5574],\n",
       " 5620: [5641],\n",
       " 5641: [5620],\n",
       " 5652: [5665],\n",
       " 5665: [5652],\n",
       " 5716: [5720, 5723, 5734],\n",
       " 5720: [5716, 5723, 5734],\n",
       " 5723: [5716, 5720, 5734],\n",
       " 5734: [5716, 5720, 5723],\n",
       " 5742: [5771],\n",
       " 5771: [5742],\n",
       " 6091: [6094, 6097, 6103, 6113, 6119, 6123],\n",
       " 6094: [6091, 6097, 6103, 6113, 6119, 6123],\n",
       " 6097: [6091, 6094, 6103, 6113, 6119, 6123],\n",
       " 6103: [6091, 6094, 6097, 6113, 6119, 6123],\n",
       " 6113: [6091, 6094, 6097, 6103, 6119, 6123],\n",
       " 6119: [6091, 6094, 6097, 6103, 6113, 6123],\n",
       " 6123: [6091, 6094, 6097, 6103, 6113, 6119],\n",
       " 6363: [6366, 6373, 6377, 6378, 6392],\n",
       " 6366: [6363, 6373, 6377, 6378, 6392],\n",
       " 6373: [6363, 6366, 6377, 6378, 6392],\n",
       " 6377: [6363, 6366, 6373, 6378, 6392],\n",
       " 6378: [6363, 6366, 6373, 6377, 6392],\n",
       " 6392: [6363, 6366, 6373, 6377, 6378],\n",
       " 6434: [6449],\n",
       " 6449: [6434],\n",
       " 6614: [6616],\n",
       " 6616: [6614],\n",
       " 6652: [6656],\n",
       " 6656: [6652],\n",
       " 7026: [2736],\n",
       " 7034: [2719],\n",
       " 7097: [7607],\n",
       " 7135: [3046],\n",
       " 7140: [7610],\n",
       " 7315: [7609],\n",
       " 7521: [7533, 7537],\n",
       " 7533: [7521, 7537],\n",
       " 7537: [7521, 7533],\n",
       " 7600: [3388],\n",
       " 7604: [3340],\n",
       " 7607: [7097],\n",
       " 7609: [7315],\n",
       " 7610: [7140],\n",
       " 7611: [1703]}"
      ]
     },
     "execution_count": 11,
     "metadata": {},
     "output_type": "execute_result"
    }
   ],
   "source": [
    "adjacency_list"
   ]
  },
  {
   "cell_type": "code",
   "execution_count": 17,
   "id": "annoying-uncle",
   "metadata": {},
   "outputs": [
    {
     "data": {
      "text/plain": [
       "'.POTUS #StrategicPatience is a strategy for #Genocide; refugees; IDP Internally displaced people; horror; etc. https://t.co/rqWuoy1fm4'"
      ]
     },
     "execution_count": 17,
     "metadata": {},
     "output_type": "execute_result"
    }
   ],
   "source": [
    "content[2830]"
   ]
  },
  {
   "cell_type": "code",
   "execution_count": 18,
   "id": "suspected-slave",
   "metadata": {},
   "outputs": [
    {
     "data": {
      "text/plain": [
       "'.POTUS #StrategicPatience is a strategy for #Genocide; refugees; IDP Internally displaced people; horror; etc. https://t.co/rqWuoy1fm4'"
      ]
     },
     "execution_count": 18,
     "metadata": {},
     "output_type": "execute_result"
    }
   ],
   "source": [
    "content[2831]"
   ]
  },
  {
   "cell_type": "code",
   "execution_count": 19,
   "id": "generous-spectrum",
   "metadata": {},
   "outputs": [
    {
     "data": {
      "text/plain": [
       "'.POTUS #StrategicPatience is a strategy for #Genocide; refugees; IDP Internally displaced people; horror; etc. https://t.co/rqWuoy1fm4'"
      ]
     },
     "execution_count": 19,
     "metadata": {},
     "output_type": "execute_result"
    }
   ],
   "source": [
    "content[2832]"
   ]
  },
  {
   "cell_type": "code",
   "execution_count": 20,
   "id": "considered-caribbean",
   "metadata": {},
   "outputs": [
    {
     "data": {
      "text/plain": [
       "'.POTUS #StrategicPatience is a strategy for #Genocide; refugees; IDP Internally displaced people; horror; etc. https://t.co/rqWuoy1fm4'"
      ]
     },
     "execution_count": 20,
     "metadata": {},
     "output_type": "execute_result"
    }
   ],
   "source": [
    "content[2833]"
   ]
  },
  {
   "cell_type": "code",
   "execution_count": 22,
   "id": "apparent-height",
   "metadata": {},
   "outputs": [
    {
     "data": {
      "text/plain": [
       "[364, 370, 372]"
      ]
     },
     "execution_count": 22,
     "metadata": {},
     "output_type": "execute_result"
    }
   ],
   "source": [
    "adjacency_list[346]"
   ]
  },
  {
   "cell_type": "code",
   "execution_count": 23,
   "id": "secure-characterization",
   "metadata": {},
   "outputs": [
    {
     "data": {
      "text/plain": [
       "'Beyonce Is my pick for http://t.co/nnMQlz91o9 Fan Army #Beyhive http://t.co/o91f3cYy0R 77'"
      ]
     },
     "execution_count": 23,
     "metadata": {},
     "output_type": "execute_result"
    }
   ],
   "source": [
    "content[346]"
   ]
  },
  {
   "cell_type": "code",
   "execution_count": 24,
   "id": "moderate-tobacco",
   "metadata": {},
   "outputs": [
    {
     "data": {
      "text/plain": [
       "'Beyonce Is my pick for http://t.co/nnMQlz91o9 Fan Army #Beyhive http://t.co/o91f3cYy0R 78'"
      ]
     },
     "execution_count": 24,
     "metadata": {},
     "output_type": "execute_result"
    }
   ],
   "source": [
    "content[364]"
   ]
  },
  {
   "cell_type": "code",
   "execution_count": 25,
   "id": "stretch-postcard",
   "metadata": {},
   "outputs": [
    {
     "data": {
      "text/plain": [
       "'Beyonce Is my pick for http://t.co/nnMQlz91o9 Fan Army #Beyhive http://t.co/o91f3cYy0R 72'"
      ]
     },
     "execution_count": 25,
     "metadata": {},
     "output_type": "execute_result"
    }
   ],
   "source": [
    "content[370]"
   ]
  },
  {
   "cell_type": "code",
   "execution_count": 26,
   "id": "monthly-bubble",
   "metadata": {},
   "outputs": [
    {
     "data": {
      "text/plain": [
       "'Beyonce Is my pick for http://t.co/nnMQlz91o9 Fan Army #Beyhive http://t.co/o91f3cYy0R 66'"
      ]
     },
     "execution_count": 26,
     "metadata": {},
     "output_type": "execute_result"
    }
   ],
   "source": [
    "content[372]"
   ]
  },
  {
   "cell_type": "code",
   "execution_count": 39,
   "id": "exact-third",
   "metadata": {},
   "outputs": [],
   "source": [
    "duplicate_graph = nx.from_dict_of_lists(adjacency_list)"
   ]
  },
  {
   "cell_type": "code",
   "execution_count": 40,
   "id": "raised-arabic",
   "metadata": {},
   "outputs": [],
   "source": [
    "for node, attr in duplicate_graph.nodes(data=True):\n",
    "    attr['tweet'] = content[node]\n",
    "    attr['label'] = 'disaster' if train['target'][node] else 'non-disaster'"
   ]
  },
  {
   "cell_type": "code",
   "execution_count": 41,
   "id": "identical-england",
   "metadata": {},
   "outputs": [
    {
     "data": {
      "text/plain": [
       "{'tweet': 'Check these out: http://t.co/rOI2NSmEJJ http://t.co/3Tj8ZjiN21 http://t.co/YDUiXEfIpE http://t.co/LxTjc87KLS #nsfw',\n",
       " 'label': 'non-disaster'}"
      ]
     },
     "execution_count": 41,
     "metadata": {},
     "output_type": "execute_result"
    }
   ],
   "source": [
    "duplicate_graph.nodes.get(40)"
   ]
  },
  {
   "cell_type": "code",
   "execution_count": 42,
   "id": "premier-paper",
   "metadata": {},
   "outputs": [],
   "source": [
    "nx.write_graphml(duplicate_graph, '../data/processed/duplicates.graphml')"
   ]
  },
  {
   "cell_type": "code",
   "execution_count": 23,
   "id": "protective-membrane",
   "metadata": {},
   "outputs": [
    {
     "data": {
      "text/plain": [
       "0"
      ]
     },
     "execution_count": 23,
     "metadata": {},
     "output_type": "execute_result"
    }
   ],
   "source": [
    "train['target'][40]"
   ]
  },
  {
   "cell_type": "code",
   "execution_count": 21,
   "id": "earlier-destination",
   "metadata": {},
   "outputs": [
    {
     "data": {
      "text/plain": [
       "'Check these out: http://t.co/rOI2NSmEJJ http://t.co/3Tj8ZjiN21 http://t.co/YDUiXEfIpE http://t.co/LxTjc87KLS #nsfw'"
      ]
     },
     "execution_count": 21,
     "metadata": {},
     "output_type": "execute_result"
    }
   ],
   "source": [
    "content[40]"
   ]
  },
  {
   "cell_type": "code",
   "execution_count": null,
   "id": "spread-ensemble",
   "metadata": {},
   "outputs": [],
   "source": []
  }
 ],
 "metadata": {
  "kernelspec": {
   "display_name": "Python 3",
   "language": "python",
   "name": "python3"
  },
  "language_info": {
   "codemirror_mode": {
    "name": "ipython",
    "version": 3
   },
   "file_extension": ".py",
   "mimetype": "text/x-python",
   "name": "python",
   "nbconvert_exporter": "python",
   "pygments_lexer": "ipython3",
   "version": "3.8.8"
  }
 },
 "nbformat": 4,
 "nbformat_minor": 5
}
