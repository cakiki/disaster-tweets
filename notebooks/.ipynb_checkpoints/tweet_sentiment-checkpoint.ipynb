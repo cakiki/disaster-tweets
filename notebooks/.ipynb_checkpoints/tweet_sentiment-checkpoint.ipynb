{
 "cells": [
  {
   "cell_type": "code",
   "execution_count": 1,
   "metadata": {},
   "outputs": [
    {
     "data": {
      "text/html": [
       "<style>.container { width:80% !important; }</style>"
      ],
      "text/plain": [
       "<IPython.core.display.HTML object>"
      ]
     },
     "metadata": {},
     "output_type": "display_data"
    }
   ],
   "source": [
    "from IPython.core.display import display, HTML\n",
    "display(HTML(\"<style>.container { width:80% !important; }</style>\"))"
   ]
  },
  {
   "cell_type": "code",
   "execution_count": 2,
   "metadata": {},
   "outputs": [],
   "source": [
    "import pandas as pd\n",
    "import numpy as np\n",
    "import tensorflow as tf\n",
    "import tensorflow_hub as hub\n",
    "import tensorflow_text as text"
   ]
  },
  {
   "cell_type": "code",
   "execution_count": 3,
   "metadata": {},
   "outputs": [
    {
     "data": {
      "text/plain": [
       "True"
      ]
     },
     "execution_count": 3,
     "metadata": {},
     "output_type": "execute_result"
    }
   ],
   "source": [
    "tf.test.is_built_with_gpu_support()"
   ]
  },
  {
   "cell_type": "code",
   "execution_count": 4,
   "metadata": {},
   "outputs": [
    {
     "data": {
      "text/plain": [
       "[PhysicalDevice(name='/physical_device:CPU:0', device_type='CPU'),\n",
       " PhysicalDevice(name='/physical_device:GPU:0', device_type='GPU')]"
      ]
     },
     "execution_count": 4,
     "metadata": {},
     "output_type": "execute_result"
    }
   ],
   "source": [
    "tf.config.list_physical_devices()"
   ]
  },
  {
   "cell_type": "code",
   "execution_count": 5,
   "metadata": {},
   "outputs": [],
   "source": [
    "sentiment140 = pd.read_csv('../data/external/sentiment140/training.1600000.processed.noemoticon.zip', encoding='latin-1', header=None)"
   ]
  },
  {
   "cell_type": "code",
   "execution_count": 26,
   "metadata": {},
   "outputs": [
    {
     "data": {
      "text/html": [
       "<div>\n",
       "<style scoped>\n",
       "    .dataframe tbody tr th:only-of-type {\n",
       "        vertical-align: middle;\n",
       "    }\n",
       "\n",
       "    .dataframe tbody tr th {\n",
       "        vertical-align: top;\n",
       "    }\n",
       "\n",
       "    .dataframe thead th {\n",
       "        text-align: right;\n",
       "    }\n",
       "</style>\n",
       "<table border=\"1\" class=\"dataframe\">\n",
       "  <thead>\n",
       "    <tr style=\"text-align: right;\">\n",
       "      <th></th>\n",
       "      <th>0</th>\n",
       "      <th>1</th>\n",
       "      <th>2</th>\n",
       "      <th>3</th>\n",
       "      <th>4</th>\n",
       "      <th>5</th>\n",
       "    </tr>\n",
       "  </thead>\n",
       "  <tbody>\n",
       "    <tr>\n",
       "      <th>0</th>\n",
       "      <td>0</td>\n",
       "      <td>1467810369</td>\n",
       "      <td>Mon Apr 06 22:19:45 PDT 2009</td>\n",
       "      <td>NO_QUERY</td>\n",
       "      <td>_TheSpecialOne_</td>\n",
       "      <td>@switchfoot http://twitpic.com/2y1zl - Awww, t...</td>\n",
       "    </tr>\n",
       "    <tr>\n",
       "      <th>1</th>\n",
       "      <td>0</td>\n",
       "      <td>1467810672</td>\n",
       "      <td>Mon Apr 06 22:19:49 PDT 2009</td>\n",
       "      <td>NO_QUERY</td>\n",
       "      <td>scotthamilton</td>\n",
       "      <td>is upset that he can't update his Facebook by ...</td>\n",
       "    </tr>\n",
       "    <tr>\n",
       "      <th>2</th>\n",
       "      <td>0</td>\n",
       "      <td>1467810917</td>\n",
       "      <td>Mon Apr 06 22:19:53 PDT 2009</td>\n",
       "      <td>NO_QUERY</td>\n",
       "      <td>mattycus</td>\n",
       "      <td>@Kenichan I dived many times for the ball. Man...</td>\n",
       "    </tr>\n",
       "    <tr>\n",
       "      <th>3</th>\n",
       "      <td>0</td>\n",
       "      <td>1467811184</td>\n",
       "      <td>Mon Apr 06 22:19:57 PDT 2009</td>\n",
       "      <td>NO_QUERY</td>\n",
       "      <td>ElleCTF</td>\n",
       "      <td>my whole body feels itchy and like its on fire</td>\n",
       "    </tr>\n",
       "    <tr>\n",
       "      <th>4</th>\n",
       "      <td>0</td>\n",
       "      <td>1467811193</td>\n",
       "      <td>Mon Apr 06 22:19:57 PDT 2009</td>\n",
       "      <td>NO_QUERY</td>\n",
       "      <td>Karoli</td>\n",
       "      <td>@nationwideclass no, it's not behaving at all....</td>\n",
       "    </tr>\n",
       "  </tbody>\n",
       "</table>\n",
       "</div>"
      ],
      "text/plain": [
       "   0           1                             2         3                4  \\\n",
       "0  0  1467810369  Mon Apr 06 22:19:45 PDT 2009  NO_QUERY  _TheSpecialOne_   \n",
       "1  0  1467810672  Mon Apr 06 22:19:49 PDT 2009  NO_QUERY    scotthamilton   \n",
       "2  0  1467810917  Mon Apr 06 22:19:53 PDT 2009  NO_QUERY         mattycus   \n",
       "3  0  1467811184  Mon Apr 06 22:19:57 PDT 2009  NO_QUERY          ElleCTF   \n",
       "4  0  1467811193  Mon Apr 06 22:19:57 PDT 2009  NO_QUERY           Karoli   \n",
       "\n",
       "                                                   5  \n",
       "0  @switchfoot http://twitpic.com/2y1zl - Awww, t...  \n",
       "1  is upset that he can't update his Facebook by ...  \n",
       "2  @Kenichan I dived many times for the ball. Man...  \n",
       "3    my whole body feels itchy and like its on fire   \n",
       "4  @nationwideclass no, it's not behaving at all....  "
      ]
     },
     "execution_count": 26,
     "metadata": {},
     "output_type": "execute_result"
    }
   ],
   "source": [
    "sentiment140.head()"
   ]
  },
  {
   "cell_type": "code",
   "execution_count": 6,
   "metadata": {},
   "outputs": [
    {
     "name": "stdout",
     "output_type": "stream",
     "text": [
      "\n",
      "Sentences:\n",
      "[\"Here We Go Then, You And I is a 1999 album by Norwegian pop artist Morten Abel. It was Abel's second CD as a solo artist.\", 'The album went straight to number one on the Norwegian album chart, and sold to double platinum.', 'Ceylon spinach is a common name for several plants and may refer to: Basella alba Talinum fruticosum', 'A solar eclipse occurs when the Moon passes between Earth and the Sun, thereby totally or partly obscuring the image of the Sun for a viewer on Earth.', \"A partial solar eclipse occurs in the polar regions of the Earth when the center of the Moon's shadow misses the Earth.\"]\n",
      "\n",
      "Pooled output:\n",
      "tf.Tensor(\n",
      "[[ 0.45328912  0.40238258  0.68191886 ...  0.87728655  0.8688862\n",
      "  -0.47354615]\n",
      " [-0.5207491  -0.08203935  0.71233034 ...  0.5803546   0.8973054\n",
      "  -0.72987026]\n",
      " [ 0.57189405  0.16354379 -0.68507165 ...  0.5572105  -0.8921084\n",
      "  -0.71065825]\n",
      " [ 0.9145535   0.32134306 -0.621681   ... -0.4874693   0.41294807\n",
      "   0.7759246 ]\n",
      " [ 0.9174936   0.06676936 -0.43789446 ... -0.21163982  0.11980548\n",
      "   0.7010625 ]], shape=(5, 768), dtype=float32)\n",
      "\n",
      "Sequence output:\n",
      "tf.Tensor(\n",
      "[[[ 4.88832295e-01  4.26488549e-01  8.32692027e-01 ...  1.36386549e+00\n",
      "    1.32851601e+00 -5.14631748e-01]\n",
      "  [ 9.38497663e-01  2.91557252e-01  6.45751894e-01 ...  1.31544828e+00\n",
      "   -4.87489641e-01  4.95146453e-01]\n",
      "  [ 4.75244015e-01  2.98874736e-01  6.08292580e-01 ...  4.35341179e-01\n",
      "    6.88176632e-01 -2.56183624e-01]\n",
      "  ...\n",
      "  [-4.89343017e-01  8.68379027e-02  6.41009331e-01 ...  6.26745701e-01\n",
      "    4.77469265e-01 -5.65377057e-01]\n",
      "  [-3.71470451e-01  1.69177711e-01  7.12942123e-01 ...  6.27167046e-01\n",
      "    3.14991713e-01 -6.28086209e-01]\n",
      "  [-4.86976564e-01  1.02855876e-01  8.91167879e-01 ...  4.30202544e-01\n",
      "    3.77785891e-01 -7.26021051e-01]]\n",
      "\n",
      " [[-5.77367067e-01 -8.22241455e-02  8.91898811e-01 ...  6.62997186e-01\n",
      "    1.45821595e+00 -9.28449571e-01]\n",
      "  [-8.40856552e-01 -1.05622441e-01  8.77418160e-01 ...  6.38011754e-01\n",
      "    1.43252218e+00 -5.12070417e-01]\n",
      "  [-4.63973135e-01 -4.20740128e-01  6.44168139e-01 ...  8.14402699e-01\n",
      "    1.29923010e+00 -5.98821521e-01]\n",
      "  ...\n",
      "  [-9.64933157e-01 -2.28258312e-01  1.02884412e+00 ...  1.32979408e-01\n",
      "    1.11952043e+00 -1.00560546e+00]\n",
      "  [-8.58290195e-01 -2.68658340e-01  1.18676496e+00 ...  4.13591981e-01\n",
      "    1.15260828e+00 -1.13035500e+00]\n",
      "  [-8.81641030e-01 -3.02895367e-01  1.22515750e+00 ...  2.92164296e-01\n",
      "    1.20387447e+00 -9.09297764e-01]]\n",
      "\n",
      " [[ 6.50332928e-01  1.65025741e-01 -8.38609099e-01 ...  6.28778458e-01\n",
      "   -1.43216002e+00 -8.88512373e-01]\n",
      "  [ 8.03841650e-02  4.84195739e-01 -1.13542306e+00 ...  2.76611336e-02\n",
      "   -1.27342844e+00 -6.53190434e-01]\n",
      "  [-4.16060239e-01  3.36855412e-01 -1.00182271e+00 ... -5.70066273e-04\n",
      "   -1.35349417e+00 -1.18693793e+00]\n",
      "  ...\n",
      "  [ 5.07934391e-01  7.38598704e-01 -8.35328460e-01 ...  6.45103157e-02\n",
      "   -1.88609767e+00 -9.91281986e-01]\n",
      "  [ 5.51055074e-01  7.28130698e-01 -8.20377767e-01 ...  4.37343605e-02\n",
      "   -1.91505861e+00 -1.03134143e+00]\n",
      "  [ 5.58023095e-01  7.51652002e-01 -9.53132749e-01 ...  7.74219483e-02\n",
      "   -1.98880923e+00 -1.07003438e+00]]\n",
      "\n",
      " [[ 1.55467463e+00  3.33144128e-01 -7.27740347e-01 ... -5.32735407e-01\n",
      "    4.39160168e-01  1.03504670e+00]\n",
      "  [ 1.26357436e+00  8.24842393e-01 -1.10091305e+00 ... -4.94478852e-01\n",
      "   -2.97071934e-02  4.73282248e-01]\n",
      "  [ 1.34107018e+00  6.20303988e-01 -1.37525225e+00 ... -8.47161353e-01\n",
      "   -3.47377211e-01  5.57107449e-01]\n",
      "  ...\n",
      "  [ 1.81083107e+00  1.15519094e+00 -6.27855539e-01 ...  1.32482320e-01\n",
      "    1.65570170e-01  7.54893243e-01]\n",
      "  [ 1.79003882e+00  1.27337217e+00 -8.06310296e-01 ...  2.10283309e-01\n",
      "    1.42762393e-01  7.04269707e-01]\n",
      "  [ 1.77186012e+00  1.42293656e+00 -6.15318835e-01 ...  1.79762766e-01\n",
      "   -1.48993328e-01  5.92050135e-01]]\n",
      "\n",
      " [[ 1.57294869e+00  6.68688565e-02 -4.69622791e-01 ... -2.14887455e-01\n",
      "    1.20383680e-01  8.69386852e-01]\n",
      "  [ 1.33567297e+00  7.06925511e-01 -8.86387289e-01 ... -9.01210159e-02\n",
      "   -1.77502573e-01  4.43907589e-01]\n",
      "  [ 1.13370657e+00  4.57022369e-01 -7.65137196e-01 ... -8.81873518e-02\n",
      "   -6.92282140e-01  1.57167912e-01]\n",
      "  ...\n",
      "  [ 1.73447597e+00  1.08367503e+00 -5.11247933e-01 ...  3.23244959e-01\n",
      "   -5.26091337e-01  4.58350420e-01]\n",
      "  [ 1.69163465e+00  1.06361330e+00 -5.90600133e-01 ...  4.15263116e-01\n",
      "   -3.46112430e-01  4.68007058e-01]\n",
      "  [ 1.61735225e+00  1.16535830e+00 -5.00593483e-01 ...  3.06111395e-01\n",
      "   -4.07325685e-01  3.99903357e-01]]], shape=(5, 128, 768), dtype=float32)\n"
     ]
    }
   ],
   "source": [
    "# Define some sentences to feed into the model\n",
    "sentences = [\n",
    "  \"Here We Go Then, You And I is a 1999 album by Norwegian pop artist Morten Abel. It was Abel's second CD as a solo artist.\",\n",
    "  \"The album went straight to number one on the Norwegian album chart, and sold to double platinum.\",\n",
    "  \"Ceylon spinach is a common name for several plants and may refer to: Basella alba Talinum fruticosum\",\n",
    "  \"A solar eclipse occurs when the Moon passes between Earth and the Sun, thereby totally or partly obscuring the image of the Sun for a viewer on Earth.\",\n",
    "  \"A partial solar eclipse occurs in the polar regions of the Earth when the center of the Moon's shadow misses the Earth.\",\n",
    "]\n",
    "\n",
    "# Load the BERT encoder and preprocessing models\n",
    "preprocess = hub.load('https://tfhub.dev/tensorflow/bert_en_uncased_preprocess/3')\n",
    "bert = hub.load('https://tfhub.dev/google/experts/bert/wiki_books/sst2/2')\n",
    "\n",
    "# Convert the sentences to bert inputs\n",
    "bert_inputs = preprocess(sentences)\n",
    "\n",
    "# Feed the inputs to the model to get the pooled and sequence outputs\n",
    "bert_outputs = bert(bert_inputs)\n",
    "pooled_output = bert_outputs['pooled_output']\n",
    "sequence_output = bert_outputs['sequence_output']\n",
    "\n",
    "print('\\nSentences:')\n",
    "print(sentences)\n",
    "print('\\nPooled output:')\n",
    "print(pooled_output)\n",
    "print('\\nSequence output:')\n",
    "print(sequence_output)"
   ]
  },
  {
   "cell_type": "code",
   "execution_count": 9,
   "metadata": {},
   "outputs": [
    {
     "name": "stdout",
     "output_type": "stream",
     "text": [
      "('Failed to import pydot. You must `pip install pydot` and install graphviz (https://graphviz.gitlab.io/download/), ', 'for `pydotprint` to work.')\n"
     ]
    }
   ],
   "source": [
    "tf.keras.utils.plot_model(bert, show_shapes=True, dpi=48)"
   ]
  },
  {
   "cell_type": "code",
   "execution_count": 8,
   "metadata": {},
   "outputs": [
    {
     "name": "stdout",
     "output_type": "stream",
     "text": [
      "Collecting pydot\n",
      "  Downloading pydot-1.4.1-py2.py3-none-any.whl (19 kB)\n",
      "Requirement already satisfied: pyparsing>=2.1.4 in /usr/local/lib/python3.6/dist-packages (from pydot) (2.4.7)\n",
      "Installing collected packages: pydot\n",
      "Successfully installed pydot-1.4.1\n",
      "\u001b[33mWARNING: You are using pip version 20.2.4; however, version 20.3.3 is available.\n",
      "You should consider upgrading via the '/usr/bin/python3 -m pip install --upgrade pip' command.\u001b[0m\n"
     ]
    }
   ],
   "source": [
    "!pip install pydot"
   ]
  },
  {
   "cell_type": "code",
   "execution_count": null,
   "metadata": {},
   "outputs": [],
   "source": []
  }
 ],
 "metadata": {
  "kernelspec": {
   "display_name": "Python 3",
   "language": "python",
   "name": "python3"
  },
  "language_info": {
   "codemirror_mode": {
    "name": "ipython",
    "version": 3
   },
   "file_extension": ".py",
   "mimetype": "text/x-python",
   "name": "python",
   "nbconvert_exporter": "python",
   "pygments_lexer": "ipython3",
   "version": "3.6.9"
  }
 },
 "nbformat": 4,
 "nbformat_minor": 2
}
