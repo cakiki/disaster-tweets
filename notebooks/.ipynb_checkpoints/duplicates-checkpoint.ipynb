{
 "cells": [
  {
   "cell_type": "code",
   "execution_count": 1,
   "id": "pleased-camera",
   "metadata": {},
   "outputs": [
    {
     "data": {
      "text/html": [
       "<style>.container { width:95% !important; }</style>"
      ],
      "text/plain": [
       "<IPython.core.display.HTML object>"
      ]
     },
     "metadata": {},
     "output_type": "display_data"
    }
   ],
   "source": [
    "from IPython.core.display import display, HTML, Image\n",
    "display(HTML(\"<style>.container { width:95% !important; }</style>\"))"
   ]
  },
  {
   "cell_type": "code",
   "execution_count": 12,
   "id": "closed-leather",
   "metadata": {},
   "outputs": [],
   "source": [
    "from collections import Counter\n",
    "from itertools import chain\n",
    "import pandas as pd\n",
    "import numpy as np\n",
    "import nltk\n",
    "from ipywidgets import Output\n",
    "from nltk.tokenize import RegexpTokenizer, TweetTokenizer\n",
    "from nltk.stem.wordnet import WordNetLemmatizer\n",
    "from gensim.models import LdaModel\n",
    "from gensim.models import Phrases\n",
    "from itertools import chain\n",
    "from gensim.corpora import Dictionary\n",
    "import matplotlib.pyplot as plt\n",
    "import seaborn as sns\n",
    "from nltk.corpus import stopwords\n",
    "import networkx as nx\n",
    "from snapy import MinHash, LSH"
   ]
  },
  {
   "cell_type": "code",
   "execution_count": 2,
   "id": "experimental-parallel",
   "metadata": {},
   "outputs": [
    {
     "name": "stdout",
     "output_type": "stream",
     "text": [
      "Collecting snapy\n",
      "  Downloading snapy-1.0.2-py3-none-any.whl (9.9 kB)\n",
      "Collecting mmh3\n",
      "  Downloading mmh3-3.0.0-cp38-cp38-manylinux2010_x86_64.whl (50 kB)\n",
      "\u001b[K     |████████████████████████████████| 50 kB 1.1 MB/s eta 0:00:01\n",
      "\u001b[?25hRequirement already satisfied: numpy in /opt/conda/lib/python3.8/site-packages (from snapy) (1.19.5)\n",
      "Installing collected packages: snapy, mmh3\n",
      "Successfully installed mmh3-3.0.0 snapy-1.0.2\n"
     ]
    }
   ],
   "source": [
    "!pip install snapy mmh3"
   ]
  },
  {
   "cell_type": "code",
   "execution_count": 8,
   "id": "capital-flower",
   "metadata": {},
   "outputs": [],
   "source": [
    "train = pd.read_csv('../data/external/kaggle/train.csv')\n",
    "test = pd.read_csv('../data/external/kaggle/test.csv')\n",
    "X = train['text'].values\n",
    "y = pd.read_csv('../data/external/kaggle/train.csv')['target'].values\n",
    "tokenizer = TweetTokenizer()"
   ]
  },
  {
   "cell_type": "code",
   "execution_count": 14,
   "id": "animal-motorcycle",
   "metadata": {
    "scrolled": false
   },
   "outputs": [
    {
     "name": "stdout",
     "output_type": "stream",
     "text": [
      "Check these out: http://t.co/rOI2NSmEJJ http://t.co/3Tj8ZjiN21 http://t.co/YDUiXEfIpE http://t.co/LxTjc87KLS #nsfw is probably similar to: ['Check these out: http://t.co/rOI2NSmEJJ http://t.co/3Tj8ZjiN21 http://t.co/YDUiXEfIpE http://t.co/LxTjc87KLS #nsfw']\n",
      "Check these out: http://t.co/rOI2NSmEJJ http://t.co/3Tj8ZjiN21 http://t.co/YDUiXEfIpE http://t.co/LxTjc87KLS #nsfw is probably similar to: ['Check these out: http://t.co/rOI2NSmEJJ http://t.co/3Tj8ZjiN21 http://t.co/YDUiXEfIpE http://t.co/LxTjc87KLS #nsfw']\n",
      "320 [IR] ICEMOON [AFTERSHOCK] | http://t.co/vAM5POdGyw | @djicemoon | #Dubstep #TrapMusic #DnB #EDM #Dance #IcesÛ_ http://t.co/zEVakJaPcz is probably similar to: ['320 [IR] ICEMOON [AFTERSHOCK] | http://t.co/vAM5POdGyw | @djicemoon | #Dubstep #TrapMusic #DnB #EDM #Dance #Ices\\x89Û_ http://t.co/zEVakJaPcz']\n",
      "320 [IR] ICEMOON [AFTERSHOCK] | http://t.co/vAM5POdGyw | @djicemoon | #Dubstep #TrapMusic #DnB #EDM #Dance #IcesÛ_ http://t.co/zEVakJaPcz is probably similar to: ['320 [IR] ICEMOON [AFTERSHOCK] | http://t.co/vAM5POdGyw | @djicemoon | #Dubstep #TrapMusic #DnB #EDM #Dance #Ices\\x89Û_ http://t.co/zEVakJaPcz']\n",
      "320 [IR] ICEMOON [AFTERSHOCK] | http://t.co/THyzOMVWU0 | @djicemoon | #Dubstep #TrapMusic #DnB #EDM #Dance #IcesÛ_ http://t.co/83jOO0xk29 is probably similar to: ['320 [IR] ICEMOON [AFTERSHOCK] | http://t.co/THyzOMVWU0 | @djicemoon | #Dubstep #TrapMusic #DnB #EDM #Dance #Ices\\x89Û_ http://t.co/83jOO0xk29']\n",
      "320 [IR] ICEMOON [AFTERSHOCK] | http://t.co/THyzOMVWU0 | @djicemoon | #Dubstep #TrapMusic #DnB #EDM #Dance #IcesÛ_ http://t.co/83jOO0xk29 is probably similar to: ['320 [IR] ICEMOON [AFTERSHOCK] | http://t.co/THyzOMVWU0 | @djicemoon | #Dubstep #TrapMusic #DnB #EDM #Dance #Ices\\x89Û_ http://t.co/83jOO0xk29']\n",
      "Experts in France begin examining airplane debris found on Reunion Island: French air accident experts on Wednesday began examining t... is probably similar to: ['Experts in France begin examining airplane debris found on Reunion Island: French air accident experts on Wednesday began examining t...']\n",
      "Experts in France begin examining airplane debris found on Reunion Island: French air accident experts on Wednesday began examining t... is probably similar to: ['Experts in France begin examining airplane debris found on Reunion Island: French air accident experts on Wednesday began examining t...']\n",
      "Beyonce Is my pick for http://t.co/nnMQlz91o9 Fan Army #Beyhive http://t.co/o91f3cYy0R 77 is probably similar to: ['Beyonce Is my pick for http://t.co/nnMQlz91o9 Fan Army #Beyhive http://t.co/o91f3cYy0R 78', 'Beyonce Is my pick for http://t.co/nnMQlz91o9 Fan Army #Beyhive http://t.co/o91f3cYy0R 72', 'Beyonce Is my pick for http://t.co/nnMQlz91o9 Fan Army #Beyhive http://t.co/o91f3cYy0R 66']\n",
      "One Direction Is my pick for http://t.co/q2eBlOKeVE Fan Army #Directioners http://t.co/eNCmhz6y34 x1402 is probably similar to: ['One Direction Is my pick for http://t.co/q2eBlOKeVE Fan Army #Directioners http://t.co/eNCmhz6y34 x1411', 'One Direction Is my pick for http://t.co/q2eBlOKeVE Fan Army #Directioners http://t.co/eNCmhz6y34 x1434']\n",
      "17.Beyonce Is my pick for http://t.co/thoYhrHkfJ Fan Army #Beyhive http://t.co/WvJ39a3BGM is probably similar to: ['7.Beyonce Is my pick for http://t.co/thoYhrHkfJ Fan Army #Beyhive http://t.co/WvJ39a3BGM', '6.Beyonce Is my pick for http://t.co/thoYhrHkfJ Fan Army #Beyhive http://t.co/WvJ39a3BGM']\n",
      "One Direction Is my pick for http://t.co/q2eBlOKeVE Fan Army #Directioners http://t.co/eNCmhz6y34 x1411 is probably similar to: ['One Direction Is my pick for http://t.co/q2eBlOKeVE Fan Army #Directioners http://t.co/eNCmhz6y34 x1402', 'One Direction Is my pick for http://t.co/q2eBlOKeVE Fan Army #Directioners http://t.co/eNCmhz6y34 x1434']\n",
      "Beyonce Is my pick for http://t.co/nnMQlz91o9 Fan Army #Beyhive http://t.co/o91f3cYy0R 78 is probably similar to: ['Beyonce Is my pick for http://t.co/nnMQlz91o9 Fan Army #Beyhive http://t.co/o91f3cYy0R 77', 'Beyonce Is my pick for http://t.co/nnMQlz91o9 Fan Army #Beyhive http://t.co/o91f3cYy0R 72']\n",
      "Beyonce Is my pick for http://t.co/nnMQlz91o9 Fan Army #Beyhive http://t.co/o91f3cYy0R 72 is probably similar to: ['Beyonce Is my pick for http://t.co/nnMQlz91o9 Fan Army #Beyhive http://t.co/o91f3cYy0R 77', 'Beyonce Is my pick for http://t.co/nnMQlz91o9 Fan Army #Beyhive http://t.co/o91f3cYy0R 78', 'Beyonce Is my pick for http://t.co/nnMQlz91o9 Fan Army #Beyhive http://t.co/o91f3cYy0R 66']\n",
      "7.Beyonce Is my pick for http://t.co/thoYhrHkfJ Fan Army #Beyhive http://t.co/WvJ39a3BGM is probably similar to: ['17.Beyonce Is my pick for http://t.co/thoYhrHkfJ Fan Army #Beyhive http://t.co/WvJ39a3BGM', '6.Beyonce Is my pick for http://t.co/thoYhrHkfJ Fan Army #Beyhive http://t.co/WvJ39a3BGM']\n",
      "Beyonce Is my pick for http://t.co/nnMQlz91o9 Fan Army #Beyhive http://t.co/o91f3cYy0R 66 is probably similar to: ['Beyonce Is my pick for http://t.co/nnMQlz91o9 Fan Army #Beyhive http://t.co/o91f3cYy0R 77', 'Beyonce Is my pick for http://t.co/nnMQlz91o9 Fan Army #Beyhive http://t.co/o91f3cYy0R 72']\n",
      "6.Beyonce Is my pick for http://t.co/thoYhrHkfJ Fan Army #Beyhive http://t.co/WvJ39a3BGM is probably similar to: ['7.Beyonce Is my pick for http://t.co/thoYhrHkfJ Fan Army #Beyhive http://t.co/WvJ39a3BGM', '17.Beyonce Is my pick for http://t.co/thoYhrHkfJ Fan Army #Beyhive http://t.co/WvJ39a3BGM']\n",
      "One Direction Is my pick for http://t.co/q2eBlOKeVE Fan Army #Directioners http://t.co/eNCmhz6y34 x1434 is probably similar to: ['One Direction Is my pick for http://t.co/q2eBlOKeVE Fan Army #Directioners http://t.co/eNCmhz6y34 x1402', 'One Direction Is my pick for http://t.co/q2eBlOKeVE Fan Army #Directioners http://t.co/eNCmhz6y34 x1411']\n",
      "To fight bioterrorism sir. is probably similar to: ['To fight bioterrorism sir.', 'To fight bioterrorism sir.', 'To fight bioterrorism sir.']\n",
      "To fight bioterrorism sir. is probably similar to: ['To fight bioterrorism sir.', 'To fight bioterrorism sir.', 'To fight bioterrorism sir.']\n",
      "To fight bioterrorism sir. is probably similar to: ['To fight bioterrorism sir.', 'To fight bioterrorism sir.', 'To fight bioterrorism sir.']\n",
      "To fight bioterrorism sir. is probably similar to: ['To fight bioterrorism sir.', 'To fight bioterrorism sir.', 'To fight bioterrorism sir.']\n",
      "Japan on Thursday marks the 70th anniversary of the atomic bombing of Hiroshima with the most senior official from Washington ever scheduleÛ_ is probably similar to: ['Japan on Thursday marks the 70th anniversary of the atomic bombing of Hiroshima with the most senior official from Washington ever schedule\\x89Û_']\n",
      "Japan on Thursday marks the 70th anniversary of the atomic bombing of Hiroshima with the most senior official from Washington ever scheduleÛ_ is probably similar to: ['Japan on Thursday marks the 70th anniversary of the atomic bombing of Hiroshima with the most senior official from Washington ever schedule\\x89Û_']\n",
      "Warne shocked over Australia's epic collapse at Trent Bridge: Johannesburg Aug 06 (ANI): Legendary Australian... http://t.co/LwwoJXtTIV is probably similar to: [\"Warne shocked over Australia's epic collapse at Trent Bridge: Johannesburg Aug 06 (ANI): Legendary Australian... http://t.co/LwwoJXtTIV\"]\n",
      "Mmmmmm I'm burning.... I'm burning buildings I'm building.... Oooooohhhh oooh ooh... is probably similar to: [\"Mmmmmm I'm burning.... I'm burning buildings I'm building.... Oooooohhhh oooh ooh...\"]\n",
      "@themagickidraps not upset with a rally upset with burning buildings businesses executing cops that have nothing to do with it etc is probably similar to: ['@themagickidraps not upset with a rally upset with burning buildings businesses executing cops that have nothing to do with it etc']\n",
      "@_minimehh @cjoyner I must be overlooking the burning buildings? #BlackLivesMatter is probably similar to: ['@_minimehh @cjoyner I must be overlooking the burning buildings? #BlackLivesMatter']\n",
      "@fewmoretweets all lives matter. Just not a fan of burning down buildings and stealing from your neighbors to 'protest' is probably similar to: [\"@fewmoretweets all lives matter. Just not a fan of burning down buildings and stealing from your neighbors to 'protest'\"]\n",
      "I'm mentally preparing myself for a bomb ass school year if it's not I'm burning buildings ?? is probably similar to: [\"I'm mentally preparing myself for a bomb ass school year if it's not I'm burning buildings ??\"]\n",
      "Schools in Western Uganda still Burning down Buildings during Strikes....Strikes in Western Uganda always Lit literally.. is probably similar to: ['Schools in Western Uganda still Burning down Buildings during Strikes....Strikes in Western Uganda always Lit literally..']\n",
      "I Pledge Allegiance To The P.O.P.E. And The Burning Buildings of Epic City. ?????? is probably similar to: ['I Pledge Allegiance To The P.O.P.E. And The Burning Buildings of Epic City. ??????']\n",
      "like for the music video I want some real action shit like burning buildings and police chases not some weak ben winston shit is probably similar to: ['like for the music video I want some real action shit like burning buildings and police chases not some weak ben winston shit']\n",
      "Burning buildings? Media outrage? http://t.co/pHixZnv1YN is probably similar to: ['Burning buildings? Media outrage? http://t.co/pHixZnv1YN']\n",
      "#TweetLikeItsSeptember11th2001 Those two buildings are on fire is probably similar to: ['#TweetLikeItsSeptember11th2001 Those two buildings are on fire']\n",
      "#TweetLikeItsSeptember11th2001 Those two buildings are on fire is probably similar to: ['#TweetLikeItsSeptember11th2001 Those two buildings are on fire']\n",
      "Mmmmmm I'm burning.... I'm burning buildings I'm building.... Oooooohhhh oooh ooh... is probably similar to: [\"Mmmmmm I'm burning.... I'm burning buildings I'm building.... Oooooohhhh oooh ooh...\"]\n",
      "I'm mentally preparing myself for a bomb ass school year if it's not I'm burning buildings ?? is probably similar to: [\"I'm mentally preparing myself for a bomb ass school year if it's not I'm burning buildings ??\"]\n",
      "@fewmoretweets all lives matter. Just not a fan of burning down buildings and stealing from your neighbors to 'protest' is probably similar to: [\"@fewmoretweets all lives matter. Just not a fan of burning down buildings and stealing from your neighbors to 'protest'\"]\n",
      "@themagickidraps not upset with a rally upset with burning buildings businesses executing cops that have nothing to do with it etc is probably similar to: ['@themagickidraps not upset with a rally upset with burning buildings businesses executing cops that have nothing to do with it etc']\n",
      "Burning buildings? Media outrage? http://t.co/pHixZnv1YN is probably similar to: ['Burning buildings? Media outrage? http://t.co/pHixZnv1YN']\n",
      "like for the music video I want some real action shit like burning buildings and police chases not some weak ben winston shit is probably similar to: ['like for the music video I want some real action shit like burning buildings and police chases not some weak ben winston shit']\n",
      "@_minimehh @cjoyner I must be overlooking the burning buildings? #BlackLivesMatter is probably similar to: ['@_minimehh @cjoyner I must be overlooking the burning buildings? #BlackLivesMatter']\n",
      "Schools in Western Uganda still Burning down Buildings during Strikes....Strikes in Western Uganda always Lit literally.. is probably similar to: ['Schools in Western Uganda still Burning down Buildings during Strikes....Strikes in Western Uganda always Lit literally..']\n",
      "I Pledge Allegiance To The P.O.P.E. And The Burning Buildings of Epic City. ?????? is probably similar to: ['I Pledge Allegiance To The P.O.P.E. And The Burning Buildings of Epic City. ??????']\n",
      "Warne shocked over Australia's epic collapse at Trent Bridge: Johannesburg Aug 06 (ANI): Legendary Australian... http://t.co/LwwoJXtTIV is probably similar to: [\"Warne shocked over Australia's epic collapse at Trent Bridge: Johannesburg Aug 06 (ANI): Legendary Australian... http://t.co/LwwoJXtTIV\"]\n",
      "Police investigating after an e-bike collided with a car in Little Portugal. E-bike rider suffered serious non-life threatening injuries. is probably similar to: ['Police investigating after an e-bike collided with a car in Little Portugal. E-bike rider suffered serious non-life threatening injuries.']\n",
      "#Newswatch: 2 vehicles collided at Lock and Lansdowne Sts in #Ptbo. Emerg crews on their way is probably similar to: ['#Newswatch: 2 vehicles collided at Lock and Lansdowne Sts in #Ptbo. Emerg crews on their way']\n",
      "#Newswatch: 2 vehicles collided at Lock and Lansdowne Sts in #Ptbo. Emerg crews on their way is probably similar to: ['#Newswatch: 2 vehicles collided at Lock and Lansdowne Sts in #Ptbo. Emerg crews on their way']\n",
      "Traffic Collision - No Injury: I5 S at I5 S 43rd Ave offramp South Sac http://t.co/cT9ejXoLpu is probably similar to: ['Traffic Collision - No Injury: I5 S at I5 S 43rd Ave offramp South Sac http://t.co/cT9ejXoLpu']\n",
      "General News Û¢åÊ'Demolition of houses on waterways begins at Achimota Mile 7 ' via @233liveOnline. Full story at http://t.co/iO7kUUg1uq is probably similar to: [\"General News \\x89Û¢åÊ'Demolition of houses on waterways begins at Achimota Mile 7 ' via @233liveOnline. Full story at http://t.co/iO7kUUg1uq\"]\n",
      "General News Û¢åÊ'Demolition of houses on waterways begins at Achimota Mile 7 ' via @233liveOnline. Full story at http://t.co/iO7kUUg1uq is probably similar to: [\"General News \\x89Û¢åÊ'Demolition of houses on waterways begins at Achimota Mile 7 ' via @233liveOnline. Full story at http://t.co/iO7kUUg1uq\"]\n",
      "Madhya Pradesh Train Derailment: Village Youth Saved Many Lives is probably similar to: ['Madhya Pradesh Train Derailment: Village Youth Saved Many Lives', 'Madhya Pradesh Train Derailment: Village Youth Saved Many Lives', 'Madhya Pradesh Train Derailment: Village Youth Saved Many Lives', 'Madhya Pradesh Train Derailment: Village Youth Saved Many Lives']\n",
      "Madhya Pradesh Train Derailment: Village Youth Saved Many Lives is probably similar to: ['Madhya Pradesh Train Derailment: Village Youth Saved Many Lives', 'Madhya Pradesh Train Derailment: Village Youth Saved Many Lives', 'Madhya Pradesh Train Derailment: Village Youth Saved Many Lives', 'Madhya Pradesh Train Derailment: Village Youth Saved Many Lives']\n",
      "Madhya Pradesh Train Derailment: Village Youth Saved Many Lives is probably similar to: ['Madhya Pradesh Train Derailment: Village Youth Saved Many Lives', 'Madhya Pradesh Train Derailment: Village Youth Saved Many Lives', 'Madhya Pradesh Train Derailment: Village Youth Saved Many Lives', 'Madhya Pradesh Train Derailment: Village Youth Saved Many Lives']\n",
      "Madhya Pradesh Train Derailment: Village Youth Saved Many Lives: A group of villagers saved over 70 passengers' lives after two train... is probably similar to: [\"Madhya Pradesh Train Derailment: Village Youth Saved Many Lives: A group of villagers saved over 70 passengers' lives after two train...\", \"Madhya Pradesh Train Derailment: Village Youth Saved Many Lives: A group of villagers saved over 70 passengers' lives after two train...\"]\n",
      "Madhya Pradesh Train Derailment: Village Youth Saved Many Lives: A group of villagers saved over 70 passengers' lives after two train... is probably similar to: [\"Madhya Pradesh Train Derailment: Village Youth Saved Many Lives: A group of villagers saved over 70 passengers' lives after two train...\", \"Madhya Pradesh Train Derailment: Village Youth Saved Many Lives: A group of villagers saved over 70 passengers' lives after two train...\"]\n",
      "Madhya Pradesh Train Derailment: Village Youth Saved Many Lives is probably similar to: ['Madhya Pradesh Train Derailment: Village Youth Saved Many Lives', 'Madhya Pradesh Train Derailment: Village Youth Saved Many Lives', 'Madhya Pradesh Train Derailment: Village Youth Saved Many Lives', 'Madhya Pradesh Train Derailment: Village Youth Saved Many Lives']\n",
      "Madhya Pradesh Train Derailment: Village Youth Saved Many Lives: A group of villagers saved over 70 passengers' lives after two train... is probably similar to: [\"Madhya Pradesh Train Derailment: Village Youth Saved Many Lives: A group of villagers saved over 70 passengers' lives after two train...\", \"Madhya Pradesh Train Derailment: Village Youth Saved Many Lives: A group of villagers saved over 70 passengers' lives after two train...\"]\n",
      "Madhya Pradesh Train Derailment: Village Youth Saved Many Lives is probably similar to: ['Madhya Pradesh Train Derailment: Village Youth Saved Many Lives', 'Madhya Pradesh Train Derailment: Village Youth Saved Many Lives', 'Madhya Pradesh Train Derailment: Village Youth Saved Many Lives', 'Madhya Pradesh Train Derailment: Village Youth Saved Many Lives']\n",
      "Psalm34:22 The Lord redeemeth the soul of his servants: and none of them that trust in him shall be desolate. is probably similar to: ['Psalms 34:22 The Lord redeemeth the soul of his servants: and none of them that trust in him shall be desolate.']\n",
      "Psalms 34:22 The Lord redeemeth the soul of his servants: and none of them that trust in him shall be desolate. is probably similar to: ['Psalm34:22 The Lord redeemeth the soul of his servants: and none of them that trust in him shall be desolate.']\n",
      "@TinyJecht Are you another Stand-user? If you are I will have to detonate you with my Killer Queen. is probably similar to: ['@TinyJecht Are you another Stand-user? If you are I will have to detonate you with my Killer Queen.', '@TinyJecht Are you another Stand-user? If you are I will have to detonate you with my Killer Queen.']\n",
      "@spinningbot Are you another Stand-user? If you are I will have to detonate you with my Killer Queen. is probably similar to: ['@spinningbot Are you another Stand-user? If you are I will have to detonate you with my Killer Queen.', '@spinningbot Are you another Stand-user? If you are I will have to detonate you with my Killer Queen.']\n",
      "@spinningbot Are you another Stand-user? If you are I will have to detonate you with my Killer Queen. is probably similar to: ['@spinningbot Are you another Stand-user? If you are I will have to detonate you with my Killer Queen.', '@spinningbot Are you another Stand-user? If you are I will have to detonate you with my Killer Queen.']\n",
      "@TinyJecht Are you another Stand-user? If you are I will have to detonate you with my Killer Queen. is probably similar to: ['@TinyJecht Are you another Stand-user? If you are I will have to detonate you with my Killer Queen.', '@TinyJecht Are you another Stand-user? If you are I will have to detonate you with my Killer Queen.']\n",
      "@spinningbot Are you another Stand-user? If you are I will have to detonate you with my Killer Queen. is probably similar to: ['@spinningbot Are you another Stand-user? If you are I will have to detonate you with my Killer Queen.', '@spinningbot Are you another Stand-user? If you are I will have to detonate you with my Killer Queen.']\n",
      "@TinyJecht Are you another Stand-user? If you are I will have to detonate you with my Killer Queen. is probably similar to: ['@TinyJecht Are you another Stand-user? If you are I will have to detonate you with my Killer Queen.', '@TinyJecht Are you another Stand-user? If you are I will have to detonate you with my Killer Queen.']\n",
      "(#LosDelSonido) Obama Declares Disaster for Typhoon-Devastated Saipan: Obama signs disaster declaration for Northern Ma...  (#IvanBerroa) is probably similar to: ['(#LosDelSonido) Obama Declares Disaster for Typhoon-Devastated Saipan: Obama signs disaster declaration for Northern Ma...  (#IvanBerroa)']\n",
      "abcnews - Obama Declares Disaster for Typhoon-Devastated Saipan: Obama signs disaster declaration for Northern... http://t.co/mg5eAJElul is probably similar to: ['abcnews - Obama Declares Disaster for Typhoon-Devastated Saipan: Obama signs disaster declaration for Northern... http://t.co/mg5eAJElul']\n",
      "Top insurer blasts lack of Australian Govt action on disaster mitigation http://t.co/sDgOUtWNtb via @smh is probably similar to: ['Top insurer blasts lack of Australian Govt action on disaster mitigation http://t.co/sDgOUtWNtb via @smh']\n",
      "#Myanmar  Displaced #Rohingya at #Sittwe point of no return http://t.co/cgf61fPmR0  #Prison like conditions #genocide IHHen MSF Refugees is probably similar to: ['#Myanmar  Displaced #Rohingya at #Sittwe point of no return http://t.co/cgf61fPmR0  #Prison like conditions #genocide IHHen MSF Refugees']\n",
      "#KCA #VoteJKT48ID 12News: UPDATE: A family of 3 has been displaced after fired damaged housed near 90th and Osborn. Fire extinguished no iÛ_ is probably similar to: ['#KCA #VoteJKT48ID 12News: UPDATE: A family of 3 has been displaced after fired damaged housed near 90th and Osborn. Fire extinguished no i\\x89Û_']\n",
      "#KCA #VoteJKT48ID 12News: UPDATE: A family of 3 has been displaced after fired damaged housed near 90th and Osborn. Fire extinguished no iÛ_ is probably similar to: ['#KCA #VoteJKT48ID 12News: UPDATE: A family of 3 has been displaced after fired damaged housed near 90th and Osborn. Fire extinguished no i\\x89Û_']\n",
      ".POTUS #StrategicPatience is a strategy for #Genocide; refugees; IDP Internally displaced people; horror; etc. https://t.co/rqWuoy1fm4 is probably similar to: ['.POTUS #StrategicPatience is a strategy for #Genocide; refugees; IDP Internally displaced people; horror; etc. https://t.co/rqWuoy1fm4', '.POTUS #StrategicPatience is a strategy for #Genocide; refugees; IDP Internally displaced people; horror; etc. https://t.co/rqWuoy1fm4', '.POTUS #StrategicPatience is a strategy for #Genocide; refugees; IDP Internally displaced people; horror; etc. https://t.co/rqWuoy1fm4']\n",
      ".POTUS #StrategicPatience is a strategy for #Genocide; refugees; IDP Internally displaced people; horror; etc. https://t.co/rqWuoy1fm4 is probably similar to: ['.POTUS #StrategicPatience is a strategy for #Genocide; refugees; IDP Internally displaced people; horror; etc. https://t.co/rqWuoy1fm4', '.POTUS #StrategicPatience is a strategy for #Genocide; refugees; IDP Internally displaced people; horror; etc. https://t.co/rqWuoy1fm4', '.POTUS #StrategicPatience is a strategy for #Genocide; refugees; IDP Internally displaced people; horror; etc. https://t.co/rqWuoy1fm4']\n",
      ".POTUS #StrategicPatience is a strategy for #Genocide; refugees; IDP Internally displaced people; horror; etc. https://t.co/rqWuoy1fm4 is probably similar to: ['.POTUS #StrategicPatience is a strategy for #Genocide; refugees; IDP Internally displaced people; horror; etc. https://t.co/rqWuoy1fm4', '.POTUS #StrategicPatience is a strategy for #Genocide; refugees; IDP Internally displaced people; horror; etc. https://t.co/rqWuoy1fm4', '.POTUS #StrategicPatience is a strategy for #Genocide; refugees; IDP Internally displaced people; horror; etc. https://t.co/rqWuoy1fm4']\n",
      ".POTUS #StrategicPatience is a strategy for #Genocide; refugees; IDP Internally displaced people; horror; etc. https://t.co/rqWuoy1fm4 is probably similar to: ['.POTUS #StrategicPatience is a strategy for #Genocide; refugees; IDP Internally displaced people; horror; etc. https://t.co/rqWuoy1fm4', '.POTUS #StrategicPatience is a strategy for #Genocide; refugees; IDP Internally displaced people; horror; etc. https://t.co/rqWuoy1fm4', '.POTUS #StrategicPatience is a strategy for #Genocide; refugees; IDP Internally displaced people; horror; etc. https://t.co/rqWuoy1fm4']\n",
      "#Myanmar  Displaced #Rohingya at #Sittwe point of no return http://t.co/cgf61fPmR0  #Prison like conditions #genocide IHHen MSF Refugees is probably similar to: ['#Myanmar  Displaced #Rohingya at #Sittwe point of no return http://t.co/cgf61fPmR0  #Prison like conditions #genocide IHHen MSF Refugees']\n",
      "Elem Pomo helping the displaced from the Rocky Fire. Please consider!\n",
      "Elem Evacuation Center http://t.co/dYDFvz7amj via @gofundme is probably similar to: ['Elem Pomo helping the displaced from the Rocky Fire. Please consider!\\nElem Evacuation Center http://t.co/dYDFvz7amj via @gofundme']\n",
      "USGS reports a M1.94 #earthquake 5km S of Volcano Hawaii on 8/6/15 @ 1:04:01 UTC http://t.co/Njd28pg9Xv #quake is probably similar to: ['USGS reports a M1.94 #earthquake 5km S of Volcano Hawaii on 8/6/15 @ 1:04:01 UTC http://t.co/Njd28pg9Xv #quake']\n",
      "@batfanuk we enjoyed the show today. Great fun. The emergency non evacuation was interesting. Have a great run. is probably similar to: ['@batfanuk we enjoyed the show today. Great fun. The emergency non evacuation was interesting. Have a great run.']\n",
      "He came to a land which was engulfed in tribal war and turned it into a land of peace i.e. Madinah. #ProphetMuhammad #islam is probably similar to: ['He came to a land which was engulfed in tribal war and turned it into a land of peace i.e. Madinah. #ProphetMuhammad #islam', 'He came to a land which was engulfed in tribal war and turned it into a land of peace i.e. Madinah. #ProphetMuhammad #islam', 'He came to a land which was engulfed in tribal war and turned it into a land of peace i.e. Madinah. #ProphetMuhammad #islam', 'He came to a land which was engulfed in tribal war and turned it into a land of peace i.e. Madinah. #ProphetMuhammad #islam', 'He came to a land which was engulfed in tribal war and turned it into a land of peace i.e. Madinah. #ProphetMuhammad #islam']\n",
      "He came to a land which was engulfed in tribal war and turned it into a land of peace i.e. Madinah. #ProphetMuhammad #islam is probably similar to: ['He came to a land which was engulfed in tribal war and turned it into a land of peace i.e. Madinah. #ProphetMuhammad #islam', 'He came to a land which was engulfed in tribal war and turned it into a land of peace i.e. Madinah. #ProphetMuhammad #islam', 'He came to a land which was engulfed in tribal war and turned it into a land of peace i.e. Madinah. #ProphetMuhammad #islam', 'He came to a land which was engulfed in tribal war and turned it into a land of peace i.e. Madinah. #ProphetMuhammad #islam', 'He came to a land which was engulfed in tribal war and turned it into a land of peace i.e. Madinah. #ProphetMuhammad #islam']\n",
      "He came to a land which was engulfed in tribal war and turned it into a land of peace i.e. Madinah. #ProphetMuhammad #islam is probably similar to: ['He came to a land which was engulfed in tribal war and turned it into a land of peace i.e. Madinah. #ProphetMuhammad #islam', 'He came to a land which was engulfed in tribal war and turned it into a land of peace i.e. Madinah. #ProphetMuhammad #islam', 'He came to a land which was engulfed in tribal war and turned it into a land of peace i.e. Madinah. #ProphetMuhammad #islam', 'He came to a land which was engulfed in tribal war and turned it into a land of peace i.e. Madinah. #ProphetMuhammad #islam', 'He came to a land which was engulfed in tribal war and turned it into a land of peace i.e. Madinah. #ProphetMuhammad #islam']\n",
      "He came to a land which was engulfed in tribal war and turned it into a land of peace i.e. Madinah. #ProphetMuhammad #islam is probably similar to: ['He came to a land which was engulfed in tribal war and turned it into a land of peace i.e. Madinah. #ProphetMuhammad #islam', 'He came to a land which was engulfed in tribal war and turned it into a land of peace i.e. Madinah. #ProphetMuhammad #islam', 'He came to a land which was engulfed in tribal war and turned it into a land of peace i.e. Madinah. #ProphetMuhammad #islam', 'He came to a land which was engulfed in tribal war and turned it into a land of peace i.e. Madinah. #ProphetMuhammad #islam', 'He came to a land which was engulfed in tribal war and turned it into a land of peace i.e. Madinah. #ProphetMuhammad #islam']\n",
      "He came to a land which was engulfed in tribal war and turned it into a land of peace i.e. Madinah. #ProphetMuhammad #islam is probably similar to: ['He came to a land which was engulfed in tribal war and turned it into a land of peace i.e. Madinah. #ProphetMuhammad #islam', 'He came to a land which was engulfed in tribal war and turned it into a land of peace i.e. Madinah. #ProphetMuhammad #islam', 'He came to a land which was engulfed in tribal war and turned it into a land of peace i.e. Madinah. #ProphetMuhammad #islam', 'He came to a land which was engulfed in tribal war and turned it into a land of peace i.e. Madinah. #ProphetMuhammad #islam', 'He came to a land which was engulfed in tribal war and turned it into a land of peace i.e. Madinah. #ProphetMuhammad #islam']\n",
      "He came to a land which was engulfed in tribal war and turned it into a land of peace i.e. Madinah. #ProphetMuhammad #islam is probably similar to: ['He came to a land which was engulfed in tribal war and turned it into a land of peace i.e. Madinah. #ProphetMuhammad #islam', 'He came to a land which was engulfed in tribal war and turned it into a land of peace i.e. Madinah. #ProphetMuhammad #islam', 'He came to a land which was engulfed in tribal war and turned it into a land of peace i.e. Madinah. #ProphetMuhammad #islam', 'He came to a land which was engulfed in tribal war and turned it into a land of peace i.e. Madinah. #ProphetMuhammad #islam', 'He came to a land which was engulfed in tribal war and turned it into a land of peace i.e. Madinah. #ProphetMuhammad #islam']\n",
      "New evacuation ordered for 25 homes in danger of Hwy. 8 fire near Roosevelt Wash. http://t.co/SQsyUeh4yI #KOIN6News http://t.co/199t7ND0pm is probably similar to: ['New evacuation ordered for 25 homes in danger of Hwy. 8 fire near Roosevelt Wash. http://t.co/SQsyUeh4yI #KOIN6News http://t.co/199t7ND0pm']\n",
      "#WorldNews Fallen powerlines on G:link tram: UPDATE: FIRE crews have evacuated up to 30 passengers who were tr...  http://t.co/EYSVvzA7Qm is probably similar to: ['#WorldNews Fallen powerlines on G:link tram: UPDATE: FIRE crews have evacuated up to 30 passengers who were tr... http://t.co/EYSVvzA7Qm']\n",
      "Elem Pomo helping the displaced from the Rocky Fire. Please consider!\n",
      "Elem Evacuation Center http://t.co/dYDFvz7amj via @gofundme is probably similar to: ['Elem Pomo helping the displaced from the Rocky Fire. Please consider!\\nElem Evacuation Center http://t.co/dYDFvz7amj via @gofundme']\n",
      "@batfanuk we enjoyed the show today. Great fun. The emergency non evacuation was interesting. Have a great run. is probably similar to: ['@batfanuk we enjoyed the show today. Great fun. The emergency non evacuation was interesting. Have a great run.']\n",
      "Evacuation order lifted for town of Roosevelt: http://t.co/EDyfo6E2PU http://t.co/M5KxLPKFA1 is probably similar to: ['Evacuation order lifted for town of Roosevelt: http://t.co/EDyfo6E2PU http://t.co/M5KxLPKFA1']\n",
      "New evacuation ordered for 25 homes in danger of Hwy. 8 fire near Roosevelt Wash. http://t.co/SQsyUeh4yI #KOIN6News http://t.co/199t7ND0pm is probably similar to: ['New evacuation ordered for 25 homes in danger of Hwy. 8 fire near Roosevelt Wash. http://t.co/SQsyUeh4yI #KOIN6News http://t.co/199t7ND0pm']\n",
      "that exploded &amp; brought about the\n",
      "beginning of universe matches what's\n",
      "mentioned in the versethe heaven and Earth\n",
      "(thus the universe) is probably similar to: [\"that exploded &amp; brought about the\\nbeginning of universe matches what's\\nmentioned in the versethe heaven and Earth\\n(thus the universe)\"]\n",
      "that exploded &amp; brought about the\n",
      "beginning of universe matches what's\n",
      "mentioned in the versethe heaven and Earth\n",
      "(thus the universe) is probably similar to: [\"that exploded &amp; brought about the\\nbeginning of universe matches what's\\nmentioned in the versethe heaven and Earth\\n(thus the universe)\"]\n",
      "11-Year-Old Boy Charged With Manslaughter of Toddler: Report: An 11-year-old boy has been charged with manslaughter over the fatal sh... is probably similar to: ['11-Year-Old Boy Charged With Manslaughter of Toddler: Report: An 11-year-old boy has been charged with manslaughter over the fatal sh...', '11-Year-Old Boy Charged With Manslaughter of Toddler: Report: An 11-year-old boy has been charged with manslaughter over the fatal sh...', '11-Year-Old Boy Charged With Manslaughter of Toddler: Report: An 11-year-old boy has been charged with manslaughter over the fatal sh...', '11-Year-Old Boy Charged With Manslaughter of Toddler: Report: An 11-year-old boy has been charged with manslaughter over the fatal sh...', '11-Year-Old Boy Charged With Manslaughter of Toddler: Report: An 11-year-old boy has been charged with manslaughter over the fatal sh...', '11-Year-Old Boy Charged With Manslaughter of Toddler: Report: An 11-year-old boy has been charged with manslaughter over the fatal sh...', '11-Year-Old Boy Charged With Manslaughter of Toddler: Report: An 11-year-old boy has been charged with manslaughter over the fatal sh...', '11-Year-Old Boy Charged With Manslaughter of Toddler: Report: An 11-year-old boy has been charged with manslaughter over the fatal sh...', '11-Year-Old Boy Charged With Manslaughter of Toddler: Report: An 11-year-old boy has been charged with manslaughter over the fatal sh...']\n",
      "11-Year-Old Boy Charged With Manslaughter of Toddler: Report: An 11-year-old boy has been charged with manslaughter over the fatal sh... is probably similar to: ['11-Year-Old Boy Charged With Manslaughter of Toddler: Report: An 11-year-old boy has been charged with manslaughter over the fatal sh...', '11-Year-Old Boy Charged With Manslaughter of Toddler: Report: An 11-year-old boy has been charged with manslaughter over the fatal sh...', '11-Year-Old Boy Charged With Manslaughter of Toddler: Report: An 11-year-old boy has been charged with manslaughter over the fatal sh...', '11-Year-Old Boy Charged With Manslaughter of Toddler: Report: An 11-year-old boy has been charged with manslaughter over the fatal sh...', '11-Year-Old Boy Charged With Manslaughter of Toddler: Report: An 11-year-old boy has been charged with manslaughter over the fatal sh...', '11-Year-Old Boy Charged With Manslaughter of Toddler: Report: An 11-year-old boy has been charged with manslaughter over the fatal sh...', '11-Year-Old Boy Charged With Manslaughter of Toddler: Report: An 11-year-old boy has been charged with manslaughter over the fatal sh...', '11-Year-Old Boy Charged With Manslaughter of Toddler: Report: An 11-year-old boy has been charged with manslaughter over the fatal sh...', '11-Year-Old Boy Charged With Manslaughter of Toddler: Report: An 11-year-old boy has been charged with manslaughter over the fatal sh...']\n",
      "11-Year-Old Boy Charged With Manslaughter of Toddler: Report: An 11-year-old boy has been charged with manslaughter over the fatal sh... is probably similar to: ['11-Year-Old Boy Charged With Manslaughter of Toddler: Report: An 11-year-old boy has been charged with manslaughter over the fatal sh...', '11-Year-Old Boy Charged With Manslaughter of Toddler: Report: An 11-year-old boy has been charged with manslaughter over the fatal sh...', '11-Year-Old Boy Charged With Manslaughter of Toddler: Report: An 11-year-old boy has been charged with manslaughter over the fatal sh...', '11-Year-Old Boy Charged With Manslaughter of Toddler: Report: An 11-year-old boy has been charged with manslaughter over the fatal sh...', '11-Year-Old Boy Charged With Manslaughter of Toddler: Report: An 11-year-old boy has been charged with manslaughter over the fatal sh...', '11-Year-Old Boy Charged With Manslaughter of Toddler: Report: An 11-year-old boy has been charged with manslaughter over the fatal sh...', '11-Year-Old Boy Charged With Manslaughter of Toddler: Report: An 11-year-old boy has been charged with manslaughter over the fatal sh...', '11-Year-Old Boy Charged With Manslaughter of Toddler: Report: An 11-year-old boy has been charged with manslaughter over the fatal sh...', '11-Year-Old Boy Charged With Manslaughter of Toddler: Report: An 11-year-old boy has been charged with manslaughter over the fatal sh...']\n",
      "11-Year-Old Boy Charged With Manslaughter of Toddler: Report: An 11-year-old boy has been charged with manslaughter over the fatal sh... is probably similar to: ['11-Year-Old Boy Charged With Manslaughter of Toddler: Report: An 11-year-old boy has been charged with manslaughter over the fatal sh...', '11-Year-Old Boy Charged With Manslaughter of Toddler: Report: An 11-year-old boy has been charged with manslaughter over the fatal sh...', '11-Year-Old Boy Charged With Manslaughter of Toddler: Report: An 11-year-old boy has been charged with manslaughter over the fatal sh...', '11-Year-Old Boy Charged With Manslaughter of Toddler: Report: An 11-year-old boy has been charged with manslaughter over the fatal sh...', '11-Year-Old Boy Charged With Manslaughter of Toddler: Report: An 11-year-old boy has been charged with manslaughter over the fatal sh...', '11-Year-Old Boy Charged With Manslaughter of Toddler: Report: An 11-year-old boy has been charged with manslaughter over the fatal sh...', '11-Year-Old Boy Charged With Manslaughter of Toddler: Report: An 11-year-old boy has been charged with manslaughter over the fatal sh...', '11-Year-Old Boy Charged With Manslaughter of Toddler: Report: An 11-year-old boy has been charged with manslaughter over the fatal sh...', '11-Year-Old Boy Charged With Manslaughter of Toddler: Report: An 11-year-old boy has been charged with manslaughter over the fatal sh...']\n",
      "11-Year-Old Boy Charged With Manslaughter of Toddler: Report: An 11-year-old boy has been charged with manslaughter over the fatal sh... is probably similar to: ['11-Year-Old Boy Charged With Manslaughter of Toddler: Report: An 11-year-old boy has been charged with manslaughter over the fatal sh...', '11-Year-Old Boy Charged With Manslaughter of Toddler: Report: An 11-year-old boy has been charged with manslaughter over the fatal sh...', '11-Year-Old Boy Charged With Manslaughter of Toddler: Report: An 11-year-old boy has been charged with manslaughter over the fatal sh...', '11-Year-Old Boy Charged With Manslaughter of Toddler: Report: An 11-year-old boy has been charged with manslaughter over the fatal sh...', '11-Year-Old Boy Charged With Manslaughter of Toddler: Report: An 11-year-old boy has been charged with manslaughter over the fatal sh...', '11-Year-Old Boy Charged With Manslaughter of Toddler: Report: An 11-year-old boy has been charged with manslaughter over the fatal sh...', '11-Year-Old Boy Charged With Manslaughter of Toddler: Report: An 11-year-old boy has been charged with manslaughter over the fatal sh...', '11-Year-Old Boy Charged With Manslaughter of Toddler: Report: An 11-year-old boy has been charged with manslaughter over the fatal sh...', '11-Year-Old Boy Charged With Manslaughter of Toddler: Report: An 11-year-old boy has been charged with manslaughter over the fatal sh...']\n",
      "11-Year-Old Boy Charged With Manslaughter of Toddler: Report: An 11-year-old boy has been charged with manslaughter over the fatal sh... is probably similar to: ['11-Year-Old Boy Charged With Manslaughter of Toddler: Report: An 11-year-old boy has been charged with manslaughter over the fatal sh...', '11-Year-Old Boy Charged With Manslaughter of Toddler: Report: An 11-year-old boy has been charged with manslaughter over the fatal sh...', '11-Year-Old Boy Charged With Manslaughter of Toddler: Report: An 11-year-old boy has been charged with manslaughter over the fatal sh...', '11-Year-Old Boy Charged With Manslaughter of Toddler: Report: An 11-year-old boy has been charged with manslaughter over the fatal sh...', '11-Year-Old Boy Charged With Manslaughter of Toddler: Report: An 11-year-old boy has been charged with manslaughter over the fatal sh...', '11-Year-Old Boy Charged With Manslaughter of Toddler: Report: An 11-year-old boy has been charged with manslaughter over the fatal sh...', '11-Year-Old Boy Charged With Manslaughter of Toddler: Report: An 11-year-old boy has been charged with manslaughter over the fatal sh...', '11-Year-Old Boy Charged With Manslaughter of Toddler: Report: An 11-year-old boy has been charged with manslaughter over the fatal sh...', '11-Year-Old Boy Charged With Manslaughter of Toddler: Report: An 11-year-old boy has been charged with manslaughter over the fatal sh...']\n",
      "11-Year-Old Boy Charged With Manslaughter of Toddler: Report: An 11-year-old boy has been charged with manslaughter over the fatal sh... is probably similar to: ['11-Year-Old Boy Charged With Manslaughter of Toddler: Report: An 11-year-old boy has been charged with manslaughter over the fatal sh...', '11-Year-Old Boy Charged With Manslaughter of Toddler: Report: An 11-year-old boy has been charged with manslaughter over the fatal sh...', '11-Year-Old Boy Charged With Manslaughter of Toddler: Report: An 11-year-old boy has been charged with manslaughter over the fatal sh...', '11-Year-Old Boy Charged With Manslaughter of Toddler: Report: An 11-year-old boy has been charged with manslaughter over the fatal sh...', '11-Year-Old Boy Charged With Manslaughter of Toddler: Report: An 11-year-old boy has been charged with manslaughter over the fatal sh...', '11-Year-Old Boy Charged With Manslaughter of Toddler: Report: An 11-year-old boy has been charged with manslaughter over the fatal sh...', '11-Year-Old Boy Charged With Manslaughter of Toddler: Report: An 11-year-old boy has been charged with manslaughter over the fatal sh...', '11-Year-Old Boy Charged With Manslaughter of Toddler: Report: An 11-year-old boy has been charged with manslaughter over the fatal sh...', '11-Year-Old Boy Charged With Manslaughter of Toddler: Report: An 11-year-old boy has been charged with manslaughter over the fatal sh...']\n",
      "11-Year-Old Boy Charged With Manslaughter of Toddler: Report: An 11-year-old boy has been charged with manslaughter over the fatal sh... is probably similar to: ['11-Year-Old Boy Charged With Manslaughter of Toddler: Report: An 11-year-old boy has been charged with manslaughter over the fatal sh...', '11-Year-Old Boy Charged With Manslaughter of Toddler: Report: An 11-year-old boy has been charged with manslaughter over the fatal sh...', '11-Year-Old Boy Charged With Manslaughter of Toddler: Report: An 11-year-old boy has been charged with manslaughter over the fatal sh...', '11-Year-Old Boy Charged With Manslaughter of Toddler: Report: An 11-year-old boy has been charged with manslaughter over the fatal sh...', '11-Year-Old Boy Charged With Manslaughter of Toddler: Report: An 11-year-old boy has been charged with manslaughter over the fatal sh...', '11-Year-Old Boy Charged With Manslaughter of Toddler: Report: An 11-year-old boy has been charged with manslaughter over the fatal sh...', '11-Year-Old Boy Charged With Manslaughter of Toddler: Report: An 11-year-old boy has been charged with manslaughter over the fatal sh...', '11-Year-Old Boy Charged With Manslaughter of Toddler: Report: An 11-year-old boy has been charged with manslaughter over the fatal sh...', '11-Year-Old Boy Charged With Manslaughter of Toddler: Report: An 11-year-old boy has been charged with manslaughter over the fatal sh...']\n",
      "11-Year-Old Boy Charged With Manslaughter of Toddler: Report: An 11-year-old boy has been charged with manslaughter over the fatal sh... is probably similar to: ['11-Year-Old Boy Charged With Manslaughter of Toddler: Report: An 11-year-old boy has been charged with manslaughter over the fatal sh...', '11-Year-Old Boy Charged With Manslaughter of Toddler: Report: An 11-year-old boy has been charged with manslaughter over the fatal sh...', '11-Year-Old Boy Charged With Manslaughter of Toddler: Report: An 11-year-old boy has been charged with manslaughter over the fatal sh...', '11-Year-Old Boy Charged With Manslaughter of Toddler: Report: An 11-year-old boy has been charged with manslaughter over the fatal sh...', '11-Year-Old Boy Charged With Manslaughter of Toddler: Report: An 11-year-old boy has been charged with manslaughter over the fatal sh...', '11-Year-Old Boy Charged With Manslaughter of Toddler: Report: An 11-year-old boy has been charged with manslaughter over the fatal sh...', '11-Year-Old Boy Charged With Manslaughter of Toddler: Report: An 11-year-old boy has been charged with manslaughter over the fatal sh...', '11-Year-Old Boy Charged With Manslaughter of Toddler: Report: An 11-year-old boy has been charged with manslaughter over the fatal sh...', '11-Year-Old Boy Charged With Manslaughter of Toddler: Report: An 11-year-old boy has been charged with manslaughter over the fatal sh...']\n",
      "11-Year-Old Boy Charged With Manslaughter of Toddler: Report: An 11-year-old boy has been charged with manslaughter over the fatal sh... is probably similar to: ['11-Year-Old Boy Charged With Manslaughter of Toddler: Report: An 11-year-old boy has been charged with manslaughter over the fatal sh...', '11-Year-Old Boy Charged With Manslaughter of Toddler: Report: An 11-year-old boy has been charged with manslaughter over the fatal sh...', '11-Year-Old Boy Charged With Manslaughter of Toddler: Report: An 11-year-old boy has been charged with manslaughter over the fatal sh...', '11-Year-Old Boy Charged With Manslaughter of Toddler: Report: An 11-year-old boy has been charged with manslaughter over the fatal sh...', '11-Year-Old Boy Charged With Manslaughter of Toddler: Report: An 11-year-old boy has been charged with manslaughter over the fatal sh...', '11-Year-Old Boy Charged With Manslaughter of Toddler: Report: An 11-year-old boy has been charged with manslaughter over the fatal sh...', '11-Year-Old Boy Charged With Manslaughter of Toddler: Report: An 11-year-old boy has been charged with manslaughter over the fatal sh...', '11-Year-Old Boy Charged With Manslaughter of Toddler: Report: An 11-year-old boy has been charged with manslaughter over the fatal sh...', '11-Year-Old Boy Charged With Manslaughter of Toddler: Report: An 11-year-old boy has been charged with manslaughter over the fatal sh...']\n",
      "#SigAlert: North &amp; Southbound 133 closed btwn 5 fwy and Irvine Blvd due to truck fire. CHP is detouring traffic. is probably similar to: ['#SigAlert: North &amp; Southbound 133 closed btwn 5 fwy and Irvine Blvd due to truck fire. CHP is detouring traffic.']\n",
      "#SigAlert: North &amp; Southbound 133 closed btwn 5 fwy and Irvine Blvd due to truck fire. CHP is detouring traffic. is probably similar to: ['#SigAlert: North &amp; Southbound 133 closed btwn 5 fwy and Irvine Blvd due to truck fire. CHP is detouring traffic.']\n",
      "Who is bringing the tornadoes and floods. Who is bringing the climate change. God is after America He is plaguing her\n",
      " \n",
      "#FARRAKHAN #QUOTE is probably similar to: ['Who is bringing the tornadoes and floods. Who is bringing the climate change. God is after America He is plaguing her\\n \\n#FARRAKHAN #QUOTE', 'Who is bringing the tornadoes and floods. Who is bringing the climate change. God is after America He is plaguing her\\n \\n#FARRAKHAN #QUOTE']\n",
      "Who is bringing the tornadoes and floods. Who is bringing the climate change. God is after America He is plaguing her\n",
      " \n",
      "#FARRAKHAN #QUOTE is probably similar to: ['Who is bringing the tornadoes and floods. Who is bringing the climate change. God is after America He is plaguing her\\n \\n#FARRAKHAN #QUOTE', 'Who is bringing the tornadoes and floods. Who is bringing the climate change. God is after America He is plaguing her\\n \\n#FARRAKHAN #QUOTE']\n",
      "Who is bringing the tornadoes and floods. Who is bringing the climate change. God is after America He is plaguing her\n",
      " \n",
      "#FARRAKHAN #QUOTE is probably similar to: ['Who is bringing the tornadoes and floods. Who is bringing the climate change. God is after America He is plaguing her\\n \\n#FARRAKHAN #QUOTE', 'Who is bringing the tornadoes and floods. Who is bringing the climate change. God is after America He is plaguing her\\n \\n#FARRAKHAN #QUOTE']\n",
      "How is it one careless match can start a forest fire but it takes a whole box to start a campfire? is probably similar to: ['How is it one careless match can start a forest fire but it takes a whole box to start a campfire']\n",
      "How is it one careless match can start a forest fire but it takes a whole box to start a campfire is probably similar to: ['How is it one careless match can start a forest fire but it takes a whole box to start a campfire?']\n",
      "#foodscare #offers2go #NestleIndia slips into loss after #Magginoodle #ban unsafe and hazardous for #humanconsumption is probably similar to: ['#foodscare #offers2go #NestleIndia slips into loss after #Magginoodle #ban unsafe and hazardous for #humanconsumption', '#foodscare #offers2go #NestleIndia slips into loss after #Magginoodle #ban unsafe and hazardous for #humanconsumption']\n",
      "Caution: breathing may be hazardous to your health. is probably similar to: ['Caution: breathing may be hazardous to your health.']\n",
      "Caution: breathing may be hazardous to your health. is probably similar to: ['Caution: breathing may be hazardous to your health.']\n",
      "#foodscare #offers2go #NestleIndia slips into loss after #Magginoodle #ban unsafe and hazardous for #humanconsumption is probably similar to: ['#foodscare #offers2go #NestleIndia slips into loss after #Magginoodle #ban unsafe and hazardous for #humanconsumption', '#foodscare #offers2go #NestleIndia slips into loss after #Magginoodle #ban unsafe and hazardous for #humanconsumption']\n",
      "#foodscare #offers2go #NestleIndia slips into loss after #Magginoodle #ban unsafe and hazardous for #humanconsumption is probably similar to: ['#foodscare #offers2go #NestleIndia slips into loss after #Magginoodle #ban unsafe and hazardous for #humanconsumption', '#foodscare #offers2go #NestleIndia slips into loss after #Magginoodle #ban unsafe and hazardous for #humanconsumption']\n",
      "The Prophet (peace be upon him) said 'Save yourself from Hellfire even if it is by giving half a date in charity.' is probably similar to: [\"The Prophet (peace be upon him) said 'Save yourself from Hellfire even if it is by giving half a date in charity.'\", \"The Prophet (peace be upon him) said 'Save yourself from Hellfire even if it is by giving half a date in charity.'\", \"The Prophet (peace be upon him) said 'Save yourself from Hellfire even if it is by giving half a date in charity.'\", \"The Prophet (peace be upon him) said 'Save yourself from Hellfire even if it is by giving half a date in charity.'\", \"The Prophet (peace be upon him) said 'Save yourself from Hellfire even if it is by giving half a date in charity.'\"]\n",
      "Hellfire is surrounded by desires so be careful and donÛªt let your desires control you! #Afterlife is probably similar to: ['Hellfire is surrounded by desires so be careful and don\\x89Ûªt let your desires control you! #Afterlife #islam', 'Hellfire is surrounded by desires so be careful and don\\x89Ûªt let your desires control you! #Afterlife', 'Hellfire is surrounded by desires so be careful and don\\x89Ûªt let your desires control you! #Afterlife #islam', 'Hellfire is surrounded by desires so be careful and don\\x89Ûªt let your desires control you! #Afterlife']\n",
      "The Prophet (peace be upon him) said 'Save yourself from Hellfire even if it is by giving half a date in charity.' is probably similar to: [\"The Prophet (peace be upon him) said 'Save yourself from Hellfire even if it is by giving half a date in charity.'\", \"The Prophet (peace be upon him) said 'Save yourself from Hellfire even if it is by giving half a date in charity.'\", \"The Prophet (peace be upon him) said 'Save yourself from Hellfire even if it is by giving half a date in charity.'\", \"The Prophet (peace be upon him) said 'Save yourself from Hellfire even if it is by giving half a date in charity.'\", \"The Prophet (peace be upon him) said 'Save yourself from Hellfire even if it is by giving half a date in charity.'\"]\n",
      "Beware of your temper and a loose tongue! These two dangerous weapons combined can lead a person to the Hellfire #islam! is probably similar to: ['Beware of your temper and a loose tongue! These two dangerous weapons combined can lead a person to the Hellfire #islam!', 'Beware of your temper and a loose tongue! These two dangerous weapons combined can lead a person to the Hellfire #islam!']\n",
      "#Allah describes piling up #wealth thinking it would last #forever as the description of the people of #Hellfire in Surah Humaza. #Reflect is probably similar to: ['#Allah describes piling up #wealth thinking it would last #forever as the description of the people of #Hellfire in Surah Humaza. #Reflect', '#Allah describes piling up #wealth thinking it would last #forever as the description of the people of #Hellfire in Surah Humaza. #Reflect']\n",
      "Beware of your temper and a loose tongue! These two dangerous weapons combined can lead a person to the Hellfire #islam! is probably similar to: ['Beware of your temper and a loose tongue! These two dangerous weapons combined can lead a person to the Hellfire #islam!', 'Beware of your temper and a loose tongue! These two dangerous weapons combined can lead a person to the Hellfire #islam!']\n",
      "The Prophet (peace be upon him) said 'Save yourself from Hellfire even if it is by giving half a date in charity.' is probably similar to: [\"The Prophet (peace be upon him) said 'Save yourself from Hellfire even if it is by giving half a date in charity.'\", \"The Prophet (peace be upon him) said 'Save yourself from Hellfire even if it is by giving half a date in charity.'\", \"The Prophet (peace be upon him) said 'Save yourself from Hellfire even if it is by giving half a date in charity.'\", \"The Prophet (peace be upon him) said 'Save yourself from Hellfire even if it is by giving half a date in charity.'\", \"The Prophet (peace be upon him) said 'Save yourself from Hellfire even if it is by giving half a date in charity.'\"]\n",
      "Hellfire! We donÛªt even want to think about it or mention it so letÛªs not do anything that leads to it! is probably similar to: ['Hellfire! We don\\x89Ûªt even want to think about it or mention it so let\\x89Ûªs not do anything that leads to it!']\n",
      "Hellfire is surrounded by desires so be careful and donÛªt let your desires control you! #Afterlife #islam is probably similar to: ['Hellfire is surrounded by desires so be careful and don\\x89Ûªt let your desires control you! #Afterlife', 'Hellfire is surrounded by desires so be careful and don\\x89Ûªt let your desires control you! #Afterlife', 'Hellfire is surrounded by desires so be careful and don\\x89Ûªt let your desires control you! #Afterlife #islam', 'Hellfire is surrounded by desires so be careful and don\\x89Ûªt let your desires control you! #Afterlife']\n",
      "#Allah describes piling up #wealth thinking it would last #forever as the description of the people of #Hellfire in Surah Humaza. #Reflect is probably similar to: ['#Allah describes piling up #wealth thinking it would last #forever as the description of the people of #Hellfire in Surah Humaza. #Reflect', '#Allah describes piling up #wealth thinking it would last #forever as the description of the people of #Hellfire in Surah Humaza. #Reflect']\n",
      "Beware of your temper and a loose tongue! These two dangerous weapons combined can lead a person to the Hellfire #islam! is probably similar to: ['Beware of your temper and a loose tongue! These two dangerous weapons combined can lead a person to the Hellfire #islam!', 'Beware of your temper and a loose tongue! These two dangerous weapons combined can lead a person to the Hellfire #islam!']\n",
      "The Prophet (peace be upon him) said 'Save yourself from Hellfire even if it is by giving half a date in charity.' is probably similar to: [\"The Prophet (peace be upon him) said 'Save yourself from Hellfire even if it is by giving half a date in charity.'\", \"The Prophet (peace be upon him) said 'Save yourself from Hellfire even if it is by giving half a date in charity.'\", \"The Prophet (peace be upon him) said 'Save yourself from Hellfire even if it is by giving half a date in charity.'\", \"The Prophet (peace be upon him) said 'Save yourself from Hellfire even if it is by giving half a date in charity.'\", \"The Prophet (peace be upon him) said 'Save yourself from Hellfire even if it is by giving half a date in charity.'\"]\n",
      "Hellfire is surrounded by desires so be careful and donÛªt let your desires control you! #Afterlife is probably similar to: ['Hellfire is surrounded by desires so be careful and don\\x89Ûªt let your desires control you! #Afterlife', 'Hellfire is surrounded by desires so be careful and don\\x89Ûªt let your desires control you! #Afterlife #islam', 'Hellfire is surrounded by desires so be careful and don\\x89Ûªt let your desires control you! #Afterlife #islam', 'Hellfire is surrounded by desires so be careful and don\\x89Ûªt let your desires control you! #Afterlife']\n",
      "Hellfire! We donÛªt even want to think about it or mention it so letÛªs not do anything that leads to it #islam! is probably similar to: ['Hellfire! We don\\x89Ûªt even want to think about it or mention it so let\\x89Ûªs not do anything that leads to it #islam!']\n",
      "Hellfire is surrounded by desires so be careful and donÛªt let your desires control you! #Afterlife #islam is probably similar to: ['Hellfire is surrounded by desires so be careful and don\\x89Ûªt let your desires control you! #Afterlife', 'Hellfire is surrounded by desires so be careful and don\\x89Ûªt let your desires control you! #Afterlife #islam', 'Hellfire is surrounded by desires so be careful and don\\x89Ûªt let your desires control you! #Afterlife', 'Hellfire is surrounded by desires so be careful and don\\x89Ûªt let your desires control you! #Afterlife']\n",
      "The Prophet (peace be upon him) said 'Save yourself from Hellfire even if it is by giving half a date in charity.' is probably similar to: [\"The Prophet (peace be upon him) said 'Save yourself from Hellfire even if it is by giving half a date in charity.'\", \"The Prophet (peace be upon him) said 'Save yourself from Hellfire even if it is by giving half a date in charity.'\", \"The Prophet (peace be upon him) said 'Save yourself from Hellfire even if it is by giving half a date in charity.'\", \"The Prophet (peace be upon him) said 'Save yourself from Hellfire even if it is by giving half a date in charity.'\", \"The Prophet (peace be upon him) said 'Save yourself from Hellfire even if it is by giving half a date in charity.'\"]\n",
      "Hellfire! We donÛªt even want to think about it or mention it so letÛªs not do anything that leads to it! is probably similar to: ['Hellfire! We don\\x89Ûªt even want to think about it or mention it so let\\x89Ûªs not do anything that leads to it!']\n",
      "#Allah describes piling up #wealth thinking it would last #forever as the description of the people of #Hellfire in Surah Humaza. #Reflect is probably similar to: ['#Allah describes piling up #wealth thinking it would last #forever as the description of the people of #Hellfire in Surah Humaza. #Reflect', '#Allah describes piling up #wealth thinking it would last #forever as the description of the people of #Hellfire in Surah Humaza. #Reflect']\n",
      "Hellfire is surrounded by desires so be careful and donÛªt let your desires control you! #Afterlife is probably similar to: ['Hellfire is surrounded by desires so be careful and don\\x89Ûªt let your desires control you! #Afterlife', 'Hellfire is surrounded by desires so be careful and don\\x89Ûªt let your desires control you! #Afterlife #islam', 'Hellfire is surrounded by desires so be careful and don\\x89Ûªt let your desires control you! #Afterlife', 'Hellfire is surrounded by desires so be careful and don\\x89Ûªt let your desires control you! #Afterlife #islam']\n",
      "The Prophet (peace be upon him) said 'Save yourself from Hellfire even if it is by giving half a date in charity.' is probably similar to: [\"The Prophet (peace be upon him) said 'Save yourself from Hellfire even if it is by giving half a date in charity.'\", \"The Prophet (peace be upon him) said 'Save yourself from Hellfire even if it is by giving half a date in charity.'\", \"The Prophet (peace be upon him) said 'Save yourself from Hellfire even if it is by giving half a date in charity.'\", \"The Prophet (peace be upon him) said 'Save yourself from Hellfire even if it is by giving half a date in charity.'\", \"The Prophet (peace be upon him) said 'Save yourself from Hellfire even if it is by giving half a date in charity.'\"]\n",
      "Hellfire! We donÛªt even want to think about it or mention it so letÛªs not do anything that leads to it #islam! is probably similar to: ['Hellfire! We don\\x89Ûªt even want to think about it or mention it so let\\x89Ûªs not do anything that leads to it #islam!']\n",
      "Swansea Û÷plot hijack transfer move for Southampton target Virgil van DijkÛª http://t.co/PVmr38LnvA is probably similar to: ['Swansea \\x89Û÷plot hijack transfer move for Southampton target Virgil van Dijk\\x89Ûª http://t.co/PVmr38LnvA']\n",
      "Swansea Û÷plot hijack transfer move for Southampton target Virgil van DijkÛª http://t.co/PVmr38LnvA is probably similar to: ['Swansea \\x89Û÷plot hijack transfer move for Southampton target Virgil van Dijk\\x89Ûª http://t.co/PVmr38LnvA']\n",
      "RT NotExplained: The only known image of infamous hijacker D.B. Cooper. http://t.co/JlzK2HdeTG is probably similar to: ['RT NotExplained: The only known image of infamous hijacker D.B. Cooper. http://t.co/JlzK2HdeTG']\n",
      "RT NotExplained: The only known image of infamous hijacker D.B. Cooper. http://t.co/JlzK2HdeTG is probably similar to: ['RT NotExplained: The only known image of infamous hijacker D.B. Cooper. http://t.co/JlzK2HdeTG']\n",
      "CLEARED:incident with injury:I-495  inner loop Exit 31 - MD 97/Georgia Ave Silver Spring is probably similar to: ['CLEARED:incident with injury:I-495  inner loop Exit 31 - MD 97/Georgia Ave Silver Spring', 'CLEARED:incident with injury:I-495  inner loop Exit 31 - MD 97/Georgia Ave Silver Spring']\n",
      "Traffic Collision - No Injury: I5 S at I5 S 43rd Ave offramp South Sac http://t.co/cT9ejXoLpu is probably similar to: ['Traffic Collision - No Injury: I5 S at I5 S 43rd Ave offramp South Sac http://t.co/cT9ejXoLpu']\n",
      "CLEARED:incident with injury:I-495  inner loop Exit 31 - MD 97/Georgia Ave Silver Spring is probably similar to: ['CLEARED:incident with injury:I-495  inner loop Exit 31 - MD 97/Georgia Ave Silver Spring', 'CLEARED:incident with injury:I-495  inner loop Exit 31 - MD 97/Georgia Ave Silver Spring']\n",
      "CLEARED:incident with injury:I-495  inner loop Exit 31 - MD 97/Georgia Ave Silver Spring is probably similar to: ['CLEARED:incident with injury:I-495  inner loop Exit 31 - MD 97/Georgia Ave Silver Spring', 'CLEARED:incident with injury:I-495  inner loop Exit 31 - MD 97/Georgia Ave Silver Spring']\n",
      "incident with injury:I-495  inner loop Exit 31 - MD 97/Georgia Ave Silver Spring is probably similar to: ['incident with injury:I-495  inner loop Exit 31 - MD 97/Georgia Ave Silver Spring']\n",
      "incident with injury:I-495  inner loop Exit 31 - MD 97/Georgia Ave Silver Spring is probably similar to: ['incident with injury:I-495  inner loop Exit 31 - MD 97/Georgia Ave Silver Spring']\n",
      "http://t.co/c1H7JECFrV @RoyalCarribean do your passengers know about the mass murder that takes place in the #FaroeIslands every year? is probably similar to: ['http://t.co/c1H7JECFrV @RoyalCarribean do your passengers know about the mass murder that takes place in the #FaroeIslands every year?']\n",
      "http://t.co/c1H7JECFrV @RoyalCarribean do your passengers know about the mass murder that takes place in the #FaroeIslands every year? is probably similar to: ['http://t.co/c1H7JECFrV @RoyalCarribean do your passengers know about the mass murder that takes place in the #FaroeIslands every year?']\n",
      "This is the natural and unavoidable consequence of socialism everywhere it has been tried.\n",
      "http://t.co/BbDpnj8XSx A is probably similar to: ['This is the natural and unavoidable consequence of socialism everywhere it has been tried.\\nhttp://t.co/BbDpnj8XSx E', 'This is the natural and unavoidable consequence of socialism everywhere it has been tried.\\nhttp://t.co/BbDpnj8XSx F']\n",
      "This is the natural and unavoidable consequence of socialism everywhere it has been tried.\n",
      "http://t.co/BbDpnj8XSx E is probably similar to: ['This is the natural and unavoidable consequence of socialism everywhere it has been tried.\\nhttp://t.co/BbDpnj8XSx A', 'This is the natural and unavoidable consequence of socialism everywhere it has been tried.\\nhttp://t.co/BbDpnj8XSx F']\n",
      "Top insurer blasts lack of Australian Govt action on disaster mitigation http://t.co/sDgOUtWNtb via @smh is probably similar to: ['Top insurer blasts lack of Australian Govt action on disaster mitigation http://t.co/sDgOUtWNtb via @smh']\n",
      "This is the natural and unavoidable consequence of socialism everywhere it has been tried.\n",
      "http://t.co/BbDpnj8XSx F is probably similar to: ['This is the natural and unavoidable consequence of socialism everywhere it has been tried.\\nhttp://t.co/BbDpnj8XSx A', 'This is the natural and unavoidable consequence of socialism everywhere it has been tried.\\nhttp://t.co/BbDpnj8XSx E']\n",
      "Families to sue over Legionnaires: More than 40 families affected by the fatal outbreak of Legionnaires' disease in Edinburgh are to ... is probably similar to: [\"Families to sue over Legionnaires: More than 40 families affected by the fatal outbreak of Legionnaires' disease in Edinburgh are to ...\"]\n",
      "Families to sue over Legionnaires: More than 40 families affected by the fatal outbreak of Legionnaires' disease in Edinburgh are to ... is probably similar to: [\"Families to sue over Legionnaires: More than 40 families affected by the fatal outbreak of Legionnaires' disease in Edinburgh are to ...\"]\n",
      "'The way you move is like a full on rainstorm and I'm a house of cards' is probably similar to: [\"The way you move is like a full on rainstorm and I'm a house of cards.\"]\n",
      "The way you move is like a full on rainstorm and I'm a house of cards. is probably similar to: [\"'The way you move is like a full on rainstorm and I'm a house of cards'\"]\n",
      "wowo--=== 12000 Nigerian refugees repatriated from Cameroon is probably similar to: ['wowo--=== 12000 Nigerian refugees repatriated from Cameroon']\n",
      "wowo--=== 12000 Nigerian refugees repatriated from Cameroon is probably similar to: ['wowo--=== 12000 Nigerian refugees repatriated from Cameroon']\n",
      "UD: Rescue (Structural Collapse) - Scott Road @ Ypres Road York (14 Trucks) is probably similar to: ['UD: Rescue (Structural Collapse) - Scott Road @ Ypres Road York (14 Trucks)']\n",
      "UD: Rescue (Structural Collapse) - Scott Road @ Ypres Road York (14 Trucks) is probably similar to: ['UD: Rescue (Structural Collapse) - Scott Road @ Ypres Road York (14 Trucks)']\n",
      "VIDEO: 'We're picking up bodies from water': Rescuers are searching for hundreds of migrants in the Mediterranean after a boat carryi... is probably similar to: [\"VIDEO: 'We're picking up bodies from water': Rescuers are searching for hundreds of migrants in the Mediterranean after a boat carryi...\", \"VIDEO: 'We're picking up bodies from water': Rescuers are searching for hundreds of migrants in the Mediterranean after a boat carryi...\", \"VIDEO: 'We're picking up bodies from water': Rescuers are searching for hundreds of migrants in the Mediterranean after a boat carryi...\"]\n",
      "VIDEO: 'We're picking up bodies from water': Rescuers are searching for hundreds of migrants in the Mediterranean after a boat carryi... is probably similar to: [\"VIDEO: 'We're picking up bodies from water': Rescuers are searching for hundreds of migrants in the Mediterranean after a boat carryi...\", \"VIDEO: 'We're picking up bodies from water': Rescuers are searching for hundreds of migrants in the Mediterranean after a boat carryi...\", \"VIDEO: 'We're picking up bodies from water': Rescuers are searching for hundreds of migrants in the Mediterranean after a boat carryi...\"]\n",
      "VIDEO: 'We're picking up bodies from water': Rescuers are searching for hundreds of migrants in the Mediterranean after a boat carryi... is probably similar to: [\"VIDEO: 'We're picking up bodies from water': Rescuers are searching for hundreds of migrants in the Mediterranean after a boat carryi...\", \"VIDEO: 'We're picking up bodies from water': Rescuers are searching for hundreds of migrants in the Mediterranean after a boat carryi...\", \"VIDEO: 'We're picking up bodies from water': Rescuers are searching for hundreds of migrants in the Mediterranean after a boat carryi...\"]\n",
      "VIDEO: 'We're picking up bodies from water': Rescuers are searching for hundreds of migrants in the Mediterranean after a boat carryi... is probably similar to: [\"VIDEO: 'We're picking up bodies from water': Rescuers are searching for hundreds of migrants in the Mediterranean after a boat carryi...\", \"VIDEO: 'We're picking up bodies from water': Rescuers are searching for hundreds of migrants in the Mediterranean after a boat carryi...\", \"VIDEO: 'We're picking up bodies from water': Rescuers are searching for hundreds of migrants in the Mediterranean after a boat carryi...\"]\n",
      "Stuart Broad Takes Eight Before Joe Root Runs Riot Against Aussies is probably similar to: ['Stuart Broad Takes Eight Before Joe Root Runs Riot Against Aussies']\n",
      "Stuart Broad Takes Eight Before Joe Root Runs Riot Against Aussies is probably similar to: ['Stuart Broad Takes Eight Before Joe Root Runs Riot Against Aussies']\n",
      "that horrible sinking feeling when youÛªve been at home on your phone for a while and you realise its been on 3G this whole time is probably similar to: ['that horrible sinking feeling when you\\x89Ûªve been at home on your phone for a while and you realise its been on 3G this whole time', '?that horrible sinking feeling when you\\x89Ûªve been at home on your phone for a while and you realise its been on 3G this whole time', 'that horrible sinking feeling when you\\x89Ûªve been at home on your phone for a while and you realise its been on 3G this whole time', 'That horrible sinking feeling when you\\x89Ûªve been at home on your phone for a while and you realise its been on 3G this whole time.', 'That horrible sinking feeling when you\\x89Ûªve been at home on your phone for a while and you realise its been on 3G this whole time', 'that horrible sinking feeling when you\\x89Ûªve been at home on your phone for a while and you realise its been on 3G this whole time']\n",
      "that horrible sinking feeling when youÛªve been at home on your phone for a while and you realise its been on 3G this whole time is probably similar to: ['that horrible sinking feeling when you\\x89Ûªve been at home on your phone for a while and you realise its been on 3G this whole time', '?that horrible sinking feeling when you\\x89Ûªve been at home on your phone for a while and you realise its been on 3G this whole time', 'that horrible sinking feeling when you\\x89Ûªve been at home on your phone for a while and you realise its been on 3G this whole time', 'That horrible sinking feeling when you\\x89Ûªve been at home on your phone for a while and you realise its been on 3G this whole time.', 'That horrible sinking feeling when you\\x89Ûªve been at home on your phone for a while and you realise its been on 3G this whole time', 'that horrible sinking feeling when you\\x89Ûªve been at home on your phone for a while and you realise its been on 3G this whole time']\n",
      "?that horrible sinking feeling when youÛªve been at home on your phone for a while and you realise its been on 3G this whole time is probably similar to: ['that horrible sinking feeling when you\\x89Ûªve been at home on your phone for a while and you realise its been on 3G this whole time', 'that horrible sinking feeling when you\\x89Ûªve been at home on your phone for a while and you realise its been on 3G this whole time', 'that horrible sinking feeling when you\\x89Ûªve been at home on your phone for a while and you realise its been on 3G this whole time', 'That horrible sinking feeling when you\\x89Ûªve been at home on your phone for a while and you realise its been on 3G this whole time.', 'That horrible sinking feeling when you\\x89Ûªve been at home on your phone for a while and you realise its been on 3G this whole time', 'that horrible sinking feeling when you\\x89Ûªve been at home on your phone for a while and you realise its been on 3G this whole time']\n",
      "that horrible sinking feeling when youÛªve been at home on your phone for a while and you realise its been on 3G this whole time is probably similar to: ['that horrible sinking feeling when you\\x89Ûªve been at home on your phone for a while and you realise its been on 3G this whole time', 'that horrible sinking feeling when you\\x89Ûªve been at home on your phone for a while and you realise its been on 3G this whole time', '?that horrible sinking feeling when you\\x89Ûªve been at home on your phone for a while and you realise its been on 3G this whole time', 'That horrible sinking feeling when you\\x89Ûªve been at home on your phone for a while and you realise its been on 3G this whole time.', 'That horrible sinking feeling when you\\x89Ûªve been at home on your phone for a while and you realise its been on 3G this whole time', 'that horrible sinking feeling when you\\x89Ûªve been at home on your phone for a while and you realise its been on 3G this whole time']\n",
      "That horrible sinking feeling when youÛªve been at home on your phone for a while and you realise its been on 3G this whole time. is probably similar to: ['that horrible sinking feeling when you\\x89Ûªve been at home on your phone for a while and you realise its been on 3G this whole time', 'that horrible sinking feeling when you\\x89Ûªve been at home on your phone for a while and you realise its been on 3G this whole time', '?that horrible sinking feeling when you\\x89Ûªve been at home on your phone for a while and you realise its been on 3G this whole time', 'that horrible sinking feeling when you\\x89Ûªve been at home on your phone for a while and you realise its been on 3G this whole time', 'That horrible sinking feeling when you\\x89Ûªve been at home on your phone for a while and you realise its been on 3G this whole time', 'that horrible sinking feeling when you\\x89Ûªve been at home on your phone for a while and you realise its been on 3G this whole time']\n",
      "That horrible sinking feeling when youÛªve been at home on your phone for a while and you realise its been on 3G this whole time is probably similar to: ['that horrible sinking feeling when you\\x89Ûªve been at home on your phone for a while and you realise its been on 3G this whole time', 'that horrible sinking feeling when you\\x89Ûªve been at home on your phone for a while and you realise its been on 3G this whole time', '?that horrible sinking feeling when you\\x89Ûªve been at home on your phone for a while and you realise its been on 3G this whole time', 'that horrible sinking feeling when you\\x89Ûªve been at home on your phone for a while and you realise its been on 3G this whole time', 'That horrible sinking feeling when you\\x89Ûªve been at home on your phone for a while and you realise its been on 3G this whole time.', 'that horrible sinking feeling when you\\x89Ûªve been at home on your phone for a while and you realise its been on 3G this whole time']\n",
      "that horrible sinking feeling when youÛªve been at home on your phone for a while and you realise its been on 3G this whole time is probably similar to: ['that horrible sinking feeling when you\\x89Ûªve been at home on your phone for a while and you realise its been on 3G this whole time', 'that horrible sinking feeling when you\\x89Ûªve been at home on your phone for a while and you realise its been on 3G this whole time', '?that horrible sinking feeling when you\\x89Ûªve been at home on your phone for a while and you realise its been on 3G this whole time', 'that horrible sinking feeling when you\\x89Ûªve been at home on your phone for a while and you realise its been on 3G this whole time', 'That horrible sinking feeling when you\\x89Ûªve been at home on your phone for a while and you realise its been on 3G this whole time.', 'That horrible sinking feeling when you\\x89Ûªve been at home on your phone for a while and you realise its been on 3G this whole time']\n",
      "#Bestnaijamade: 16yr old PKK suicide bomber who detonated bomb in ... http://t.co/KSAwlYuX02 bestnaijamade bestnaijamade bestnaijamade beÛ_ is probably similar to: ['#Bestnaijamade: 16yr old PKK suicide bomber who detonated bomb in ... http://t.co/KSAwlYuX02 bestnaijamade bestnaijamade bestnaijamade be\\x89Û_', '#Bestnaijamade: 16yr old PKK suicide bomber who detonated bomb in ... http://t.co/KSAwlYuX02 bestnaijamade bestnaijamade bestnaijamade be\\x89Û_', '#Bestnaijamade: 16yr old PKK suicide bomber who detonated bomb in ... http://t.co/KSAwlYuX02 bestnaijamade bestnaijamade bestnaijamade be\\x89Û_', '#Bestnaijamade: 16yr old PKK suicide bomber who detonated bomb in ... http://t.co/KSAwlYuX02 bestnaijamade bestnaijamade bestnaijamade be\\x89Û_', '#Bestnaijamade: 16yr old PKK suicide bomber who detonated bomb in ... http://t.co/KSAwlYuX02 bestnaijamade bestnaijamade bestnaijamade be\\x89Û_']\n",
      "#Bestnaijamade: 16yr old PKK suicide bomber who detonated bomb in ... http://t.co/KSAwlYuX02 bestnaijamade bestnaijamade bestnaijamade beÛ_ is probably similar to: ['#Bestnaijamade: 16yr old PKK suicide bomber who detonated bomb in ... http://t.co/KSAwlYuX02 bestnaijamade bestnaijamade bestnaijamade be\\x89Û_', '#Bestnaijamade: 16yr old PKK suicide bomber who detonated bomb in ... http://t.co/KSAwlYuX02 bestnaijamade bestnaijamade bestnaijamade be\\x89Û_', '#Bestnaijamade: 16yr old PKK suicide bomber who detonated bomb in ... http://t.co/KSAwlYuX02 bestnaijamade bestnaijamade bestnaijamade be\\x89Û_', '#Bestnaijamade: 16yr old PKK suicide bomber who detonated bomb in ... http://t.co/KSAwlYuX02 bestnaijamade bestnaijamade bestnaijamade be\\x89Û_', '#Bestnaijamade: 16yr old PKK suicide bomber who detonated bomb in ... http://t.co/KSAwlYuX02 bestnaijamade bestnaijamade bestnaijamade be\\x89Û_']\n",
      "#Bestnaijamade: 16yr old PKK suicide bomber who detonated bomb in ... http://t.co/KSAwlYuX02 bestnaijamade bestnaijamade bestnaijamade beÛ_ is probably similar to: ['#Bestnaijamade: 16yr old PKK suicide bomber who detonated bomb in ... http://t.co/KSAwlYuX02 bestnaijamade bestnaijamade bestnaijamade be\\x89Û_', '#Bestnaijamade: 16yr old PKK suicide bomber who detonated bomb in ... http://t.co/KSAwlYuX02 bestnaijamade bestnaijamade bestnaijamade be\\x89Û_', '#Bestnaijamade: 16yr old PKK suicide bomber who detonated bomb in ... http://t.co/KSAwlYuX02 bestnaijamade bestnaijamade bestnaijamade be\\x89Û_', '#Bestnaijamade: 16yr old PKK suicide bomber who detonated bomb in ... http://t.co/KSAwlYuX02 bestnaijamade bestnaijamade bestnaijamade be\\x89Û_', '#Bestnaijamade: 16yr old PKK suicide bomber who detonated bomb in ... http://t.co/KSAwlYuX02 bestnaijamade bestnaijamade bestnaijamade be\\x89Û_']\n",
      "#Bestnaijamade: 16yr old PKK suicide bomber who detonated bomb in ... http://t.co/KSAwlYuX02 bestnaijamade bestnaijamade bestnaijamade beÛ_ is probably similar to: ['#Bestnaijamade: 16yr old PKK suicide bomber who detonated bomb in ... http://t.co/KSAwlYuX02 bestnaijamade bestnaijamade bestnaijamade be\\x89Û_', '#Bestnaijamade: 16yr old PKK suicide bomber who detonated bomb in ... http://t.co/KSAwlYuX02 bestnaijamade bestnaijamade bestnaijamade be\\x89Û_', '#Bestnaijamade: 16yr old PKK suicide bomber who detonated bomb in ... http://t.co/KSAwlYuX02 bestnaijamade bestnaijamade bestnaijamade be\\x89Û_', '#Bestnaijamade: 16yr old PKK suicide bomber who detonated bomb in ... http://t.co/KSAwlYuX02 bestnaijamade bestnaijamade bestnaijamade be\\x89Û_', '#Bestnaijamade: 16yr old PKK suicide bomber who detonated bomb in ... http://t.co/KSAwlYuX02 bestnaijamade bestnaijamade bestnaijamade be\\x89Û_']\n",
      "#Bestnaijamade: 16yr old PKK suicide bomber who detonated bomb in ... http://t.co/KSAwlYuX02 bestnaijamade bestnaijamade bestnaijamade beÛ_ is probably similar to: ['#Bestnaijamade: 16yr old PKK suicide bomber who detonated bomb in ... http://t.co/KSAwlYuX02 bestnaijamade bestnaijamade bestnaijamade be\\x89Û_', '#Bestnaijamade: 16yr old PKK suicide bomber who detonated bomb in ... http://t.co/KSAwlYuX02 bestnaijamade bestnaijamade bestnaijamade be\\x89Û_', '#Bestnaijamade: 16yr old PKK suicide bomber who detonated bomb in ... http://t.co/KSAwlYuX02 bestnaijamade bestnaijamade bestnaijamade be\\x89Û_', '#Bestnaijamade: 16yr old PKK suicide bomber who detonated bomb in ... http://t.co/KSAwlYuX02 bestnaijamade bestnaijamade bestnaijamade be\\x89Û_', '#Bestnaijamade: 16yr old PKK suicide bomber who detonated bomb in ... http://t.co/KSAwlYuX02 bestnaijamade bestnaijamade bestnaijamade be\\x89Û_']\n",
      "#Bestnaijamade: 16yr old PKK suicide bomber who detonated bomb in ... http://t.co/KSAwlYuX02 bestnaijamade bestnaijamade bestnaijamade beÛ_ is probably similar to: ['#Bestnaijamade: 16yr old PKK suicide bomber who detonated bomb in ... http://t.co/KSAwlYuX02 bestnaijamade bestnaijamade bestnaijamade be\\x89Û_', '#Bestnaijamade: 16yr old PKK suicide bomber who detonated bomb in ... http://t.co/KSAwlYuX02 bestnaijamade bestnaijamade bestnaijamade be\\x89Û_', '#Bestnaijamade: 16yr old PKK suicide bomber who detonated bomb in ... http://t.co/KSAwlYuX02 bestnaijamade bestnaijamade bestnaijamade be\\x89Û_', '#Bestnaijamade: 16yr old PKK suicide bomber who detonated bomb in ... http://t.co/KSAwlYuX02 bestnaijamade bestnaijamade bestnaijamade be\\x89Û_', '#Bestnaijamade: 16yr old PKK suicide bomber who detonated bomb in ... http://t.co/KSAwlYuX02 bestnaijamade bestnaijamade bestnaijamade be\\x89Û_']\n",
      "'Suicide bombing at [location named]...' #premonitions http://t.co/iIkSsJGBDn is probably similar to: [\"'Suicide bombing at [location named]...' #premonitions http://t.co/iIkSsJGBDn\"]\n",
      "'Suicide bombing at [location named]...' #premonitions http://t.co/iIkSsJGBDn is probably similar to: [\"'Suicide bombing at [location named]...' #premonitions http://t.co/iIkSsJGBDn\"]\n",
      "In #islam saving a person is equal in reward to saving all humans! Islam is the opposite of terrorism! is probably similar to: ['In #islam saving a person is equal in reward to saving all humans! Islam is the opposite of terrorism!']\n",
      "In #islam saving a person is equal in reward to saving all humans! Islam is the opposite of terrorism! is probably similar to: ['In #islam saving a person is equal in reward to saving all humans! Islam is the opposite of terrorism!']\n",
      "RT AbbsWinston: #Zionist #Terrorist kidnapped 15 #Palestinians in overnight terror on Palestinian Villages Û_ http://t.co/J5mKcbKcov is probably similar to: ['RT AbbsWinston: #Zionist #Terrorist kidnapped 15 #Palestinians in overnight terror on Palestinian Villages \\x89Û_ http://t.co/J5mKcbKcov']\n",
      "RT AbbsWinston: #Zionist #Terrorist kidnapped 15 #Palestinians in overnight terror on Palestinian Villages Û_ http://t.co/J5mKcbKcov is probably similar to: ['RT AbbsWinston: #Zionist #Terrorist kidnapped 15 #Palestinians in overnight terror on Palestinian Villages \\x89Û_ http://t.co/J5mKcbKcov']\n",
      "abcnews - Obama Declares Disaster for Typhoon-Devastated Saipan: Obama signs disaster declaration for Northern... http://t.co/mg5eAJElul is probably similar to: ['abcnews - Obama Declares Disaster for Typhoon-Devastated Saipan: Obama signs disaster declaration for Northern... http://t.co/mg5eAJElul']\n",
      "(#LosDelSonido) Obama Declares Disaster for Typhoon-Devastated Saipan: Obama signs disaster declaration for Northern Ma...  (#IvanBerroa) is probably similar to: ['(#LosDelSonido) Obama Declares Disaster for Typhoon-Devastated Saipan: Obama signs disaster declaration for Northern Ma...  (#IvanBerroa)']\n",
      "#stormchase Violent Record Breaking EF-5 El Reno Oklahoma Tornado Nearly Runs Over ... - http://t.co/3SICroAaNz http://t.co/I27Oa0HISp is probably similar to: ['#stormchase Violent Record Breaking EF-5 El Reno Oklahoma Tornado Nearly Runs Over ... - http://t.co/3SICroAaNz http://t.co/I27Oa0HISp']\n",
      "USGS reports a M1.94 #earthquake 5km S of Volcano Hawaii on 8/6/15 @ 1:04:01 UTC http://t.co/Njd28pg9Xv #quake is probably similar to: ['USGS reports a M1.94 #earthquake 5km S of Volcano Hawaii on 8/6/15 @ 1:04:01 UTC http://t.co/Njd28pg9Xv #quake']\n",
      "M1.94 [01:04 UTC]?5km S of Volcano Hawaii. http://t.co/zDtoyd8EbJ is probably similar to: ['M1.94 [01:04 UTC]?5km S of Volcano Hawaii. http://t.co/zDtoyd8EbJ']\n",
      "@aria_ahrary @TheTawniest The out of control wild fires in California even in the Northern part of the state. Very troubling. is probably similar to: ['@aria_ahrary @TheTawniest The out of control wild fires in California even in the Northern part of the state. Very troubling.']\n",
      "Wreckage 'Conclusively Confirmed' as From MH370: Malaysia PM is probably similar to: [\"Wreckage 'Conclusively Confirmed' as From MH370: Malaysia PM\", \"Wreckage 'Conclusively Confirmed' as From MH370: Malaysia PM\"]\n",
      "Wreckage 'Conclusively Confirmed' as From MH370: Malaysia PM is probably similar to: [\"Wreckage 'Conclusively Confirmed' as From MH370: Malaysia PM\", \"Wreckage 'Conclusively Confirmed' as From MH370: Malaysia PM\"]\n",
      "Wreckage 'Conclusively Confirmed' as From MH370: Malaysia PM is probably similar to: [\"Wreckage 'Conclusively Confirmed' as From MH370: Malaysia PM\", \"Wreckage 'Conclusively Confirmed' as From MH370: Malaysia PM\"]\n",
      "Evacuation order lifted for town of Roosevelt: http://t.co/EDyfo6E2PU http://t.co/M5KxLPKFA1 is probably similar to: ['Evacuation order lifted for town of Roosevelt: http://t.co/EDyfo6E2PU http://t.co/M5KxLPKFA1']\n",
      "#WorldNews Fallen powerlines on G:link tram: UPDATE: FIRE crews have evacuated up to 30 passengers who were tr... http://t.co/EYSVvzA7Qm is probably similar to: ['#WorldNews Fallen powerlines on G:link tram: UPDATE: FIRE crews have evacuated up to 30 passengers who were tr...  http://t.co/EYSVvzA7Qm']\n",
      "#stormchase Violent Record Breaking EF-5 El Reno Oklahoma Tornado Nearly Runs Over ... - http://t.co/3SICroAaNz http://t.co/I27Oa0HISp is probably similar to: ['#stormchase Violent Record Breaking EF-5 El Reno Oklahoma Tornado Nearly Runs Over ... - http://t.co/3SICroAaNz http://t.co/I27Oa0HISp']\n",
      "@aria_ahrary @TheTawniest The out of control wild fires in California even in the Northern part of the state. Very troubling. is probably similar to: ['@aria_ahrary @TheTawniest The out of control wild fires in California even in the Northern part of the state. Very troubling.']\n",
      "M1.94 [01:04 UTC]?5km S of Volcano Hawaii. http://t.co/zDtoyd8EbJ is probably similar to: ['M1.94 [01:04 UTC]?5km S of Volcano Hawaii. http://t.co/zDtoyd8EbJ']\n",
      "Police investigating after an e-bike collided with a car in Little Portugal. E-bike rider suffered serious non-life threatening injuries. is probably similar to: ['Police investigating after an e-bike collided with a car in Little Portugal. E-bike rider suffered serious non-life threatening injuries.']\n",
      "CPU times: user 2min 5s, sys: 172 ms, total: 2min 5s\n",
      "Wall time: 2min 5s\n"
     ]
    }
   ],
   "source": [
    "%%time\n",
    "# content_exploded = [' '.join(list(item)) for item in content]\n",
    "content = X.tolist()\n",
    "labels = list(range(len(content)))\n",
    "seed = 42\n",
    "minhash = MinHash(content, n_gram=3, permutations=250, hash_bits=64, seed=seed)\n",
    "lsh = LSH(minhash, labels, no_of_bands=50)\n",
    "adjacency_list = lsh.adjacency_list(min_jaccard=0.8)\n",
    "adjacency_list = {k:v for k,v in adjacency_list.items() if v}\n",
    "for k,v in adjacency_list.items():\n",
    "    print(f'{content[k]} is probably similar to: {[content[item] for item in v]}')"
   ]
  },
  {
   "cell_type": "code",
   "execution_count": 16,
   "id": "suffering-father",
   "metadata": {},
   "outputs": [
    {
     "data": {
      "text/plain": [
       "[2831, 2832, 2833]"
      ]
     },
     "execution_count": 16,
     "metadata": {},
     "output_type": "execute_result"
    }
   ],
   "source": [
    "adjacency_list[2830]"
   ]
  },
  {
   "cell_type": "code",
   "execution_count": 17,
   "id": "annoying-uncle",
   "metadata": {},
   "outputs": [
    {
     "data": {
      "text/plain": [
       "'.POTUS #StrategicPatience is a strategy for #Genocide; refugees; IDP Internally displaced people; horror; etc. https://t.co/rqWuoy1fm4'"
      ]
     },
     "execution_count": 17,
     "metadata": {},
     "output_type": "execute_result"
    }
   ],
   "source": [
    "content[2830]"
   ]
  },
  {
   "cell_type": "code",
   "execution_count": 18,
   "id": "suspected-slave",
   "metadata": {},
   "outputs": [
    {
     "data": {
      "text/plain": [
       "'.POTUS #StrategicPatience is a strategy for #Genocide; refugees; IDP Internally displaced people; horror; etc. https://t.co/rqWuoy1fm4'"
      ]
     },
     "execution_count": 18,
     "metadata": {},
     "output_type": "execute_result"
    }
   ],
   "source": [
    "content[2831]"
   ]
  },
  {
   "cell_type": "code",
   "execution_count": 19,
   "id": "generous-spectrum",
   "metadata": {},
   "outputs": [
    {
     "data": {
      "text/plain": [
       "'.POTUS #StrategicPatience is a strategy for #Genocide; refugees; IDP Internally displaced people; horror; etc. https://t.co/rqWuoy1fm4'"
      ]
     },
     "execution_count": 19,
     "metadata": {},
     "output_type": "execute_result"
    }
   ],
   "source": [
    "content[2832]"
   ]
  },
  {
   "cell_type": "code",
   "execution_count": 20,
   "id": "considered-caribbean",
   "metadata": {},
   "outputs": [
    {
     "data": {
      "text/plain": [
       "'.POTUS #StrategicPatience is a strategy for #Genocide; refugees; IDP Internally displaced people; horror; etc. https://t.co/rqWuoy1fm4'"
      ]
     },
     "execution_count": 20,
     "metadata": {},
     "output_type": "execute_result"
    }
   ],
   "source": [
    "content[2833]"
   ]
  },
  {
   "cell_type": "code",
   "execution_count": 22,
   "id": "apparent-height",
   "metadata": {},
   "outputs": [
    {
     "data": {
      "text/plain": [
       "[364, 370, 372]"
      ]
     },
     "execution_count": 22,
     "metadata": {},
     "output_type": "execute_result"
    }
   ],
   "source": [
    "adjacency_list[346]"
   ]
  },
  {
   "cell_type": "code",
   "execution_count": 23,
   "id": "secure-characterization",
   "metadata": {},
   "outputs": [
    {
     "data": {
      "text/plain": [
       "'Beyonce Is my pick for http://t.co/nnMQlz91o9 Fan Army #Beyhive http://t.co/o91f3cYy0R 77'"
      ]
     },
     "execution_count": 23,
     "metadata": {},
     "output_type": "execute_result"
    }
   ],
   "source": [
    "content[346]"
   ]
  },
  {
   "cell_type": "code",
   "execution_count": 24,
   "id": "moderate-tobacco",
   "metadata": {},
   "outputs": [
    {
     "data": {
      "text/plain": [
       "'Beyonce Is my pick for http://t.co/nnMQlz91o9 Fan Army #Beyhive http://t.co/o91f3cYy0R 78'"
      ]
     },
     "execution_count": 24,
     "metadata": {},
     "output_type": "execute_result"
    }
   ],
   "source": [
    "content[364]"
   ]
  },
  {
   "cell_type": "code",
   "execution_count": 25,
   "id": "stretch-postcard",
   "metadata": {},
   "outputs": [
    {
     "data": {
      "text/plain": [
       "'Beyonce Is my pick for http://t.co/nnMQlz91o9 Fan Army #Beyhive http://t.co/o91f3cYy0R 72'"
      ]
     },
     "execution_count": 25,
     "metadata": {},
     "output_type": "execute_result"
    }
   ],
   "source": [
    "content[370]"
   ]
  },
  {
   "cell_type": "code",
   "execution_count": 26,
   "id": "monthly-bubble",
   "metadata": {},
   "outputs": [
    {
     "data": {
      "text/plain": [
       "'Beyonce Is my pick for http://t.co/nnMQlz91o9 Fan Army #Beyhive http://t.co/o91f3cYy0R 66'"
      ]
     },
     "execution_count": 26,
     "metadata": {},
     "output_type": "execute_result"
    }
   ],
   "source": [
    "content[372]"
   ]
  },
  {
   "cell_type": "code",
   "execution_count": 30,
   "id": "exact-third",
   "metadata": {},
   "outputs": [],
   "source": [
    "duplicate_graph = nx.from_dict_of_lists(adjacency_list)"
   ]
  },
  {
   "cell_type": "code",
   "execution_count": 31,
   "id": "mediterranean-blogger",
   "metadata": {},
   "outputs": [
    {
     "data": {
      "image/png": "[encoded data removed]",
      "text/plain": [
       "<Figure size 432x288 with 1 Axes>"
      ]
     },
     "metadata": {},
     "output_type": "display_data"
    }
   ],
   "source": [
    "nx.draw(duplicate_graph)"
   ]
  },
  {
   "cell_type": "code",
   "execution_count": null,
   "id": "computational-bride",
   "metadata": {},
   "outputs": [],
   "source": []
  }
 ],
 "metadata": {
  "kernelspec": {
   "display_name": "Python 3",
   "language": "python",
   "name": "python3"
  },
  "language_info": {
   "codemirror_mode": {
    "name": "ipython",
    "version": 3
   },
   "file_extension": ".py",
   "mimetype": "text/x-python",
   "name": "python",
   "nbconvert_exporter": "python",
   "pygments_lexer": "ipython3",
   "version": "3.8.8"
  }
 },
 "nbformat": 4,
 "nbformat_minor": 5
}
