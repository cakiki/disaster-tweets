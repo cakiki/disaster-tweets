{
 "cells": [
  {
   "cell_type": "code",
   "execution_count": 1,
   "metadata": {},
   "outputs": [
    {
     "data": {
      "text/html": [
       "<style>.container { width:95% !important; }</style>"
      ],
      "text/plain": [
       "<IPython.core.display.HTML object>"
      ]
     },
     "metadata": {},
     "output_type": "display_data"
    }
   ],
   "source": [
    "from IPython.core.display import display, HTML\n",
    "display(HTML(\"<style>.container { width:95% !important; }</style>\"))"
   ]
  },
  {
   "cell_type": "code",
   "execution_count": 29,
   "metadata": {},
   "outputs": [],
   "source": [
    "import pandas as pd\n",
    "import numpy as np\n",
    "import nltk\n",
    "from ipywidgets import Output\n",
    "from nltk.tokenize import RegexpTokenizer\n",
    "from nltk.stem.wordnet import WordNetLemmatizer\n",
    "from gensim.models import LdaModel\n",
    "from gensim.models import Phrases\n",
    "from itertools import chain\n",
    "from gensim.corpora import Dictionary\n",
    "import matplotlib.pyplot as plt\n",
    "import seaborn as sns\n",
    "from nltk.corpus import stopwords\n",
    "from itertools import chain"
   ]
  },
  {
   "cell_type": "code",
   "execution_count": 2,
   "metadata": {},
   "outputs": [],
   "source": [
    "from transformers import BertweetTokenizer"
   ]
  },
  {
   "cell_type": "code",
   "execution_count": 3,
   "metadata": {},
   "outputs": [],
   "source": [
    "%matplotlib inline"
   ]
  },
  {
   "cell_type": "code",
   "execution_count": 32,
   "metadata": {},
   "outputs": [
    {
     "name": "stderr",
     "output_type": "stream",
     "text": [
      "Special tokens have been added in the vocabulary, make sure the associated word embedding are fine-tuned or trained.\n"
     ]
    },
    {
     "name": "stdout",
     "output_type": "stream",
     "text": [
      "Loaded 179 stopwords from NLTK\n",
      "Loaded 326 stopwords from SPACY\n",
      "Loaded 318 stopwords from SKLEARN\n",
      "----------------------------------\n",
      "409 combined stopwords\n"
     ]
    }
   ],
   "source": [
    "train = pd.read_csv('../data/external/kaggle/train.csv')\n",
    "test = pd.read_csv('../data/external/kaggle/test.csv')\n",
    "y = pd.read_csv('../data/external/kaggle/train.csv')['target'].values\n",
    "bertweet_tokenizer = BertweetTokenizer.from_pretrained(\"vinai/bertweet-base\", normalization=True)\n",
    "vanilla_tokenizer = RegexpTokenizer(r'\\w+')\n",
    "\n",
    "\n",
    "from sklearn.feature_extraction.text import ENGLISH_STOP_WORDS as SKLEARN_STOPWORDS\n",
    "from spacy.lang.en.stop_words import STOP_WORDS as SPACY_STOPWORDS\n",
    "from nltk.corpus import stopwords\n",
    "\n",
    "SKLEARN_STOPWORDS = set(SKLEARN_STOPWORDS)\n",
    "out = Output()\n",
    "with out:\n",
    "    nltk.download('stopwords')\n",
    "NLTK_STOPWORDS = set(stopwords.words('english'))\n",
    "print(f'Loaded {len(NLTK_STOPWORDS)} stopwords from NLTK')\n",
    "print(f'Loaded {len(SPACY_STOPWORDS)} stopwords from SPACY')\n",
    "print(f'Loaded {len(SKLEARN_STOPWORDS)} stopwords from SKLEARN')\n",
    "stop_words = list(set.union(*[SKLEARN_STOPWORDS, SPACY_STOPWORDS, NLTK_STOPWORDS]))\n",
    "print('----------------------------------')\n",
    "print(f'{len(stop_words)} combined stopwords')"
   ]
  },
  {
   "cell_type": "code",
   "execution_count": 92,
   "metadata": {},
   "outputs": [],
   "source": [
    "def preview_corpus(corpus, num_items_to_display=5):\n",
    "    for i,doc in enumerate(corpus[:num_items_to_display],1):\n",
    "        print(f'Item {i}: {doc}')\n",
    "        print()\n",
    "        \n",
    "def num_tokens_in_corpus(corpus):\n",
    "    return len(list(chain(*corpus)))\n",
    "        \n",
    "def display_corr(df, s=10):\n",
    "    corr = df.corr()\n",
    "    mask = np.triu(np.ones_like(corr, dtype=bool))\n",
    "    fig, ax = plt.subplots(figsize=(s,s))\n",
    "    ax = sns.heatmap(corr.round(3),mask=mask, annot=True, cbar=False, linewidths=0.3, square=True)\n",
    "    ax.set_xticklabels(ax.get_xticklabels(), fontsize='x-large')\n",
    "    ax.set_yticklabels(ax.get_yticklabels(), fontsize='x-large');\n",
    "    return fig, ax"
   ]
  },
  {
   "cell_type": "code",
   "execution_count": 145,
   "metadata": {},
   "outputs": [],
   "source": [
    "#HYPERPARAMTERS\n",
    "min_count_b = 5\n",
    "min_count_t = 5\n",
    "min_count_f = 5\n",
    "##########################\n",
    "tokenizer = bertweet_tokenizer\n",
    "ADDITIONAL_STOP_WORDS = [] #ADD ADDITIONAL STOP WORDS HERE\n",
    "stop_words.extend(ADDITIONAL_STOP_WORDS)\n",
    "##########################\n",
    "no_below = 100\n",
    "no_above = 0.6\n",
    "n_most_frequent = 0\n",
    "##########################\n",
    "num_topics = 100\n",
    "chunksize = len(corpus)\n",
    "passes = 100\n",
    "iterations = 400\n",
    "eval_every = None"
   ]
  },
  {
   "cell_type": "code",
   "execution_count": 44,
   "metadata": {},
   "outputs": [
    {
     "name": "stdout",
     "output_type": "stream",
     "text": [
      "['https', 'test', 'com']\n",
      "['HTTPURL']\n"
     ]
    }
   ],
   "source": [
    "print(vanilla_tokenizer.tokenize('https://test.com'))\n",
    "print(bertweet_tokenizer.tokenize('https://test.com'))"
   ]
  },
  {
   "cell_type": "code",
   "execution_count": 139,
   "metadata": {},
   "outputs": [],
   "source": [
    "corpus = train['text'].values"
   ]
  },
  {
   "cell_type": "code",
   "execution_count": 140,
   "metadata": {},
   "outputs": [
    {
     "name": "stdout",
     "output_type": "stream",
     "text": [
      "Item 1: ['our', 'deeds', 'are', 'the', 'reason', 'of', 'this', '#earthquake', 'may', 'allah', 'forgive', 'us', 'all']\n",
      "\n",
      "Item 2: ['forest', 'fire', 'near', 'la', 'ron@@', 'ge', 's@@', 'ask', 'canada']\n",
      "\n",
      "Item 3: ['all', 'residents', 'asked', 'to', 'shelter', 'in', 'place', 'are', 'being', 'notified', 'by', 'officers', 'no', 'other', 'evacuation', 'or', 'shelter', 'in', 'place', 'orders', 'are', 'expected']\n",
      "\n",
      "Item 4: ['13@@', ',000', 'people', 'receive', '#wild@@', 'fires', 'evacuation', 'orders', 'in', 'california']\n",
      "\n",
      "Item 5: ['just', 'got', 'sent', 'this', 'photo', 'from', 'ruby', '#al@@', 'aska', 'as', 'smoke', 'from', '#wild@@', 'fires', 'pours', 'into', 'school']\n",
      "\n",
      "126557\n",
      "*********************************************************************************************\n",
      "*********************************************************************************************\n",
      "Item 1: ['deeds', 'reason', '#earthquake', 'allah', 'forgive']\n",
      "\n",
      "Item 2: ['forest', 'near', 'la', 'ron@@', 'ge', 's@@', 'ask', 'canada', 'forest_fire']\n",
      "\n",
      "Item 3: ['residents', 'asked', 'shelter', 'place', 'notified', 'officers', 'evacuation', 'shelter', 'place', 'orders', 'expected']\n",
      "\n",
      "Item 4: ['13@@', ',000', 'people', 'receive', '#wild@@', 'fires', 'evacuation', 'orders', 'california']\n",
      "\n",
      "Item 5: ['got', 'sent', 'photo', 'ruby', '#al@@', 'aska', 'smoke', '#wild@@', 'fires', 'pours', 'school', 'just_got']\n",
      "\n",
      "104738\n",
      "*********************************************************************************************\n",
      "*********************************************************************************************\n",
      "Item 1: [(0, 1), (1, 1), (2, 1), (3, 1), (4, 1)]\n",
      "\n",
      "Item 2: [(5, 1), (6, 1), (7, 1), (8, 1), (9, 1), (10, 1), (11, 1), (12, 1), (13, 1)]\n",
      "\n",
      "Item 3: [(14, 1), (15, 1), (16, 1), (17, 1), (18, 1), (19, 1), (20, 2), (21, 1), (22, 2)]\n",
      "\n",
      "Item 4: [(15, 1), (19, 1), (23, 1), (24, 1), (25, 1), (26, 1), (27, 1), (28, 1), (29, 1)]\n",
      "\n",
      "Item 5: [(23, 1), (27, 1), (30, 1), (31, 1), (32, 1), (33, 1), (34, 1), (35, 1), (36, 1), (37, 1), (38, 1), (39, 1)]\n",
      "\n",
      "100210\n",
      "*********************************************************************************************\n",
      "*********************************************************************************************\n",
      "Corpus: 7613 Tweets\n",
      "Dictionary: 14966 Tokens\n",
      "CPU times: user 6.6 s, sys: 15.8 ms, total: 6.61 s\n",
      "Wall time: 6.61 s\n"
     ]
    }
   ],
   "source": [
    "%%time\n",
    "####################################################################################################\n",
    "#                                           PREPROCESSING                                          #\n",
    "####################################################################################################\n",
    "corpus = [doc.lower() for doc in corpus]\n",
    "corpus = [tokenizer.tokenize(doc) for doc in corpus]\n",
    "corpus = [[token for token in doc if (not token.isnumeric() and len(token) > 1)] for doc in corpus]\n",
    "preview_corpus(corpus)\n",
    "print(num_tokens_in_corpus(corpus))\n",
    "print('*********************************************************************************************')\n",
    "print('*********************************************************************************************')\n",
    "####################################################################################################\n",
    "bigram = Phrases(corpus, min_count=min_count_b)\n",
    "trigram = Phrases(bigram[corpus], min_count=min_count_t)\n",
    "fourgram = Phrases(trigram[corpus], min_count=min_count_f)\n",
    "for doc in corpus:\n",
    "    bigrams = [b for b in bigram[doc] if b.count('_') == 1]\n",
    "    trigrams = [t for t in trigram[bigram[doc]] if t.count('_') == 2]\n",
    "    fourgrams = [f for f in fourgram[trigram[bigram[doc]]] if f.count('_') == 3]\n",
    "    doc.extend(list(chain(*[bigrams, trigrams, fourgrams])))\n",
    "corpus = [[token for token in doc if (not token in stop_words)] for doc in corpus]\n",
    "preview_corpus(corpus)\n",
    "print(num_tokens_in_corpus(corpus))\n",
    "print('*********************************************************************************************')\n",
    "print('*********************************************************************************************')\n",
    "####################################################################################################\n",
    "dictionary = Dictionary(corpus)\n",
    "# dictionary.filter_extremes(no_below=no_below, no_above=no_above)\n",
    "# dictionary.filter_n_most_frequent(n_most_frequent)\n",
    "corpus = [dictionary.doc2bow(doc) for doc in corpus]\n",
    "preview_corpus(corpus)\n",
    "print(num_tokens_in_corpus(corpus))\n",
    "print('*********************************************************************************************')\n",
    "print('*********************************************************************************************')\n",
    "####################################################################################################\n",
    "print(f'Corpus: {len(corpus)} Tweets')\n",
    "print(f'Dictionary: {len(dictionary)} Tokens')"
   ]
  },
  {
   "cell_type": "code",
   "execution_count": 141,
   "metadata": {},
   "outputs": [
    {
     "name": "stdout",
     "output_type": "stream",
     "text": [
      "CPU times: user 32.4 s, sys: 204 ms, total: 32.6 s\n",
      "Wall time: 32.4 s\n"
     ]
    }
   ],
   "source": [
    "%%time\n",
    "\n",
    "temp = dictionary[0]  \n",
    "id2word = dictionary.id2token\n",
    "\n",
    "model = LdaModel(\n",
    "    corpus=corpus,\n",
    "    id2word=id2word,\n",
    "    chunksize=chunksize,\n",
    "    alpha='auto',\n",
    "    eta='auto',\n",
    "    iterations=iterations,\n",
    "    num_topics=num_topics,\n",
    "    passes=passes,\n",
    "    eval_every=eval_every\n",
    ")"
   ]
  },
  {
   "cell_type": "code",
   "execution_count": 142,
   "metadata": {},
   "outputs": [
    {
     "name": "stdout",
     "output_type": "stream",
     "text": [
      "CPU times: user 1.87 s, sys: 36.1 ms, total: 1.91 s\n",
      "Wall time: 1.87 s\n"
     ]
    },
    {
     "data": {
      "text/html": [
       "<div>\n",
       "<style scoped>\n",
       "    .dataframe tbody tr th:only-of-type {\n",
       "        vertical-align: middle;\n",
       "    }\n",
       "\n",
       "    .dataframe tbody tr th {\n",
       "        vertical-align: top;\n",
       "    }\n",
       "\n",
       "    .dataframe thead th {\n",
       "        text-align: right;\n",
       "    }\n",
       "</style>\n",
       "<table border=\"1\" class=\"dataframe\">\n",
       "  <thead>\n",
       "    <tr style=\"text-align: right;\">\n",
       "      <th></th>\n",
       "      <th>0</th>\n",
       "      <th>1</th>\n",
       "      <th>2</th>\n",
       "      <th>3</th>\n",
       "      <th>label</th>\n",
       "    </tr>\n",
       "  </thead>\n",
       "  <tbody>\n",
       "    <tr>\n",
       "      <th>0</th>\n",
       "      <td>0.964630</td>\n",
       "      <td>0.013064</td>\n",
       "      <td>0.010229</td>\n",
       "      <td>0.012077</td>\n",
       "      <td>1</td>\n",
       "    </tr>\n",
       "    <tr>\n",
       "      <th>1</th>\n",
       "      <td>0.000000</td>\n",
       "      <td>0.000000</td>\n",
       "      <td>0.978868</td>\n",
       "      <td>0.000000</td>\n",
       "      <td>1</td>\n",
       "    </tr>\n",
       "    <tr>\n",
       "      <th>2</th>\n",
       "      <td>0.768861</td>\n",
       "      <td>0.220722</td>\n",
       "      <td>0.000000</td>\n",
       "      <td>0.000000</td>\n",
       "      <td>1</td>\n",
       "    </tr>\n",
       "    <tr>\n",
       "      <th>3</th>\n",
       "      <td>0.000000</td>\n",
       "      <td>0.550766</td>\n",
       "      <td>0.000000</td>\n",
       "      <td>0.436531</td>\n",
       "      <td>1</td>\n",
       "    </tr>\n",
       "    <tr>\n",
       "      <th>4</th>\n",
       "      <td>0.000000</td>\n",
       "      <td>0.000000</td>\n",
       "      <td>0.984037</td>\n",
       "      <td>0.000000</td>\n",
       "      <td>1</td>\n",
       "    </tr>\n",
       "    <tr>\n",
       "      <th>...</th>\n",
       "      <td>...</td>\n",
       "      <td>...</td>\n",
       "      <td>...</td>\n",
       "      <td>...</td>\n",
       "      <td>...</td>\n",
       "    </tr>\n",
       "    <tr>\n",
       "      <th>7608</th>\n",
       "      <td>0.988593</td>\n",
       "      <td>0.000000</td>\n",
       "      <td>0.000000</td>\n",
       "      <td>0.000000</td>\n",
       "      <td>1</td>\n",
       "    </tr>\n",
       "    <tr>\n",
       "      <th>7609</th>\n",
       "      <td>0.000000</td>\n",
       "      <td>0.000000</td>\n",
       "      <td>0.000000</td>\n",
       "      <td>0.983497</td>\n",
       "      <td>1</td>\n",
       "    </tr>\n",
       "    <tr>\n",
       "      <th>7610</th>\n",
       "      <td>0.000000</td>\n",
       "      <td>0.986379</td>\n",
       "      <td>0.000000</td>\n",
       "      <td>0.000000</td>\n",
       "      <td>1</td>\n",
       "    </tr>\n",
       "    <tr>\n",
       "      <th>7611</th>\n",
       "      <td>0.479671</td>\n",
       "      <td>0.514249</td>\n",
       "      <td>0.000000</td>\n",
       "      <td>0.000000</td>\n",
       "      <td>1</td>\n",
       "    </tr>\n",
       "    <tr>\n",
       "      <th>7612</th>\n",
       "      <td>0.000000</td>\n",
       "      <td>0.990627</td>\n",
       "      <td>0.000000</td>\n",
       "      <td>0.000000</td>\n",
       "      <td>1</td>\n",
       "    </tr>\n",
       "  </tbody>\n",
       "</table>\n",
       "<p>7613 rows × 5 columns</p>\n",
       "</div>"
      ],
      "text/plain": [
       "             0         1         2         3  label\n",
       "0     0.964630  0.013064  0.010229  0.012077      1\n",
       "1     0.000000  0.000000  0.978868  0.000000      1\n",
       "2     0.768861  0.220722  0.000000  0.000000      1\n",
       "3     0.000000  0.550766  0.000000  0.436531      1\n",
       "4     0.000000  0.000000  0.984037  0.000000      1\n",
       "...        ...       ...       ...       ...    ...\n",
       "7608  0.988593  0.000000  0.000000  0.000000      1\n",
       "7609  0.000000  0.000000  0.000000  0.983497      1\n",
       "7610  0.000000  0.986379  0.000000  0.000000      1\n",
       "7611  0.479671  0.514249  0.000000  0.000000      1\n",
       "7612  0.000000  0.990627  0.000000  0.000000      1\n",
       "\n",
       "[7613 rows x 5 columns]"
      ]
     },
     "execution_count": 142,
     "metadata": {},
     "output_type": "execute_result"
    }
   ],
   "source": [
    "%%time\n",
    "topics = [model.get_document_topics(doc) for doc in corpus]\n",
    "topics = [dict(topic_dist) for topic_dist in topics]\n",
    "topics = pd.DataFrame(topics).fillna(0)\n",
    "topics['label'] = y\n",
    "topics"
   ]
  },
  {
   "cell_type": "code",
   "execution_count": 81,
   "metadata": {},
   "outputs": [],
   "source": [
    "#TO INVESTIGATE: THE LESS TOKENS, THE MORE CORRELATION (ENTRIES ZEROED OUT)\n",
    "# THE MORE TOPICS, THE LESS CORRELATIONS (ENTRIES ZEROED OUT)"
   ]
  },
  {
   "cell_type": "code",
   "execution_count": 143,
   "metadata": {},
   "outputs": [
    {
     "data": {
      "image/png": "[encoded data removed]",
      "text/plain": [
       "<Figure size 720x720 with 1 Axes>"
      ]
     },
     "metadata": {
      "needs_background": "light"
     },
     "output_type": "display_data"
    }
   ],
   "source": [
    "_,_ = display_corr(topics, 10)"
   ]
  },
  {
   "cell_type": "code",
   "execution_count": 144,
   "metadata": {
    "scrolled": false
   },
   "outputs": [
    {
     "name": "stdout",
     "output_type": "stream",
     "text": [
      "Item 1: ('HTTPURL', '@USER', '...', '..._HTTPURL', 'û@@', 'people', '#@@', 'like', 'suicide', 'killed', 'man', \"do_n't\", 'c@@', 'u@@', 'collapse', 'police', 'news', 'emergency', 'mass', 'storm', 'new', 'pm', 'video', 'sa@@', 'ted', 'ers', 'severe', 'injured', 'love', 'cu@@', 'resc@@', 'udi', 'crash', 'g@@', 'resc@@_u@@', 'warning', 'cal@@', 'weather', 'colli@@', 'movie', 'bridge', 'truck', 'ra@@', 'car', 'geddon', 'migrants', 'thunderstorm', 'attack', 'sa@@_udi', 'reddit', 'disaster', 'bombing', 'mosque', 'know', 'ium', 'quarantine', 'hundreds', 'water', 'emon@@', 'is@@', 'electro@@_cu@@_ted', 'electro@@_cu@@', 're@@', 'der@@', 'kills', 'killed_in', 'california', 'electro@@', 'suicide_bombing', 'heat', 'ded', 'boat', 'pand@@', 'pand@@_emon@@', 'pand@@_emon@@_ium', 'colli@@_ded', 'collision', 'dead', 'gary', 'day', 'bomber', 'suicide_bomber', 'work', 'a@@', 'flood', 'arma@@_geddon', 'arma@@', 'n@@', 'cal@@_gary', 'l@@', 'orm', 'life', \"can't\", 'content', 'way', 'inst@@', 'trapped', 'ra@@_inst@@', 'ra@@_inst@@_orm', 'wave')\n",
      "\n",
      "Item 2: ('HTTPURL', '@USER', 'û@@', '#@@', '...', 'storm', '..._HTTPURL', 'ro@@', 'HTTPURL_via', 'ª@@', 'new', 'HTTPURL_via_@USER', 'm@@', 'û@@_ª@@', 'shima', 'h@@', 'disaster', \"it_'s\", 'body', 'video', 'hi@@', 'hi@@_ro@@', 'news', 'w@@', 'der@@', 'california', 'obama', 'atomic', 'rt', 'time', 'age', 'years', 'man', 'northern', 'm@@_h@@', 'ra@@', 'wildfire', 'at@@', 'cross', 'hi@@_ro@@_shima', 'watch', 'ail@@', 'ment', 'bag', 'homes', 'confirmed', 'k@@', 'w@@_reck@@', 'reck@@', 'latest', 'train', 'day', 'crash', 'debris', 'malaysia', 'devastated', 'like', 'ation', 'cross_body', 'in@@', 'the_latest', 'ised', '_@@', 'love', 'structural', 'anniversary', 'island', 'want', 'failure', 'sand@@', 'dust', 'traum@@_at@@_ised', 'traum@@_at@@', 'traum@@', 'today', 'japan', 'investigators', 'zed', 'home', 'ge', '2015-@@', 'ra@@_zed', 'more_homes', 'california_wildfire', 'pm', 'bags', 'delu@@', 'p@@', 'sin@@', 'ol@@', 'quarantined', '08-', 'ty@@', 'liked', 'al', 'delu@@_ge', 'read', 'liked_@USER', 'ip@@', 'think')\n",
      "\n",
      "Item 3: ('HTTPURL', '#@@', '@USER', '...', 'û@@', '..._HTTPURL', 'like', 'deton@@', 'storm', 'hi@@', 'army', 'attack', 'ated', 'bio@@', 'new', 'ation', 'p@@', 'bomb', 'terror', 'accident', 'old', '..', 'fires', 'terrorism', 'crash', 'slide', '-@@', 'may_have', 'fe@@', \"do_n't\", 'suicide', 'fe@@_dex', 'dex', 'mud@@', '16@@', 'electro@@', 'ate', 'cute', 'yr', 'spill', 'longer', 'kk', 'police', 'oil', 'bomber', 'deton@@_ated', 'car', 'deton@@_ation', 'annihil@@', 'live', 'jack', 'wreck', 'deton@@_ate', 'oil_spill', 'china', 'electro@@_cute', 'ru@@', '#is@@', 'å@@', 'no_longer', '16@@_yr', 'lab', 'jack@@', 'sen@@', 'ja@@', '#news', 'er', 'hurricane', 'news', 'wild', 'mud@@_slide', 'c@@', 'kk_suicide', 'bomber_who', 'old_p@@', 'turkey', 'an@@', 'tragedy', 'market', 'stop', 'stock', 'looks', 'bble', 'emergency', 'national', 'twi@@', 'hi@@_jack@@', 'injury', 'bigger', 'mp', 'ab@@', 'light', 'nuclear', 'rain', 'pic', 'j@@', 'ª@@', 'gio', 'ja@@_made', 'nai@@')\n",
      "\n",
      "Item 4: ('@USER', 'HTTPURL', '...', '#@@', 'like', 'people', \"it_'s\", 'going', '..._HTTPURL', 'burning', 'buildings', 'wind', 'obl@@', \"do_n't\", 'onna@@', 'legi@@', 'legi@@_onna@@', 'un@@', 'ires', 'dead', 'families', 'in@@', 'emergency', 'got', 'know', 'fatal', 'û@@', 'to_be', 'right', 'way', 'going_to', 'police', 'wh@@', 'world', 'loud', 'ass', 'outbreak', 'fires', 'look', 'need', 'today', 'burning_buildings', 'news', 'good', 'the_fatal', 'irl@@', 'time', 'charged', 'ol@@', 'said', 'bang', 'des@@', \"can't\", 'wh@@_irl@@', 'wh@@_irl@@_wind', 'in@@_un@@', 'dated', 'des@@_ol@@', 'dis@@', 'boy', 'bleeding', 'lol', 'n@@', 'bomb', 'area', 'send', 'black', '-@@', 'nuclear', 'outbreak_of', 'g@@', 'obl@@_iterated', 'iterated', 'day', '..', 'land', 'if_you', 'l@@', 'fuck', 'hope', 'sound', 'affected', 'life', 'want', 'war', 'think', 'fall', 'sue', 'im', 'heard', 'ar@@', 'screaming', 'man@@', 'obl@@_iterate', 'shit', 'death', 'families_to', 'affected_by', 'hi@@', 'iterate')\n",
      "\n"
     ]
    }
   ],
   "source": [
    "t = [l for i,l in model.show_topics(formatted=False, num_words=100)]\n",
    "t = [list(zip(*l))[0] for l in t]\n",
    "preview_corpus(t, 8)"
   ]
  },
  {
   "cell_type": "code",
   "execution_count": 96,
   "metadata": {},
   "outputs": [],
   "source": [
    "model.show_topics?"
   ]
  },
  {
   "cell_type": "code",
   "execution_count": 87,
   "metadata": {},
   "outputs": [
    {
     "name": "stdout",
     "output_type": "stream",
     "text": [
      "[('..._HTTPURL', 0.45582452), ('...', 0.25074393), ('HTTPURL', 0.16729666), ('time', 0.024060609), ('û@@', 0.017020995), ('@USER', 0.008480167), ('police', 0.0074666627), ('-@@', 0.005511415), ('suicide', 0.0053973566), ('people', 0.005226267)]\n"
     ]
    }
   ],
   "source": [
    "print(model.show_topic(1))"
   ]
  },
  {
   "cell_type": "code",
   "execution_count": 91,
   "metadata": {},
   "outputs": [
    {
     "data": {
      "text/plain": [
       "8"
      ]
     },
     "execution_count": 91,
     "metadata": {},
     "output_type": "execute_result"
    }
   ],
   "source": [
    "len(t)"
   ]
  },
  {
   "cell_type": "code",
   "execution_count": 106,
   "metadata": {},
   "outputs": [
    {
     "data": {
      "text/plain": [
       "['bos_token',\n",
       " 'eos_token',\n",
       " 'unk_token',\n",
       " 'sep_token',\n",
       " 'pad_token',\n",
       " 'cls_token',\n",
       " 'mask_token',\n",
       " 'additional_special_tokens']"
      ]
     },
     "execution_count": 106,
     "metadata": {},
     "output_type": "execute_result"
    }
   ],
   "source": [
    "tokenizer.SPECIAL_TOKENS_ATTRIBUTES"
   ]
  },
  {
   "cell_type": "code",
   "execution_count": 108,
   "metadata": {},
   "outputs": [
    {
     "data": {
      "text/plain": [
       "['__class__',\n",
       " '__delattr__',\n",
       " '__dict__',\n",
       " '__dir__',\n",
       " '__doc__',\n",
       " '__eq__',\n",
       " '__format__',\n",
       " '__ge__',\n",
       " '__getattribute__',\n",
       " '__getitem__',\n",
       " '__gt__',\n",
       " '__hash__',\n",
       " '__init__',\n",
       " '__init_subclass__',\n",
       " '__le__',\n",
       " '__lt__',\n",
       " '__module__',\n",
       " '__ne__',\n",
       " '__new__',\n",
       " '__reduce__',\n",
       " '__reduce_ex__',\n",
       " '__repr__',\n",
       " '__setattr__',\n",
       " '__sizeof__',\n",
       " '__str__',\n",
       " '__subclasshook__',\n",
       " '__weakref__',\n",
       " '_adapt_by_suffix',\n",
       " '_apply',\n",
       " '_load_specials',\n",
       " '_save_specials',\n",
       " '_smart_save',\n",
       " 'alpha',\n",
       " 'bound',\n",
       " 'callbacks',\n",
       " 'chunksize',\n",
       " 'clear',\n",
       " 'decay',\n",
       " 'diff',\n",
       " 'dispatcher',\n",
       " 'distributed',\n",
       " 'do_estep',\n",
       " 'do_mstep',\n",
       " 'dtype',\n",
       " 'eta',\n",
       " 'eval_every',\n",
       " 'expElogbeta',\n",
       " 'gamma_threshold',\n",
       " 'get_document_topics',\n",
       " 'get_term_topics',\n",
       " 'get_topic_terms',\n",
       " 'get_topics',\n",
       " 'id2word',\n",
       " 'inference',\n",
       " 'init_dir_prior',\n",
       " 'iterations',\n",
       " 'load',\n",
       " 'log_perplexity',\n",
       " 'minimum_phi_value',\n",
       " 'minimum_probability',\n",
       " 'num_terms',\n",
       " 'num_topics',\n",
       " 'num_updates',\n",
       " 'numworkers',\n",
       " 'offset',\n",
       " 'optimize_alpha',\n",
       " 'optimize_eta',\n",
       " 'passes',\n",
       " 'per_word_topics',\n",
       " 'print_topic',\n",
       " 'print_topics',\n",
       " 'random_state',\n",
       " 'save',\n",
       " 'show_topic',\n",
       " 'show_topics',\n",
       " 'state',\n",
       " 'sync_state',\n",
       " 'top_topics',\n",
       " 'update',\n",
       " 'update_alpha',\n",
       " 'update_eta',\n",
       " 'update_every']"
      ]
     },
     "execution_count": 108,
     "metadata": {},
     "output_type": "execute_result"
    }
   ],
   "source": [
    "dir(model)"
   ]
  },
  {
   "cell_type": "code",
   "execution_count": 123,
   "metadata": {},
   "outputs": [
    {
     "name": "stdout",
     "output_type": "stream",
     "text": [
      "CPU times: user 860 ms, sys: 7.91 ms, total: 868 ms\n",
      "Wall time: 860 ms\n"
     ]
    }
   ],
   "source": [
    "%%time\n",
    "corpus_in_topics_space, _ =model.inference(corpus)"
   ]
  },
  {
   "cell_type": "code",
   "execution_count": 124,
   "metadata": {},
   "outputs": [
    {
     "data": {
      "text/plain": [
       "array([[0.09142289, 0.10457391, 0.09294872, ..., 0.1433515 , 0.09812891,\n",
       "        0.17347762],\n",
       "       [0.09142289, 0.10457391, 0.09294872, ..., 0.1433515 , 0.09812891,\n",
       "        0.17347762],\n",
       "       [0.09142289, 0.10457391, 0.09294872, ..., 0.1433515 , 0.09812891,\n",
       "        0.17347762],\n",
       "       ...,\n",
       "       [0.09142549, 0.10459097, 0.09295072, ..., 0.14350048, 0.09813341,\n",
       "        0.17635725],\n",
       "       [0.09142565, 0.1045831 , 1.0927209 , ..., 0.14335966, 0.09812921,\n",
       "        0.17368013],\n",
       "       [0.09143426, 0.10458471, 0.09294982, ..., 0.14342482, 0.0981308 ,\n",
       "        3.1733482 ]], dtype=float32)"
      ]
     },
     "execution_count": 124,
     "metadata": {},
     "output_type": "execute_result"
    }
   ],
   "source": [
    "corpus_in_topics_space"
   ]
  },
  {
   "cell_type": "code",
   "execution_count": 122,
   "metadata": {},
   "outputs": [],
   "source": [
    "model.inference?"
   ]
  },
  {
   "cell_type": "code",
   "execution_count": null,
   "metadata": {},
   "outputs": [],
   "source": []
  }
 ],
 "metadata": {
  "kernelspec": {
   "display_name": "Python 3",
   "language": "python",
   "name": "python3"
  },
  "language_info": {
   "codemirror_mode": {
    "name": "ipython",
    "version": 3
   },
   "file_extension": ".py",
   "mimetype": "text/x-python",
   "name": "python",
   "nbconvert_exporter": "python",
   "pygments_lexer": "ipython3",
   "version": "3.8.6"
  }
 },
 "nbformat": 4,
 "nbformat_minor": 4
}
