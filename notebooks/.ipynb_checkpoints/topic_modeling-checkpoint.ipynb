{
 "cells": [
  {
   "cell_type": "code",
   "execution_count": 1,
   "metadata": {},
   "outputs": [
    {
     "data": {
      "text/html": [
       "<style>.container { width:95% !important; }</style>"
      ],
      "text/plain": [
       "<IPython.core.display.HTML object>"
      ]
     },
     "metadata": {},
     "output_type": "display_data"
    }
   ],
   "source": [
    "from IPython.core.display import display, HTML\n",
    "display(HTML(\"<style>.container { width:95% !important; }</style>\"))"
   ]
  },
  {
   "cell_type": "code",
   "execution_count": 2,
   "metadata": {},
   "outputs": [],
   "source": [
    "import pandas as pd\n",
    "import numpy as np\n",
    "from nltk.tokenize import RegexpTokenizer\n",
    "from nltk.stem.wordnet import WordNetLemmatizer\n",
    "from gensim.models import LdaModel\n",
    "from gensim.models import Phrases\n",
    "from itertools import chain\n",
    "from gensim.corpora import Dictionary\n",
    "import matplotlib.pyplot as plt\n",
    "import seaborn as sns"
   ]
  },
  {
   "cell_type": "code",
   "execution_count": 3,
   "metadata": {},
   "outputs": [],
   "source": [
    "%matplotlib inline"
   ]
  },
  {
   "cell_type": "code",
   "execution_count": 4,
   "metadata": {},
   "outputs": [],
   "source": [
    "train = pd.read_csv('../data/external/kaggle/train.csv')\n",
    "test = pd.read_csv('../data/external/kaggle/test.csv')\n",
    "y = pd.read_csv('../data/external/kaggle/train.csv')['target'].values\n",
    "tokenizer = RegexpTokenizer(r'\\w+')"
   ]
  },
  {
   "cell_type": "code",
   "execution_count": 76,
   "metadata": {},
   "outputs": [],
   "source": [
    "def preview_corpus(corpus):\n",
    "    for i,doc in enumerate(corpus[:5],1):\n",
    "        print(f'Document {i}: {doc}')\n",
    "        print()\n",
    "        \n",
    "def display_corr(df, s=10):\n",
    "    corr = df.corr()\n",
    "    mask = np.triu(np.ones_like(corr, dtype=bool))\n",
    "    fig, ax = plt.subplots(figsize=(s,s))\n",
    "    ax = sns.heatmap(corr.round(3),mask=mask, annot=True, cbar=False, linewidths=0.3, square=True)\n",
    "    ax.set_xticklabels(ax.get_xticklabels(), fontsize='x-large')\n",
    "    ax.set_yticklabels(ax.get_yticklabels(), fontsize='x-large');\n",
    "    return fig, ax        "
   ]
  },
  {
   "cell_type": "code",
   "execution_count": 51,
   "metadata": {},
   "outputs": [
    {
     "name": "stdout",
     "output_type": "stream",
     "text": [
      "Document 1: ['our', 'deeds', 'are', 'the', 'reason', 'of', 'this', 'earthquake', 'may', 'allah', 'forgive', 'us', 'all']\n",
      "\n",
      "Document 2: ['forest', 'fire', 'near', 'la', 'ronge', 'sask', 'canada']\n",
      "\n",
      "Document 3: ['all', 'residents', 'asked', 'to', 'shelter', 'in', 'place', 'are', 'being', 'notified', 'by', 'officers', 'no', 'other', 'evacuation', 'or', 'shelter', 'in', 'place', 'orders', 'are', 'expected']\n",
      "\n",
      "Document 4: ['people', 'receive', 'wildfires', 'evacuation', 'orders', 'in', 'california']\n",
      "\n",
      "Document 5: ['just', 'got', 'sent', 'this', 'photo', 'from', 'ruby', 'alaska', 'as', 'smoke', 'from', 'wildfires', 'pours', 'into', 'school']\n",
      "\n"
     ]
    }
   ],
   "source": [
    "corpus = train['text'].values\n",
    "corpus = [doc.lower() for doc in corpus]\n",
    "corpus = [tokenizer.tokenize(doc) for doc in corpus]\n",
    "corpus = [[token for token in doc if (not token.isnumeric() and len(token) > 1)] for doc in corpus]\n",
    "preview_corpus(corpus)"
   ]
  },
  {
   "cell_type": "code",
   "execution_count": 52,
   "metadata": {},
   "outputs": [],
   "source": [
    "min_count_b = 5\n",
    "min_count_t = 5\n",
    "min_count_f = 5"
   ]
  },
  {
   "cell_type": "code",
   "execution_count": 53,
   "metadata": {},
   "outputs": [
    {
     "name": "stdout",
     "output_type": "stream",
     "text": [
      "Document 1: ['our', 'deeds', 'are', 'the', 'reason', 'of', 'this', 'earthquake', 'may', 'allah', 'forgive', 'us', 'all']\n",
      "\n",
      "Document 2: ['forest', 'fire', 'near', 'la', 'ronge', 'sask', 'canada', 'forest_fire']\n",
      "\n",
      "Document 3: ['all', 'residents', 'asked', 'to', 'shelter', 'in', 'place', 'are', 'being', 'notified', 'by', 'officers', 'no', 'other', 'evacuation', 'or', 'shelter', 'in', 'place', 'orders', 'are', 'expected']\n",
      "\n",
      "Document 4: ['people', 'receive', 'wildfires', 'evacuation', 'orders', 'in', 'california']\n",
      "\n",
      "Document 5: ['just', 'got', 'sent', 'this', 'photo', 'from', 'ruby', 'alaska', 'as', 'smoke', 'from', 'wildfires', 'pours', 'into', 'school', 'just_got']\n",
      "\n",
      "CPU times: user 4.05 s, sys: 0 ns, total: 4.05 s\n",
      "Wall time: 4.05 s\n"
     ]
    }
   ],
   "source": [
    "%%time\n",
    "\n",
    "bigram = Phrases(corpus, min_count=min_count_b)\n",
    "trigram = Phrases(bigram[corpus], min_count=min_count_t)\n",
    "fourgram = Phrases(trigram[corpus], min_count=min_count_f)\n",
    "for doc in corpus:\n",
    "    bigrams = [b for b in bigram[doc] if b.count('_') == 1]\n",
    "    trigrams = [t for t in trigram[bigram[doc]] if t.count('_') == 2]\n",
    "    fourgrams = [f for f in fourgram[trigram[bigram[doc]]] if f.count('_') == 3]\n",
    "    doc.extend(list(chain(*[bigrams, trigrams, fourgrams])))\n",
    "preview_corpus(corpus)"
   ]
  },
  {
   "cell_type": "code",
   "execution_count": 54,
   "metadata": {},
   "outputs": [],
   "source": [
    "no_below = 100\n",
    "no_above = 0.6\n",
    "n_most_frequent = 0"
   ]
  },
  {
   "cell_type": "code",
   "execution_count": 55,
   "metadata": {},
   "outputs": [
    {
     "name": "stdout",
     "output_type": "stream",
     "text": [
      "Document 1: [(0, 1), (1, 1), (2, 1), (3, 1), (4, 1), (5, 1)]\n",
      "\n",
      "Document 2: [(6, 1)]\n",
      "\n",
      "Document 3: [(0, 1), (1, 2), (7, 1), (8, 2), (9, 1), (10, 1), (11, 1)]\n",
      "\n",
      "Document 4: [(8, 1), (12, 1), (13, 1)]\n",
      "\n",
      "Document 5: [(4, 1), (14, 1), (15, 2), (16, 1), (17, 1), (18, 1)]\n",
      "\n"
     ]
    }
   ],
   "source": [
    "dictionary = Dictionary(corpus)\n",
    "dictionary.filter_extremes(no_below=no_below, no_above=no_above)\n",
    "dictionary.filter_n_most_frequent(n_most_frequent)\n",
    "corpus = [dictionary.doc2bow(doc) for doc in corpus]\n",
    "preview_corpus(corpus)"
   ]
  },
  {
   "cell_type": "code",
   "execution_count": 56,
   "metadata": {},
   "outputs": [
    {
     "name": "stdout",
     "output_type": "stream",
     "text": [
      "Corpus: 7613 Tweets\n",
      "Dictionary: 109 Tokens\n"
     ]
    }
   ],
   "source": [
    "print(f'Corpus: {len(corpus)} Tweets')\n",
    "print(f'Dictionary: {len(dictionary)} Tokens')"
   ]
  },
  {
   "cell_type": "code",
   "execution_count": 63,
   "metadata": {},
   "outputs": [
    {
     "name": "stderr",
     "output_type": "stream",
     "text": [
      "/opt/conda/lib/python3.8/site-packages/IPython/core/interactiveshell.py:3146: DtypeWarning: Columns (3) have mixed types.Specify dtype option on import or set low_memory=False.\n",
      "  has_raised = await self.run_ast_nodes(code_ast.body, cell_name,\n"
     ]
    },
    {
     "data": {
      "text/plain": [
       "Index(['id', 'split', 'message', 'original', 'genre', 'related', 'PII',\n",
       "       'request', 'offer', 'aid_related', 'medical_help', 'medical_products',\n",
       "       'search_and_rescue', 'security', 'military', 'child_alone', 'water',\n",
       "       'food', 'shelter', 'clothing', 'money', 'missing_people', 'refugees',\n",
       "       'death', 'other_aid', 'infrastructure_related', 'transport',\n",
       "       'buildings', 'electricity', 'tools', 'hospitals', 'shops',\n",
       "       'aid_centers', 'other_infrastructure', 'weather_related', 'floods',\n",
       "       'storm', 'fire', 'earthquake', 'cold', 'other_weather',\n",
       "       'direct_report'],\n",
       "      dtype='object')"
      ]
     },
     "execution_count": 63,
     "metadata": {},
     "output_type": "execute_result"
    }
   ],
   "source": [
    "pd.read_csv('../data/external/appen/disaster_response_messages_training.csv').columns"
   ]
  },
  {
   "cell_type": "code",
   "execution_count": 78,
   "metadata": {},
   "outputs": [],
   "source": [
    "num_topics = 8\n",
    "chunksize = len(corpus)\n",
    "passes = 5\n",
    "iterations = 400\n",
    "eval_every = None"
   ]
  },
  {
   "cell_type": "code",
   "execution_count": 79,
   "metadata": {},
   "outputs": [
    {
     "name": "stdout",
     "output_type": "stream",
     "text": [
      "CPU times: user 12.8 s, sys: 48 ms, total: 12.8 s\n",
      "Wall time: 12.8 s\n"
     ]
    }
   ],
   "source": [
    "%%time\n",
    "\n",
    "temp = dictionary[0]  \n",
    "id2word = dictionary.id2token\n",
    "\n",
    "model = LdaModel(\n",
    "    corpus=corpus,\n",
    "    id2word=id2word,\n",
    "    chunksize=chunksize,\n",
    "    alpha='auto',\n",
    "    eta='auto',\n",
    "    iterations=iterations,\n",
    "    num_topics=num_topics,\n",
    "    passes=passes,\n",
    "    eval_every=eval_every\n",
    ")"
   ]
  },
  {
   "cell_type": "code",
   "execution_count": 80,
   "metadata": {},
   "outputs": [
    {
     "name": "stdout",
     "output_type": "stream",
     "text": [
      "CPU times: user 2.54 s, sys: 20.1 ms, total: 2.56 s\n",
      "Wall time: 2.54 s\n"
     ]
    },
    {
     "data": {
      "text/html": [
       "<div>\n",
       "<style scoped>\n",
       "    .dataframe tbody tr th:only-of-type {\n",
       "        vertical-align: middle;\n",
       "    }\n",
       "\n",
       "    .dataframe tbody tr th {\n",
       "        vertical-align: top;\n",
       "    }\n",
       "\n",
       "    .dataframe thead th {\n",
       "        text-align: right;\n",
       "    }\n",
       "</style>\n",
       "<table border=\"1\" class=\"dataframe\">\n",
       "  <thead>\n",
       "    <tr style=\"text-align: right;\">\n",
       "      <th></th>\n",
       "      <th>0</th>\n",
       "      <th>1</th>\n",
       "      <th>2</th>\n",
       "      <th>3</th>\n",
       "      <th>4</th>\n",
       "      <th>5</th>\n",
       "      <th>6</th>\n",
       "      <th>7</th>\n",
       "      <th>label</th>\n",
       "    </tr>\n",
       "  </thead>\n",
       "  <tbody>\n",
       "    <tr>\n",
       "      <th>0</th>\n",
       "      <td>0.010557</td>\n",
       "      <td>0.574898</td>\n",
       "      <td>0.349411</td>\n",
       "      <td>0.010964</td>\n",
       "      <td>0.011806</td>\n",
       "      <td>0.011474</td>\n",
       "      <td>0.019892</td>\n",
       "      <td>0.010997</td>\n",
       "      <td>1</td>\n",
       "    </tr>\n",
       "    <tr>\n",
       "      <th>1</th>\n",
       "      <td>0.637287</td>\n",
       "      <td>0.051627</td>\n",
       "      <td>0.052005</td>\n",
       "      <td>0.043604</td>\n",
       "      <td>0.046952</td>\n",
       "      <td>0.045633</td>\n",
       "      <td>0.079156</td>\n",
       "      <td>0.043735</td>\n",
       "      <td>1</td>\n",
       "    </tr>\n",
       "    <tr>\n",
       "      <th>2</th>\n",
       "      <td>0.000000</td>\n",
       "      <td>0.414658</td>\n",
       "      <td>0.533097</td>\n",
       "      <td>0.000000</td>\n",
       "      <td>0.000000</td>\n",
       "      <td>0.000000</td>\n",
       "      <td>0.013742</td>\n",
       "      <td>0.000000</td>\n",
       "      <td>1</td>\n",
       "    </tr>\n",
       "    <tr>\n",
       "      <th>3</th>\n",
       "      <td>0.019165</td>\n",
       "      <td>0.023566</td>\n",
       "      <td>0.023739</td>\n",
       "      <td>0.019903</td>\n",
       "      <td>0.021431</td>\n",
       "      <td>0.836044</td>\n",
       "      <td>0.036188</td>\n",
       "      <td>0.019963</td>\n",
       "      <td>1</td>\n",
       "    </tr>\n",
       "    <tr>\n",
       "      <th>4</th>\n",
       "      <td>0.000000</td>\n",
       "      <td>0.011292</td>\n",
       "      <td>0.011375</td>\n",
       "      <td>0.581784</td>\n",
       "      <td>0.349497</td>\n",
       "      <td>0.000000</td>\n",
       "      <td>0.017325</td>\n",
       "      <td>0.000000</td>\n",
       "      <td>1</td>\n",
       "    </tr>\n",
       "    <tr>\n",
       "      <th>...</th>\n",
       "      <td>...</td>\n",
       "      <td>...</td>\n",
       "      <td>...</td>\n",
       "      <td>...</td>\n",
       "      <td>...</td>\n",
       "      <td>...</td>\n",
       "      <td>...</td>\n",
       "      <td>...</td>\n",
       "      <td>...</td>\n",
       "    </tr>\n",
       "    <tr>\n",
       "      <th>7608</th>\n",
       "      <td>0.015069</td>\n",
       "      <td>0.018529</td>\n",
       "      <td>0.018664</td>\n",
       "      <td>0.015650</td>\n",
       "      <td>0.016851</td>\n",
       "      <td>0.871079</td>\n",
       "      <td>0.028461</td>\n",
       "      <td>0.015697</td>\n",
       "      <td>1</td>\n",
       "    </tr>\n",
       "    <tr>\n",
       "      <th>7609</th>\n",
       "      <td>0.000000</td>\n",
       "      <td>0.741679</td>\n",
       "      <td>0.000000</td>\n",
       "      <td>0.000000</td>\n",
       "      <td>0.000000</td>\n",
       "      <td>0.000000</td>\n",
       "      <td>0.215243</td>\n",
       "      <td>0.000000</td>\n",
       "      <td>1</td>\n",
       "    </tr>\n",
       "    <tr>\n",
       "      <th>7610</th>\n",
       "      <td>0.015069</td>\n",
       "      <td>0.018530</td>\n",
       "      <td>0.018664</td>\n",
       "      <td>0.015650</td>\n",
       "      <td>0.016851</td>\n",
       "      <td>0.016378</td>\n",
       "      <td>0.883161</td>\n",
       "      <td>0.015697</td>\n",
       "      <td>1</td>\n",
       "    </tr>\n",
       "    <tr>\n",
       "      <th>7611</th>\n",
       "      <td>0.548862</td>\n",
       "      <td>0.015267</td>\n",
       "      <td>0.015379</td>\n",
       "      <td>0.356747</td>\n",
       "      <td>0.013884</td>\n",
       "      <td>0.013494</td>\n",
       "      <td>0.023433</td>\n",
       "      <td>0.012933</td>\n",
       "      <td>1</td>\n",
       "    </tr>\n",
       "    <tr>\n",
       "      <th>7612</th>\n",
       "      <td>0.000000</td>\n",
       "      <td>0.000000</td>\n",
       "      <td>0.010063</td>\n",
       "      <td>0.000000</td>\n",
       "      <td>0.000000</td>\n",
       "      <td>0.000000</td>\n",
       "      <td>0.937006</td>\n",
       "      <td>0.000000</td>\n",
       "      <td>1</td>\n",
       "    </tr>\n",
       "  </tbody>\n",
       "</table>\n",
       "<p>7613 rows × 9 columns</p>\n",
       "</div>"
      ],
      "text/plain": [
       "             0         1         2         3         4         5         6  \\\n",
       "0     0.010557  0.574898  0.349411  0.010964  0.011806  0.011474  0.019892   \n",
       "1     0.637287  0.051627  0.052005  0.043604  0.046952  0.045633  0.079156   \n",
       "2     0.000000  0.414658  0.533097  0.000000  0.000000  0.000000  0.013742   \n",
       "3     0.019165  0.023566  0.023739  0.019903  0.021431  0.836044  0.036188   \n",
       "4     0.000000  0.011292  0.011375  0.581784  0.349497  0.000000  0.017325   \n",
       "...        ...       ...       ...       ...       ...       ...       ...   \n",
       "7608  0.015069  0.018529  0.018664  0.015650  0.016851  0.871079  0.028461   \n",
       "7609  0.000000  0.741679  0.000000  0.000000  0.000000  0.000000  0.215243   \n",
       "7610  0.015069  0.018530  0.018664  0.015650  0.016851  0.016378  0.883161   \n",
       "7611  0.548862  0.015267  0.015379  0.356747  0.013884  0.013494  0.023433   \n",
       "7612  0.000000  0.000000  0.010063  0.000000  0.000000  0.000000  0.937006   \n",
       "\n",
       "             7  label  \n",
       "0     0.010997      1  \n",
       "1     0.043735      1  \n",
       "2     0.000000      1  \n",
       "3     0.019963      1  \n",
       "4     0.000000      1  \n",
       "...        ...    ...  \n",
       "7608  0.015697      1  \n",
       "7609  0.000000      1  \n",
       "7610  0.015697      1  \n",
       "7611  0.012933      1  \n",
       "7612  0.000000      1  \n",
       "\n",
       "[7613 rows x 9 columns]"
      ]
     },
     "execution_count": 80,
     "metadata": {},
     "output_type": "execute_result"
    }
   ],
   "source": [
    "%%time\n",
    "topics = [model.get_document_topics(doc) for doc in corpus]\n",
    "topics = [dict(topic_dist) for topic_dist in topics]\n",
    "topics = pd.DataFrame(topics).fillna(0)\n",
    "topics['label'] = y\n",
    "topics"
   ]
  },
  {
   "cell_type": "code",
   "execution_count": 81,
   "metadata": {},
   "outputs": [],
   "source": [
    "#TO INVESTIGATE: THE LESS TOKENS, THE MORE CORRELATION (ENTRIES ZEROED OUT)\n",
    "# THE MORE TOPICS, THE LESS CORRELATIONS (ENTRIES ZEROED OUT)"
   ]
  },
  {
   "cell_type": "code",
   "execution_count": 82,
   "metadata": {},
   "outputs": [
    {
     "data": {
      "image/png": "[encoded data removed]",
      "text/plain": [
       "<Figure size 1440x1440 with 1 Axes>"
      ]
     },
     "metadata": {
      "needs_background": "light"
     },
     "output_type": "display_data"
    }
   ],
   "source": [
    "_,_ = display_corr(topics, 20)"
   ]
  },
  {
   "cell_type": "code",
   "execution_count": 61,
   "metadata": {
    "scrolled": false
   },
   "outputs": [
    {
     "data": {
      "text/plain": [
       "[(0,\n",
       "  '0.103*\"the\" + 0.045*\"to\" + 0.044*\"and\" + 0.042*\"of\" + 0.034*\"you\" + 0.031*\"in\" + 0.027*\"is\" + 0.027*\"for\" + 0.027*\"it\" + 0.024*\"co\"'),\n",
       " (1,\n",
       "  '0.169*\"co\" + 0.164*\"http\" + 0.151*\"http_co\" + 0.049*\"in\" + 0.033*\"to\" + 0.030*\"of\" + 0.025*\"the\" + 0.022*\"on\" + 0.017*\"at\" + 0.017*\"by\"')]"
      ]
     },
     "execution_count": 61,
     "metadata": {},
     "output_type": "execute_result"
    }
   ],
   "source": [
    "model.show_topics(formatted=True)"
   ]
  },
  {
   "cell_type": "code",
   "execution_count": 18,
   "metadata": {},
   "outputs": [
    {
     "name": "stdout",
     "output_type": "stream",
     "text": [
      "[('fedex', 0.0041247485), ('bioterror', 0.0037652405), ('longer', 0.0034095093), ('fedex_no', 0.002865683), ('famine', 0.0028335315), ('transport', 0.0027458353), ('lab', 0.0027454724), ('food', 0.002662932), ('see', 0.002634257), ('black', 0.0025800942)]\n"
     ]
    }
   ],
   "source": [
    "print(model.show_topic(1))"
   ]
  },
  {
   "cell_type": "code",
   "execution_count": null,
   "metadata": {},
   "outputs": [],
   "source": [
    "# import pyLDAvis\n",
    "# from pyLDAvis import gensim as ldavis\n",
    "# pyLDAvis.enable_notebook()\n",
    "# vis = ldavis.prepare(model, corpus, dictionary)\n",
    "# vis"
   ]
  },
  {
   "cell_type": "code",
   "execution_count": null,
   "metadata": {},
   "outputs": [],
   "source": []
  }
 ],
 "metadata": {
  "kernelspec": {
   "display_name": "Python 3",
   "language": "python",
   "name": "python3"
  },
  "language_info": {
   "codemirror_mode": {
    "name": "ipython",
    "version": 3
   },
   "file_extension": ".py",
   "mimetype": "text/x-python",
   "name": "python",
   "nbconvert_exporter": "python",
   "pygments_lexer": "ipython3",
   "version": "3.8.6"
  }
 },
 "nbformat": 4,
 "nbformat_minor": 4
}
