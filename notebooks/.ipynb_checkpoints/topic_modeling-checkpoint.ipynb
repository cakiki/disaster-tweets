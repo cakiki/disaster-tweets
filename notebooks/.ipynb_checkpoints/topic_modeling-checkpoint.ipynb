{
 "cells": [
  {
   "cell_type": "code",
   "execution_count": 1,
   "metadata": {},
   "outputs": [
    {
     "data": {
      "text/html": [
       "<style>.container { width:95% !important; }</style>"
      ],
      "text/plain": [
       "<IPython.core.display.HTML object>"
      ]
     },
     "metadata": {},
     "output_type": "display_data"
    }
   ],
   "source": [
    "from IPython.core.display import display, HTML\n",
    "display(HTML(\"<style>.container { width:95% !important; }</style>\"))"
   ]
  },
  {
   "cell_type": "code",
   "execution_count": 108,
   "metadata": {},
   "outputs": [
    {
     "name": "stderr",
     "output_type": "stream",
     "text": [
      "/opt/conda/lib/python3.8/site-packages/ipykernel/ipkernel.py:283: DeprecationWarning: `should_run_async` will not call `transform_cell` automatically in the future. Please pass the result to `transformed_cell` argument and any exception that happen during thetransform in `preprocessing_exc_tuple` in IPython 7.17 and above.\n",
      "  and should_run_async(code)\n"
     ]
    }
   ],
   "source": [
    "import pandas as pd\n",
    "import numpy as np\n",
    "from nltk.tokenize import RegexpTokenizer\n",
    "from nltk.stem.wordnet import WordNetLemmatizer\n",
    "from gensim.models import LdaModel\n",
    "from gensim.models import Phrases\n",
    "from itertools import chain\n",
    "from gensim.corpora import Dictionary\n",
    "import matplotlib.pyplot as plt\n",
    "import seaborn as sns\n",
    "from nltk.corpus import stopwords\n"
   ]
  },
  {
   "cell_type": "code",
   "execution_count": 3,
   "metadata": {},
   "outputs": [],
   "source": [
    "%matplotlib inline"
   ]
  },
  {
   "cell_type": "code",
   "execution_count": 4,
   "metadata": {},
   "outputs": [],
   "source": [
    "train = pd.read_csv('../data/external/kaggle/train.csv')\n",
    "test = pd.read_csv('../data/external/kaggle/test.csv')\n",
    "y = pd.read_csv('../data/external/kaggle/train.csv')['target'].values\n",
    "tokenizer = RegexpTokenizer(r'\\w+')"
   ]
  },
  {
   "cell_type": "code",
   "execution_count": 101,
   "metadata": {},
   "outputs": [],
   "source": [
    "def preview_corpus(corpus):\n",
    "    for i,doc in enumerate(corpus[:5],1):\n",
    "        print(f'Item {i}: {doc}')\n",
    "        print()\n",
    "        \n",
    "def display_corr(df, s=10):\n",
    "    corr = df.corr()\n",
    "    mask = np.triu(np.ones_like(corr, dtype=bool))\n",
    "    fig, ax = plt.subplots(figsize=(s,s))\n",
    "    ax = sns.heatmap(corr.round(3),mask=mask, annot=True, cbar=False, linewidths=0.3, square=True)\n",
    "    ax.set_xticklabels(ax.get_xticklabels(), fontsize='x-large')\n",
    "    ax.set_yticklabels(ax.get_yticklabels(), fontsize='x-large');\n",
    "    return fig, ax"
   ]
  },
  {
   "cell_type": "code",
   "execution_count": 51,
   "metadata": {},
   "outputs": [
    {
     "name": "stdout",
     "output_type": "stream",
     "text": [
      "Document 1: ['our', 'deeds', 'are', 'the', 'reason', 'of', 'this', 'earthquake', 'may', 'allah', 'forgive', 'us', 'all']\n",
      "\n",
      "Document 2: ['forest', 'fire', 'near', 'la', 'ronge', 'sask', 'canada']\n",
      "\n",
      "Document 3: ['all', 'residents', 'asked', 'to', 'shelter', 'in', 'place', 'are', 'being', 'notified', 'by', 'officers', 'no', 'other', 'evacuation', 'or', 'shelter', 'in', 'place', 'orders', 'are', 'expected']\n",
      "\n",
      "Document 4: ['people', 'receive', 'wildfires', 'evacuation', 'orders', 'in', 'california']\n",
      "\n",
      "Document 5: ['just', 'got', 'sent', 'this', 'photo', 'from', 'ruby', 'alaska', 'as', 'smoke', 'from', 'wildfires', 'pours', 'into', 'school']\n",
      "\n"
     ]
    }
   ],
   "source": [
    "corpus = train['text'].values\n",
    "corpus = [doc.lower() for doc in corpus]\n",
    "corpus = [tokenizer.tokenize(doc) for doc in corpus]\n",
    "corpus = [[token for token in doc if (not token.isnumeric() and len(token) > 1)] for doc in corpus]\n",
    "preview_corpus(corpus)"
   ]
  },
  {
   "cell_type": "code",
   "execution_count": null,
   "metadata": {},
   "outputs": [],
   "source": [
    "stop_words = stopwords.words('english')\n",
    "stop_words.extend(['from', 'subject', 're', 'edu', 'use'])"
   ]
  },
  {
   "cell_type": "code",
   "execution_count": 52,
   "metadata": {},
   "outputs": [],
   "source": [
    "min_count_b = 5\n",
    "min_count_t = 5\n",
    "min_count_f = 5"
   ]
  },
  {
   "cell_type": "code",
   "execution_count": 53,
   "metadata": {},
   "outputs": [
    {
     "name": "stdout",
     "output_type": "stream",
     "text": [
      "Document 1: ['our', 'deeds', 'are', 'the', 'reason', 'of', 'this', 'earthquake', 'may', 'allah', 'forgive', 'us', 'all']\n",
      "\n",
      "Document 2: ['forest', 'fire', 'near', 'la', 'ronge', 'sask', 'canada', 'forest_fire']\n",
      "\n",
      "Document 3: ['all', 'residents', 'asked', 'to', 'shelter', 'in', 'place', 'are', 'being', 'notified', 'by', 'officers', 'no', 'other', 'evacuation', 'or', 'shelter', 'in', 'place', 'orders', 'are', 'expected']\n",
      "\n",
      "Document 4: ['people', 'receive', 'wildfires', 'evacuation', 'orders', 'in', 'california']\n",
      "\n",
      "Document 5: ['just', 'got', 'sent', 'this', 'photo', 'from', 'ruby', 'alaska', 'as', 'smoke', 'from', 'wildfires', 'pours', 'into', 'school', 'just_got']\n",
      "\n",
      "CPU times: user 4.05 s, sys: 0 ns, total: 4.05 s\n",
      "Wall time: 4.05 s\n"
     ]
    }
   ],
   "source": [
    "%%time\n",
    "\n",
    "bigram = Phrases(corpus, min_count=min_count_b)\n",
    "trigram = Phrases(bigram[corpus], min_count=min_count_t)\n",
    "fourgram = Phrases(trigram[corpus], min_count=min_count_f)\n",
    "for doc in corpus:\n",
    "    bigrams = [b for b in bigram[doc] if b.count('_') == 1]\n",
    "    trigrams = [t for t in trigram[bigram[doc]] if t.count('_') == 2]\n",
    "    fourgrams = [f for f in fourgram[trigram[bigram[doc]]] if f.count('_') == 3]\n",
    "    doc.extend(list(chain(*[bigrams, trigrams, fourgrams])))\n",
    "preview_corpus(corpus)"
   ]
  },
  {
   "cell_type": "code",
   "execution_count": 54,
   "metadata": {},
   "outputs": [],
   "source": [
    "no_below = 100\n",
    "no_above = 0.6\n",
    "n_most_frequent = 0"
   ]
  },
  {
   "cell_type": "code",
   "execution_count": 55,
   "metadata": {},
   "outputs": [
    {
     "name": "stdout",
     "output_type": "stream",
     "text": [
      "Document 1: [(0, 1), (1, 1), (2, 1), (3, 1), (4, 1), (5, 1)]\n",
      "\n",
      "Document 2: [(6, 1)]\n",
      "\n",
      "Document 3: [(0, 1), (1, 2), (7, 1), (8, 2), (9, 1), (10, 1), (11, 1)]\n",
      "\n",
      "Document 4: [(8, 1), (12, 1), (13, 1)]\n",
      "\n",
      "Document 5: [(4, 1), (14, 1), (15, 2), (16, 1), (17, 1), (18, 1)]\n",
      "\n"
     ]
    }
   ],
   "source": [
    "dictionary = Dictionary(corpus)\n",
    "dictionary.filter_extremes(no_below=no_below, no_above=no_above)\n",
    "dictionary.filter_n_most_frequent(n_most_frequent)\n",
    "corpus = [dictionary.doc2bow(doc) for doc in corpus]\n",
    "preview_corpus(corpus)"
   ]
  },
  {
   "cell_type": "code",
   "execution_count": 56,
   "metadata": {},
   "outputs": [
    {
     "name": "stdout",
     "output_type": "stream",
     "text": [
      "Corpus: 7613 Tweets\n",
      "Dictionary: 109 Tokens\n"
     ]
    }
   ],
   "source": [
    "print(f'Corpus: {len(corpus)} Tweets')\n",
    "print(f'Dictionary: {len(dictionary)} Tokens')"
   ]
  },
  {
   "cell_type": "code",
   "execution_count": 63,
   "metadata": {},
   "outputs": [
    {
     "name": "stderr",
     "output_type": "stream",
     "text": [
      "/opt/conda/lib/python3.8/site-packages/IPython/core/interactiveshell.py:3146: DtypeWarning: Columns (3) have mixed types.Specify dtype option on import or set low_memory=False.\n",
      "  has_raised = await self.run_ast_nodes(code_ast.body, cell_name,\n"
     ]
    },
    {
     "data": {
      "text/plain": [
       "Index(['id', 'split', 'message', 'original', 'genre', 'related', 'PII',\n",
       "       'request', 'offer', 'aid_related', 'medical_help', 'medical_products',\n",
       "       'search_and_rescue', 'security', 'military', 'child_alone', 'water',\n",
       "       'food', 'shelter', 'clothing', 'money', 'missing_people', 'refugees',\n",
       "       'death', 'other_aid', 'infrastructure_related', 'transport',\n",
       "       'buildings', 'electricity', 'tools', 'hospitals', 'shops',\n",
       "       'aid_centers', 'other_infrastructure', 'weather_related', 'floods',\n",
       "       'storm', 'fire', 'earthquake', 'cold', 'other_weather',\n",
       "       'direct_report'],\n",
       "      dtype='object')"
      ]
     },
     "execution_count": 63,
     "metadata": {},
     "output_type": "execute_result"
    }
   ],
   "source": [
    "pd.read_csv('../data/external/appen/disaster_response_messages_training.csv').columns"
   ]
  },
  {
   "cell_type": "code",
   "execution_count": 78,
   "metadata": {},
   "outputs": [],
   "source": [
    "num_topics = 8\n",
    "chunksize = len(corpus)\n",
    "passes = 5\n",
    "iterations = 400\n",
    "eval_every = None"
   ]
  },
  {
   "cell_type": "code",
   "execution_count": 79,
   "metadata": {},
   "outputs": [
    {
     "name": "stdout",
     "output_type": "stream",
     "text": [
      "CPU times: user 12.8 s, sys: 48 ms, total: 12.8 s\n",
      "Wall time: 12.8 s\n"
     ]
    }
   ],
   "source": [
    "%%time\n",
    "\n",
    "temp = dictionary[0]  \n",
    "id2word = dictionary.id2token\n",
    "\n",
    "model = LdaModel(\n",
    "    corpus=corpus,\n",
    "    id2word=id2word,\n",
    "    chunksize=chunksize,\n",
    "    alpha='auto',\n",
    "    eta='auto',\n",
    "    iterations=iterations,\n",
    "    num_topics=num_topics,\n",
    "    passes=passes,\n",
    "    eval_every=eval_every\n",
    ")"
   ]
  },
  {
   "cell_type": "code",
   "execution_count": 80,
   "metadata": {},
   "outputs": [
    {
     "name": "stdout",
     "output_type": "stream",
     "text": [
      "CPU times: user 2.54 s, sys: 20.1 ms, total: 2.56 s\n",
      "Wall time: 2.54 s\n"
     ]
    },
    {
     "data": {
      "text/html": [
       "<div>\n",
       "<style scoped>\n",
       "    .dataframe tbody tr th:only-of-type {\n",
       "        vertical-align: middle;\n",
       "    }\n",
       "\n",
       "    .dataframe tbody tr th {\n",
       "        vertical-align: top;\n",
       "    }\n",
       "\n",
       "    .dataframe thead th {\n",
       "        text-align: right;\n",
       "    }\n",
       "</style>\n",
       "<table border=\"1\" class=\"dataframe\">\n",
       "  <thead>\n",
       "    <tr style=\"text-align: right;\">\n",
       "      <th></th>\n",
       "      <th>0</th>\n",
       "      <th>1</th>\n",
       "      <th>2</th>\n",
       "      <th>3</th>\n",
       "      <th>4</th>\n",
       "      <th>5</th>\n",
       "      <th>6</th>\n",
       "      <th>7</th>\n",
       "      <th>label</th>\n",
       "    </tr>\n",
       "  </thead>\n",
       "  <tbody>\n",
       "    <tr>\n",
       "      <th>0</th>\n",
       "      <td>0.010557</td>\n",
       "      <td>0.574898</td>\n",
       "      <td>0.349411</td>\n",
       "      <td>0.010964</td>\n",
       "      <td>0.011806</td>\n",
       "      <td>0.011474</td>\n",
       "      <td>0.019892</td>\n",
       "      <td>0.010997</td>\n",
       "      <td>1</td>\n",
       "    </tr>\n",
       "    <tr>\n",
       "      <th>1</th>\n",
       "      <td>0.637287</td>\n",
       "      <td>0.051627</td>\n",
       "      <td>0.052005</td>\n",
       "      <td>0.043604</td>\n",
       "      <td>0.046952</td>\n",
       "      <td>0.045633</td>\n",
       "      <td>0.079156</td>\n",
       "      <td>0.043735</td>\n",
       "      <td>1</td>\n",
       "    </tr>\n",
       "    <tr>\n",
       "      <th>2</th>\n",
       "      <td>0.000000</td>\n",
       "      <td>0.414658</td>\n",
       "      <td>0.533097</td>\n",
       "      <td>0.000000</td>\n",
       "      <td>0.000000</td>\n",
       "      <td>0.000000</td>\n",
       "      <td>0.013742</td>\n",
       "      <td>0.000000</td>\n",
       "      <td>1</td>\n",
       "    </tr>\n",
       "    <tr>\n",
       "      <th>3</th>\n",
       "      <td>0.019165</td>\n",
       "      <td>0.023566</td>\n",
       "      <td>0.023739</td>\n",
       "      <td>0.019903</td>\n",
       "      <td>0.021431</td>\n",
       "      <td>0.836044</td>\n",
       "      <td>0.036188</td>\n",
       "      <td>0.019963</td>\n",
       "      <td>1</td>\n",
       "    </tr>\n",
       "    <tr>\n",
       "      <th>4</th>\n",
       "      <td>0.000000</td>\n",
       "      <td>0.011292</td>\n",
       "      <td>0.011375</td>\n",
       "      <td>0.581784</td>\n",
       "      <td>0.349497</td>\n",
       "      <td>0.000000</td>\n",
       "      <td>0.017325</td>\n",
       "      <td>0.000000</td>\n",
       "      <td>1</td>\n",
       "    </tr>\n",
       "    <tr>\n",
       "      <th>...</th>\n",
       "      <td>...</td>\n",
       "      <td>...</td>\n",
       "      <td>...</td>\n",
       "      <td>...</td>\n",
       "      <td>...</td>\n",
       "      <td>...</td>\n",
       "      <td>...</td>\n",
       "      <td>...</td>\n",
       "      <td>...</td>\n",
       "    </tr>\n",
       "    <tr>\n",
       "      <th>7608</th>\n",
       "      <td>0.015069</td>\n",
       "      <td>0.018529</td>\n",
       "      <td>0.018664</td>\n",
       "      <td>0.015650</td>\n",
       "      <td>0.016851</td>\n",
       "      <td>0.871079</td>\n",
       "      <td>0.028461</td>\n",
       "      <td>0.015697</td>\n",
       "      <td>1</td>\n",
       "    </tr>\n",
       "    <tr>\n",
       "      <th>7609</th>\n",
       "      <td>0.000000</td>\n",
       "      <td>0.741679</td>\n",
       "      <td>0.000000</td>\n",
       "      <td>0.000000</td>\n",
       "      <td>0.000000</td>\n",
       "      <td>0.000000</td>\n",
       "      <td>0.215243</td>\n",
       "      <td>0.000000</td>\n",
       "      <td>1</td>\n",
       "    </tr>\n",
       "    <tr>\n",
       "      <th>7610</th>\n",
       "      <td>0.015069</td>\n",
       "      <td>0.018530</td>\n",
       "      <td>0.018664</td>\n",
       "      <td>0.015650</td>\n",
       "      <td>0.016851</td>\n",
       "      <td>0.016378</td>\n",
       "      <td>0.883161</td>\n",
       "      <td>0.015697</td>\n",
       "      <td>1</td>\n",
       "    </tr>\n",
       "    <tr>\n",
       "      <th>7611</th>\n",
       "      <td>0.548862</td>\n",
       "      <td>0.015267</td>\n",
       "      <td>0.015379</td>\n",
       "      <td>0.356747</td>\n",
       "      <td>0.013884</td>\n",
       "      <td>0.013494</td>\n",
       "      <td>0.023433</td>\n",
       "      <td>0.012933</td>\n",
       "      <td>1</td>\n",
       "    </tr>\n",
       "    <tr>\n",
       "      <th>7612</th>\n",
       "      <td>0.000000</td>\n",
       "      <td>0.000000</td>\n",
       "      <td>0.010063</td>\n",
       "      <td>0.000000</td>\n",
       "      <td>0.000000</td>\n",
       "      <td>0.000000</td>\n",
       "      <td>0.937006</td>\n",
       "      <td>0.000000</td>\n",
       "      <td>1</td>\n",
       "    </tr>\n",
       "  </tbody>\n",
       "</table>\n",
       "<p>7613 rows × 9 columns</p>\n",
       "</div>"
      ],
      "text/plain": [
       "             0         1         2         3         4         5         6  \\\n",
       "0     0.010557  0.574898  0.349411  0.010964  0.011806  0.011474  0.019892   \n",
       "1     0.637287  0.051627  0.052005  0.043604  0.046952  0.045633  0.079156   \n",
       "2     0.000000  0.414658  0.533097  0.000000  0.000000  0.000000  0.013742   \n",
       "3     0.019165  0.023566  0.023739  0.019903  0.021431  0.836044  0.036188   \n",
       "4     0.000000  0.011292  0.011375  0.581784  0.349497  0.000000  0.017325   \n",
       "...        ...       ...       ...       ...       ...       ...       ...   \n",
       "7608  0.015069  0.018529  0.018664  0.015650  0.016851  0.871079  0.028461   \n",
       "7609  0.000000  0.741679  0.000000  0.000000  0.000000  0.000000  0.215243   \n",
       "7610  0.015069  0.018530  0.018664  0.015650  0.016851  0.016378  0.883161   \n",
       "7611  0.548862  0.015267  0.015379  0.356747  0.013884  0.013494  0.023433   \n",
       "7612  0.000000  0.000000  0.010063  0.000000  0.000000  0.000000  0.937006   \n",
       "\n",
       "             7  label  \n",
       "0     0.010997      1  \n",
       "1     0.043735      1  \n",
       "2     0.000000      1  \n",
       "3     0.019963      1  \n",
       "4     0.000000      1  \n",
       "...        ...    ...  \n",
       "7608  0.015697      1  \n",
       "7609  0.000000      1  \n",
       "7610  0.015697      1  \n",
       "7611  0.012933      1  \n",
       "7612  0.000000      1  \n",
       "\n",
       "[7613 rows x 9 columns]"
      ]
     },
     "execution_count": 80,
     "metadata": {},
     "output_type": "execute_result"
    }
   ],
   "source": [
    "%%time\n",
    "topics = [model.get_document_topics(doc) for doc in corpus]\n",
    "topics = [dict(topic_dist) for topic_dist in topics]\n",
    "topics = pd.DataFrame(topics).fillna(0)\n",
    "topics['label'] = y\n",
    "topics"
   ]
  },
  {
   "cell_type": "code",
   "execution_count": 81,
   "metadata": {},
   "outputs": [],
   "source": [
    "#TO INVESTIGATE: THE LESS TOKENS, THE MORE CORRELATION (ENTRIES ZEROED OUT)\n",
    "# THE MORE TOPICS, THE LESS CORRELATIONS (ENTRIES ZEROED OUT)"
   ]
  },
  {
   "cell_type": "code",
   "execution_count": 82,
   "metadata": {},
   "outputs": [
    {
     "data": {
      "image/png": "[encoded data removed]",
      "text/plain": [
       "<Figure size 1440x1440 with 1 Axes>"
      ]
     },
     "metadata": {
      "needs_background": "light"
     },
     "output_type": "display_data"
    }
   ],
   "source": [
    "_,_ = display_corr(topics, 20)"
   ]
  },
  {
   "cell_type": "code",
   "execution_count": 100,
   "metadata": {
    "scrolled": false
   },
   "outputs": [
    {
     "name": "stdout",
     "output_type": "stream",
     "text": [
      "Document 1: ('with', 'of', 'the', 'has', 'this', 'up', 'at', 'on', 'his', 'some', 'is', 'her', 'that', 'man', 'fire', 'he', 'over', 'been', 'an', 'people', 'and', 'to', 'no', 'just', 'not', 'how', 'still', 'in', 'see', 'body', 'all', 'now', 'there', 'out', 'after', 'are', 'will', 'like', 'û_', 'co', 'them', 'were', 'know', 'who', 'by', 'when', 'http', 'me', 'http_co', 'you', 'more', 'storm', 'was', 'news', 'as', 'get', 'do', 'would', 'first', 'so', 'we', 'be', 'my', 'but', 'from', 'don', 'what', 'rt', 'police', 'why', 'fires', 'emergency', 'got', 'your', 'amp', 'or', 'about', 'it', 'for', 'off', 'if', 'day', 'suicide', 'new', 'û__http_co', 'back', 'disaster', 'https', 'have', 'one', 'than', 'https_co', 'crash', 'going', 'can', 'via', 'us', 'into', 'buildings', 'video')\n",
      "\n",
      "Document 2: ('the', 'to', 'of', 'that', 'and', 'it', 'is', 'in', 'was', 'on', 'my', 'about', 'all', 'by', 'are', 'at', 'out', 'into', 'he', 'you', 'with', 'just', 'for', 'off', 'one', 'from', 'like', 'be', 'as', 'going', 'get', 'or', 'have', 'an', 'back', 'not', 'so', 'first', 'do', 'time', 'had', 'your', 'now', 'there', 'amp', 'why', 'we', 'co', 'they', 'emergency', 'up', 'what', 'can', 'if', 'got', 'me', 'http_co', 'http', 'some', 'will', 'when', 'new', 'were', 'has', 'his', 'us', 'world', 'fire', 'still', 'how', 'nuclear', 'no', 'after', 'more', 'people', 'than', 'see', 'know', 'them', 'this', 'burning', 'fires', 'bomb', 'don', 'her', 'buildings', 'would', 'over', 'crash', 'who', 'suicide', 'rt', 'disaster', 'police', 'man', 'day', 're', 'storm', 'https_co', 'https')\n",
      "\n",
      "Document 3: ('the', 'you', 'in', 'and', 'to', 'for', 'but', 'have', 'it', 'on', 'so', 'we', 'with', 'are', 'that', 'be', 'of', 'not', 'they', 'my', 'like', 'as', 'no', 'will', 'been', 'if', 'this', 'is', 'me', 're', 'was', 'don', 'when', 'would', 'your', 'just', 'there', 'can', 'at', 'what', 'them', 'got', 'or', 'get', 'one', 'up', 'day', 'who', 'out', 'he', 'all', 'fire', 'time', 'us', 'an', 'going', 'had', 'why', 'has', 'after', 'see', 'know', 'people', 'body', 'back', 'more', 'now', 'still', 'than', 'amp', 'storm', 'buildings', 'how', 'over', 'were', 'co', 'do', 'fires', 'her', 'from', 'bomb', 'disaster', 'into', 'http', 'http_co', 'world', 'suicide', 'off', 'first', 'û_', 'new', 'by', 'about', 'burning', 'news', 'some', 'https', 'california', 'emergency', 'https_co')\n",
      "\n",
      "Document 4: ('my', 'is', 'and', 'in', 'me', 'the', 'like', 'of', 'this', 'can', 'just', 'co', 'http_co', 'http', 'to', 'are', 'amp', 'was', 'so', 'it', 'they', 'crash', 'you', 'out', 'now', 'up', 'police', 'there', 'with', 'don', 'do', 'one', 'he', 'from', 'when', 'what', 'video', 'for', 'after', 'all', 'people', 'on', 'more', 'get', 'we', 'still', 'be', 'got', 're', 'emergency', 'an', 'who', 'had', 'your', 'know', 'day', 'back', 'how', 'into', 'fires', 'not', 'her', 'by', 'û_', 'world', 'storm', 'but', 'burning', 'man', 'why', 'some', 'buildings', 'or', 'has', 'as', 'than', 'fire', 'that', 'new', 'disaster', 'will', 'rt', 'going', 'have', 'at', 'suicide', 'time', 'if', 'body', 'about', 'california', 'via', 'them', 'no', 'his', 'off', 'were', 'bomb', 'us', 'would')\n",
      "\n",
      "Document 5: ('co', 'http', 'http_co', 'to', 'for', 'of', 'and', 'from', 'on', 'be', 'in', 'my', 'will', 'it', 'your', 'the', 'not', 'now', 'is', 'what', 'this', 'you', 'can', 'how', 'û_', 'an', 'just', 'first', 'he', 'no', 'news', 'day', 'by', 'rt', 'new', 'back', 'them', 'amp', 'emergency', 'with', 'that', 'out', 'as', 'are', 'do', 'why', 'up', 'his', 'has', 'time', 'body', 'we', 'man', 'so', 'been', 'fires', 'get', 'there', 'û__http_co', 'into', 'had', 'video', 'was', 'would', 'all', 'they', 'after', 'if', 'people', 'her', 'us', 're', 'who', 'at', 'see', 'like', 'going', 'burning', 'one', 'more', 'disaster', 'over', 'me', 'know', 'don', 'https', 'or', 'when', 'bomb', 'than', 'have', 'buildings', 'crash', 'suicide', 'fire', 'but', 'https_co', 'about', 'still', 'via')\n",
      "\n"
     ]
    }
   ],
   "source": [
    "t = [l for i,l in model.show_topics(formatted=False, num_words=100)]\n",
    "t = [list(zip(*l))[0] for l in t]\n",
    "preview_corpus(t)"
   ]
  },
  {
   "cell_type": "code",
   "execution_count": 96,
   "metadata": {},
   "outputs": [],
   "source": [
    "model.show_topics?"
   ]
  },
  {
   "cell_type": "code",
   "execution_count": 18,
   "metadata": {},
   "outputs": [
    {
     "name": "stdout",
     "output_type": "stream",
     "text": [
      "[('fedex', 0.0041247485), ('bioterror', 0.0037652405), ('longer', 0.0034095093), ('fedex_no', 0.002865683), ('famine', 0.0028335315), ('transport', 0.0027458353), ('lab', 0.0027454724), ('food', 0.002662932), ('see', 0.002634257), ('black', 0.0025800942)]\n"
     ]
    }
   ],
   "source": [
    "print(model.show_topic(1))"
   ]
  },
  {
   "cell_type": "code",
   "execution_count": 102,
   "metadata": {},
   "outputs": [],
   "source": [
    "# import pyLDAvis\n",
    "from pyLDAvis import gensim as ldavis\n",
    "# pyLDAvis.enable_notebook()\n",
    "vis = ldavis.prepare(model, corpus, dictionary)\n",
    "#vis"
   ]
  },
  {
   "cell_type": "code",
   "execution_count": 106,
   "metadata": {},
   "outputs": [
    {
     "name": "stderr",
     "output_type": "stream",
     "text": [
      "/opt/conda/lib/python3.8/site-packages/ipykernel/ipkernel.py:283: DeprecationWarning: `should_run_async` will not call `transform_cell` automatically in the future. Please pass the result to `transformed_cell` argument and any exception that happen during thetransform in `preprocessing_exc_tuple` in IPython 7.17 and above.\n",
      "  and should_run_async(code)\n"
     ]
    }
   ],
   "source": [
    "import pyLDAvis\n",
    "pyLDAvis.enable_notebook()"
   ]
  },
  {
   "cell_type": "code",
   "execution_count": 107,
   "metadata": {},
   "outputs": [
    {
     "name": "stderr",
     "output_type": "stream",
     "text": [
      "/opt/conda/lib/python3.8/site-packages/ipykernel/ipkernel.py:283: DeprecationWarning: `should_run_async` will not call `transform_cell` automatically in the future. Please pass the result to `transformed_cell` argument and any exception that happen during thetransform in `preprocessing_exc_tuple` in IPython 7.17 and above.\n",
      "  and should_run_async(code)\n"
     ]
    },
    {
     "data": {
      "text/html": [
       "\n",
       "<link rel=\"stylesheet\" type=\"text/css\" href=\"https://cdn.rawgit.com/bmabey/pyLDAvis/files/ldavis.v1.0.0.css\">\n",
       "\n",
       "\n",
       "<div id=\"ldavis_el971403626935714087315870928\"></div>\n",
       "<script type=\"text/javascript\">\n",
       "\n",
       "var ldavis_el971403626935714087315870928_data = {\"mdsDat\": {\"x\": [-0.23482283169869392, 0.142995485116365, 0.1109134921455592, -0.15921890645469677, 0.04606839255694581, 0.07557847035761661, -0.09940809367432417, 0.1178939916512282], \"y\": [0.02849244379342368, -0.026790393929346283, 0.00745769889344726, -0.0014317477654631871, -0.15371708059774467, -0.007826759508006688, 0.004576435421016845, 0.1492394036926732], \"topics\": [1, 2, 3, 4, 5, 6, 7, 8], \"cluster\": [1, 1, 1, 1, 1, 1, 1, 1], \"Freq\": [30.53469338899629, 15.81256581418266, 15.174012422098428, 9.611456594899147, 7.80398881800162, 7.2985345554961345, 7.009394196515924, 6.755354209809797]}, \"tinfo\": {\"Term\": [\"http\", \"http_co\", \"co\", \"the\", \"https\", \"my\", \"https_co\", \"to\", \"you\", \"is\", \"with\", \"that\", \"me\", \"and\", \"of\", \"like\", \"it\", \"in\", \"for\", \"but\", \"this\", \"amp\", \"has\", \"up\", \"if\", \"have\", \"be\", \"his\", \"some\", \"at\", \"\\u00fb__http_co\", \"via\", \"\\u00fb_\", \"california\", \"suicide\", \"http\", \"news\", \"http_co\", \"co\", \"than\", \"rt\", \"police\", \"after\", \"new\", \"more\", \"by\", \"over\", \"emergency\", \"who\", \"bomb\", \"crash\", \"at\", \"fire\", \"as\", \"body\", \"fires\", \"in\", \"from\", \"of\", \"were\", \"on\", \"the\", \"for\", \"is\", \"to\", \"and\", \"have\", \"but\", \"have\", \"would\", \"they\", \"so\", \"we\", \"them\", \"got\", \"you\", \"been\", \"re\", \"day\", \"not\", \"don\", \"if\", \"going\", \"will\", \"time\", \"be\", \"no\", \"had\", \"are\", \"there\", \"for\", \"us\", \"why\", \"when\", \"as\", \"see\", \"it\", \"and\", \"the\", \"in\", \"to\", \"with\", \"like\", \"that\", \"on\", \"my\", \"me\", \"this\", \"of\", \"is\", \"that\", \"about\", \"off\", \"was\", \"going\", \"the\", \"it\", \"back\", \"into\", \"first\", \"all\", \"had\", \"time\", \"of\", \"to\", \"why\", \"one\", \"he\", \"out\", \"is\", \"or\", \"do\", \"got\", \"and\", \"on\", \"get\", \"my\", \"are\", \"emergency\", \"world\", \"just\", \"by\", \"in\", \"at\", \"with\", \"from\", \"like\", \"you\", \"for\", \"be\", \"as\", \"disaster\", \"video\", \"nuclear\", \"world\", \"storm\", \"into\", \"us\", \"when\", \"or\", \"up\", \"get\", \"has\", \"new\", \"how\", \"http_co\", \"http\", \"co\", \"in\", \"re\", \"california\", \"no\", \"from\", \"for\", \"about\", \"via\", \"still\", \"we\", \"man\", \"were\", \"and\", \"at\", \"to\", \"of\", \"this\", \"the\", \"by\", \"with\", \"https_co\", \"https\", \"burning\", \"buildings\", \"if\", \"amp\", \"your\", \"you\", \"bomb\", \"know\", \"don\", \"do\", \"would\", \"be\", \"nuclear\", \"or\", \"get\", \"by\", \"what\", \"this\", \"it\", \"how\", \"when\", \"can\", \"all\", \"still\", \"about\", \"suicide\", \"people\", \"is\", \"co\", \"\\u00fb_\", \"in\", \"the\", \"to\", \"and\", \"of\", \"on\", \"me\", \"my\", \"like\", \"crash\", \"can\", \"police\", \"is\", \"just\", \"they\", \"there\", \"do\", \"now\", \"don\", \"this\", \"one\", \"amp\", \"out\", \"so\", \"video\", \"and\", \"are\", \"was\", \"got\", \"had\", \"he\", \"up\", \"what\", \"when\", \"still\", \"know\", \"in\", \"people\", \"of\", \"the\", \"it\", \"to\", \"with\", \"you\", \"co\", \"http_co\", \"http\", \"first\", \"from\", \"will\", \"be\", \"day\", \"rt\", \"to\", \"how\", \"now\", \"what\", \"them\", \"for\", \"back\", \"your\", \"not\", \"can\", \"news\", \"why\", \"emergency\", \"an\", \"http_co\", \"on\", \"he\", \"http\", \"time\", \"co\", \"no\", \"his\", \"just\", \"new\", \"my\", \"of\", \"and\", \"it\", \"this\", \"in\", \"\\u00fb_\", \"is\", \"you\", \"the\", \"his\", \"some\", \"man\", \"her\", \"has\", \"with\", \"see\", \"over\", \"been\", \"still\", \"up\", \"people\", \"he\", \"body\", \"fire\", \"an\", \"how\", \"this\", \"no\", \"them\", \"know\", \"at\", \"there\", \"were\", \"now\", \"not\", \"just\", \"all\", \"that\", \"out\", \"on\", \"of\", \"is\", \"the\", \"and\", \"to\", \"in\"], \"Freq\": [4168.0, 3932.0, 4590.0, 3331.0, 401.0, 703.0, 359.0, 1923.0, 899.0, 979.0, 603.0, 645.0, 347.0, 1440.0, 1844.0, 365.0, 785.0, 1981.0, 872.0, 325.0, 495.0, 343.0, 265.0, 345.0, 241.0, 387.0, 399.0, 143.0, 143.0, 551.0, 150.23034479629715, 179.91320666139248, 324.95374851587036, 87.47535196581988, 84.16581469396641, 2922.165140369023, 134.83580860357688, 2735.50858955093, 2990.8037035420084, 82.87169591791023, 62.06815305446317, 82.95020899755795, 146.43116985452733, 122.50637571578939, 112.54543498507991, 258.03982178198765, 94.79053875437005, 70.36909379481041, 85.61609011264075, 44.28957318507599, 51.559862266178726, 225.9888526278518, 106.98958690367938, 130.2103362396903, 48.08943233669022, 35.38032000273413, 606.7708601976354, 122.83365609137248, 552.7232430094654, 34.96444870666981, 229.9285899295356, 648.7957700695249, 210.8134346378085, 157.66275953819206, 227.86668080024685, 121.11248346460717, 75.76934828127727, 280.84095025736616, 245.11469396162397, 73.82283071390769, 122.73780021546823, 167.6249776355429, 148.7440005299577, 58.26918434167848, 56.80524031305856, 428.2732950863475, 94.4535309838855, 77.31145545871163, 52.56991151013114, 126.20709964863305, 75.42298571006808, 93.20960245414255, 40.2259572811369, 95.15057829204855, 42.04726455921186, 142.43969707177422, 95.71300539075297, 39.52474299878734, 143.6858474956361, 68.12804226999242, 294.8680557168273, 41.74368443450956, 38.22332941771143, 74.50068558117627, 96.84823826966088, 31.16201703698577, 215.148222049057, 384.2022835970182, 617.2051005394563, 398.69234025768617, 379.6269533219372, 143.9177512353056, 97.70628801180445, 142.9613033250377, 172.9051429207653, 109.72356106079667, 82.3408198316915, 91.20973534952267, 133.34206671214525, 84.97694587879522, 367.1001054877879, 118.4995367724526, 62.62664456802359, 200.22257335166725, 52.38697439410723, 1402.6121120524704, 320.3109578998963, 48.33725749342123, 69.63546374292879, 42.70761463013487, 100.50402354595956, 40.28841132904587, 41.43313060738976, 584.2003551067812, 606.0572177421149, 35.46924736719573, 58.28405206061012, 68.28385331934082, 75.4818616854392, 250.29316311737415, 51.47931891938272, 42.63509966270022, 28.85648019426753, 327.3766372529395, 194.80883553379695, 51.893292467477686, 148.61251569081168, 85.70895135899765, 32.42389853773568, 21.480752780672233, 65.48498950153845, 88.41719448925568, 236.49401179067152, 84.0856984648437, 66.68018662084545, 58.0112301681356, 54.65654695234131, 67.08364808418189, 63.69166609325551, 54.34430120021478, 52.969792990924695, 115.68599333864485, 117.72956633082673, 48.30333145748707, 48.926840717904255, 44.19848027431782, 61.68965526251127, 43.30979236346911, 62.173232430899425, 48.687021870728834, 74.88137443433948, 43.48566430406173, 48.75536142546941, 40.278313249291614, 34.86142876305498, 666.6435038948837, 698.886169535075, 704.4076789137968, 298.75957065755784, 25.12473152001204, 17.579017855885805, 39.159596847018506, 57.47893183630752, 119.71475613830083, 29.434323181309257, 28.32999617907902, 16.172335099574138, 34.694268085381985, 14.751126093608962, 15.015573383826274, 162.64455078457908, 52.13951769030795, 146.74576683948388, 134.57424581088873, 44.46058990397313, 143.48562324311587, 40.298822743397004, 35.544483308152245, 321.50440910079226, 349.3154888453696, 83.18743924065288, 58.192938883199865, 106.4081758804486, 140.27229630830584, 97.55225751115555, 278.4749909200305, 29.936947307367298, 32.35323920168645, 45.10491441400808, 38.99610150464179, 30.558383753483238, 80.48447722990561, 18.75338278751674, 36.90804021765112, 38.92659843263996, 78.72778872445463, 31.993034922514795, 67.78878190040083, 106.48003239539587, 25.79457988139062, 31.18534131845958, 30.67400665670465, 30.124291930816195, 14.687756363529289, 21.790896185020276, 11.59140689238965, 20.4893711957293, 92.10865654393066, 326.62261561445496, 38.18640419529247, 119.36047663921852, 170.146026713644, 106.12429091437927, 63.65149477811986, 34.326597468340736, 31.38752975503729, 198.23720327529415, 342.59147026691574, 162.69668207203514, 51.01139732221753, 88.16971114037206, 42.19713897434206, 252.80707382481003, 81.74435992136148, 51.88094756487153, 41.68515802379511, 34.539918665145336, 43.61940935995179, 36.71841435582369, 88.7036102329919, 33.01634373760283, 56.55340278213494, 45.9277239608216, 52.992554777124035, 25.072659478439647, 220.11778501892178, 58.946412109516196, 53.192352969149056, 14.920650003672215, 13.961971491467377, 30.738611639958012, 42.20325138641711, 26.815695212324393, 28.006825110101765, 15.148035821433947, 12.667360740044334, 205.69322846439965, 22.286118479100644, 129.1660337132972, 162.84457927568826, 52.595023120898674, 63.80956845066617, 40.03147457902303, 46.498059025977994, 70.57126587660237, 64.55911235100838, 64.25349856153925, 26.235546357287262, 91.17148146381318, 52.77753083092018, 81.70676148754687, 21.913633476062103, 19.06068152422987, 333.0444446433106, 31.73020265440438, 36.365781861254504, 34.75819408703465, 17.51726578544742, 129.8267405333867, 17.85804853040134, 40.70052816791808, 38.53700962324678, 31.79779573683206, 23.051310751283292, 13.194202738734859, 17.13068583946442, 27.982210898822, 400.7646702578424, 86.76108273590121, 25.021763466166174, 411.67196934488936, 11.366622500883478, 422.10826012206707, 23.905221095306725, 12.13931610954378, 27.87538130328059, 18.061892866919514, 54.42281065705872, 125.62004707504208, 97.62295110423656, 48.84783256130906, 33.42688162556757, 72.21192451797737, 29.86082216329878, 35.68999501217386, 31.908250889585545, 38.815869945203104, 98.98850661037287, 98.21036921909143, 81.16054857774176, 93.74653330781602, 128.24799632816791, 229.7260834306718, 40.987428715455714, 68.53174465764847, 66.74863980440584, 45.53056432861793, 113.1668240563343, 64.06170882535542, 75.89782477656028, 40.345976561543225, 78.10449839458549, 66.40453472721347, 47.82378770876368, 119.16641761581819, 58.40199455762971, 24.91878657157257, 22.24427750955595, 100.26711575419682, 35.83625934259458, 22.770942824648056, 37.47770893022626, 49.879070986823194, 50.72172413811417, 38.335972259054, 85.45445745742298, 35.11372887262747, 99.17736768356926, 150.89236584156254, 93.89348972664703, 147.1144884348211, 63.9011037502862, 59.78359303034172, 43.06966872029994], \"Total\": [4168.0, 3932.0, 4590.0, 3331.0, 401.0, 703.0, 359.0, 1923.0, 899.0, 979.0, 603.0, 645.0, 347.0, 1440.0, 1844.0, 365.0, 785.0, 1981.0, 872.0, 325.0, 495.0, 343.0, 265.0, 345.0, 241.0, 387.0, 399.0, 143.0, 143.0, 551.0, 162.6630459678283, 215.92365577749743, 434.9804933048455, 119.2098004001128, 118.05648205033063, 4168.832794944844, 192.91427323436514, 3932.6475611835344, 4590.058027562042, 138.2841931448875, 106.05043820808528, 146.01808620055328, 262.32393246929337, 221.70081647184114, 219.14875454693654, 522.3092506352224, 196.58170688740876, 157.49665510818573, 192.08322040437452, 104.26285793732872, 122.09062446117878, 551.7808013443716, 263.4986148526051, 330.50637289059574, 134.7524877085426, 102.64348474517217, 1981.0520812454463, 409.6573262433086, 1844.844954737523, 129.26922296662278, 863.099679319973, 3331.019570273924, 872.2935395529053, 979.0185288380453, 1923.0585157424807, 1440.6292897507083, 387.444991561089, 325.87232930197985, 387.444991561089, 138.61909025830704, 235.8850690786373, 325.2819522471746, 296.22720626752675, 117.33773987609858, 116.69486214738077, 899.9611660923406, 199.3095613357217, 168.92571962734692, 116.55582835771155, 302.81855066701104, 193.52642141842327, 241.34850479733532, 106.37968280713037, 255.25490532284527, 117.55082294276772, 399.1611975007203, 270.3170877800342, 113.28055112423783, 412.6405902206491, 198.01838786398062, 872.2935395529053, 123.87600316313716, 116.41131211930986, 246.85379924003774, 330.50637289059574, 110.78388418750217, 785.1431610856757, 1440.6292897507083, 3331.019570273924, 1981.0520812454463, 1923.0585157424807, 603.9466522651846, 365.61938237283874, 645.6514270633795, 863.099679319973, 703.4771233679363, 347.098351131426, 495.1235102340336, 1844.844954737523, 979.0185288380453, 645.6514270633795, 217.40354341448793, 119.58139549777891, 397.98515680231856, 106.37968280713037, 3331.019570273924, 785.1431610856757, 120.73589668863569, 175.20922798501763, 108.75458626758008, 275.8744045422538, 113.28055112423783, 117.55082294276772, 1844.844954737523, 1923.0585157424807, 116.41131211930986, 199.74896195834086, 250.90748249420983, 280.73107848778244, 979.0185288380453, 207.26389498865487, 172.40915303840666, 116.69486214738077, 1440.6292897507083, 863.099679319973, 231.93503888890913, 703.4771233679363, 412.6405902206491, 157.49665510818573, 106.44276103400952, 333.94002290020126, 522.3092506352224, 1981.0520812454463, 551.7808013443716, 603.9466522651846, 409.6573262433086, 365.61938237283874, 899.9611660923406, 872.2935395529053, 399.1611975007203, 330.50637289059574, 155.5727190334414, 163.4676949309204, 103.25833717165675, 106.44276103400952, 122.53561664021878, 175.20922798501763, 123.87600316313716, 246.85379924003774, 207.26389498865487, 345.9422077546972, 231.93503888890913, 265.0236372534373, 221.70081647184114, 195.270202532445, 3932.6475611835344, 4168.832794944844, 4590.058027562042, 1981.0520812454463, 168.92571962734692, 119.2098004001128, 270.3170877800342, 409.6573262433086, 872.2935395529053, 217.40354341448793, 215.92365577749743, 136.67422459993412, 296.22720626752675, 126.38831004893672, 129.26922296662278, 1440.6292897507083, 551.7808013443716, 1923.0585157424807, 1844.844954737523, 495.1235102340336, 3331.019570273924, 522.3092506352224, 603.9466522651846, 359.8775984231817, 401.8822885416636, 119.92476467237259, 110.67259927354048, 241.34850479733532, 343.2450142119893, 288.1369833014821, 899.9611660923406, 104.26285793732872, 116.97740144446169, 193.52642141842327, 172.40915303840666, 138.61909025830704, 399.1611975007203, 103.25833717165675, 207.26389498865487, 231.93503888890913, 522.3092506352224, 222.57918920505068, 495.1235102340336, 785.1431610856757, 195.270202532445, 246.85379924003774, 256.9203237543496, 275.8744045422538, 136.67422459993412, 217.40354341448793, 118.05648205033063, 209.0590757829542, 979.0185288380453, 4590.058027562042, 434.9804933048455, 1981.0520812454463, 3331.019570273924, 1923.0585157424807, 1440.6292897507083, 1844.844954737523, 863.099679319973, 347.098351131426, 703.4771233679363, 365.61938237283874, 122.09062446117878, 256.9203237543496, 146.01808620055328, 979.0185288380453, 333.94002290020126, 235.8850690786373, 198.01838786398062, 172.40915303840666, 225.9837960763149, 193.52642141842327, 495.1235102340336, 199.74896195834086, 343.2450142119893, 280.73107848778244, 325.2819522471746, 163.4676949309204, 1440.6292897507083, 412.6405902206491, 397.98515680231856, 116.69486214738077, 113.28055112423783, 250.90748249420983, 345.9422077546972, 222.57918920505068, 246.85379924003774, 136.67422459993412, 116.97740144446169, 1981.0520812454463, 209.0590757829542, 1844.844954737523, 3331.019570273924, 785.1431610856757, 1923.0585157424807, 603.9466522651846, 899.9611660923406, 4590.058027562042, 3932.6475611835344, 4168.832794944844, 108.75458626758008, 409.6573262433086, 255.25490532284527, 399.1611975007203, 116.55582835771155, 106.05043820808528, 1923.0585157424807, 195.270202532445, 225.9837960763149, 222.57918920505068, 117.33773987609858, 872.2935395529053, 120.73589668863569, 288.1369833014821, 302.81855066701104, 256.9203237543496, 192.91427323436514, 116.41131211930986, 157.49665510818573, 259.0465415925868, 3932.6475611835344, 863.099679319973, 250.90748249420983, 4168.832794944844, 117.55082294276772, 4590.058027562042, 270.3170877800342, 143.10278239140416, 333.94002290020126, 221.70081647184114, 703.4771233679363, 1844.844954737523, 1440.6292897507083, 785.1431610856757, 495.1235102340336, 1981.0520812454463, 434.9804933048455, 979.0185288380453, 899.9611660923406, 3331.019570273924, 143.10278239140416, 143.9791283110025, 126.38831004893672, 147.39746377414795, 265.0236372534373, 603.9466522651846, 110.78388418750217, 196.58170688740876, 199.3095613357217, 136.67422459993412, 345.9422077546972, 209.0590757829542, 250.90748249420983, 134.7524877085426, 263.4986148526051, 259.0465415925868, 195.270202532445, 495.1235102340336, 270.3170877800342, 117.33773987609858, 116.97740144446169, 551.7808013443716, 198.01838786398062, 129.26922296662278, 225.9837960763149, 302.81855066701104, 333.94002290020126, 275.8744045422538, 645.6514270633795, 280.73107848778244, 863.099679319973, 1844.844954737523, 979.0185288380453, 3331.019570273924, 1440.6292897507083, 1923.0585157424807, 1981.0520812454463], \"Category\": [\"Default\", \"Default\", \"Default\", \"Default\", \"Default\", \"Default\", \"Default\", \"Default\", \"Default\", \"Default\", \"Default\", \"Default\", \"Default\", \"Default\", \"Default\", \"Default\", \"Default\", \"Default\", \"Default\", \"Default\", \"Default\", \"Default\", \"Default\", \"Default\", \"Default\", \"Default\", \"Default\", \"Default\", \"Default\", \"Default\", \"Topic1\", \"Topic1\", \"Topic1\", \"Topic1\", \"Topic1\", \"Topic1\", \"Topic1\", \"Topic1\", \"Topic1\", \"Topic1\", \"Topic1\", \"Topic1\", \"Topic1\", \"Topic1\", \"Topic1\", \"Topic1\", \"Topic1\", \"Topic1\", \"Topic1\", \"Topic1\", \"Topic1\", \"Topic1\", \"Topic1\", \"Topic1\", \"Topic1\", \"Topic1\", \"Topic1\", \"Topic1\", \"Topic1\", \"Topic1\", \"Topic1\", \"Topic1\", \"Topic1\", \"Topic1\", \"Topic1\", \"Topic1\", \"Topic1\", \"Topic2\", \"Topic2\", \"Topic2\", \"Topic2\", \"Topic2\", \"Topic2\", \"Topic2\", \"Topic2\", \"Topic2\", \"Topic2\", \"Topic2\", \"Topic2\", \"Topic2\", \"Topic2\", \"Topic2\", \"Topic2\", \"Topic2\", \"Topic2\", \"Topic2\", \"Topic2\", \"Topic2\", \"Topic2\", \"Topic2\", \"Topic2\", \"Topic2\", \"Topic2\", \"Topic2\", \"Topic2\", \"Topic2\", \"Topic2\", \"Topic2\", \"Topic2\", \"Topic2\", \"Topic2\", \"Topic2\", \"Topic2\", \"Topic2\", \"Topic2\", \"Topic2\", \"Topic2\", \"Topic2\", \"Topic2\", \"Topic2\", \"Topic3\", \"Topic3\", \"Topic3\", \"Topic3\", \"Topic3\", \"Topic3\", \"Topic3\", \"Topic3\", \"Topic3\", \"Topic3\", \"Topic3\", \"Topic3\", \"Topic3\", \"Topic3\", \"Topic3\", \"Topic3\", \"Topic3\", \"Topic3\", \"Topic3\", \"Topic3\", \"Topic3\", \"Topic3\", \"Topic3\", \"Topic3\", \"Topic3\", \"Topic3\", \"Topic3\", \"Topic3\", \"Topic3\", \"Topic3\", \"Topic3\", \"Topic3\", \"Topic3\", \"Topic3\", \"Topic3\", \"Topic3\", \"Topic3\", \"Topic3\", \"Topic3\", \"Topic3\", \"Topic3\", \"Topic4\", \"Topic4\", \"Topic4\", \"Topic4\", \"Topic4\", \"Topic4\", \"Topic4\", \"Topic4\", \"Topic4\", \"Topic4\", \"Topic4\", \"Topic4\", \"Topic4\", \"Topic4\", \"Topic4\", \"Topic4\", \"Topic4\", \"Topic4\", \"Topic4\", \"Topic4\", \"Topic4\", \"Topic4\", \"Topic4\", \"Topic4\", \"Topic4\", \"Topic4\", \"Topic4\", \"Topic4\", \"Topic4\", \"Topic4\", \"Topic4\", \"Topic4\", \"Topic4\", \"Topic4\", \"Topic4\", \"Topic4\", \"Topic4\", \"Topic5\", \"Topic5\", \"Topic5\", \"Topic5\", \"Topic5\", \"Topic5\", \"Topic5\", \"Topic5\", \"Topic5\", \"Topic5\", \"Topic5\", \"Topic5\", \"Topic5\", \"Topic5\", \"Topic5\", \"Topic5\", \"Topic5\", \"Topic5\", \"Topic5\", \"Topic5\", \"Topic5\", \"Topic5\", \"Topic5\", \"Topic5\", \"Topic5\", \"Topic5\", \"Topic5\", \"Topic5\", \"Topic5\", \"Topic5\", \"Topic5\", \"Topic5\", \"Topic5\", \"Topic5\", \"Topic5\", \"Topic5\", \"Topic5\", \"Topic5\", \"Topic6\", \"Topic6\", \"Topic6\", \"Topic6\", \"Topic6\", \"Topic6\", \"Topic6\", \"Topic6\", \"Topic6\", \"Topic6\", \"Topic6\", \"Topic6\", \"Topic6\", \"Topic6\", \"Topic6\", \"Topic6\", \"Topic6\", \"Topic6\", \"Topic6\", \"Topic6\", \"Topic6\", \"Topic6\", \"Topic6\", \"Topic6\", \"Topic6\", \"Topic6\", \"Topic6\", \"Topic6\", \"Topic6\", \"Topic6\", \"Topic6\", \"Topic6\", \"Topic6\", \"Topic6\", \"Topic6\", \"Topic6\", \"Topic6\", \"Topic6\", \"Topic6\", \"Topic6\", \"Topic6\", \"Topic7\", \"Topic7\", \"Topic7\", \"Topic7\", \"Topic7\", \"Topic7\", \"Topic7\", \"Topic7\", \"Topic7\", \"Topic7\", \"Topic7\", \"Topic7\", \"Topic7\", \"Topic7\", \"Topic7\", \"Topic7\", \"Topic7\", \"Topic7\", \"Topic7\", \"Topic7\", \"Topic7\", \"Topic7\", \"Topic7\", \"Topic7\", \"Topic7\", \"Topic7\", \"Topic7\", \"Topic7\", \"Topic7\", \"Topic7\", \"Topic7\", \"Topic7\", \"Topic7\", \"Topic7\", \"Topic7\", \"Topic7\", \"Topic7\", \"Topic7\", \"Topic7\", \"Topic7\", \"Topic8\", \"Topic8\", \"Topic8\", \"Topic8\", \"Topic8\", \"Topic8\", \"Topic8\", \"Topic8\", \"Topic8\", \"Topic8\", \"Topic8\", \"Topic8\", \"Topic8\", \"Topic8\", \"Topic8\", \"Topic8\", \"Topic8\", \"Topic8\", \"Topic8\", \"Topic8\", \"Topic8\", \"Topic8\", \"Topic8\", \"Topic8\", \"Topic8\", \"Topic8\", \"Topic8\", \"Topic8\", \"Topic8\", \"Topic8\", \"Topic8\", \"Topic8\", \"Topic8\", \"Topic8\", \"Topic8\", \"Topic8\", \"Topic8\"], \"logprob\": [30.0, 29.0, 28.0, 27.0, 26.0, 25.0, 24.0, 23.0, 22.0, 21.0, 20.0, 19.0, 18.0, 17.0, 16.0, 15.0, 14.0, 13.0, 12.0, 11.0, 10.0, 9.0, 8.0, 7.0, 6.0, 5.0, 4.0, 3.0, 2.0, 1.0, -4.623799800872803, -4.44350004196167, -3.852299928665161, -5.164599895477295, -5.203199863433838, -1.655900001525879, -4.731900215148926, -1.7218999862670898, -1.632699966430664, -5.218699932098389, -5.507699966430664, -5.217700004577637, -4.649400234222412, -4.8277997970581055, -4.912600040435791, -4.082900047302246, -5.0843000411987305, -5.382199764251709, -5.186100006103516, -5.845200061798096, -5.69320011138916, -4.2154998779296875, -4.963200092315674, -4.7667999267578125, -5.762899875640869, -6.069799900054932, -3.227799892425537, -4.825099945068359, -3.3210999965667725, -6.081600189208984, -4.198200225830078, -3.160900115966797, -4.284999847412109, -4.575500011444092, -4.207200050354004, -4.839200019836426, -5.308300018310547, -3.340100049972534, -3.4762001037597656, -4.676199913024902, -4.167900085449219, -3.8561999797821045, -3.9756999015808105, -4.912799835205078, -4.938300132751465, -2.918100118637085, -4.429800033569336, -4.630099773406982, -5.0157999992370605, -4.139999866485596, -4.654799938201904, -4.4430999755859375, -5.283400058746338, -4.422399997711182, -5.239099979400635, -4.019000053405762, -4.416600227355957, -5.301000118255615, -4.010300159454346, -4.756499767303467, -3.2913999557495117, -5.246399879455566, -5.334499835968018, -4.667099952697754, -4.404799938201904, -5.538700103759766, -3.606600046157837, -3.026700019836426, -2.5527000427246094, -2.9897000789642334, -3.0387001037597656, -4.008699893951416, -4.395899772644043, -4.0152997970581055, -3.825200080871582, -4.279900074005127, -4.566999912261963, -4.464700222015381, -4.085000038146973, -4.5355000495910645, -3.031100034713745, -4.161799907684326, -4.799499988555908, -3.6373000144958496, -4.978000164031982, -1.690600037574768, -3.1673998832702637, -5.058499813079834, -4.693399906158447, -5.182300090789795, -4.326499938964844, -5.240600109100342, -5.212600231170654, -2.5664000511169434, -2.5297000408172607, -5.368000030517578, -4.871399879455566, -4.7129998207092285, -4.612800121307373, -3.414099931716919, -4.995500087738037, -5.184000015258789, -5.574399948120117, -3.1456000804901123, -3.6647000312805176, -4.987500190734863, -3.93530011177063, -4.4857001304626465, -5.457799911499023, -5.869500160217285, -4.754899978637695, -4.454599857330322, -3.4707999229431152, -4.504899978637695, -4.736800193786621, -4.876100063323975, -4.9355998039245605, -4.7307000160217285, -4.782599925994873, -4.941299915313721, -4.9670000076293945, -3.7291998863220215, -3.711699962615967, -4.60260009765625, -4.589700222015381, -4.691400051116943, -4.357900142669678, -4.711699962615967, -4.350100040435791, -4.594600200653076, -4.1641998291015625, -4.707600116729736, -4.593200206756592, -4.784200191497803, -4.928699970245361, -1.9778000116348267, -1.9306000471115112, -1.922700047492981, -2.780400037765503, -5.256199836730957, -5.613399982452393, -4.812399864196777, -4.428599834442139, -3.6949000358581543, -5.097899913787842, -5.136099815368652, -5.696800231933594, -4.933499813079834, -5.788700103759766, -5.770999908447266, -3.3884999752044678, -4.526100158691406, -3.4914000034332275, -3.577899932861328, -4.685500144958496, -3.5137999057769775, -4.783699989318848, -4.909299850463867, -2.498699903488159, -2.415800094604492, -3.850600004196167, -4.208000183105469, -3.6045000553131104, -3.328200101852417, -3.6914000511169434, -2.642400026321411, -4.872600078582764, -4.795000076293945, -4.462699890136719, -4.60830020904541, -4.852099895477295, -3.883699893951416, -5.340400218963623, -4.663300037384033, -4.610099792480469, -3.9056999683380127, -4.80620002746582, -4.055300235748291, -3.603800058364868, -5.021599769592285, -4.8317999839782715, -4.848299980163574, -4.866399765014648, -5.584700107574463, -5.190199851989746, -5.821499824523926, -5.251800060272217, -3.748800039291382, -2.4828999042510986, -4.629300117492676, -3.4895999431610107, -3.1350998878479004, -3.607100009918213, -4.118299961090088, -4.735799789428711, -4.825300216674805, -2.915299892425537, -2.3682000637054443, -3.1129000186920166, -4.27269983291626, -3.7255001068115234, -4.462399959564209, -2.6721999645233154, -3.8011999130249023, -4.255799770355225, -4.474599838256836, -4.662700176239014, -4.429299831390381, -4.601500034332275, -3.7195000648498535, -4.707799911499023, -4.169600009918213, -4.377699851989746, -4.234600067138672, -4.982999801635742, -2.8106000423431396, -4.128200054168701, -4.230899810791016, -5.501999855041504, -5.568399906158447, -4.779300212860107, -4.462299823760986, -4.915800094604492, -4.872300148010254, -5.4868998527526855, -5.665800094604492, -2.8784000873565674, -5.100800037384033, -3.3436999320983887, -3.111999988555908, -4.242199897766113, -4.048900127410889, -4.515100002288818, -4.3653998374938965, -3.948199987411499, -4.037199974060059, -4.041900157928467, -4.897200107574463, -3.651599884033203, -4.198299884796143, -3.761199951171875, -5.077199935913086, -5.216700077056885, -2.356100082397461, -4.707099914550781, -4.570700168609619, -4.615900039672852, -5.301199913024902, -3.2981998920440674, -5.281899929046631, -4.458099842071533, -4.512700080871582, -4.704999923706055, -5.026599884033203, -5.58459997177124, -5.323500156402588, -4.832799911499023, -2.1710000038146973, -3.701200008392334, -4.9446001052856445, -2.1440999507904053, -5.733699798583984, -2.1191000938415527, -4.990300178527832, -5.667900085449219, -4.836599826812744, -5.270599842071533, -4.167600154876709, -3.3310999870300293, -3.583199977874756, -4.275599956512451, -4.65500020980835, -3.8847999572753906, -4.7677998542785645, -4.5894999504089355, -4.701499938964844, -4.505499839782715, -3.532399892807007, -3.540299892425537, -3.7309999465942383, -3.5868000984191895, -3.2734999656677246, -2.6905999183654785, -4.4141998291015625, -3.900099992752075, -3.926500082015991, -4.309100151062012, -3.3986001014709473, -3.967600107192993, -3.798099994659424, -4.429900169372559, -3.769399881362915, -3.9316999912261963, -4.259900093078613, -3.34689998626709, -4.060100078582764, -4.911799907684326, -5.025400161743164, -3.5195999145507812, -4.548500061035156, -5.001999855041504, -4.503699779510498, -4.217800140380859, -4.201099872589111, -4.481100082397461, -3.679500102996826, -4.56879997253418, -3.5304999351501465, -3.1108999252319336, -3.5852999687194824, -3.136199951171875, -3.970099925994873, -4.0366997718811035, -4.36460018157959], \"loglift\": [30.0, 29.0, 28.0, 27.0, 26.0, 25.0, 24.0, 23.0, 22.0, 21.0, 20.0, 19.0, 18.0, 17.0, 16.0, 15.0, 14.0, 13.0, 12.0, 11.0, 10.0, 9.0, 8.0, 7.0, 6.0, 5.0, 4.0, 3.0, 2.0, 1.0, 1.1068, 1.0039, 0.8947, 0.8768, 0.8479, 0.831, 0.8281, 0.8233, 0.758, 0.6743, 0.6506, 0.6208, 0.6033, 0.5931, 0.5199, 0.4812, 0.4569, 0.3807, 0.3783, 0.3301, 0.3243, 0.2936, 0.285, 0.2548, 0.1559, 0.1212, 0.0031, -0.0182, -0.019, -0.1213, -0.1365, -0.4496, -0.2338, -0.6398, -0.9466, -1.2898, -0.4456, 1.6956, 1.3865, 1.2143, 1.1911, 1.1814, 1.1555, 1.1444, 1.1244, 1.1018, 1.0976, 1.0627, 1.0481, 0.9692, 0.9021, 0.893, 0.8719, 0.8576, 0.8163, 0.8139, 0.8061, 0.7914, 0.7894, 0.7774, 0.7598, 0.7566, 0.7307, 0.6464, 0.6169, 0.576, 0.5498, 0.5227, 0.1585, 0.2412, 0.2219, 0.4101, 0.5247, 0.3367, 0.2366, -0.0137, 0.4056, 0.1527, -0.7829, -0.5998, 1.321, 1.2787, 1.2388, 1.1986, 1.1772, 1.0206, 0.989, 0.9702, 0.9629, 0.9509, 0.8758, 0.8518, 0.8428, 0.7357, 0.7309, 0.6971, 0.6539, 0.5842, 0.5721, 0.5217, 0.4928, 0.4884, 0.4884, 0.4039, 0.3971, 0.3883, 0.3309, 0.314, 0.3051, 0.2851, 0.2564, 0.1094, -0.2399, 0.0043, -0.318, -0.0691, -0.0149, -0.7108, -0.7315, -0.1084, 0.0547, 2.046, 2.014, 1.5825, 1.5649, 1.3225, 1.2983, 1.2913, 0.9633, 0.8936, 0.8118, 0.6682, 0.6492, 0.6367, 0.6192, 0.5674, 0.5563, 0.4679, 0.4505, 0.4366, 0.428, 0.4103, 0.3783, 0.3562, 0.3426, 0.3112, 0.2079, 0.1977, 0.1942, 0.1894, 0.1609, -0.017, -0.2308, -0.2758, -0.068, -0.8026, -0.2197, -0.4905, 2.4378, 2.4104, 2.1848, 1.9077, 1.7316, 1.6557, 1.4675, 1.3775, 1.3027, 1.2653, 1.0941, 1.0641, 1.0384, 0.9492, 0.8447, 0.825, 0.7658, 0.6583, 0.6108, 0.5621, 0.5526, 0.5263, 0.4817, 0.4252, 0.3359, 0.3199, 0.2503, 0.2296, 0.2278, 0.187, -0.0923, 0.1177, -0.2587, -0.4238, -0.3465, -0.5689, -1.4337, -0.7636, 2.0574, 1.898, 1.8078, 1.7448, 1.548, 1.3761, 1.2636, 1.2101, 1.1031, 1.0593, 1.0097, 0.9725, 0.9554, 0.898, 0.8174, 0.8142, 0.8072, 0.803, 0.7427, 0.7388, 0.6715, 0.605, 0.5607, 0.524, 0.5179, 0.5137, 0.5012, 0.4411, 0.4178, 0.3945, 0.3525, 0.3788, -0.0416, -0.4007, -0.0857, -0.7883, -0.0963, -0.3454, -1.5575, -1.492, -1.5551, 1.2359, 1.1553, 1.0817, 1.0717, 0.9867, 0.9416, 0.9045, 0.8408, 0.8311, 0.8011, 0.756, 0.753, 0.7468, 0.7007, 0.5964, 0.5685, 0.5334, 0.4806, 0.4394, 0.4325, 0.3742, 0.3605, 0.3526, 0.3428, 0.3217, 0.2715, 0.2324, 0.1908, 0.1747, 0.1504, 0.0987, -0.029, -0.0338, -0.1192, -0.0375, -0.6539, -0.0208, -0.6538, -0.6816, -1.7943, 2.3263, 2.3123, 2.2519, 2.2423, 1.969, 1.7282, 1.7005, 1.6411, 1.6009, 1.5956, 1.5774, 1.5121, 1.4991, 1.4889, 1.4788, 1.3336, 1.288, 1.2705, 1.1626, 1.1454, 1.0349, 0.9895, 0.9854, 0.9584, 0.8981, 0.8913, 0.8102, 0.7213, 0.6726, 0.616, 0.5312, 0.1913, 0.3504, -0.425, -0.4207, -0.7761, -1.1337]}, \"token.table\": {\"Topic\": [1, 2, 3, 4, 5, 6, 7, 8, 1, 2, 3, 4, 5, 6, 7, 8, 1, 2, 3, 4, 5, 6, 7, 8, 1, 2, 3, 4, 5, 6, 7, 8, 1, 2, 3, 4, 5, 6, 7, 8, 1, 2, 3, 4, 5, 6, 7, 8, 1, 2, 3, 4, 5, 6, 7, 8, 1, 2, 3, 4, 6, 7, 8, 1, 2, 3, 4, 5, 6, 7, 8, 1, 2, 3, 4, 5, 6, 7, 8, 1, 2, 3, 4, 5, 6, 7, 8, 1, 2, 3, 4, 5, 7, 8, 1, 2, 4, 5, 6, 7, 8, 1, 2, 3, 4, 5, 6, 7, 1, 2, 3, 4, 5, 6, 7, 1, 2, 3, 4, 5, 6, 7, 1, 2, 3, 4, 5, 6, 7, 8, 1, 2, 3, 4, 5, 6, 7, 8, 1, 2, 4, 5, 6, 7, 1, 2, 3, 4, 5, 6, 7, 1, 2, 3, 4, 5, 6, 7, 8, 1, 2, 3, 4, 5, 6, 7, 1, 2, 3, 4, 5, 6, 7, 8, 1, 2, 3, 4, 5, 6, 7, 8, 1, 2, 3, 4, 5, 6, 7, 8, 1, 2, 3, 4, 5, 6, 7, 8, 1, 2, 3, 4, 5, 6, 7, 8, 1, 2, 3, 4, 5, 6, 7, 8, 1, 2, 3, 4, 5, 6, 7, 8, 1, 2, 3, 5, 7, 8, 1, 2, 3, 4, 5, 6, 7, 8, 1, 2, 3, 4, 5, 6, 7, 8, 1, 2, 3, 4, 5, 6, 7, 8, 1, 2, 3, 4, 5, 6, 7, 1, 2, 3, 4, 5, 6, 7, 8, 1, 2, 3, 4, 5, 6, 7, 1, 2, 3, 4, 5, 6, 7, 8, 1, 2, 3, 4, 5, 6, 7, 8, 1, 2, 3, 4, 5, 6, 7, 8, 1, 2, 3, 4, 5, 6, 7, 8, 1, 2, 3, 5, 6, 7, 8, 1, 2, 3, 4, 5, 6, 7, 8, 1, 2, 3, 4, 5, 6, 7, 8, 1, 2, 3, 4, 5, 6, 7, 8, 1, 2, 3, 4, 5, 6, 7, 8, 1, 2, 3, 4, 5, 7, 1, 2, 3, 5, 6, 7, 8, 1, 2, 3, 4, 5, 6, 7, 8, 1, 2, 3, 4, 5, 6, 7, 1, 2, 3, 4, 5, 6, 7, 8, 1, 2, 3, 4, 5, 6, 7, 8, 1, 2, 3, 4, 5, 6, 7, 8, 1, 2, 3, 4, 5, 6, 7, 8, 1, 2, 3, 4, 5, 6, 7, 8, 1, 2, 3, 4, 5, 6, 7, 8, 1, 2, 3, 4, 5, 6, 7, 8, 1, 2, 3, 4, 5, 6, 7, 8, 1, 2, 3, 4, 5, 6, 7, 8, 1, 2, 3, 4, 5, 6, 7, 8, 1, 2, 3, 4, 7, 8, 1, 2, 3, 4, 5, 6, 7, 8, 1, 2, 3, 4, 5, 6, 7, 8, 1, 2, 3, 4, 5, 6, 7, 8, 1, 2, 3, 4, 5, 7, 1, 2, 3, 4, 5, 6, 7, 8, 1, 2, 3, 4, 5, 6, 7, 8, 1, 2, 3, 4, 5, 6, 7, 8, 1, 2, 3, 4, 5, 6, 7, 8, 1, 2, 3, 4, 5, 6, 7, 8, 1, 2, 3, 4, 5, 6, 7, 8, 1, 2, 3, 4, 5, 6, 7, 8, 1, 2, 3, 4, 5, 6, 7, 8, 1, 2, 3, 4, 5, 6, 7, 8, 1, 2, 3, 4, 5, 6, 7, 1, 2, 3, 4, 5, 6, 7, 8, 1, 2, 3, 4, 5, 7, 8, 1, 2, 3, 4, 5, 6, 7, 8, 1, 2, 3, 4, 5, 6, 7, 8, 1, 2, 3, 4, 5, 6, 7, 8, 1, 2, 3, 4, 5, 6, 7, 8, 1, 2, 3, 4, 5, 6, 7, 8, 1, 2, 3, 4, 5, 6, 7, 8, 1, 2, 3, 4, 5, 6, 7, 8, 1, 2, 3, 4, 5, 6, 7, 8, 1, 2, 3, 6, 7, 8, 1, 2, 3, 4, 5, 6, 7, 8, 1, 2, 3, 4, 5, 6, 7, 1, 2, 3, 4, 5, 6, 7, 8, 1, 2, 3, 4, 5, 6, 7, 1, 2, 3, 4, 5, 6, 7, 8, 1, 2, 3, 4, 5, 6, 7, 8, 1, 2, 3, 4, 5, 6, 7, 1, 2, 3, 4, 5, 6, 7, 1, 2, 3, 4, 6, 7, 1, 2, 3, 4, 5, 6, 7, 8, 1, 2, 3, 4, 5, 6, 7, 8, 1, 2, 3, 4, 5, 6, 7, 8, 1, 2, 3, 4, 5, 6, 7, 8, 1, 2, 3, 4, 5, 6, 7, 8, 1, 2, 3, 4, 5, 6, 7, 8, 1, 2, 3, 6, 7, 8, 1, 2, 3, 4, 5, 6, 7, 8, 1, 2, 3, 4, 5, 6, 7, 8, 1, 2, 3, 4, 5, 6, 7, 1, 2, 3, 4, 5, 6, 7, 8, 1, 2, 3, 4, 5, 6, 7, 8, 1, 2, 3, 4, 5, 6, 7, 8, 1, 2, 3, 5, 6, 7, 8, 1, 2, 5, 7, 8], \"Freq\": [0.15639119522158726, 0.02759844621557422, 0.5427694422396263, 0.13339249004194206, 0.10119430279043881, 0.009199482071858073, 0.009199482071858073, 0.018398964143716147, 0.5565637821363867, 0.12198658238605735, 0.060993291193028674, 0.015248322798257169, 0.003812080699564292, 0.09148993678954301, 0.022872484197385752, 0.12579866308562165, 0.05799740656096057, 0.1631177059527016, 0.3661086289160636, 0.06524708238108064, 0.10874513730180106, 0.08337127193138082, 0.021749027460360212, 0.13774384058228134, 0.19228247248258112, 0.05826741590381246, 0.10488134862686242, 0.008740112385571869, 0.4078719113266872, 0.1660621353258655, 0.04952730351824059, 0.014566853975953115, 0.16213302729999438, 0.16213302729999438, 0.1891551985166601, 0.01158093052142817, 0.057904652607140845, 0.054044342433331456, 0.10808868486666291, 0.25478047147141974, 0.08399107311009779, 0.2665501824320459, 0.2269841397272891, 0.11314499931360282, 0.04442503040534098, 0.15271104201835964, 0.06802582780817838, 0.04442503040534098, 0.06300882806050942, 0.34897197079666753, 0.20841381589245422, 0.06058541159664367, 0.0678556609882409, 0.14298157136807907, 0.0363512469579862, 0.07512591037983815, 0.39333583453482335, 0.29348904576829127, 0.16035999407958185, 0.04538490398478731, 0.015128301328262437, 0.0484105642504398, 0.042359243719134826, 0.4095829348345726, 0.11961271548266278, 0.15223436515975264, 0.09424032128937068, 0.02718470806424154, 0.0036246277418988723, 0.009061569354747182, 0.1812313870949436, 0.04141270439970673, 0.240193685518299, 0.3975619622371846, 0.008282540879941345, 0.06626032703953076, 0.08282540879941346, 0.14908573583894422, 0.01656508175988269, 0.0025052535323105787, 0.35574600158810216, 0.13528369074477126, 0.0350735494523481, 0.2004202825848463, 0.03757880298465868, 0.20543078964946745, 0.025052535323105786, 0.1304503397918025, 0.47162815155497834, 0.0050173207612231735, 0.0050173207612231735, 0.0050173207612231735, 0.04013856608978539, 0.3361604910019526, 0.3562086371556987, 0.2226303982223117, 0.014842026548154114, 0.014842026548154114, 0.014842026548154114, 0.08163114601484762, 0.29684053096308227, 0.42201030041252013, 0.13427600467671094, 0.10550257510313003, 0.009591143191193639, 0.28773429573580916, 0.009591143191193639, 0.02877342957358092, 0.11746358254285648, 0.1807132039120869, 0.09035660195604345, 0.009035660195604344, 0.524068291345052, 0.05421396117362606, 0.02710698058681303, 0.04169280643293073, 0.05003136771951688, 0.10006273543903375, 0.016677122573172293, 0.6921005867866501, 0.05836992900610302, 0.04169280643293073, 0.012274745783319559, 0.8623008912781991, 0.0030686864458298897, 0.03989292379578857, 0.018412118674979338, 0.024549491566639117, 0.009206059337489669, 0.0306868644582989, 0.49396023464303074, 0.013402021870159748, 0.16848256065343684, 0.07658298211519857, 0.15125138967751717, 0.017231170975919675, 0.03829149105759928, 0.04020606561047924, 0.7298057685525466, 0.025165716156984368, 0.1509942969419062, 0.05872000436629685, 0.016777144104656243, 0.016777144104656243, 0.011676771834011869, 0.264673494904269, 0.11676771834011868, 0.023353543668023738, 0.12065997561812264, 0.34251864046434816, 0.12455223289612659, 0.6516257489643624, 0.0034857947119457705, 0.007407313762884762, 0.1533749673256139, 0.07124092942539167, 0.015468214034259357, 0.09193783552756969, 0.005446554237415266, 0.42591312993516933, 0.008190637114137872, 0.04914382268482723, 0.0573344597989651, 0.024571911342413617, 0.41772249282103147, 0.024571911342413617, 0.1801711702957547, 0.45471771550833323, 0.02573873861367924, 0.03431831815157232, 0.00857957953789308, 0.09437537491682388, 0.18875074983364776, 0.02573873861367924, 0.012855724399662172, 0.08356220859780411, 0.03213931099915543, 0.745632015180406, 0.07070648419814195, 0.025711448799324344, 0.025711448799324344, 0.006427862199831086, 0.02320062438395566, 0.09280249753582263, 0.2494067121275233, 0.05220140486390023, 0.22620608774356765, 0.203005463359612, 0.0812021853438448, 0.0812021853438448, 0.020669012379201723, 0.3875439821100323, 0.056839784042804736, 0.041338024758403445, 0.23252638926601937, 0.19118836450761595, 0.020669012379201723, 0.04650527785320387, 0.4444538834930585, 0.019048023578273936, 0.2031789181682553, 0.057144070734821806, 0.025397364771031914, 0.0888907766986117, 0.10793880027688564, 0.04444538834930585, 0.4060742408830243, 0.166983799989281, 0.07969681363124775, 0.01138525909017825, 0.01138525909017825, 0.01897543181696375, 0.01138525909017825, 0.2960167363446345, 0.3409860848634742, 0.15587935308044534, 0.10716705524280619, 0.08768213610775051, 0.05845475740516701, 0.09742459567527835, 0.07793967654022267, 0.06819721697269485, 0.14712023234251065, 0.07356011617125532, 0.3953856244204974, 0.027585043564220747, 0.2390703775565798, 0.11034017425688299, 0.2418910497814167, 0.3381889084621703, 0.07336979709009796, 0.13756836954393367, 0.028660076988319516, 0.028660076988319516, 0.1490324003392615, 0.004585612318131122, 0.30025094663373936, 0.03661596910167553, 0.14158174719314537, 0.13914068258636703, 0.06590874438301596, 0.07079087359657268, 0.22213687921683156, 0.02196958146100532, 0.008623104165636431, 0.24144691663782006, 0.2242007083065472, 0.18539673956118327, 0.16815053122991042, 0.0819194895735461, 0.030180864579727507, 0.060361729159455015, 0.018800582472369855, 0.3760116494473971, 0.48881514428161627, 0.018800582472369855, 0.009400291236184927, 0.028200873708554782, 0.04700145618092464, 0.00856935756723412, 0.4884533813323449, 0.2485113694497895, 0.02570807270170236, 0.03427743026893648, 0.1285403635085118, 0.00856935756723412, 0.05141614540340472, 0.05296584400811785, 0.35310562672078566, 0.35310562672078566, 0.026482922004058926, 0.026482922004058926, 0.12358696935227498, 0.05296584400811785, 0.01509299337015314, 0.13206369198883997, 0.09433120856345713, 0.18488916878437597, 0.03018598674030628, 0.018866241712691426, 0.04527898011045942, 0.4829757878449005, 0.19615687815135163, 0.6323478308826467, 0.1290505777311524, 0.005162023109246096, 0.02322910399160743, 0.007743034663869144, 0.007743034663869144, 0.002581011554623048, 0.011956598385100894, 0.1793489757765134, 0.2710162300622869, 0.003985532795033631, 0.007971065590067262, 0.12355151664604257, 0.09963831987584078, 0.30290049242255596, 0.02713750900170889, 0.10176565875640833, 0.07462814975469945, 0.006784377250427223, 0.05427501800341778, 0.061059395253845, 0.03392188625213611, 0.6377314615401589, 0.020963952970492368, 0.006987984323497455, 0.16771162376393894, 0.01397596864699491, 0.006987984323497455, 0.08385581188196947, 0.6918104480262481, 0.0358477633003782, 0.09730107181531225, 0.09217996277240108, 0.179238816501891, 0.13314883511569045, 0.05121109042911171, 0.16387548937315746, 0.2458132340597362, 0.7009156144480627, 0.002398752958412261, 0.006476632987713105, 0.16767283179301706, 0.003598129437618392, 0.015352018933838472, 0.09882862188658516, 0.004797505916824522, 0.6957145173661577, 0.0022885345965992033, 0.00686560378979761, 0.1696058417701854, 0.002797097840287915, 0.016528305419883135, 0.10196693035958672, 0.0045770691931984065, 0.10450821346819769, 0.009953163187447399, 0.004976581593723699, 0.0024882907968618497, 0.8684134881047856, 0.0024882907968618497, 0.007464872390585549, 0.0024882907968618497, 0.083361676668529, 0.005557445111235267, 0.005557445111235267, 0.0027787225556176335, 0.894748662908878, 0.005557445111235267, 0.004143385934127572, 0.3853348918738642, 0.12015819208969959, 0.4391989090175226, 0.008286771868255143, 0.024860315604765433, 0.012430157802382717, 0.30640284813632546, 0.20140813246522876, 0.11912861970374433, 0.1509299037772015, 0.060069092138752445, 0.10398515109733616, 0.03634432465537963, 0.02170563833585172, 0.011414923877017612, 0.06848954326210567, 0.3995223356956164, 0.35386264018754593, 0.07419700520061447, 0.05707461938508805, 0.03995223356956164, 0.16138611818463064, 0.08682164585882028, 0.2553577819377067, 0.012257173533009922, 0.09397166375307607, 0.2584220753209592, 0.036771520599029765, 0.09601452600857772, 0.0050946122927045595, 0.2738354107328701, 0.40756898341636477, 0.04330420448798876, 0.13500722575667085, 0.06750361287833542, 0.062409000585630856, 0.0050946122927045595, 0.0029945497137935225, 0.20362938053795954, 0.19464573139657895, 0.0269509474241417, 0.08983649141380567, 0.24555307653106884, 0.08384739198621863, 0.15272203540346965, 0.008548659721038325, 0.2650084513521881, 0.11113257637349822, 0.008548659721038325, 0.2735571110732264, 0.11113257637349822, 0.0341946388841533, 0.18807051386284315, 0.005470169516233439, 0.2680383062954385, 0.15042966169641958, 0.013675423790583598, 0.030085932339283913, 0.4458188155730253, 0.013675423790583598, 0.07931745798538486, 0.07120911733462738, 0.007912124148291932, 0.03164849659316773, 0.11868186222437897, 0.015824248296583864, 0.05538486903804352, 0.07120911733462738, 0.6408820560116465, 0.0028810278030429425, 0.23624427984952126, 0.08066877848520239, 0.0028810278030429425, 0.040334389242601194, 0.5704435050025025, 0.01152411121217177, 0.0547395282578159, 0.5156314952992263, 0.12320398560246999, 0.06844665866803888, 0.054757326934431104, 0.06388354809016962, 0.09126221155738518, 0.018252442311477036, 0.07300976924590814, 0.028430206662938624, 0.15636613664616245, 0.21180503963889274, 0.008529061998881588, 0.018479634330910107, 0.48757804426939744, 0.07676155798993428, 0.014215103331469312, 0.5548017456923646, 0.03157408308818335, 0.11276458245779768, 0.18042333193247628, 0.013531749894935722, 0.01804233319324763, 0.08119049936961432, 0.009021166596623815, 0.6997926992990974, 0.020734598497751035, 0.005183649624437759, 0.08293839399100414, 0.11922394136206844, 0.07257109474212863, 0.05179102851016305, 0.3551384812125466, 0.06658846522735248, 0.14427500799259707, 0.0739871835859472, 0.0036993591792973605, 0.08878462030313665, 0.21456283239924692, 0.009906922787233388, 0.41609075706380233, 0.15520845699998975, 0.006604615191488926, 0.08585999748935604, 0.03302307595744463, 0.12878999623403406, 0.16511537978722313, 0.07965172863067309, 0.11947759294600964, 0.16815364933142096, 0.03540076828029915, 0.07965172863067309, 0.19470422554164532, 0.15930345726134618, 0.16372855329638358, 0.14526672044954575, 0.009684448029969718, 0.1743200645394549, 0.4648535054385464, 0.18400451256942463, 0.019368896059939435, 0.2997541872447913, 0.07209277921077259, 0.3165577673615879, 0.07317688115379173, 0.018429733031325325, 0.06992457532473431, 0.06829842241020562, 0.08184969669794483, 0.2676001552481829, 0.06690003881204573, 0.5268378056448602, 0.008362504851505716, 0.09198755336656288, 0.008362504851505716, 0.008362504851505716, 0.02508751455451715, 0.26648138738878285, 0.20044034790547582, 0.2259298719165768, 0.03244121237776487, 0.035917056561096825, 0.024330909283323654, 0.10079948131662657, 0.11470285804995436, 0.18022621818434315, 0.26533304343806074, 0.2903644626303306, 0.03003770303072386, 0.04005027070763181, 0.16520736666898123, 0.025031419192269883, 0.005006283838453977, 0.004824766995982285, 0.2701869517750079, 0.24606311679509651, 0.23641358280313193, 0.17851637885134453, 0.028948601975893707, 0.014474300987946854, 0.024123834979911423, 0.11398809199314446, 0.16385788224014514, 0.2671595906089323, 0.03562127874785764, 0.06768042962092952, 0.16385788224014514, 0.06055617387135799, 0.12467447561750174, 0.4832596150689179, 0.09156497969726865, 0.0406955465321194, 0.01017388663302985, 0.005086943316514925, 0.005086943316514925, 0.0203477732660597, 0.35099908883952985, 0.1530667821052768, 0.14828344516448688, 0.06696671717105859, 0.095666738815798, 0.095666738815798, 0.10523341269737779, 0.0239166847039495, 0.3061335642105536, 0.5684227355644215, 0.013696933387094493, 0.027393866774188987, 0.006848466693547247, 0.027393866774188987, 0.28763560112898434, 0.006848466693547247, 0.05478773354837797, 0.18351261174666914, 0.4558216485320491, 0.011839523338494782, 0.14799404173118477, 0.07695690170021609, 0.08879642503871087, 0.029598808346236957, 0.5846274758275645, 0.00942947541657362, 0.047147377082868105, 0.00942947541657362, 0.05657685249944173, 0.028288426249720864, 0.1791600329148988, 0.08486527874916258, 0.06318608569593455, 0.27982409379628154, 0.1173455877210213, 0.027079751012543375, 0.09026583670847792, 0.04513291835423896, 0.37008993050475947, 0.036891072243938894, 0.5164750114151445, 0.14449003295542734, 0.021519792142297687, 0.058410864386236584, 0.16293556907739679, 0.02766830418295417, 0.03381681622361065, 0.020836353402000334, 0.027781804536000446, 0.18752718061800303, 0.03472725567000056, 0.006945451134000111, 0.04167270680400067, 0.013890902268000223, 0.680654211132011, 0.029266674178753147, 0.153650039438454, 0.13170003380438916, 0.11706669671501259, 0.1097500281703243, 0.1097500281703243, 0.014633337089376574, 0.3365667530556612, 0.24482677626770408, 0.16321785084513604, 0.016321785084513606, 0.35907927185929933, 0.008160892542256803, 0.06528714033805443, 0.016321785084513606, 0.12241338813385204, 0.7115238277571964, 0.07623469583112819, 0.04235260879507122, 0.008470521759014244, 0.10164626110817092, 0.016941043518028488, 0.02541156527704273, 0.02541156527704273, 0.6002132139067884, 0.15186117460292237, 0.1012407830686149, 0.01446296900980213, 0.07954632955391172, 0.03615742252450532, 0.021694453514703196, 0.007231484504901065, 0.027878820127246545, 0.2214817376775698, 0.568418165927749, 0.006195293361610343, 0.012390586723220687, 0.006195293361610343, 0.02632999678684396, 0.1316499839342198, 0.1948352407748328, 0.18522857250858527, 0.4211923617982903, 0.04292979881479367, 0.05103542516444002, 0.048933966481198375, 0.011708126949489181, 0.04413063234807461, 0.017044814414457588, 0.49429961801927, 0.10226888648674552, 0.008522407207228794, 0.1534033297301183, 0.21306018018071984, 0.020200144255025504, 0.34340245233543354, 0.18180129829522954, 0.005050036063756376, 0.02525018031878188, 0.21210151467776778, 0.03535025244629463, 0.18180129829522954, 0.008478705361945811, 0.5214403797596674, 0.13989863847210587, 0.016957410723891623, 0.06782964289556649, 0.22044633941059108, 0.025436116085837433, 0.0767485268110946, 0.18379252473183183, 0.024236376887714087, 0.08886671525495164, 0.13733946903037983, 0.17975312858387946, 0.06665003644121374, 0.2403440708031647, 0.09357654608131157, 0.35729226685591686, 0.3487853081212522, 0.025520876203994063, 0.051041752407988125, 0.017013917469329374, 0.09357654608131157, 0.1185611348451197, 0.19760189140853282, 0.3151230162988708, 0.07644073167645875, 0.05512052760343284, 0.03328031855301605, 0.17316165747116166, 0.031200298643452553, 0.005781312471180655, 0.15320478048628736, 0.09250099953889047, 0.21679921766927454, 0.04914115600503556, 0.12140756189479375, 0.03757853106267425, 0.326644154621707, 0.00807258851161884, 0.33904871748799126, 0.19374212427885215, 0.3471213059996101, 0.06458070809295072, 0.00807258851161884, 0.040362942558094195, 0.8336279753686848, 0.004631266529826027, 0.009262533059652054, 0.12967546283512874, 0.009262533059652054, 0.009262533059652054, 0.009262533059652054, 0.0734089998948787, 0.006117416657906559, 0.006117416657906559, 0.7218551656329739, 0.15293541644766398, 0.03670449994743935, 0.07035438262313827, 0.1909618956913753, 0.5025313044509876, 0.02763922174480432, 0.020101252178039507, 0.13317079567951173, 0.015075939133529628, 0.03768984783382407, 0.050636807432377764, 0.5029922871616191, 0.1147767635133896, 0.11815255067554811, 0.08439467905396295, 0.06413995608101183, 0.03038208445942666, 0.037133658783743695, 0.2707527684995598, 0.13924428094263078, 0.19339483464254273, 0.11603690078552564, 0.08509372724271881, 0.00773579338570171, 0.01547158677140342, 0.1779232478711393, 0.04043504710455552, 0.26956698069703683, 0.13478349034851841, 0.09434844324396288, 0.14376905637175297, 0.12130514131366656, 0.1572474054066048, 0.04043504710455552, 0.008101961590857363, 0.3038235596571511, 0.1053255006811457, 0.2511608093165782, 0.1255804046582891, 0.11342746227200307, 0.012152942386286043, 0.08101961590857362, 0.447722605956691, 0.25509776385904487, 0.03123646088069937, 0.005206076813449896, 0.052060768134498954, 0.07288507538829854, 0.026030384067249477, 0.1093276130824478, 0.12885345699588466, 0.3264287577229078, 0.3006580663237309, 0.051541382798353866, 0.11167299606310005, 0.06013161326474618, 0.027423567007052934, 0.3721769808100041, 0.10577661559863274, 0.07051774373242183, 0.08618835345073779, 0.01567060971831596, 0.2076355787676865, 0.11361192045779073, 0.07285411689090746, 0.2384316552793335, 0.11093695072024544, 0.05960791381983337, 0.04470593536487503, 0.06623101535537042, 0.028148181526032427, 0.38082833829337986, 0.08455248541631132, 0.08455248541631132, 0.19728913263805972, 0.460341309488806, 0.07515776481449894, 0.07515776481449894, 0.009394720601812368, 0.028856054332388692, 0.5338370051491909, 0.06492612224787456, 0.007214013583097173, 0.22363442107601236, 0.007214013583097173, 0.04328408149858304, 0.09378217658026325, 0.011111590562757626, 0.47557607608602637, 0.07444765677047609, 0.022223181125515253, 0.308902217644662, 0.05111331658868508, 0.0355570898008244, 0.020000863012963728, 0.04858800088620206, 0.24988114741475345, 0.1318817166911199, 0.027764571934972608, 0.3401160062034144, 0.045117429394330485, 0.14229343116673462, 0.01735285745935788, 0.7471599416579623, 0.01609267566647919, 0.0022989536666398838, 0.08736023933231558, 0.01839162933311907, 0.06896860999919652, 0.057473841665997095, 0.9221516731567118, 0.006147677821044745, 0.018443033463134237, 0.04303374474731322, 0.01229535564208949], \"Term\": [\"about\", \"about\", \"about\", \"about\", \"about\", \"about\", \"about\", \"about\", \"after\", \"after\", \"after\", \"after\", \"after\", \"after\", \"after\", \"after\", \"all\", \"all\", \"all\", \"all\", \"all\", \"all\", \"all\", \"all\", \"amp\", \"amp\", \"amp\", \"amp\", \"amp\", \"amp\", \"amp\", \"amp\", \"an\", \"an\", \"an\", \"an\", \"an\", \"an\", \"an\", \"an\", \"and\", \"and\", \"and\", \"and\", \"and\", \"and\", \"and\", \"and\", \"are\", \"are\", \"are\", \"are\", \"are\", \"are\", \"are\", \"are\", \"as\", \"as\", \"as\", \"as\", \"as\", \"as\", \"as\", \"at\", \"at\", \"at\", \"at\", \"at\", \"at\", \"at\", \"at\", \"back\", \"back\", \"back\", \"back\", \"back\", \"back\", \"back\", \"back\", \"be\", \"be\", \"be\", \"be\", \"be\", \"be\", \"be\", \"be\", \"been\", \"been\", \"been\", \"been\", \"been\", \"been\", \"been\", \"body\", \"body\", \"body\", \"body\", \"body\", \"body\", \"body\", \"bomb\", \"bomb\", \"bomb\", \"bomb\", \"bomb\", \"bomb\", \"bomb\", \"buildings\", \"buildings\", \"buildings\", \"buildings\", \"buildings\", \"buildings\", \"buildings\", \"burning\", \"burning\", \"burning\", \"burning\", \"burning\", \"burning\", \"burning\", \"but\", \"but\", \"but\", \"but\", \"but\", \"but\", \"but\", \"but\", \"by\", \"by\", \"by\", \"by\", \"by\", \"by\", \"by\", \"by\", \"california\", \"california\", \"california\", \"california\", \"california\", \"california\", \"can\", \"can\", \"can\", \"can\", \"can\", \"can\", \"can\", \"co\", \"co\", \"co\", \"co\", \"co\", \"co\", \"co\", \"co\", \"crash\", \"crash\", \"crash\", \"crash\", \"crash\", \"crash\", \"crash\", \"day\", \"day\", \"day\", \"day\", \"day\", \"day\", \"day\", \"day\", \"disaster\", \"disaster\", \"disaster\", \"disaster\", \"disaster\", \"disaster\", \"disaster\", \"disaster\", \"do\", \"do\", \"do\", \"do\", \"do\", \"do\", \"do\", \"do\", \"don\", \"don\", \"don\", \"don\", \"don\", \"don\", \"don\", \"don\", \"emergency\", \"emergency\", \"emergency\", \"emergency\", \"emergency\", \"emergency\", \"emergency\", \"emergency\", \"fire\", \"fire\", \"fire\", \"fire\", \"fire\", \"fire\", \"fire\", \"fire\", \"fires\", \"fires\", \"fires\", \"fires\", \"fires\", \"fires\", \"fires\", \"fires\", \"first\", \"first\", \"first\", \"first\", \"first\", \"first\", \"for\", \"for\", \"for\", \"for\", \"for\", \"for\", \"for\", \"for\", \"from\", \"from\", \"from\", \"from\", \"from\", \"from\", \"from\", \"from\", \"get\", \"get\", \"get\", \"get\", \"get\", \"get\", \"get\", \"get\", \"going\", \"going\", \"going\", \"going\", \"going\", \"going\", \"going\", \"got\", \"got\", \"got\", \"got\", \"got\", \"got\", \"got\", \"got\", \"had\", \"had\", \"had\", \"had\", \"had\", \"had\", \"had\", \"has\", \"has\", \"has\", \"has\", \"has\", \"has\", \"has\", \"has\", \"have\", \"have\", \"have\", \"have\", \"have\", \"have\", \"have\", \"have\", \"he\", \"he\", \"he\", \"he\", \"he\", \"he\", \"he\", \"he\", \"her\", \"her\", \"her\", \"her\", \"her\", \"her\", \"her\", \"her\", \"his\", \"his\", \"his\", \"his\", \"his\", \"his\", \"his\", \"how\", \"how\", \"how\", \"how\", \"how\", \"how\", \"how\", \"how\", \"http\", \"http\", \"http\", \"http\", \"http\", \"http\", \"http\", \"http\", \"http_co\", \"http_co\", \"http_co\", \"http_co\", \"http_co\", \"http_co\", \"http_co\", \"http_co\", \"https\", \"https\", \"https\", \"https\", \"https\", \"https\", \"https\", \"https\", \"https_co\", \"https_co\", \"https_co\", \"https_co\", \"https_co\", \"https_co\", \"if\", \"if\", \"if\", \"if\", \"if\", \"if\", \"if\", \"in\", \"in\", \"in\", \"in\", \"in\", \"in\", \"in\", \"in\", \"into\", \"into\", \"into\", \"into\", \"into\", \"into\", \"into\", \"is\", \"is\", \"is\", \"is\", \"is\", \"is\", \"is\", \"is\", \"it\", \"it\", \"it\", \"it\", \"it\", \"it\", \"it\", \"it\", \"just\", \"just\", \"just\", \"just\", \"just\", \"just\", \"just\", \"just\", \"know\", \"know\", \"know\", \"know\", \"know\", \"know\", \"know\", \"know\", \"like\", \"like\", \"like\", \"like\", \"like\", \"like\", \"like\", \"like\", \"man\", \"man\", \"man\", \"man\", \"man\", \"man\", \"man\", \"man\", \"me\", \"me\", \"me\", \"me\", \"me\", \"me\", \"me\", \"me\", \"more\", \"more\", \"more\", \"more\", \"more\", \"more\", \"more\", \"more\", \"my\", \"my\", \"my\", \"my\", \"my\", \"my\", \"my\", \"my\", \"new\", \"new\", \"new\", \"new\", \"new\", \"new\", \"new\", \"new\", \"news\", \"news\", \"news\", \"news\", \"news\", \"news\", \"no\", \"no\", \"no\", \"no\", \"no\", \"no\", \"no\", \"no\", \"not\", \"not\", \"not\", \"not\", \"not\", \"not\", \"not\", \"not\", \"now\", \"now\", \"now\", \"now\", \"now\", \"now\", \"now\", \"now\", \"nuclear\", \"nuclear\", \"nuclear\", \"nuclear\", \"nuclear\", \"nuclear\", \"of\", \"of\", \"of\", \"of\", \"of\", \"of\", \"of\", \"of\", \"off\", \"off\", \"off\", \"off\", \"off\", \"off\", \"off\", \"off\", \"on\", \"on\", \"on\", \"on\", \"on\", \"on\", \"on\", \"on\", \"one\", \"one\", \"one\", \"one\", \"one\", \"one\", \"one\", \"one\", \"or\", \"or\", \"or\", \"or\", \"or\", \"or\", \"or\", \"or\", \"out\", \"out\", \"out\", \"out\", \"out\", \"out\", \"out\", \"out\", \"over\", \"over\", \"over\", \"over\", \"over\", \"over\", \"over\", \"over\", \"people\", \"people\", \"people\", \"people\", \"people\", \"people\", \"people\", \"people\", \"police\", \"police\", \"police\", \"police\", \"police\", \"police\", \"police\", \"police\", \"re\", \"re\", \"re\", \"re\", \"re\", \"re\", \"re\", \"rt\", \"rt\", \"rt\", \"rt\", \"rt\", \"rt\", \"rt\", \"rt\", \"see\", \"see\", \"see\", \"see\", \"see\", \"see\", \"see\", \"so\", \"so\", \"so\", \"so\", \"so\", \"so\", \"so\", \"so\", \"some\", \"some\", \"some\", \"some\", \"some\", \"some\", \"some\", \"some\", \"still\", \"still\", \"still\", \"still\", \"still\", \"still\", \"still\", \"still\", \"storm\", \"storm\", \"storm\", \"storm\", \"storm\", \"storm\", \"storm\", \"storm\", \"suicide\", \"suicide\", \"suicide\", \"suicide\", \"suicide\", \"suicide\", \"suicide\", \"suicide\", \"than\", \"than\", \"than\", \"than\", \"than\", \"than\", \"than\", \"than\", \"that\", \"that\", \"that\", \"that\", \"that\", \"that\", \"that\", \"that\", \"the\", \"the\", \"the\", \"the\", \"the\", \"the\", \"the\", \"the\", \"them\", \"them\", \"them\", \"them\", \"them\", \"them\", \"there\", \"there\", \"there\", \"there\", \"there\", \"there\", \"there\", \"there\", \"they\", \"they\", \"they\", \"they\", \"they\", \"they\", \"they\", \"this\", \"this\", \"this\", \"this\", \"this\", \"this\", \"this\", \"this\", \"time\", \"time\", \"time\", \"time\", \"time\", \"time\", \"time\", \"to\", \"to\", \"to\", \"to\", \"to\", \"to\", \"to\", \"to\", \"up\", \"up\", \"up\", \"up\", \"up\", \"up\", \"up\", \"up\", \"us\", \"us\", \"us\", \"us\", \"us\", \"us\", \"us\", \"via\", \"via\", \"via\", \"via\", \"via\", \"via\", \"via\", \"video\", \"video\", \"video\", \"video\", \"video\", \"video\", \"was\", \"was\", \"was\", \"was\", \"was\", \"was\", \"was\", \"was\", \"we\", \"we\", \"we\", \"we\", \"we\", \"we\", \"we\", \"we\", \"were\", \"were\", \"were\", \"were\", \"were\", \"were\", \"were\", \"were\", \"what\", \"what\", \"what\", \"what\", \"what\", \"what\", \"what\", \"what\", \"when\", \"when\", \"when\", \"when\", \"when\", \"when\", \"when\", \"when\", \"who\", \"who\", \"who\", \"who\", \"who\", \"who\", \"who\", \"who\", \"why\", \"why\", \"why\", \"why\", \"why\", \"why\", \"will\", \"will\", \"will\", \"will\", \"will\", \"will\", \"will\", \"will\", \"with\", \"with\", \"with\", \"with\", \"with\", \"with\", \"with\", \"with\", \"world\", \"world\", \"world\", \"world\", \"world\", \"world\", \"world\", \"would\", \"would\", \"would\", \"would\", \"would\", \"would\", \"would\", \"would\", \"you\", \"you\", \"you\", \"you\", \"you\", \"you\", \"you\", \"you\", \"your\", \"your\", \"your\", \"your\", \"your\", \"your\", \"your\", \"your\", \"\\u00fb_\", \"\\u00fb_\", \"\\u00fb_\", \"\\u00fb_\", \"\\u00fb_\", \"\\u00fb_\", \"\\u00fb_\", \"\\u00fb__http_co\", \"\\u00fb__http_co\", \"\\u00fb__http_co\", \"\\u00fb__http_co\", \"\\u00fb__http_co\"]}, \"R\": 30, \"lambda.step\": 0.01, \"plot.opts\": {\"xlab\": \"PC1\", \"ylab\": \"PC2\"}, \"topic.order\": [7, 3, 2, 6, 8, 4, 5, 1]};\n",
       "\n",
       "function LDAvis_load_lib(url, callback){\n",
       "  var s = document.createElement('script');\n",
       "  s.src = url;\n",
       "  s.async = true;\n",
       "  s.onreadystatechange = s.onload = callback;\n",
       "  s.onerror = function(){console.warn(\"failed to load library \" + url);};\n",
       "  document.getElementsByTagName(\"head\")[0].appendChild(s);\n",
       "}\n",
       "\n",
       "if(typeof(LDAvis) !== \"undefined\"){\n",
       "   // already loaded: just create the visualization\n",
       "   !function(LDAvis){\n",
       "       new LDAvis(\"#\" + \"ldavis_el971403626935714087315870928\", ldavis_el971403626935714087315870928_data);\n",
       "   }(LDAvis);\n",
       "}else if(typeof define === \"function\" && define.amd){\n",
       "   // require.js is available: use it to load d3/LDAvis\n",
       "   require.config({paths: {d3: \"https://cdnjs.cloudflare.com/ajax/libs/d3/3.5.5/d3.min\"}});\n",
       "   require([\"d3\"], function(d3){\n",
       "      window.d3 = d3;\n",
       "      LDAvis_load_lib(\"https://cdn.rawgit.com/bmabey/pyLDAvis/files/ldavis.v1.0.0.js\", function(){\n",
       "        new LDAvis(\"#\" + \"ldavis_el971403626935714087315870928\", ldavis_el971403626935714087315870928_data);\n",
       "      });\n",
       "    });\n",
       "}else{\n",
       "    // require.js not available: dynamically load d3 & LDAvis\n",
       "    LDAvis_load_lib(\"https://cdnjs.cloudflare.com/ajax/libs/d3/3.5.5/d3.min.js\", function(){\n",
       "         LDAvis_load_lib(\"https://cdn.rawgit.com/bmabey/pyLDAvis/files/ldavis.v1.0.0.js\", function(){\n",
       "                 new LDAvis(\"#\" + \"ldavis_el971403626935714087315870928\", ldavis_el971403626935714087315870928_data);\n",
       "            })\n",
       "         });\n",
       "}\n",
       "</script>"
      ],
      "text/plain": [
       "PreparedData(topic_coordinates=              x         y  topics  cluster       Freq\n",
       "topic                                                \n",
       "6     -0.234823  0.028492       1        1  30.534693\n",
       "2      0.142995 -0.026790       2        1  15.812566\n",
       "1      0.110913  0.007458       3        1  15.174012\n",
       "5     -0.159219 -0.001432       4        1   9.611457\n",
       "7      0.046068 -0.153717       5        1   7.803989\n",
       "3      0.075578 -0.007827       6        1   7.298535\n",
       "4     -0.099408  0.004576       7        1   7.009394\n",
       "0      0.117894  0.149239       8        1   6.755354, topic_info=       Term         Freq        Total Category  logprob  loglift\n",
       "43     http  4168.000000  4168.000000  Default  30.0000  30.0000\n",
       "44  http_co  3932.000000  3932.000000  Default  29.0000  29.0000\n",
       "42       co  4590.000000  4590.000000  Default  28.0000  28.0000\n",
       "3       the  3331.000000  3331.000000  Default  27.0000  27.0000\n",
       "71    https   401.000000   401.000000  Default  26.0000  26.0000\n",
       "..      ...          ...          ...      ...      ...      ...\n",
       "28       is    93.893490   979.018529   Topic8  -3.5853   0.3504\n",
       "3       the   147.114488  3331.019570   Topic8  -3.1362  -0.4250\n",
       "20      and    63.901104  1440.629290   Topic8  -3.9701  -0.4207\n",
       "11       to    59.783593  1923.058516   Topic8  -4.0367  -0.7761\n",
       "8        in    43.069669  1981.052081   Topic8  -4.3646  -1.1337\n",
       "\n",
       "[344 rows x 6 columns], token_table=      Topic      Freq        Term\n",
       "term                             \n",
       "75        1  0.156391       about\n",
       "75        2  0.027598       about\n",
       "75        3  0.542769       about\n",
       "75        4  0.133392       about\n",
       "75        5  0.101194       about\n",
       "...     ...       ...         ...\n",
       "103       1  0.922152  û__http_co\n",
       "103       2  0.006148  û__http_co\n",
       "103       5  0.018443  û__http_co\n",
       "103       7  0.043034  û__http_co\n",
       "103       8  0.012295  û__http_co\n",
       "\n",
       "[832 rows x 3 columns], R=30, lambda_step=0.01, plot_opts={'xlab': 'PC1', 'ylab': 'PC2'}, topic_order=[7, 3, 2, 6, 8, 4, 5, 1])"
      ]
     },
     "execution_count": 107,
     "metadata": {},
     "output_type": "execute_result"
    }
   ],
   "source": [
    "vis"
   ]
  },
  {
   "cell_type": "code",
   "execution_count": null,
   "metadata": {},
   "outputs": [],
   "source": []
  }
 ],
 "metadata": {
  "kernelspec": {
   "display_name": "Python 3",
   "language": "python",
   "name": "python3"
  },
  "language_info": {
   "codemirror_mode": {
    "name": "ipython",
    "version": 3
   },
   "file_extension": ".py",
   "mimetype": "text/x-python",
   "name": "python",
   "nbconvert_exporter": "python",
   "pygments_lexer": "ipython3",
   "version": "3.8.6"
  }
 },
 "nbformat": 4,
 "nbformat_minor": 4
}
