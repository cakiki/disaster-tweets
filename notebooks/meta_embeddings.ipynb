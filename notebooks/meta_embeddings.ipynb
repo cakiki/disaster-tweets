{
 "cells": [
  {
   "cell_type": "markdown",
   "metadata": {},
   "source": [
    "# Learning Word Meta-Embeddings by Autoencoding\n",
    "\n",
    "https://www.aclweb.org/anthology/C18-1140/\n",
    "\n",
    "Danushka Bollegala, Cong Bao"
   ]
  },
  {
   "cell_type": "code",
   "execution_count": 49,
   "metadata": {},
   "outputs": [
    {
     "data": {
      "text/html": [
       "<style>.container { width:95% !important; }</style>"
      ],
      "text/plain": [
       "<IPython.core.display.HTML object>"
      ]
     },
     "metadata": {},
     "output_type": "display_data"
    }
   ],
   "source": [
    "from IPython.core.display import display, HTML\n",
    "display(HTML(\"<style>.container { width:95% !important; }</style>\"))"
   ]
  },
  {
   "cell_type": "code",
   "execution_count": 65,
   "metadata": {},
   "outputs": [],
   "source": [
    "import pandas as pd\n",
    "import numpy as np\n",
    "import tensorflow as tf\n",
    "from tensorflow import keras\n",
    "from sklearn.model_selection import train_test_split\n",
    "import matplotlib.pyplot as plt"
   ]
  },
  {
   "cell_type": "code",
   "execution_count": 66,
   "metadata": {},
   "outputs": [],
   "source": [
    "%matplotlib inline"
   ]
  },
  {
   "cell_type": "code",
   "execution_count": 25,
   "metadata": {},
   "outputs": [],
   "source": [
    "train_bertweet = np.load('../data/features/train_bertweet_embeddings.npy')\n",
    "test_bertweet = np.load('../data/features/test_bertweet_embeddings.npy')\n",
    "bertweet = np.vstack([train_bertweet, test_bertweet])\n",
    "\n",
    "train_nnlm = np.load('../data/features/train_nnlm_en_128_norm_embeddings.npy')\n",
    "test_nnlm = np.load('../data/features/test_nnlm_en_128_norm_embeddings.npy')\n",
    "nnlm = np.vstack([train_nnlm, test_nnlm])\n",
    "\n",
    "train_bert_sst2 = np.load('../data/features/train_bert_sst2_embeddings.npy')\n",
    "test_bert_sst2 = np.load('../data/features/test_bert_sst2_embeddings.npy')\n",
    "bert_sst2 = np.vstack([train_bert_sst2, test_bert_sst2])\n",
    "\n",
    "train_use = np.load('../data/features/train_use4_embeddings.npy')\n",
    "test_use  = np.load('../data/features/test_use4_embeddings.npy')\n",
    "use = np.vstack([train_use, test_use])"
   ]
  },
  {
   "cell_type": "code",
   "execution_count": 27,
   "metadata": {},
   "outputs": [],
   "source": [
    "embeddings = np.hstack([bertweet, nnlm, bert_sst2, use])"
   ]
  },
  {
   "cell_type": "code",
   "execution_count": 39,
   "metadata": {},
   "outputs": [
    {
     "data": {
      "text/plain": [
       "(10876, 2176)"
      ]
     },
     "execution_count": 39,
     "metadata": {},
     "output_type": "execute_result"
    }
   ],
   "source": [
    "embeddings.shape"
   ]
  },
  {
   "cell_type": "code",
   "execution_count": 43,
   "metadata": {},
   "outputs": [],
   "source": [
    "X_train, X_valid = train_test_split(embeddings, test_size=0.15)\n",
    "dataset_train = tf.data.Dataset.from_tensor_slices(X_train)\n",
    "dataset_valid = tf.data.Dataset.from_tensor_slices(X_valid)\n",
    "\n",
    "dataset_train = dataset_train.map(lambda x: (x,x))\n",
    "dataset_train = dataset_train.shuffle(10000)\n",
    "dataset_train = dataset_train.batch(512)\n",
    "\n",
    "dataset_valid = dataset_valid.map(lambda x: (x,x))\n",
    "dataset_valid = dataset_valid.shuffle(10000)\n",
    "dataset_valid = dataset_valid.batch(512)\n",
    "\n",
    "\n",
    "#From Aurelien Geron's Hands-on Machine Learning 2nd ed. https://github.com/ageron/handson-ml2/blob/master/17_autoencoders_and_gans.ipynb\n",
    "class DenseTranspose(keras.layers.Layer):\n",
    "    def __init__(self, dense, activation=None, **kwargs):\n",
    "        self.dense=dense\n",
    "        self.activation = keras.activations.get(activation)\n",
    "        super().__init__(**kwargs)\n",
    "    def build(self, batch_input_shape):\n",
    "        self.biases = self.add_weight(name=\"bias\", initializer=\"zeros\", shape=[self.dense.input_shape[-1]])\n",
    "        super().build(batch_input_shape)\n",
    "    def call(self, inputs):\n",
    "        z = tf.matmul(inputs, self.dense.weights[0], transpose_b=True)\n",
    "        return self.activation(z + self.biases)"
   ]
  },
  {
   "cell_type": "code",
   "execution_count": 50,
   "metadata": {},
   "outputs": [],
   "source": [
    "#normal accuracy stays at 0\n",
    "def rounded_accuracy(y_true, y_pred):\n",
    "    return keras.metrics.binary_accuracy(tf.round(y_true), tf.round(y_pred))"
   ]
  },
  {
   "cell_type": "code",
   "execution_count": 77,
   "metadata": {
    "scrolled": false
   },
   "outputs": [],
   "source": [
    "keras.backend.clear_session()\n",
    "\n",
    "dense_1 = keras.layers.Dense(3072, activation=\"selu\")\n",
    "dense_2 = keras.layers.Dense(2048, activation=\"selu\")\n",
    "dense_3 = keras.layers.Dense(1024, activation=\"selu\")\n",
    "dense_4 = keras.layers.Dense(512, activation=\"selu\")\n",
    "\n",
    "encoder = keras.models.Sequential([\n",
    "    keras.layers.InputLayer(input_shape=dataset_train.element_spec[0].shape[1:]),\n",
    "    dense_1,\n",
    "    dense_2,\n",
    "    dense_3,\n",
    "    dense_4\n",
    "])\n",
    "\n",
    "tied_decoder = keras.models.Sequential([\n",
    "    DenseTranspose(dense_4, activation=\"selu\"),\n",
    "    DenseTranspose(dense_3, activation=\"selu\"),\n",
    "    DenseTranspose(dense_2, activation=\"selu\"),\n",
    "    DenseTranspose(dense_1, activation=\"sigmoid\")\n",
    "])\n",
    "tied_ae = keras.models.Sequential([encoder, tied_decoder])"
   ]
  },
  {
   "cell_type": "code",
   "execution_count": 93,
   "metadata": {},
   "outputs": [
    {
     "data": {
      "text/plain": [
       "TensorShape([2176])"
      ]
     },
     "execution_count": 93,
     "metadata": {},
     "output_type": "execute_result"
    }
   ],
   "source": [
    "dataset_train.element_spec[0].shape[1:]"
   ]
  },
  {
   "cell_type": "code",
   "execution_count": 78,
   "metadata": {},
   "outputs": [
    {
     "data": {
      "image/png": "[encoded data removed]",
      "text/plain": [
       "<IPython.core.display.Image object>"
      ]
     },
     "execution_count": 78,
     "metadata": {},
     "output_type": "execute_result"
    }
   ],
   "source": [
    "tf.keras.utils.plot_model(encoder)"
   ]
  },
  {
   "cell_type": "code",
   "execution_count": 79,
   "metadata": {},
   "outputs": [],
   "source": [
    "reduce_lr = keras.callbacks.ReduceLROnPlateau(monitor='val_loss', min_delta=0.001, verbose=1, factor=0.5, patience=3)\n",
    "early_stopping = keras.callbacks.EarlyStopping(monitor='val_rounded_accuracy', min_delta=0.0001, verbose=1, patience=3)\n",
    "\n",
    "callback_list = [reduce_lr, early_stopping]\n",
    "\n",
    "tied_ae.compile(loss=\"mse\", optimizer=keras.optimizers.Adagrad(), metrics=[rounded_accuracy])"
   ]
  },
  {
   "cell_type": "code",
   "execution_count": 80,
   "metadata": {},
   "outputs": [
    {
     "name": "stdout",
     "output_type": "stream",
     "text": [
      "Epoch 1/100\n",
      "1156/1156 [==============================] - 8s 6ms/step - loss: 0.2864 - rounded_accuracy: 0.6101 - val_loss: 0.1268 - val_rounded_accuracy: 0.8288\n",
      "Epoch 2/100\n",
      "1156/1156 [==============================] - 7s 6ms/step - loss: 0.1160 - rounded_accuracy: 0.8362 - val_loss: 0.0999 - val_rounded_accuracy: 0.8447\n",
      "Epoch 3/100\n",
      "1156/1156 [==============================] - 7s 6ms/step - loss: 0.0990 - rounded_accuracy: 0.8447 - val_loss: 0.0961 - val_rounded_accuracy: 0.8450\n",
      "Epoch 4/100\n",
      "1156/1156 [==============================] - 7s 6ms/step - loss: 0.0957 - rounded_accuracy: 0.8454 - val_loss: 0.0943 - val_rounded_accuracy: 0.8457\n",
      "Epoch 5/100\n",
      "1156/1156 [==============================] - 7s 6ms/step - loss: 0.0943 - rounded_accuracy: 0.8460 - val_loss: 0.0933 - val_rounded_accuracy: 0.8466\n",
      "Epoch 6/100\n",
      "1156/1156 [==============================] - 7s 6ms/step - loss: 0.0933 - rounded_accuracy: 0.8469 - val_loss: 0.0924 - val_rounded_accuracy: 0.8475\n",
      "Epoch 7/100\n",
      "1156/1156 [==============================] - 7s 6ms/step - loss: 0.0925 - rounded_accuracy: 0.8477 - val_loss: 0.0917 - val_rounded_accuracy: 0.8485\n",
      "Epoch 8/100\n",
      "1156/1156 [==============================] - 7s 6ms/step - loss: 0.0916 - rounded_accuracy: 0.8488 - val_loss: 0.0910 - val_rounded_accuracy: 0.8492\n",
      "Epoch 9/100\n",
      "1156/1156 [==============================] - 7s 6ms/step - loss: 0.0910 - rounded_accuracy: 0.8496 - val_loss: 0.0904 - val_rounded_accuracy: 0.8500\n",
      "Epoch 10/100\n",
      "1156/1156 [==============================] - 7s 6ms/step - loss: 0.0903 - rounded_accuracy: 0.8504 - val_loss: 0.0897 - val_rounded_accuracy: 0.8507\n",
      "Epoch 11/100\n",
      "1156/1156 [==============================] - 8s 7ms/step - loss: 0.0899 - rounded_accuracy: 0.8508 - val_loss: 0.0891 - val_rounded_accuracy: 0.8514\n",
      "Epoch 12/100\n",
      "1156/1156 [==============================] - 8s 7ms/step - loss: 0.0891 - rounded_accuracy: 0.8517 - val_loss: 0.0887 - val_rounded_accuracy: 0.8519\n",
      "Epoch 13/100\n",
      "1156/1156 [==============================] - 8s 7ms/step - loss: 0.0886 - rounded_accuracy: 0.8522 - val_loss: 0.0883 - val_rounded_accuracy: 0.8522\n",
      "Epoch 14/100\n",
      "1156/1156 [==============================] - 8s 6ms/step - loss: 0.0883 - rounded_accuracy: 0.8525 - val_loss: 0.0880 - val_rounded_accuracy: 0.8526\n",
      "Epoch 15/100\n",
      "1156/1156 [==============================] - 8s 7ms/step - loss: 0.0881 - rounded_accuracy: 0.8529 - val_loss: 0.0878 - val_rounded_accuracy: 0.8530\n",
      "\n",
      "Epoch 00015: ReduceLROnPlateau reducing learning rate to 0.0005000000237487257.\n",
      "Epoch 16/100\n",
      "1156/1156 [==============================] - 7s 6ms/step - loss: 0.0879 - rounded_accuracy: 0.8531 - val_loss: 0.0877 - val_rounded_accuracy: 0.8531\n",
      "Epoch 17/100\n",
      "1156/1156 [==============================] - 8s 7ms/step - loss: 0.0878 - rounded_accuracy: 0.8533 - val_loss: 0.0876 - val_rounded_accuracy: 0.8532\n",
      "Epoch 18/100\n",
      "1156/1156 [==============================] - 7s 6ms/step - loss: 0.0876 - rounded_accuracy: 0.8535 - val_loss: 0.0875 - val_rounded_accuracy: 0.8534\n",
      "Epoch 19/100\n",
      "1156/1156 [==============================] - 7s 6ms/step - loss: 0.0875 - rounded_accuracy: 0.8536 - val_loss: 0.0874 - val_rounded_accuracy: 0.8535\n",
      "\n",
      "Epoch 00019: ReduceLROnPlateau reducing learning rate to 0.0002500000118743628.\n",
      "Epoch 20/100\n",
      "1156/1156 [==============================] - 7s 6ms/step - loss: 0.0875 - rounded_accuracy: 0.8537 - val_loss: 0.0874 - val_rounded_accuracy: 0.8536\n",
      "Epoch 21/100\n",
      "1156/1156 [==============================] - 7s 6ms/step - loss: 0.0874 - rounded_accuracy: 0.8538 - val_loss: 0.0873 - val_rounded_accuracy: 0.8536\n",
      "Epoch 22/100\n",
      "1156/1156 [==============================] - 8s 6ms/step - loss: 0.0876 - rounded_accuracy: 0.8537 - val_loss: 0.0873 - val_rounded_accuracy: 0.8537\n",
      "\n",
      "Epoch 00022: ReduceLROnPlateau reducing learning rate to 0.0001250000059371814.\n",
      "Epoch 23/100\n",
      "1156/1156 [==============================] - 7s 6ms/step - loss: 0.0874 - rounded_accuracy: 0.8539 - val_loss: 0.0873 - val_rounded_accuracy: 0.8537\n",
      "Epoch 24/100\n",
      "1156/1156 [==============================] - 8s 6ms/step - loss: 0.0874 - rounded_accuracy: 0.8538 - val_loss: 0.0872 - val_rounded_accuracy: 0.8537\n",
      "Epoch 25/100\n",
      "1156/1156 [==============================] - 8s 7ms/step - loss: 0.0873 - rounded_accuracy: 0.8538 - val_loss: 0.0872 - val_rounded_accuracy: 0.8538\n",
      "\n",
      "Epoch 00025: ReduceLROnPlateau reducing learning rate to 6.25000029685907e-05.\n",
      "Epoch 26/100\n",
      "1156/1156 [==============================] - 8s 7ms/step - loss: 0.0873 - rounded_accuracy: 0.8539 - val_loss: 0.0872 - val_rounded_accuracy: 0.8538\n",
      "Epoch 27/100\n",
      "1156/1156 [==============================] - 7s 6ms/step - loss: 0.0873 - rounded_accuracy: 0.8539 - val_loss: 0.0872 - val_rounded_accuracy: 0.8538\n",
      "Epoch 00027: early stopping\n"
     ]
    }
   ],
   "source": [
    "hist = tied_ae.fit(dataset_train, epochs=100, validation_data=dataset_valid, callbacks=callback_list)"
   ]
  },
  {
   "cell_type": "code",
   "execution_count": 81,
   "metadata": {},
   "outputs": [],
   "source": [
    "metrics = pd.DataFrame(hist.history)"
   ]
  },
  {
   "cell_type": "code",
   "execution_count": 82,
   "metadata": {},
   "outputs": [
    {
     "data": {
      "image/png": "[encoded data removed]",
      "text/plain": [
       "<Figure size 432x288 with 1 Axes>"
      ]
     },
     "metadata": {
      "needs_background": "light"
     },
     "output_type": "display_data"
    }
   ],
   "source": [
    "plt.plot(metrics['loss'])\n",
    "plt.plot(metrics['val_loss'])\n",
    "plt.title('Loss vs. epochs')\n",
    "plt.ylabel('Loss')\n",
    "plt.xlabel('Epoch')\n",
    "plt.legend(['Training', 'Validation'], loc='upper right')\n",
    "plt.show()"
   ]
  },
  {
   "cell_type": "code",
   "execution_count": 83,
   "metadata": {},
   "outputs": [
    {
     "data": {
      "image/png": "[encoded data removed]",
      "text/plain": [
       "<Figure size 432x288 with 1 Axes>"
      ]
     },
     "metadata": {
      "needs_background": "light"
     },
     "output_type": "display_data"
    }
   ],
   "source": [
    "plt.plot(metrics['rounded_accuracy'])\n",
    "plt.plot(metrics['val_rounded_accuracy'])\n",
    "plt.title('Accuracy vs. epochs')\n",
    "plt.ylabel('Accuracy')\n",
    "plt.xlabel('Epoch')\n",
    "plt.legend(['Training', 'Validation'], loc='upper right')\n",
    "plt.show()"
   ]
  },
  {
   "cell_type": "code",
   "execution_count": 107,
   "metadata": {},
   "outputs": [],
   "source": [
    "train_to_autoencode = tf.constant(np.hstack([train_bertweet, train_nnlm, train_bert_sst2, train_use]))\n",
    "test_to_autoencode = tf.constant(np.hstack([test_bertweet, test_nnlm, test_bert_sst2, test_use]))"
   ]
  },
  {
   "cell_type": "code",
   "execution_count": 108,
   "metadata": {},
   "outputs": [
    {
     "data": {
      "text/plain": [
       "<tf.Tensor: shape=(7613, 2176), dtype=float32, numpy=\n",
       "array([[ 0.20819084, -0.20918708,  0.01169901, ..., -0.03765526,\n",
       "        -0.06941316, -0.08671616],\n",
       "       [ 0.28813052, -0.19459179,  0.0978656 , ..., -0.00457899,\n",
       "        -0.02120871,  0.00290395],\n",
       "       [ 0.2714922 , -0.20920508,  0.09564154, ..., -0.05414997,\n",
       "         0.07224017,  0.05789763],\n",
       "       ...,\n",
       "       [ 0.20964071, -0.22425564,  0.06770826, ..., -0.05840641,\n",
       "        -0.01960978, -0.08983655],\n",
       "       [ 0.14544944, -0.3062924 ,  0.0741189 , ..., -0.01396656,\n",
       "        -0.06471784, -0.07085626],\n",
       "       [ 0.29596677, -0.18777893,  0.00949495, ...,  0.00945406,\n",
       "         0.02885956,  0.0456291 ]], dtype=float32)>"
      ]
     },
     "execution_count": 108,
     "metadata": {},
     "output_type": "execute_result"
    }
   ],
   "source": [
    "train_to_autoencode"
   ]
  },
  {
   "cell_type": "code",
   "execution_count": 104,
   "metadata": {},
   "outputs": [
    {
     "data": {
      "text/plain": [
       "(7613, 2176)"
      ]
     },
     "execution_count": 104,
     "metadata": {},
     "output_type": "execute_result"
    }
   ],
   "source": [
    "train_to_autoencode.shape"
   ]
  },
  {
   "cell_type": "code",
   "execution_count": 113,
   "metadata": {},
   "outputs": [],
   "source": [
    "train_ae_embeddings = encoder(train_to_autoencode).numpy()\n",
    "test_ae_embeddings = encoder(test_to_autoencode).numpy()"
   ]
  },
  {
   "cell_type": "code",
   "execution_count": 115,
   "metadata": {},
   "outputs": [
    {
     "data": {
      "text/plain": [
       "(7613, 512)"
      ]
     },
     "execution_count": 115,
     "metadata": {},
     "output_type": "execute_result"
    }
   ],
   "source": [
    "train_ae_embeddings.shape"
   ]
  },
  {
   "cell_type": "code",
   "execution_count": 116,
   "metadata": {},
   "outputs": [],
   "source": [
    "with open('../data/features/train_ae_embeddings.npy', 'wb') as f:\n",
    "    np.save(f, train_ae_embeddings)\n",
    "with open('../data/features/test_ae_embeddings.npy', 'wb') as f:\n",
    "    np.save(f, test_ae_embeddings)"
   ]
  }
 ],
 "metadata": {
  "kernelspec": {
   "display_name": "Python 3",
   "language": "python",
   "name": "python3"
  },
  "language_info": {
   "codemirror_mode": {
    "name": "ipython",
    "version": 3
   },
   "file_extension": ".py",
   "mimetype": "text/x-python",
   "name": "python",
   "nbconvert_exporter": "python",
   "pygments_lexer": "ipython3",
   "version": "3.8.6"
  }
 },
 "nbformat": 4,
 "nbformat_minor": 2
}
