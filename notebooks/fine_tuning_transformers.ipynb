{
 "cells": [
  {
   "cell_type": "code",
   "execution_count": 1,
   "metadata": {},
   "outputs": [
    {
     "data": {
      "text/html": [
       "<style>.container { width:90% !important; }</style>"
      ],
      "text/plain": [
       "<IPython.core.display.HTML object>"
      ]
     },
     "metadata": {},
     "output_type": "display_data"
    }
   ],
   "source": [
    "from IPython.core.display import display, HTML\n",
    "display(HTML(\"<style>.container { width:90% !important; }</style>\"))"
   ]
  },
  {
   "cell_type": "code",
   "execution_count": 131,
   "metadata": {},
   "outputs": [],
   "source": [
    "import pandas as pd\n",
    "import tensorflow as tf\n",
    "import numpy as np\n",
    "from transformers import BertweetTokenizer, TFAutoModelForSequenceClassification\n",
    "from transformers.optimization_tf import create_optimizer #To create the AdamW optimizer\n",
    "import tensorflow_hub as hub\n",
    "import tensorflow_text as text\n",
    "from sklearn.model_selection import train_test_split\n",
    "import matplotlib.pyplot as plt"
   ]
  },
  {
   "cell_type": "code",
   "execution_count": 3,
   "metadata": {},
   "outputs": [
    {
     "data": {
      "application/vnd.jupyter.widget-view+json": {
       "model_id": "5bfb769f30f549d09bcd13ac8eea34d7",
       "version_major": 2,
       "version_minor": 0
      },
      "text/plain": [
       "Downloading:   0%|          | 0.00/843k [00:00<?, ?B/s]"
      ]
     },
     "metadata": {},
     "output_type": "display_data"
    },
    {
     "data": {
      "application/vnd.jupyter.widget-view+json": {
       "model_id": "8abc5bc4cec246719f12860fd25389e9",
       "version_major": 2,
       "version_minor": 0
      },
      "text/plain": [
       "Downloading:   0%|          | 0.00/1.08M [00:00<?, ?B/s]"
      ]
     },
     "metadata": {},
     "output_type": "display_data"
    },
    {
     "name": "stderr",
     "output_type": "stream",
     "text": [
      "Special tokens have been added in the vocabulary, make sure the associated word embedding are fine-tuned or trained.\n"
     ]
    },
    {
     "data": {
      "application/vnd.jupyter.widget-view+json": {
       "model_id": "b23e587b47754728bb047ed8b8210489",
       "version_major": 2,
       "version_minor": 0
      },
      "text/plain": [
       "Downloading:   0%|          | 0.00/558 [00:00<?, ?B/s]"
      ]
     },
     "metadata": {},
     "output_type": "display_data"
    },
    {
     "data": {
      "application/vnd.jupyter.widget-view+json": {
       "model_id": "9576c3e56e3441f18eb771e397eeb6af",
       "version_major": 2,
       "version_minor": 0
      },
      "text/plain": [
       "Downloading:   0%|          | 0.00/740M [00:00<?, ?B/s]"
      ]
     },
     "metadata": {},
     "output_type": "display_data"
    },
    {
     "name": "stderr",
     "output_type": "stream",
     "text": [
      "All model checkpoint layers were used when initializing TFRobertaForSequenceClassification.\n",
      "\n",
      "Some layers of TFRobertaForSequenceClassification were not initialized from the model checkpoint at vinai/bertweet-base and are newly initialized: ['classifier']\n",
      "You should probably TRAIN this model on a down-stream task to be able to use it for predictions and inference.\n"
     ]
    }
   ],
   "source": [
    "bertweet_tokenizer = BertweetTokenizer.from_pretrained(\"vinai/bertweet-base\", normalization=True)\n",
    "bertweet_model = TFAutoModelForSequenceClassification.from_pretrained(\"vinai/bertweet-base\", num_labels=1)"
   ]
  },
  {
   "cell_type": "code",
   "execution_count": 92,
   "metadata": {},
   "outputs": [
    {
     "name": "stdout",
     "output_type": "stream",
     "text": [
      "CPU times: user 7.74 s, sys: 0 ns, total: 7.74 s\n",
      "Wall time: 7.74 s\n"
     ]
    }
   ],
   "source": [
    "%%time\n",
    "train = pd.read_csv('../data/external/kaggle/train.csv')\n",
    "tweets = list(train['text'].values)\n",
    "labels = train['target'].values\n",
    "tweets_train, tweets_val, y_train, y_val = train_test_split(tweets, labels, test_size=0.15)\n",
    "tokenized_train = bertweet_tokenizer(tweets_train, truncation=True, padding=True)\n",
    "tokenized_val = bertweet_tokenizer(tweets_val, truncation=True, padding=True)\n",
    "train_dataset = tf.data.Dataset.from_tensor_slices((dict(tokenized_train),y_train)).shuffle(buffer_size=1024).batch(32)\n",
    "valid_dataset = tf.data.Dataset.from_tensor_slices((dict(tokenized_val),y_val)).batch(32)"
   ]
  },
  {
   "cell_type": "markdown",
   "metadata": {},
   "source": [
    ">We use AdamW (Loshchilov and Hutter, 2019) with a fixed learning rate of 1.e-5 and a batch size of 32 (Liu et al., 2019). We compute the task >performance after each training epoch on the validation set (here, we apply early stopping when no improvement is observed after 5 continuous >epochs), and select the best model checkpoint to compute the performance score on the test set. We repeat this fine-tuning process 5 times >with different random seeds, i.e. 5 runs for each task and each dataset. We report each final test result as an average over the test scores >from the 5 runs."
   ]
  },
  {
   "cell_type": "code",
   "execution_count": 93,
   "metadata": {},
   "outputs": [],
   "source": [
    "# weight_decay_scheduler = tf.optimizers.schedules.ExponentialDecay(5e-5, 100, 0.9)\n",
    "# lr_scheduler = WarmUp(tf.optimizers.schedules.ExponentialDecay(1e-5, 100, 0.9))\n",
    "# adam_w = AdamW(learning_rate=lr_scheduler, weight_decay=lambda : None)\n",
    "# adam_w.weight_decay = lambda : weight_decay_scheduler(opt.iterations)\n",
    "# adam = tf.keras.optimizers.Adam(learning_rate=5e-5)\n",
    "num_epochs = 100\n",
    "adam_w, lr_schedule = create_optimizer(init_lr=1e-6, \n",
    "                                       num_train_steps=num_epochs*train_dataset.cardinality(),\n",
    "                                       num_warmup_steps=2500,\n",
    "                                       weight_decay_rate=0.1)\n",
    "\n",
    "loss = tf.keras.losses.BinaryCrossentropy(from_logits=True)\n",
    "callbacks = [tf.keras.callbacks.EarlyStopping(monitor='val_loss', patience=5)]\n",
    "bertweet_model.compile(optimizer=adam_w, loss=loss, metrics=[tfa.metrics.F1Score(num_classes=1, threshold=0.5)])"
   ]
  },
  {
   "cell_type": "code",
   "execution_count": 94,
   "metadata": {
    "scrolled": false
   },
   "outputs": [
    {
     "name": "stderr",
     "output_type": "stream",
     "text": [
      "The parameters `output_attentions`, `output_hidden_states` and `use_cache` cannot be updated when calling a model.They have to be set to True/False in the config object (i.e.: `config=XConfig.from_pretrained('name', output_attentions=True)`).\n",
      "The parameter `return_dict` cannot be set in graph mode and will always be set to `True`.\n"
     ]
    },
    {
     "name": "stdout",
     "output_type": "stream",
     "text": [
      "Epoch 1/100\n"
     ]
    },
    {
     "name": "stderr",
     "output_type": "stream",
     "text": [
      "The parameters `output_attentions`, `output_hidden_states` and `use_cache` cannot be updated when calling a model.They have to be set to True/False in the config object (i.e.: `config=XConfig.from_pretrained('name', output_attentions=True)`).\n",
      "The parameter `return_dict` cannot be set in graph mode and will always be set to `True`.\n"
     ]
    },
    {
     "name": "stdout",
     "output_type": "stream",
     "text": [
      "203/203 [==============================] - ETA: 0s - loss: 0.6823 - f1_score: 0.0000e+00"
     ]
    },
    {
     "name": "stderr",
     "output_type": "stream",
     "text": [
      "The parameters `output_attentions`, `output_hidden_states` and `use_cache` cannot be updated when calling a model.They have to be set to True/False in the config object (i.e.: `config=XConfig.from_pretrained('name', output_attentions=True)`).\n",
      "The parameter `return_dict` cannot be set in graph mode and will always be set to `True`.\n"
     ]
    },
    {
     "name": "stdout",
     "output_type": "stream",
     "text": [
      "203/203 [==============================] - 46s 179ms/step - loss: 0.6823 - f1_score: 0.0000e+00 - val_loss: 0.6882 - val_f1_score: 0.0000e+00\n",
      "Epoch 2/100\n",
      "203/203 [==============================] - 36s 177ms/step - loss: 0.6835 - f1_score: 0.0000e+00 - val_loss: 0.6881 - val_f1_score: 0.0000e+00\n",
      "Epoch 3/100\n",
      "203/203 [==============================] - 36s 176ms/step - loss: 0.6842 - f1_score: 0.0000e+00 - val_loss: 0.6881 - val_f1_score: 0.0000e+00\n",
      "Epoch 4/100\n",
      "203/203 [==============================] - 39s 190ms/step - loss: 0.6840 - f1_score: 0.0000e+00 - val_loss: 0.6881 - val_f1_score: 0.0000e+00\n",
      "Epoch 5/100\n",
      "203/203 [==============================] - 39s 190ms/step - loss: 0.6806 - f1_score: 0.0000e+00 - val_loss: 0.6880 - val_f1_score: 0.0000e+00\n",
      "Epoch 6/100\n",
      "203/203 [==============================] - 36s 179ms/step - loss: 0.6843 - f1_score: 0.0000e+00 - val_loss: 0.6879 - val_f1_score: 0.0000e+00\n",
      "Epoch 7/100\n",
      "203/203 [==============================] - 36s 180ms/step - loss: 0.6850 - f1_score: 0.0000e+00 - val_loss: 0.6879 - val_f1_score: 0.0000e+00\n",
      "Epoch 8/100\n",
      "203/203 [==============================] - 39s 192ms/step - loss: 0.6829 - f1_score: 0.0000e+00 - val_loss: 0.6879 - val_f1_score: 0.0000e+00\n",
      "Epoch 9/100\n",
      "203/203 [==============================] - 37s 182ms/step - loss: 0.6838 - f1_score: 0.0000e+00 - val_loss: 0.6879 - val_f1_score: 0.0000e+00\n",
      "Epoch 10/100\n",
      "203/203 [==============================] - 38s 189ms/step - loss: 0.6827 - f1_score: 0.0000e+00 - val_loss: 0.6879 - val_f1_score: 0.0000e+00\n",
      "Epoch 11/100\n",
      "203/203 [==============================] - 39s 191ms/step - loss: 0.6825 - f1_score: 0.0000e+00 - val_loss: 0.6878 - val_f1_score: 0.0000e+00\n",
      "Epoch 12/100\n",
      "203/203 [==============================] - 38s 187ms/step - loss: 0.6601 - f1_score: 0.1788 - val_loss: 0.5499 - val_f1_score: 0.6190\n",
      "Epoch 13/100\n",
      "203/203 [==============================] - 36s 179ms/step - loss: 0.5519 - f1_score: 0.6382 - val_loss: 0.5234 - val_f1_score: 0.7042\n",
      "Epoch 14/100\n",
      "203/203 [==============================] - 36s 178ms/step - loss: 0.5190 - f1_score: 0.6818 - val_loss: 0.4877 - val_f1_score: 0.7187\n",
      "Epoch 15/100\n",
      "203/203 [==============================] - 37s 184ms/step - loss: 0.4896 - f1_score: 0.7001 - val_loss: 0.4617 - val_f1_score: 0.7719\n",
      "Epoch 16/100\n",
      "203/203 [==============================] - 37s 183ms/step - loss: 0.4735 - f1_score: 0.7347 - val_loss: 0.4443 - val_f1_score: 0.7528\n",
      "Epoch 17/100\n",
      "203/203 [==============================] - 37s 182ms/step - loss: 0.4549 - f1_score: 0.7428 - val_loss: 0.4489 - val_f1_score: 0.7308\n",
      "Epoch 18/100\n",
      "203/203 [==============================] - 37s 181ms/step - loss: 0.4325 - f1_score: 0.7612 - val_loss: 0.4127 - val_f1_score: 0.7809\n",
      "Epoch 19/100\n",
      "203/203 [==============================] - 37s 181ms/step - loss: 0.4332 - f1_score: 0.7536 - val_loss: 0.4052 - val_f1_score: 0.7813\n",
      "Epoch 20/100\n",
      "203/203 [==============================] - 37s 180ms/step - loss: 0.4212 - f1_score: 0.7649 - val_loss: 0.4027 - val_f1_score: 0.7882\n",
      "Epoch 21/100\n",
      "203/203 [==============================] - 37s 181ms/step - loss: 0.4113 - f1_score: 0.7718 - val_loss: 0.4020 - val_f1_score: 0.7857\n",
      "Epoch 22/100\n",
      "203/203 [==============================] - 37s 180ms/step - loss: 0.4019 - f1_score: 0.7903 - val_loss: 0.3867 - val_f1_score: 0.7928\n",
      "Epoch 23/100\n",
      "203/203 [==============================] - 37s 180ms/step - loss: 0.4054 - f1_score: 0.7836 - val_loss: 0.4045 - val_f1_score: 0.7767\n",
      "Epoch 24/100\n",
      "203/203 [==============================] - 37s 180ms/step - loss: 0.3881 - f1_score: 0.7964 - val_loss: 0.3734 - val_f1_score: 0.8197\n",
      "Epoch 25/100\n",
      "203/203 [==============================] - 37s 181ms/step - loss: 0.3869 - f1_score: 0.7984 - val_loss: 0.3882 - val_f1_score: 0.7922\n",
      "Epoch 26/100\n",
      "203/203 [==============================] - 37s 180ms/step - loss: 0.3890 - f1_score: 0.7897 - val_loss: 0.3684 - val_f1_score: 0.8200\n",
      "Epoch 27/100\n",
      "203/203 [==============================] - 37s 180ms/step - loss: 0.3707 - f1_score: 0.8104 - val_loss: 0.3580 - val_f1_score: 0.8249\n",
      "Epoch 28/100\n",
      "203/203 [==============================] - 37s 180ms/step - loss: 0.3709 - f1_score: 0.8076 - val_loss: 0.3574 - val_f1_score: 0.8307\n",
      "Epoch 29/100\n",
      "203/203 [==============================] - 37s 183ms/step - loss: 0.3605 - f1_score: 0.8187 - val_loss: 0.3544 - val_f1_score: 0.8303\n",
      "Epoch 30/100\n",
      "203/203 [==============================] - 37s 180ms/step - loss: 0.3583 - f1_score: 0.8167 - val_loss: 0.3505 - val_f1_score: 0.8385\n",
      "Epoch 31/100\n",
      "203/203 [==============================] - 37s 181ms/step - loss: 0.3465 - f1_score: 0.8261 - val_loss: 0.3494 - val_f1_score: 0.8492\n",
      "Epoch 32/100\n",
      "203/203 [==============================] - 37s 181ms/step - loss: 0.3593 - f1_score: 0.8231 - val_loss: 0.3580 - val_f1_score: 0.8484\n",
      "Epoch 33/100\n",
      "203/203 [==============================] - 37s 181ms/step - loss: 0.3589 - f1_score: 0.8192 - val_loss: 0.3398 - val_f1_score: 0.8422\n",
      "Epoch 34/100\n",
      "203/203 [==============================] - 37s 182ms/step - loss: 0.3444 - f1_score: 0.8256 - val_loss: 0.3417 - val_f1_score: 0.8383\n",
      "Epoch 35/100\n",
      "203/203 [==============================] - 37s 182ms/step - loss: 0.3350 - f1_score: 0.8299 - val_loss: 0.3405 - val_f1_score: 0.8386\n",
      "Epoch 36/100\n",
      "203/203 [==============================] - 37s 182ms/step - loss: 0.3380 - f1_score: 0.8292 - val_loss: 0.3523 - val_f1_score: 0.8478\n",
      "Epoch 37/100\n",
      "203/203 [==============================] - 37s 182ms/step - loss: 0.3287 - f1_score: 0.8311 - val_loss: 0.3521 - val_f1_score: 0.8498\n",
      "Epoch 38/100\n",
      "203/203 [==============================] - 37s 181ms/step - loss: 0.3306 - f1_score: 0.8407 - val_loss: 0.3387 - val_f1_score: 0.8497\n",
      "Epoch 39/100\n",
      "203/203 [==============================] - 37s 181ms/step - loss: 0.3262 - f1_score: 0.8402 - val_loss: 0.3401 - val_f1_score: 0.8485\n",
      "Epoch 40/100\n",
      "203/203 [==============================] - 37s 182ms/step - loss: 0.3217 - f1_score: 0.8478 - val_loss: 0.3371 - val_f1_score: 0.8560\n",
      "Epoch 41/100\n",
      "203/203 [==============================] - 38s 188ms/step - loss: 0.3192 - f1_score: 0.8436 - val_loss: 0.3342 - val_f1_score: 0.8533\n",
      "Epoch 42/100\n",
      "203/203 [==============================] - 39s 192ms/step - loss: 0.3076 - f1_score: 0.8445 - val_loss: 0.3335 - val_f1_score: 0.8457\n",
      "Epoch 43/100\n",
      "203/203 [==============================] - 37s 183ms/step - loss: 0.3109 - f1_score: 0.8459 - val_loss: 0.3719 - val_f1_score: 0.8476\n",
      "Epoch 44/100\n",
      "203/203 [==============================] - 40s 198ms/step - loss: 0.3201 - f1_score: 0.8461 - val_loss: 0.3364 - val_f1_score: 0.8527\n",
      "Epoch 45/100\n",
      "203/203 [==============================] - 37s 181ms/step - loss: 0.3107 - f1_score: 0.8465 - val_loss: 0.3384 - val_f1_score: 0.8563\n",
      "Epoch 46/100\n",
      "203/203 [==============================] - 38s 189ms/step - loss: 0.3010 - f1_score: 0.8546 - val_loss: 0.3362 - val_f1_score: 0.8568\n",
      "Epoch 47/100\n",
      "203/203 [==============================] - 38s 186ms/step - loss: 0.2937 - f1_score: 0.8585 - val_loss: 0.3314 - val_f1_score: 0.8571\n",
      "Epoch 48/100\n",
      "203/203 [==============================] - 37s 181ms/step - loss: 0.3095 - f1_score: 0.8533 - val_loss: 0.3279 - val_f1_score: 0.8517\n",
      "Epoch 49/100\n",
      "203/203 [==============================] - 39s 190ms/step - loss: 0.2947 - f1_score: 0.8549 - val_loss: 0.3346 - val_f1_score: 0.8589\n",
      "Epoch 50/100\n",
      "203/203 [==============================] - 39s 191ms/step - loss: 0.3086 - f1_score: 0.8520 - val_loss: 0.3495 - val_f1_score: 0.8546\n",
      "Epoch 51/100\n",
      "203/203 [==============================] - 37s 180ms/step - loss: 0.2990 - f1_score: 0.8575 - val_loss: 0.3350 - val_f1_score: 0.8601\n",
      "Epoch 52/100\n",
      "203/203 [==============================] - 36s 177ms/step - loss: 0.2881 - f1_score: 0.8598 - val_loss: 0.3336 - val_f1_score: 0.8601\n",
      "Epoch 53/100\n",
      "203/203 [==============================] - 36s 177ms/step - loss: 0.2914 - f1_score: 0.8593 - val_loss: 0.3281 - val_f1_score: 0.8589\n"
     ]
    }
   ],
   "source": [
    "hist = bertweet_model.fit(train_dataset, validation_data=valid_dataset, epochs=num_epochs, callbacks=callbacks)"
   ]
  },
  {
   "cell_type": "code",
   "execution_count": 133,
   "metadata": {},
   "outputs": [],
   "source": [
    "%matplotlib inline"
   ]
  },
  {
   "cell_type": "code",
   "execution_count": 134,
   "metadata": {},
   "outputs": [
    {
     "data": {
      "image/png": "[encoded data removed]",
      "text/plain": [
       "<Figure size 432x288 with 1 Axes>"
      ]
     },
     "metadata": {
      "needs_background": "light"
     },
     "output_type": "display_data"
    }
   ],
   "source": [
    "metrics = hist.history\n",
    "plt.plot(metrics['loss'])\n",
    "plt.plot(metrics['val_loss'])\n",
    "plt.title('Loss vs. epochs')\n",
    "plt.ylabel('Loss')\n",
    "plt.xlabel('Epoch')\n",
    "plt.legend(['Training', 'Validation'], loc='upper right')\n",
    "plt.show()"
   ]
  },
  {
   "cell_type": "code",
   "execution_count": 228,
   "metadata": {
    "scrolled": false
   },
   "outputs": [
    {
     "name": "stdout",
     "output_type": "stream",
     "text": [
      "CPU times: user 285 ms, sys: 371 ms, total: 656 ms\n",
      "Wall time: 636 ms\n"
     ]
    }
   ],
   "source": [
    "%%time\n",
    "bertweet_model.save_pretrained('../models/bertweet_finetuning/bertweet_kaggle')"
   ]
  },
  {
   "cell_type": "code",
   "execution_count": null,
   "metadata": {},
   "outputs": [],
   "source": [
    "%%time\n",
    "test = pd.read_csv('../data/external/kaggle/test.csv')\n",
    "tweets = list(test['text'].values)\n",
    "labels = train['target'].values\n",
    "tweets_train, tweets_val, y_train, y_val = train_test_split(tweets, labels, test_size=0.15)\n",
    "tokenized_train = bertweet_tokenizer(tweets_train, truncation=True, padding=True)\n",
    "tokenized_val = bertweet_tokenizer(tweets_val, truncation=True, padding=True)\n",
    "train_dataset = tf.data.Dataset.from_tensor_slices((dict(tokenized_train),y_train)).shuffle(buffer_size=1024).batch(32)\n",
    "valid_dataset = tf.data.Dataset.from_tensor_slices((dict(tokenized_val),y_val)).batch(32)"
   ]
  },
  {
   "cell_type": "code",
   "execution_count": 100,
   "metadata": {},
   "outputs": [],
   "source": [
    "test = pd.read_csv('../data/external/kaggle/test.csv')\n",
    "test = list(test['text'].values)\n",
    "tokenized_test = bertweet_tokenizer(test, truncation=True, padding=True, return_tensors='tf')"
   ]
  },
  {
   "cell_type": "code",
   "execution_count": 119,
   "metadata": {},
   "outputs": [],
   "source": [
    "logits = bertweet_model(tokenized_test['input_ids'], training=False).logits.numpy()"
   ]
  },
  {
   "cell_type": "code",
   "execution_count": 170,
   "metadata": {},
   "outputs": [],
   "source": [
    "sentiment140 = pd.read_csv('../data/external/sentiment140/training.1600000.processed.noemoticon.zip', encoding='latin-1', header=None, names=['sentiment', 'id', 'date', 'no_query', 'user', 'tweet'])"
   ]
  },
  {
   "cell_type": "code",
   "execution_count": 172,
   "metadata": {},
   "outputs": [],
   "source": [
    "sentiment_tweets = list(sentiment140['tweet'].values)"
   ]
  },
  {
   "cell_type": "code",
   "execution_count": 186,
   "metadata": {},
   "outputs": [
    {
     "data": {
      "text/plain": [
       "0          0\n",
       "1          0\n",
       "2          0\n",
       "3          0\n",
       "4          0\n",
       "          ..\n",
       "1599995    1\n",
       "1599996    1\n",
       "1599997    1\n",
       "1599998    1\n",
       "1599999    1\n",
       "Name: sentiment, Length: 1600000, dtype: int64"
      ]
     },
     "execution_count": 186,
     "metadata": {},
     "output_type": "execute_result"
    }
   ],
   "source": [
    "labels = sentiment140['sentiment']\n",
    "labels = (labels == 4).astype(int)\n",
    "labels"
   ]
  },
  {
   "cell_type": "code",
   "execution_count": 174,
   "metadata": {},
   "outputs": [
    {
     "name": "stdout",
     "output_type": "stream",
     "text": [
      "CPU times: user 6min 30s, sys: 0 ns, total: 6min 30s\n",
      "Wall time: 6min 30s\n"
     ]
    }
   ],
   "source": [
    "%%time\n",
    "tokenized_sentiment_tweets = bertweet_tokenizer(sentiment_tweets, truncation=True, padding=True)"
   ]
  },
  {
   "cell_type": "code",
   "execution_count": 201,
   "metadata": {},
   "outputs": [
    {
     "name": "stdout",
     "output_type": "stream",
     "text": [
      "CPU times: user 6min 14s, sys: 299 ms, total: 6min 14s\n",
      "Wall time: 6min 14s\n"
     ]
    }
   ],
   "source": [
    "%%time\n",
    "tokenized_sentiment_tweet_tensors = bertweet_tokenizer(sentiment_tweets, truncation=True, padding=True, return_tensors='tf', return_token_type_ids=False)"
   ]
  },
  {
   "cell_type": "code",
   "execution_count": 188,
   "metadata": {},
   "outputs": [],
   "source": [
    "%%time\n",
    "train_dataset = tf.data.Dataset.from_tensor_slices((dict(tokenized_sentiment_tweets), labels)).shuffle(buffer_size=1024).batch(64)"
   ]
  },
  {
   "cell_type": "code",
   "execution_count": 202,
   "metadata": {},
   "outputs": [
    {
     "data": {
      "text/plain": [
       "<tf.Tensor: shape=(1600000, 128), dtype=int32, numpy=\n",
       "array([[    0,     5,    10, ...,     1,     1,     1],\n",
       "       [    0,    17,  2138, ...,     1,     1,     1],\n",
       "       [    0,     5,     8, ...,     1,     1,     1],\n",
       "       ...,\n",
       "       [    0,   533,    14, ...,     1,     1,     1],\n",
       "       [    0,   466,  4948, ...,     1,     1,     1],\n",
       "       [    0,   225, 40993, ...,     1,     1,     1]], dtype=int32)>"
      ]
     },
     "execution_count": 202,
     "metadata": {},
     "output_type": "execute_result"
    }
   ],
   "source": [
    "tokenized_sentiment_tweet_tensors['input_ids']"
   ]
  },
  {
   "cell_type": "code",
   "execution_count": 205,
   "metadata": {},
   "outputs": [
    {
     "data": {
      "text/plain": [
       "<tf.Tensor: shape=(1600000, 128), dtype=int32, numpy=\n",
       "array([[1, 1, 1, ..., 0, 0, 0],\n",
       "       [1, 1, 1, ..., 0, 0, 0],\n",
       "       [1, 1, 1, ..., 0, 0, 0],\n",
       "       ...,\n",
       "       [1, 1, 1, ..., 0, 0, 0],\n",
       "       [1, 1, 1, ..., 0, 0, 0],\n",
       "       [1, 1, 1, ..., 0, 0, 0]], dtype=int32)>"
      ]
     },
     "execution_count": 205,
     "metadata": {},
     "output_type": "execute_result"
    }
   ],
   "source": [
    "tokenized_sentiment_tweet_tensors['attention_mask']"
   ]
  },
  {
   "cell_type": "code",
   "execution_count": 223,
   "metadata": {},
   "outputs": [
    {
     "name": "stdout",
     "output_type": "stream",
     "text": [
      "CPU times: user 2.65 ms, sys: 233 µs, total: 2.88 ms\n",
      "Wall time: 2.12 ms\n"
     ]
    }
   ],
   "source": [
    "%%time\n",
    "bla = tf.data.Dataset.from_tensor_slices(tokenized_sentiment_tweet_tensors['input_ids']).batch(64)"
   ]
  },
  {
   "cell_type": "code",
   "execution_count": 224,
   "metadata": {},
   "outputs": [
    {
     "data": {
      "text/plain": [
       "<tf.Tensor: shape=(), dtype=int64, numpy=25000>"
      ]
     },
     "execution_count": 224,
     "metadata": {},
     "output_type": "execute_result"
    }
   ],
   "source": [
    "bla.cardinality()"
   ]
  },
  {
   "cell_type": "code",
   "execution_count": 222,
   "metadata": {},
   "outputs": [
    {
     "name": "stdout",
     "output_type": "stream",
     "text": [
      "tf.Tensor(\n",
      "[[   0    5   10 ...    1    1    1]\n",
      " [   0   17 2138 ...    1    1    1]\n",
      " [   0    5    8 ...    1    1    1]\n",
      " ...\n",
      " [   0    5 3004 ...    1    1    1]\n",
      " [   0 2699  691 ...    1    1    1]\n",
      " [   0    8   45 ...    1    1    1]], shape=(12, 128), dtype=int32)\n"
     ]
    }
   ],
   "source": [
    "for thing in bla.take(1):\n",
    "    print(thing)"
   ]
  },
  {
   "cell_type": "code",
   "execution_count": null,
   "metadata": {},
   "outputs": [],
   "source": [
    "bla = tf.data.Dataset.from_tensors"
   ]
  },
  {
   "cell_type": "code",
   "execution_count": 218,
   "metadata": {},
   "outputs": [
    {
     "data": {
      "text/plain": [
       "<BatchDataset shapes: (None, 1600000, 128), types: tf.int32>"
      ]
     },
     "execution_count": 218,
     "metadata": {},
     "output_type": "execute_result"
    }
   ],
   "source": [
    "tf.data.Dataset.from_tensors(tokenized_sentiment_tweet_tensors['input_ids']).batch(12)"
   ]
  },
  {
   "cell_type": "code",
   "execution_count": 216,
   "metadata": {},
   "outputs": [
    {
     "name": "stdout",
     "output_type": "stream",
     "text": [
      "tf.Tensor(\n",
      "[[[    0     5    10 ...     1     1     1]\n",
      "  [    0    17  2138 ...     1     1     1]\n",
      "  [    0     5     8 ...     1     1     1]\n",
      "  ...\n",
      "  [    0   533    14 ...     1     1     1]\n",
      "  [    0   466  4948 ...     1     1     1]\n",
      "  [    0   225 40993 ...     1     1     1]]], shape=(1, 1600000, 128), dtype=int32)\n"
     ]
    }
   ],
   "source": [
    "for a in bla.take(1):\n",
    "    print(a)"
   ]
  },
  {
   "cell_type": "code",
   "execution_count": null,
   "metadata": {},
   "outputs": [],
   "source": [
    "training_dataset = tf.data.Dataset.zip(tokenized_sentiment_tweet_tensors)"
   ]
  },
  {
   "cell_type": "code",
   "execution_count": 204,
   "metadata": {},
   "outputs": [
    {
     "data": {
      "text/plain": [
       "dict_keys(['input_ids', 'attention_mask'])"
      ]
     },
     "execution_count": 204,
     "metadata": {},
     "output_type": "execute_result"
    }
   ],
   "source": [
    "tokenized_sentiment_tweet_tensors.keys()"
   ]
  },
  {
   "cell_type": "code",
   "execution_count": 198,
   "metadata": {},
   "outputs": [
    {
     "data": {
      "text/plain": [
       "{'input_ids': <tf.Tensor: shape=(3263, 55), dtype=int32, numpy=\n",
       "array([[    0,   196,   911, ...,     1,     1,     1],\n",
       "       [    0,  8305,    62, ...,     1,     1,     1],\n",
       "       [    0,    99,    17, ...,     1,     1,     1],\n",
       "       ...,\n",
       "       [    0,  1906,  3875, ...,     1,     1,     1],\n",
       "       [    0,  4793,   877, ...,     1,     1,     1],\n",
       "       [    0, 49817,  1888, ...,     1,     1,     1]], dtype=int32)>, 'token_type_ids': <tf.Tensor: shape=(3263, 55), dtype=int32, numpy=\n",
       "array([[0, 0, 0, ..., 0, 0, 0],\n",
       "       [0, 0, 0, ..., 0, 0, 0],\n",
       "       [0, 0, 0, ..., 0, 0, 0],\n",
       "       ...,\n",
       "       [0, 0, 0, ..., 0, 0, 0],\n",
       "       [0, 0, 0, ..., 0, 0, 0],\n",
       "       [0, 0, 0, ..., 0, 0, 0]], dtype=int32)>, 'attention_mask': <tf.Tensor: shape=(3263, 55), dtype=int32, numpy=\n",
       "array([[1, 1, 1, ..., 0, 0, 0],\n",
       "       [1, 1, 1, ..., 0, 0, 0],\n",
       "       [1, 1, 1, ..., 0, 0, 0],\n",
       "       ...,\n",
       "       [1, 1, 1, ..., 0, 0, 0],\n",
       "       [1, 1, 1, ..., 0, 0, 0],\n",
       "       [1, 1, 1, ..., 0, 0, 0]], dtype=int32)>}"
      ]
     },
     "execution_count": 198,
     "metadata": {},
     "output_type": "execute_result"
    }
   ],
   "source": [
    "tokenized_test.convert_to_tensors(tensor_type='tf')"
   ]
  },
  {
   "cell_type": "code",
   "execution_count": null,
   "metadata": {},
   "outputs": [],
   "source": []
  }
 ],
 "metadata": {
  "kernelspec": {
   "display_name": "Python 3",
   "language": "python",
   "name": "python3"
  },
  "language_info": {
   "codemirror_mode": {
    "name": "ipython",
    "version": 3
   },
   "file_extension": ".py",
   "mimetype": "text/x-python",
   "name": "python",
   "nbconvert_exporter": "python",
   "pygments_lexer": "ipython3",
   "version": "3.6.9"
  }
 },
 "nbformat": 4,
 "nbformat_minor": 2
}
