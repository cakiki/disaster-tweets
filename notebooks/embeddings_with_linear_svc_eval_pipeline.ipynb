{
 "cells": [
  {
   "cell_type": "markdown",
   "metadata": {},
   "source": [
    "# Sanity check: Linear SVC on embeddings\n"
   ]
  },
  {
   "cell_type": "code",
   "execution_count": 1,
   "metadata": {},
   "outputs": [
    {
     "data": {
      "text/html": [
       "<style>.container { width:80% !important; }</style>"
      ],
      "text/plain": [
       "<IPython.core.display.HTML object>"
      ]
     },
     "metadata": {},
     "output_type": "display_data"
    }
   ],
   "source": [
    "from IPython.core.display import display, HTML\n",
    "display(HTML(\"<style>.container { width:80% !important; }</style>\"))"
   ]
  },
  {
   "cell_type": "code",
   "execution_count": 2,
   "metadata": {},
   "outputs": [],
   "source": [
    "from sklearn.pipeline import Pipeline\n",
    "from sklearn import preprocessing, feature_extraction, linear_model\n",
    "from sklearn import svm\n",
    "import evaluation"
   ]
  },
  {
   "cell_type": "markdown",
   "metadata": {},
   "source": [
    "## BERTweet Embeddings with Linear SVC"
   ]
  },
  {
   "cell_type": "code",
   "execution_count": 3,
   "metadata": {},
   "outputs": [
    {
     "name": "stderr",
     "output_type": "stream",
     "text": [
      "INFO:root:Loading training data from ../data/external/kaggle/train.csv...\n",
      "INFO:root:-> Number of samples: 7613\n",
      "INFO:root:-> Number of features: 768\n",
      "INFO:root:Evaluating model with 1 experiment(s) of 10-fold Cross Validation...\n",
      "INFO:root:Run 1/10 finished\n",
      "INFO:root:Run 2/10 finished\n",
      "INFO:root:Run 3/10 finished\n",
      "INFO:root:Run 4/10 finished\n",
      "INFO:root:Run 5/10 finished\n",
      "INFO:root:Run 6/10 finished\n",
      "INFO:root:Run 7/10 finished\n",
      "INFO:root:Run 8/10 finished\n",
      "INFO:root:Run 9/10 finished\n",
      "INFO:root:Run 10/10 finished\n",
      "INFO:root:---\n",
      "INFO:root:Expected submission results (F1-Score): around 0.75\n",
      "INFO:root:F1-Score: 0.76 (training); 0.75 (test)\n",
      "INFO:root:Accuracy: 80.07% (training); 79.35% (test)\n",
      "INFO:root:Recall: 74.40% (training); 73.56% (test)\n",
      "INFO:root:Precision: 78.16% (training); 77.29% (test)\n",
      "INFO:root:---\n",
      "INFO:root:Retraining model on the complete data set...\n",
      "INFO:root:-> F1-Score on complete training set: 0.77\n",
      "INFO:root:-> Stored model to ../models/model_2021-01-13_200919_Pipeline_1x10cv_0.75_bertweet.pck\n",
      "INFO:root:-> Stored submission file to ../models/submission_2021-01-13_200919_Pipeline_1x10cv_0.75_bertweet.csv\n",
      "INFO:root:Evaluation finished.\n"
     ]
    }
   ],
   "source": [
    "model = Pipeline([\n",
    "    ('clf', svm.LinearSVC(C=1e-2, class_weight='balanced', random_state=42))\n",
    "])\n",
    "\n",
    "evaluation.evaluate(model, store_model=True, store_submission=True, embeddings='bertweet')"
   ]
  },
  {
   "cell_type": "markdown",
   "metadata": {},
   "source": [
    "Submission results: 0.79834"
   ]
  },
  {
   "cell_type": "code",
   "execution_count": 11,
   "metadata": {
    "scrolled": false
   },
   "outputs": [
    {
     "name": "stderr",
     "output_type": "stream",
     "text": [
      "INFO:root:Loading training data from ../data/external/kaggle/train.csv...\n",
      "INFO:root:-> Number of samples: 7613\n",
      "INFO:root:-> Number of features: 768\n",
      "INFO:root:Evaluating model with 1 experiment(s) of 10-fold Cross Validation...\n",
      "INFO:root:Run 1/10 finished\n",
      "INFO:root:Run 2/10 finished\n",
      "INFO:root:Run 3/10 finished\n",
      "INFO:root:Run 4/10 finished\n",
      "INFO:root:Run 5/10 finished\n",
      "INFO:root:Run 6/10 finished\n",
      "INFO:root:Run 7/10 finished\n",
      "INFO:root:Run 8/10 finished\n",
      "INFO:root:Run 9/10 finished\n",
      "INFO:root:Run 10/10 finished\n",
      "INFO:root:---\n",
      "INFO:root:Expected submission results (F1-Score): around 0.78\n",
      "INFO:root:F1-Score: 0.81 (training); 0.78 (test)\n",
      "INFO:root:Accuracy: 83.74% (training); 81.74% (test)\n",
      "INFO:root:Recall: 78.31% (training); 76.22% (test)\n",
      "INFO:root:Precision: 82.91% (training); 80.29% (test)\n",
      "INFO:root:---\n",
      "INFO:root:Retraining model on the complete data set...\n",
      "INFO:root:-> F1-Score on complete training set: 0.80\n",
      "INFO:root:-> Stored submission file to ../models/submission_2021-01-18_105116_Pipeline_1x10cv_0.78_bertweet.csv\n",
      "INFO:root:Evaluation finished.\n"
     ]
    }
   ],
   "source": [
    "model = Pipeline([\n",
    "    ('clf', svm.LinearSVC(C=0.5, class_weight='balanced', random_state=42))\n",
    "])\n",
    "\n",
    "evaluation.evaluate(model, store_model=False, store_submission=True, embeddings='bertweet')"
   ]
  },
  {
   "cell_type": "markdown",
   "metadata": {},
   "source": [
    "Submission results: 0.81795"
   ]
  },
  {
   "cell_type": "code",
   "execution_count": 9,
   "metadata": {},
   "outputs": [
    {
     "name": "stderr",
     "output_type": "stream",
     "text": [
      "INFO:root:Loading training data from ../data/external/kaggle/train.csv...\n",
      "INFO:root:-> Number of samples: 7613\n",
      "INFO:root:-> Number of features: 768\n",
      "INFO:root:Evaluating model with 1 experiment(s) of 10-fold Cross Validation...\n",
      "INFO:root:Run 1/10 finished\n",
      "INFO:root:Run 2/10 finished\n",
      "INFO:root:Run 3/10 finished\n",
      "INFO:root:Run 4/10 finished\n",
      "INFO:root:Run 5/10 finished\n",
      "INFO:root:Run 6/10 finished\n",
      "INFO:root:Run 7/10 finished\n",
      "INFO:root:Run 8/10 finished\n",
      "INFO:root:Run 9/10 finished\n",
      "INFO:root:Run 10/10 finished\n",
      "INFO:root:---\n",
      "INFO:root:Expected submission results (F1-Score): around 0.78\n",
      "INFO:root:F1-Score: 0.81 (training); 0.78 (test)\n",
      "INFO:root:Accuracy: 84.06% (training); 81.75% (test)\n",
      "INFO:root:Recall: 78.83% (training); 76.40% (test)\n",
      "INFO:root:Precision: 83.19% (training); 80.20% (test)\n",
      "INFO:root:---\n",
      "INFO:root:Retraining model on the complete data set...\n",
      "INFO:root:-> F1-Score on complete training set: 0.81\n",
      "INFO:root:-> Stored submission file to ../models/submission_2021-01-18_104600_Pipeline_1x10cv_0.78_bertweet.csv\n",
      "INFO:root:Evaluation finished.\n"
     ]
    }
   ],
   "source": [
    "model = Pipeline([\n",
    "    ('clf', svm.LinearSVC(C=1, class_weight='balanced', random_state=42))\n",
    "])\n",
    "\n",
    "evaluation.evaluate(model, store_model=False, store_submission=True, embeddings='bertweet')"
   ]
  },
  {
   "cell_type": "markdown",
   "metadata": {},
   "source": [
    "Submission results: 0.81949"
   ]
  },
  {
   "cell_type": "code",
   "execution_count": 21,
   "metadata": {},
   "outputs": [
    {
     "name": "stderr",
     "output_type": "stream",
     "text": [
      "INFO:root:Loading training data from ../data/external/kaggle/train.csv...\n",
      "INFO:root:-> Number of samples: 7613\n",
      "INFO:root:-> Number of features: 768\n",
      "INFO:root:Evaluating model with 1 experiment(s) of 10-fold Cross Validation...\n",
      "INFO:root:Run 1/10 finished\n",
      "INFO:root:Run 2/10 finished\n",
      "INFO:root:Run 3/10 finished\n",
      "INFO:root:Run 4/10 finished\n",
      "INFO:root:Run 5/10 finished\n",
      "INFO:root:Run 6/10 finished\n",
      "INFO:root:Run 7/10 finished\n",
      "INFO:root:Run 8/10 finished\n",
      "INFO:root:Run 9/10 finished\n",
      "INFO:root:Run 10/10 finished\n",
      "INFO:root:---\n",
      "INFO:root:Expected submission results (F1-Score): around 0.78\n",
      "INFO:root:F1-Score: 0.81 (training); 0.78 (test)\n",
      "INFO:root:Accuracy: 84.32% (training); 81.70% (test)\n",
      "INFO:root:Recall: 79.30% (training); 76.43% (test)\n",
      "INFO:root:Precision: 83.40% (training); 80.08% (test)\n",
      "INFO:root:---\n",
      "INFO:root:Retraining model on the complete data set...\n",
      "INFO:root:-> F1-Score on complete training set: 0.81\n",
      "INFO:root:-> Stored submission file to ../models/submission_2021-01-18_110410_Pipeline_1x10cv_0.78_bertweet.csv\n",
      "INFO:root:Evaluation finished.\n"
     ]
    }
   ],
   "source": [
    "model = Pipeline([\n",
    "    ('clf', svm.LinearSVC(C=2, class_weight='balanced', random_state=42, max_iter=2500))\n",
    "])\n",
    "\n",
    "evaluation.evaluate(model, store_model=False, store_submission=True, embeddings='bertweet')"
   ]
  },
  {
   "cell_type": "markdown",
   "metadata": {},
   "source": [
    "Submission results: 0.81581"
   ]
  },
  {
   "cell_type": "markdown",
   "metadata": {},
   "source": [
    "## USE 4 Embeddings with Linear SVC"
   ]
  },
  {
   "cell_type": "code",
   "execution_count": 4,
   "metadata": {},
   "outputs": [
    {
     "name": "stderr",
     "output_type": "stream",
     "text": [
      "INFO:root:Loading training data from ../data/external/kaggle/train.csv...\n",
      "INFO:root:-> Number of samples: 7613\n",
      "INFO:root:-> Number of features: 512\n",
      "INFO:root:Evaluating model with 1 experiment(s) of 10-fold Cross Validation...\n",
      "INFO:root:Run 1/10 finished\n",
      "INFO:root:Run 2/10 finished\n",
      "INFO:root:Run 3/10 finished\n",
      "INFO:root:Run 4/10 finished\n",
      "INFO:root:Run 5/10 finished\n",
      "INFO:root:Run 6/10 finished\n",
      "INFO:root:Run 7/10 finished\n",
      "INFO:root:Run 8/10 finished\n",
      "INFO:root:Run 9/10 finished\n",
      "INFO:root:Run 10/10 finished\n",
      "INFO:root:---\n",
      "INFO:root:Expected submission results (F1-Score): around 0.77\n",
      "INFO:root:F1-Score: 0.78 (training); 0.77 (test)\n",
      "INFO:root:Accuracy: 80.92% (training); 80.35% (test)\n",
      "INFO:root:Recall: 78.36% (training); 77.77% (test)\n",
      "INFO:root:Precision: 77.49% (training); 76.79% (test)\n",
      "INFO:root:---\n",
      "INFO:root:Retraining model on the complete data set...\n",
      "INFO:root:-> F1-Score on complete training set: 0.78\n",
      "INFO:root:-> Stored model to ../models/model_2021-01-13_201242_Pipeline_1x10cv_0.77_use4.pck\n",
      "INFO:root:-> Stored submission file to ../models/submission_2021-01-13_201242_Pipeline_1x10cv_0.77_use4.csv\n",
      "INFO:root:Evaluation finished.\n"
     ]
    }
   ],
   "source": [
    "model = Pipeline([\n",
    "    ('clf', svm.LinearSVC(C=1e-2, class_weight='balanced', random_state=42))\n",
    "])\n",
    "\n",
    "evaluation.evaluate(model, store_model=True, store_submission=True, embeddings='use4')"
   ]
  },
  {
   "cell_type": "markdown",
   "metadata": {},
   "source": [
    "Submission results: 0.79405"
   ]
  },
  {
   "cell_type": "code",
   "execution_count": 22,
   "metadata": {},
   "outputs": [
    {
     "name": "stderr",
     "output_type": "stream",
     "text": [
      "INFO:root:Loading training data from ../data/external/kaggle/train.csv...\n",
      "INFO:root:-> Number of samples: 7613\n",
      "INFO:root:-> Number of features: 512\n",
      "INFO:root:Evaluating model with 1 experiment(s) of 10-fold Cross Validation...\n",
      "INFO:root:Run 1/10 finished\n",
      "INFO:root:Run 2/10 finished\n",
      "INFO:root:Run 3/10 finished\n",
      "INFO:root:Run 4/10 finished\n",
      "INFO:root:Run 5/10 finished\n",
      "INFO:root:Run 6/10 finished\n",
      "INFO:root:Run 7/10 finished\n",
      "INFO:root:Run 8/10 finished\n",
      "INFO:root:Run 9/10 finished\n",
      "INFO:root:Run 10/10 finished\n",
      "INFO:root:---\n",
      "INFO:root:Expected submission results (F1-Score): around 0.78\n",
      "INFO:root:F1-Score: 0.80 (training); 0.78 (test)\n",
      "INFO:root:Accuracy: 83.18% (training); 80.60% (test)\n",
      "INFO:root:Recall: 80.05% (training); 77.80% (test)\n",
      "INFO:root:Precision: 80.66% (training); 77.21% (test)\n",
      "INFO:root:---\n",
      "INFO:root:Retraining model on the complete data set...\n",
      "INFO:root:-> F1-Score on complete training set: 0.80\n",
      "INFO:root:-> Stored submission file to ../models/submission_2021-01-18_110619_Pipeline_1x10cv_0.78_use4.csv\n",
      "INFO:root:Evaluation finished.\n"
     ]
    }
   ],
   "source": [
    "model = Pipeline([\n",
    "    ('clf', svm.LinearSVC(C=0.5, class_weight='balanced', random_state=42))\n",
    "])\n",
    "\n",
    "evaluation.evaluate(model, store_model=False, store_submission=True, embeddings='use4')"
   ]
  },
  {
   "cell_type": "code",
   "execution_count": 25,
   "metadata": {},
   "outputs": [
    {
     "name": "stderr",
     "output_type": "stream",
     "text": [
      "INFO:root:Loading training data from ../data/external/kaggle/train.csv...\n",
      "INFO:root:-> Number of samples: 7613\n",
      "INFO:root:-> Number of features: 512\n",
      "INFO:root:Evaluating model with 1 experiment(s) of 10-fold Cross Validation...\n",
      "INFO:root:Run 1/10 finished\n",
      "INFO:root:Run 2/10 finished\n",
      "INFO:root:Run 3/10 finished\n",
      "INFO:root:Run 4/10 finished\n",
      "INFO:root:Run 5/10 finished\n",
      "INFO:root:Run 6/10 finished\n",
      "INFO:root:Run 7/10 finished\n",
      "INFO:root:Run 8/10 finished\n",
      "INFO:root:Run 9/10 finished\n",
      "INFO:root:Run 10/10 finished\n",
      "INFO:root:---\n",
      "INFO:root:Expected submission results (F1-Score): around 0.78\n",
      "INFO:root:F1-Score: 0.81 (training); 0.78 (test)\n",
      "INFO:root:Accuracy: 83.46% (training); 80.76% (test)\n",
      "INFO:root:Recall: 80.25% (training); 77.80% (test)\n",
      "INFO:root:Precision: 81.07% (training); 77.50% (test)\n",
      "INFO:root:---\n",
      "INFO:root:Retraining model on the complete data set...\n",
      "INFO:root:-> F1-Score on complete training set: 0.81\n",
      "INFO:root:-> Stored submission file to ../models/submission_2021-01-18_110839_Pipeline_1x10cv_0.78_use4.csv\n",
      "INFO:root:Evaluation finished.\n"
     ]
    }
   ],
   "source": [
    "model = Pipeline([\n",
    "    ('clf', svm.LinearSVC(C=1, class_weight='balanced', random_state=42))\n",
    "])\n",
    "\n",
    "evaluation.evaluate(model, store_model=False, store_submission=True, embeddings='use4')"
   ]
  },
  {
   "cell_type": "code",
   "execution_count": 26,
   "metadata": {
    "scrolled": false
   },
   "outputs": [
    {
     "name": "stderr",
     "output_type": "stream",
     "text": [
      "INFO:root:Loading training data from ../data/external/kaggle/train.csv...\n",
      "INFO:root:-> Number of samples: 7613\n",
      "INFO:root:-> Number of features: 512\n",
      "INFO:root:Evaluating model with 1 experiment(s) of 10-fold Cross Validation...\n",
      "INFO:root:Run 1/10 finished\n",
      "INFO:root:Run 2/10 finished\n",
      "INFO:root:Run 3/10 finished\n",
      "INFO:root:Run 4/10 finished\n",
      "INFO:root:Run 5/10 finished\n",
      "INFO:root:Run 6/10 finished\n",
      "INFO:root:Run 7/10 finished\n",
      "INFO:root:Run 8/10 finished\n",
      "INFO:root:Run 9/10 finished\n",
      "INFO:root:Run 10/10 finished\n",
      "INFO:root:---\n",
      "INFO:root:Expected submission results (F1-Score): around 0.78\n",
      "INFO:root:F1-Score: 0.81 (training); 0.78 (test)\n",
      "INFO:root:Accuracy: 83.60% (training); 80.86% (test)\n",
      "INFO:root:Recall: 80.46% (training); 77.77% (test)\n",
      "INFO:root:Precision: 81.21% (training); 77.70% (test)\n",
      "INFO:root:---\n",
      "INFO:root:Retraining model on the complete data set...\n",
      "INFO:root:-> F1-Score on complete training set: 0.81\n",
      "INFO:root:-> Stored submission file to ../models/submission_2021-01-18_110850_Pipeline_1x10cv_0.78_use4.csv\n",
      "INFO:root:Evaluation finished.\n"
     ]
    }
   ],
   "source": [
    "model = Pipeline([\n",
    "    ('clf', svm.LinearSVC(C=2, class_weight='balanced', random_state=42))\n",
    "])\n",
    "\n",
    "evaluation.evaluate(model, store_model=False, store_submission=True, embeddings='use4')"
   ]
  },
  {
   "cell_type": "markdown",
   "metadata": {},
   "source": [
    "Submission results: 0.79650"
   ]
  },
  {
   "cell_type": "markdown",
   "metadata": {},
   "source": [
    "## nnlm-en-dim128-with-normalization embeddings with Linear SVC\n"
   ]
  },
  {
   "cell_type": "code",
   "execution_count": 5,
   "metadata": {},
   "outputs": [
    {
     "name": "stderr",
     "output_type": "stream",
     "text": [
      "INFO:root:Loading training data from ../data/external/kaggle/train.csv...\n",
      "INFO:root:-> Number of samples: 7613\n",
      "INFO:root:-> Number of features: 128\n",
      "INFO:root:Evaluating model with 1 experiment(s) of 10-fold Cross Validation...\n",
      "INFO:root:Run 1/10 finished\n",
      "INFO:root:Run 2/10 finished\n",
      "INFO:root:Run 3/10 finished\n",
      "INFO:root:Run 4/10 finished\n",
      "INFO:root:Run 5/10 finished\n",
      "INFO:root:Run 6/10 finished\n",
      "INFO:root:Run 7/10 finished\n",
      "INFO:root:Run 8/10 finished\n",
      "INFO:root:Run 9/10 finished\n",
      "INFO:root:Run 10/10 finished\n",
      "INFO:root:---\n",
      "INFO:root:Expected submission results (F1-Score): around 0.75\n",
      "INFO:root:F1-Score: 0.76 (training); 0.75 (test)\n",
      "INFO:root:Accuracy: 79.51% (training); 79.01% (test)\n",
      "INFO:root:Recall: 75.50% (training); 74.96% (test)\n",
      "INFO:root:Precision: 76.50% (training); 75.89% (test)\n",
      "INFO:root:---\n",
      "INFO:root:Retraining model on the complete data set...\n",
      "INFO:root:-> F1-Score on complete training set: 0.76\n",
      "INFO:root:-> Stored model to ../models/model_2021-01-13_201437_Pipeline_1x10cv_0.75_nnlm_en_128_norm.pck\n",
      "INFO:root:-> Stored submission file to ../models/submission_2021-01-13_201437_Pipeline_1x10cv_0.75_nnlm_en_128_norm.csv\n",
      "INFO:root:Evaluation finished.\n"
     ]
    }
   ],
   "source": [
    "model = Pipeline([\n",
    "    ('clf', svm.LinearSVC(C=1e-2, class_weight='balanced', random_state=42))\n",
    "])\n",
    "\n",
    "evaluation.evaluate(model, store_model=True, store_submission=True, embeddings='nnlm_en_128_norm')"
   ]
  },
  {
   "cell_type": "markdown",
   "metadata": {},
   "source": [
    "Submission results: 0.77903"
   ]
  },
  {
   "cell_type": "code",
   "execution_count": 6,
   "metadata": {},
   "outputs": [
    {
     "name": "stderr",
     "output_type": "stream",
     "text": [
      "INFO:root:Loading training data from ../data/external/kaggle/train.csv...\n",
      "INFO:root:-> Number of samples: 7613\n",
      "INFO:root:-> Number of features: 128\n",
      "INFO:root:Evaluating model with 1 experiment(s) of 10-fold Cross Validation...\n",
      "INFO:root:Run 1/10 finished\n",
      "INFO:root:Run 2/10 finished\n",
      "INFO:root:Run 3/10 finished\n",
      "INFO:root:Run 4/10 finished\n",
      "INFO:root:Run 5/10 finished\n",
      "INFO:root:Run 6/10 finished\n",
      "INFO:root:Run 7/10 finished\n",
      "INFO:root:Run 8/10 finished\n",
      "INFO:root:Run 9/10 finished\n",
      "INFO:root:Run 10/10 finished\n",
      "INFO:root:---\n",
      "INFO:root:Expected submission results (F1-Score): around 0.75\n",
      "INFO:root:F1-Score: 0.76 (training); 0.75 (test)\n",
      "INFO:root:Accuracy: 79.59% (training); 78.44% (test)\n",
      "INFO:root:Recall: 76.33% (training); 75.02% (test)\n",
      "INFO:root:Precision: 76.22% (training); 74.86% (test)\n",
      "INFO:root:Evaluation finished.\n"
     ]
    }
   ],
   "source": [
    "model = Pipeline([\n",
    "    ('clf', svm.LinearSVC(C=1, class_weight='balanced', random_state=42))\n",
    "])\n",
    "\n",
    "evaluation.evaluate(model, store_model=False, store_submission=False, embeddings='nnlm_en_128_norm')"
   ]
  },
  {
   "cell_type": "markdown",
   "metadata": {},
   "source": [
    "## BERT Large cased with Whole Word Masking with Linear SVC"
   ]
  },
  {
   "cell_type": "code",
   "execution_count": 6,
   "metadata": {},
   "outputs": [
    {
     "name": "stderr",
     "output_type": "stream",
     "text": [
      "INFO:root:Loading training data from ../data/external/kaggle/train.csv...\n",
      "INFO:root:-> Number of samples: 7613\n",
      "INFO:root:-> Number of features: 1024\n",
      "INFO:root:Evaluating model with 1 experiment(s) of 10-fold Cross Validation...\n",
      "INFO:root:Run 1/10 finished\n",
      "INFO:root:Run 2/10 finished\n",
      "INFO:root:Run 3/10 finished\n",
      "INFO:root:Run 4/10 finished\n",
      "INFO:root:Run 5/10 finished\n",
      "INFO:root:Run 6/10 finished\n",
      "INFO:root:Run 7/10 finished\n",
      "INFO:root:Run 8/10 finished\n",
      "INFO:root:Run 9/10 finished\n",
      "INFO:root:Run 10/10 finished\n",
      "INFO:root:---\n",
      "INFO:root:Expected submission results (F1-Score): around 0.72\n",
      "INFO:root:F1-Score: 0.76 (training); 0.72 (test)\n",
      "INFO:root:Accuracy: 79.87% (training); 76.40% (test)\n",
      "INFO:root:Recall: 73.61% (training); 70.04% (test)\n",
      "INFO:root:Precision: 78.24% (training); 73.71% (test)\n",
      "INFO:root:---\n",
      "INFO:root:Retraining model on the complete data set...\n",
      "INFO:root:-> F1-Score on complete training set: 0.76\n",
      "INFO:root:-> Stored model to ../models/model_2021-01-13_201659_Pipeline_1x10cv_0.72_bert_large_cased_whole.pck\n",
      "INFO:root:-> Stored submission file to ../models/submission_2021-01-13_201659_Pipeline_1x10cv_0.72_bert_large_cased_whole.csv\n",
      "INFO:root:Evaluation finished.\n"
     ]
    }
   ],
   "source": [
    "model = Pipeline([\n",
    "    ('clf', svm.LinearSVC(C=1e-2, class_weight='balanced', random_state=42))\n",
    "])\n",
    "\n",
    "evaluation.evaluate(model, store_model=True, store_submission=True, embeddings='bert_large_cased_whole')"
   ]
  },
  {
   "cell_type": "markdown",
   "metadata": {},
   "source": [
    "Submission results: 0.75789"
   ]
  }
 ],
 "metadata": {
  "kernelspec": {
   "display_name": "Python 3",
   "language": "python",
   "name": "python3"
  },
  "language_info": {
   "codemirror_mode": {
    "name": "ipython",
    "version": 3
   },
   "file_extension": ".py",
   "mimetype": "text/x-python",
   "name": "python",
   "nbconvert_exporter": "python",
   "pygments_lexer": "ipython3",
   "version": "3.6.9"
  }
 },
 "nbformat": 4,
 "nbformat_minor": 4
}
